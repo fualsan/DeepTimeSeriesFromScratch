{
 "cells": [
  {
   "cell_type": "markdown",
   "id": "afb1107d-9a96-4d47-ab3e-0582fd89827d",
   "metadata": {},
   "source": [
    "# T5 Time Series Forecasting in PyTorch"
   ]
  },
  {
   "cell_type": "code",
   "execution_count": 1,
   "id": "b1b2358b-d53a-43e3-9d26-d38b8f7649d3",
   "metadata": {},
   "outputs": [
    {
     "name": "stdout",
     "output_type": "stream",
     "text": [
      "USING DEVICE: cuda\n"
     ]
    }
   ],
   "source": [
    "import torch\n",
    "import torch.nn as nn\n",
    "import torch.nn.functional as F\n",
    "\n",
    "from torch.utils.data import Dataset, DataLoader\n",
    "\n",
    "import os\n",
    "import random\n",
    "import numpy as np\n",
    "import pandas as pd\n",
    "import math\n",
    "\n",
    "from sklearn.preprocessing import StandardScaler\n",
    "\n",
    "import matplotlib.pyplot as plt\n",
    "\n",
    "plt.rcParams['figure.figsize'] = (6, 4)\n",
    "plt.rcParams['axes.grid'] = True\n",
    "\n",
    "device = 'cuda' if torch.cuda.is_available() else 'cpu'\n",
    "print(f'USING DEVICE: {device}')"
   ]
  },
  {
   "cell_type": "markdown",
   "id": "54bb0bc4-3118-48c0-8f61-2b53d10bbc32",
   "metadata": {},
   "source": [
    "# Hyperparameters"
   ]
  },
  {
   "cell_type": "code",
   "execution_count": 2,
   "id": "288dc719-d4cc-4494-8ffd-19cb73db213f",
   "metadata": {},
   "outputs": [],
   "source": [
    "hyperparameters = {\n",
    "    'lags': 168, # 7 * 24 = 168 (1 week past)\n",
    "    'forecast': 48,\n",
    "    'input_features_size': 16,\n",
    "    'date_input_features_size': 3, # (MONTH, DAY, HOUR)\n",
    "    'date_features_dim': 64,\n",
    "    'hidden_features_size': 384-64,\n",
    "    'output_features_size': 16,\n",
    "    'num_heads': 12,\n",
    "    'ff_dim': 384*4, # usually 4 times the hidden feature size\n",
    "    'num_encoder_layers': 6,\n",
    "    'num_decoder_layers': 6,\n",
    "    'emb_dropout_prob': 0.1,\n",
    "    'attn_dropout_prob': 0.1,\n",
    "    'ff_dropout_prob': 0.1,\n",
    "    'attn_use_bias': False,\n",
    "    'ff_use_bias': False,\n",
    "    'output_features_bias': False,\n",
    "    'batch_size': 128,\n",
    "    'split_ratio': 0.8, # 80% training, 20% testing\n",
    "    'learning_rate': 0.001,\n",
    "    'num_epochs': 50,\n",
    "}\n",
    "\n",
    "hyperparameters['window_size'] =  hyperparameters['lags'] + hyperparameters['forecast']"
   ]
  },
  {
   "cell_type": "markdown",
   "id": "a743a1f6-d57a-490e-9ac0-bb41ff95a352",
   "metadata": {},
   "source": [
    "# Dataset"
   ]
  },
  {
   "cell_type": "code",
   "execution_count": 3,
   "id": "db563c03-1ee8-417d-926e-ddd837b766bd",
   "metadata": {},
   "outputs": [
    {
     "data": {
      "text/html": [
       "<div>\n",
       "<style scoped>\n",
       "    .dataframe tbody tr th:only-of-type {\n",
       "        vertical-align: middle;\n",
       "    }\n",
       "\n",
       "    .dataframe tbody tr th {\n",
       "        vertical-align: top;\n",
       "    }\n",
       "\n",
       "    .dataframe thead th {\n",
       "        text-align: right;\n",
       "    }\n",
       "</style>\n",
       "<table border=\"1\" class=\"dataframe\">\n",
       "  <thead>\n",
       "    <tr style=\"text-align: right;\">\n",
       "      <th></th>\n",
       "      <th>datetime</th>\n",
       "      <th>nat_demand</th>\n",
       "      <th>T2M_toc</th>\n",
       "      <th>QV2M_toc</th>\n",
       "      <th>TQL_toc</th>\n",
       "      <th>W2M_toc</th>\n",
       "      <th>T2M_san</th>\n",
       "      <th>QV2M_san</th>\n",
       "      <th>TQL_san</th>\n",
       "      <th>W2M_san</th>\n",
       "      <th>T2M_dav</th>\n",
       "      <th>QV2M_dav</th>\n",
       "      <th>TQL_dav</th>\n",
       "      <th>W2M_dav</th>\n",
       "      <th>Holiday_ID</th>\n",
       "      <th>holiday</th>\n",
       "      <th>school</th>\n",
       "    </tr>\n",
       "  </thead>\n",
       "  <tbody>\n",
       "    <tr>\n",
       "      <th>0</th>\n",
       "      <td>03-01-2015 01:00</td>\n",
       "      <td>970.3450</td>\n",
       "      <td>25.865259</td>\n",
       "      <td>0.018576</td>\n",
       "      <td>0.016174</td>\n",
       "      <td>21.850546</td>\n",
       "      <td>23.482446</td>\n",
       "      <td>0.017272</td>\n",
       "      <td>0.001855</td>\n",
       "      <td>10.328949</td>\n",
       "      <td>22.662134</td>\n",
       "      <td>0.016562</td>\n",
       "      <td>0.096100</td>\n",
       "      <td>5.364148</td>\n",
       "      <td>0</td>\n",
       "      <td>0</td>\n",
       "      <td>0</td>\n",
       "    </tr>\n",
       "    <tr>\n",
       "      <th>1</th>\n",
       "      <td>03-01-2015 02:00</td>\n",
       "      <td>912.1755</td>\n",
       "      <td>25.899255</td>\n",
       "      <td>0.018653</td>\n",
       "      <td>0.016418</td>\n",
       "      <td>22.166944</td>\n",
       "      <td>23.399255</td>\n",
       "      <td>0.017265</td>\n",
       "      <td>0.001327</td>\n",
       "      <td>10.681517</td>\n",
       "      <td>22.578943</td>\n",
       "      <td>0.016509</td>\n",
       "      <td>0.087646</td>\n",
       "      <td>5.572471</td>\n",
       "      <td>0</td>\n",
       "      <td>0</td>\n",
       "      <td>0</td>\n",
       "    </tr>\n",
       "    <tr>\n",
       "      <th>2</th>\n",
       "      <td>03-01-2015 03:00</td>\n",
       "      <td>900.2688</td>\n",
       "      <td>25.937280</td>\n",
       "      <td>0.018768</td>\n",
       "      <td>0.015480</td>\n",
       "      <td>22.454911</td>\n",
       "      <td>23.343530</td>\n",
       "      <td>0.017211</td>\n",
       "      <td>0.001428</td>\n",
       "      <td>10.874924</td>\n",
       "      <td>22.531030</td>\n",
       "      <td>0.016479</td>\n",
       "      <td>0.078735</td>\n",
       "      <td>5.871184</td>\n",
       "      <td>0</td>\n",
       "      <td>0</td>\n",
       "      <td>0</td>\n",
       "    </tr>\n",
       "    <tr>\n",
       "      <th>3</th>\n",
       "      <td>03-01-2015 04:00</td>\n",
       "      <td>889.9538</td>\n",
       "      <td>25.957544</td>\n",
       "      <td>0.018890</td>\n",
       "      <td>0.016273</td>\n",
       "      <td>22.110481</td>\n",
       "      <td>23.238794</td>\n",
       "      <td>0.017128</td>\n",
       "      <td>0.002599</td>\n",
       "      <td>10.518620</td>\n",
       "      <td>22.512231</td>\n",
       "      <td>0.016487</td>\n",
       "      <td>0.068390</td>\n",
       "      <td>5.883621</td>\n",
       "      <td>0</td>\n",
       "      <td>0</td>\n",
       "      <td>0</td>\n",
       "    </tr>\n",
       "    <tr>\n",
       "      <th>4</th>\n",
       "      <td>03-01-2015 05:00</td>\n",
       "      <td>893.6865</td>\n",
       "      <td>25.973840</td>\n",
       "      <td>0.018981</td>\n",
       "      <td>0.017281</td>\n",
       "      <td>21.186089</td>\n",
       "      <td>23.075403</td>\n",
       "      <td>0.017059</td>\n",
       "      <td>0.001729</td>\n",
       "      <td>9.733589</td>\n",
       "      <td>22.481653</td>\n",
       "      <td>0.016456</td>\n",
       "      <td>0.064362</td>\n",
       "      <td>5.611724</td>\n",
       "      <td>0</td>\n",
       "      <td>0</td>\n",
       "      <td>0</td>\n",
       "    </tr>\n",
       "  </tbody>\n",
       "</table>\n",
       "</div>"
      ],
      "text/plain": [
       "           datetime  nat_demand    T2M_toc  QV2M_toc   TQL_toc    W2M_toc  \\\n",
       "0  03-01-2015 01:00    970.3450  25.865259  0.018576  0.016174  21.850546   \n",
       "1  03-01-2015 02:00    912.1755  25.899255  0.018653  0.016418  22.166944   \n",
       "2  03-01-2015 03:00    900.2688  25.937280  0.018768  0.015480  22.454911   \n",
       "3  03-01-2015 04:00    889.9538  25.957544  0.018890  0.016273  22.110481   \n",
       "4  03-01-2015 05:00    893.6865  25.973840  0.018981  0.017281  21.186089   \n",
       "\n",
       "     T2M_san  QV2M_san   TQL_san    W2M_san    T2M_dav  QV2M_dav   TQL_dav  \\\n",
       "0  23.482446  0.017272  0.001855  10.328949  22.662134  0.016562  0.096100   \n",
       "1  23.399255  0.017265  0.001327  10.681517  22.578943  0.016509  0.087646   \n",
       "2  23.343530  0.017211  0.001428  10.874924  22.531030  0.016479  0.078735   \n",
       "3  23.238794  0.017128  0.002599  10.518620  22.512231  0.016487  0.068390   \n",
       "4  23.075403  0.017059  0.001729   9.733589  22.481653  0.016456  0.064362   \n",
       "\n",
       "    W2M_dav  Holiday_ID  holiday  school  \n",
       "0  5.364148           0        0       0  \n",
       "1  5.572471           0        0       0  \n",
       "2  5.871184           0        0       0  \n",
       "3  5.883621           0        0       0  \n",
       "4  5.611724           0        0       0  "
      ]
     },
     "execution_count": 3,
     "metadata": {},
     "output_type": "execute_result"
    }
   ],
   "source": [
    "# Airline Passgeners\n",
    "#df_full = pd.read_csv('data/airline_passengers/airline-passengers.csv')\n",
    "\n",
    "# Panama Electricity Load Forecasting\n",
    "df_full = pd.read_csv('data/panama_electricity_load_forecasting/train.csv')\n",
    "\n",
    "df_full.head()"
   ]
  },
  {
   "cell_type": "code",
   "execution_count": 4,
   "id": "9282fb84-75ad-4629-b9c9-5c0e01cae8a9",
   "metadata": {},
   "outputs": [
    {
     "data": {
      "text/html": [
       "<div>\n",
       "<style scoped>\n",
       "    .dataframe tbody tr th:only-of-type {\n",
       "        vertical-align: middle;\n",
       "    }\n",
       "\n",
       "    .dataframe tbody tr th {\n",
       "        vertical-align: top;\n",
       "    }\n",
       "\n",
       "    .dataframe thead th {\n",
       "        text-align: right;\n",
       "    }\n",
       "</style>\n",
       "<table border=\"1\" class=\"dataframe\">\n",
       "  <thead>\n",
       "    <tr style=\"text-align: right;\">\n",
       "      <th></th>\n",
       "      <th>datetime</th>\n",
       "      <th>nat_demand</th>\n",
       "      <th>T2M_toc</th>\n",
       "      <th>QV2M_toc</th>\n",
       "      <th>TQL_toc</th>\n",
       "      <th>W2M_toc</th>\n",
       "      <th>T2M_san</th>\n",
       "      <th>QV2M_san</th>\n",
       "      <th>TQL_san</th>\n",
       "      <th>W2M_san</th>\n",
       "      <th>T2M_dav</th>\n",
       "      <th>QV2M_dav</th>\n",
       "      <th>TQL_dav</th>\n",
       "      <th>W2M_dav</th>\n",
       "      <th>Holiday_ID</th>\n",
       "      <th>holiday</th>\n",
       "      <th>school</th>\n",
       "    </tr>\n",
       "  </thead>\n",
       "  <tbody>\n",
       "    <tr>\n",
       "      <th>0</th>\n",
       "      <td>2015-01-03 01:00:00</td>\n",
       "      <td>970.3450</td>\n",
       "      <td>25.865259</td>\n",
       "      <td>0.018576</td>\n",
       "      <td>0.016174</td>\n",
       "      <td>21.850546</td>\n",
       "      <td>23.482446</td>\n",
       "      <td>0.017272</td>\n",
       "      <td>0.001855</td>\n",
       "      <td>10.328949</td>\n",
       "      <td>22.662134</td>\n",
       "      <td>0.016562</td>\n",
       "      <td>0.096100</td>\n",
       "      <td>5.364148</td>\n",
       "      <td>0</td>\n",
       "      <td>0</td>\n",
       "      <td>0</td>\n",
       "    </tr>\n",
       "    <tr>\n",
       "      <th>1</th>\n",
       "      <td>2015-01-03 02:00:00</td>\n",
       "      <td>912.1755</td>\n",
       "      <td>25.899255</td>\n",
       "      <td>0.018653</td>\n",
       "      <td>0.016418</td>\n",
       "      <td>22.166944</td>\n",
       "      <td>23.399255</td>\n",
       "      <td>0.017265</td>\n",
       "      <td>0.001327</td>\n",
       "      <td>10.681517</td>\n",
       "      <td>22.578943</td>\n",
       "      <td>0.016509</td>\n",
       "      <td>0.087646</td>\n",
       "      <td>5.572471</td>\n",
       "      <td>0</td>\n",
       "      <td>0</td>\n",
       "      <td>0</td>\n",
       "    </tr>\n",
       "    <tr>\n",
       "      <th>2</th>\n",
       "      <td>2015-01-03 03:00:00</td>\n",
       "      <td>900.2688</td>\n",
       "      <td>25.937280</td>\n",
       "      <td>0.018768</td>\n",
       "      <td>0.015480</td>\n",
       "      <td>22.454911</td>\n",
       "      <td>23.343530</td>\n",
       "      <td>0.017211</td>\n",
       "      <td>0.001428</td>\n",
       "      <td>10.874924</td>\n",
       "      <td>22.531030</td>\n",
       "      <td>0.016479</td>\n",
       "      <td>0.078735</td>\n",
       "      <td>5.871184</td>\n",
       "      <td>0</td>\n",
       "      <td>0</td>\n",
       "      <td>0</td>\n",
       "    </tr>\n",
       "    <tr>\n",
       "      <th>3</th>\n",
       "      <td>2015-01-03 04:00:00</td>\n",
       "      <td>889.9538</td>\n",
       "      <td>25.957544</td>\n",
       "      <td>0.018890</td>\n",
       "      <td>0.016273</td>\n",
       "      <td>22.110481</td>\n",
       "      <td>23.238794</td>\n",
       "      <td>0.017128</td>\n",
       "      <td>0.002599</td>\n",
       "      <td>10.518620</td>\n",
       "      <td>22.512231</td>\n",
       "      <td>0.016487</td>\n",
       "      <td>0.068390</td>\n",
       "      <td>5.883621</td>\n",
       "      <td>0</td>\n",
       "      <td>0</td>\n",
       "      <td>0</td>\n",
       "    </tr>\n",
       "    <tr>\n",
       "      <th>4</th>\n",
       "      <td>2015-01-03 05:00:00</td>\n",
       "      <td>893.6865</td>\n",
       "      <td>25.973840</td>\n",
       "      <td>0.018981</td>\n",
       "      <td>0.017281</td>\n",
       "      <td>21.186089</td>\n",
       "      <td>23.075403</td>\n",
       "      <td>0.017059</td>\n",
       "      <td>0.001729</td>\n",
       "      <td>9.733589</td>\n",
       "      <td>22.481653</td>\n",
       "      <td>0.016456</td>\n",
       "      <td>0.064362</td>\n",
       "      <td>5.611724</td>\n",
       "      <td>0</td>\n",
       "      <td>0</td>\n",
       "      <td>0</td>\n",
       "    </tr>\n",
       "  </tbody>\n",
       "</table>\n",
       "</div>"
      ],
      "text/plain": [
       "             datetime  nat_demand    T2M_toc  QV2M_toc   TQL_toc    W2M_toc  \\\n",
       "0 2015-01-03 01:00:00    970.3450  25.865259  0.018576  0.016174  21.850546   \n",
       "1 2015-01-03 02:00:00    912.1755  25.899255  0.018653  0.016418  22.166944   \n",
       "2 2015-01-03 03:00:00    900.2688  25.937280  0.018768  0.015480  22.454911   \n",
       "3 2015-01-03 04:00:00    889.9538  25.957544  0.018890  0.016273  22.110481   \n",
       "4 2015-01-03 05:00:00    893.6865  25.973840  0.018981  0.017281  21.186089   \n",
       "\n",
       "     T2M_san  QV2M_san   TQL_san    W2M_san    T2M_dav  QV2M_dav   TQL_dav  \\\n",
       "0  23.482446  0.017272  0.001855  10.328949  22.662134  0.016562  0.096100   \n",
       "1  23.399255  0.017265  0.001327  10.681517  22.578943  0.016509  0.087646   \n",
       "2  23.343530  0.017211  0.001428  10.874924  22.531030  0.016479  0.078735   \n",
       "3  23.238794  0.017128  0.002599  10.518620  22.512231  0.016487  0.068390   \n",
       "4  23.075403  0.017059  0.001729   9.733589  22.481653  0.016456  0.064362   \n",
       "\n",
       "    W2M_dav  Holiday_ID  holiday  school  \n",
       "0  5.364148           0        0       0  \n",
       "1  5.572471           0        0       0  \n",
       "2  5.871184           0        0       0  \n",
       "3  5.883621           0        0       0  \n",
       "4  5.611724           0        0       0  "
      ]
     },
     "execution_count": 4,
     "metadata": {},
     "output_type": "execute_result"
    }
   ],
   "source": [
    "# Airline Passgeners\n",
    "#df_full['Month'] = pd.to_datetime(df_full['Month'])\n",
    "\n",
    "# Panama Electricity Load Forecasting\n",
    "df_full['datetime'] = pd.to_datetime(df_full['datetime'], dayfirst=True)\n",
    "\n",
    "df_full.head()"
   ]
  },
  {
   "cell_type": "code",
   "execution_count": 5,
   "id": "c58545c8-31ee-483e-b1fc-028efcb0873a",
   "metadata": {},
   "outputs": [
    {
     "data": {
      "text/html": [
       "<div>\n",
       "<style scoped>\n",
       "    .dataframe tbody tr th:only-of-type {\n",
       "        vertical-align: middle;\n",
       "    }\n",
       "\n",
       "    .dataframe tbody tr th {\n",
       "        vertical-align: top;\n",
       "    }\n",
       "\n",
       "    .dataframe thead th {\n",
       "        text-align: right;\n",
       "    }\n",
       "</style>\n",
       "<table border=\"1\" class=\"dataframe\">\n",
       "  <thead>\n",
       "    <tr style=\"text-align: right;\">\n",
       "      <th></th>\n",
       "      <th>nat_demand</th>\n",
       "      <th>T2M_toc</th>\n",
       "      <th>QV2M_toc</th>\n",
       "      <th>TQL_toc</th>\n",
       "      <th>W2M_toc</th>\n",
       "      <th>T2M_san</th>\n",
       "      <th>QV2M_san</th>\n",
       "      <th>TQL_san</th>\n",
       "      <th>W2M_san</th>\n",
       "      <th>T2M_dav</th>\n",
       "      <th>QV2M_dav</th>\n",
       "      <th>TQL_dav</th>\n",
       "      <th>W2M_dav</th>\n",
       "      <th>Holiday_ID</th>\n",
       "      <th>holiday</th>\n",
       "      <th>school</th>\n",
       "    </tr>\n",
       "    <tr>\n",
       "      <th>datetime</th>\n",
       "      <th></th>\n",
       "      <th></th>\n",
       "      <th></th>\n",
       "      <th></th>\n",
       "      <th></th>\n",
       "      <th></th>\n",
       "      <th></th>\n",
       "      <th></th>\n",
       "      <th></th>\n",
       "      <th></th>\n",
       "      <th></th>\n",
       "      <th></th>\n",
       "      <th></th>\n",
       "      <th></th>\n",
       "      <th></th>\n",
       "      <th></th>\n",
       "    </tr>\n",
       "  </thead>\n",
       "  <tbody>\n",
       "    <tr>\n",
       "      <th>2019-12-31 19:00:00</th>\n",
       "      <td>1301.6065</td>\n",
       "      <td>26.635645</td>\n",
       "      <td>0.018421</td>\n",
       "      <td>0.013165</td>\n",
       "      <td>13.184052</td>\n",
       "      <td>25.135645</td>\n",
       "      <td>0.018048</td>\n",
       "      <td>0.064240</td>\n",
       "      <td>3.086798</td>\n",
       "      <td>23.620020</td>\n",
       "      <td>0.016697</td>\n",
       "      <td>0.073425</td>\n",
       "      <td>3.865351</td>\n",
       "      <td>22</td>\n",
       "      <td>1</td>\n",
       "      <td>0</td>\n",
       "    </tr>\n",
       "    <tr>\n",
       "      <th>2019-12-31 20:00:00</th>\n",
       "      <td>1250.9634</td>\n",
       "      <td>26.495935</td>\n",
       "      <td>0.018162</td>\n",
       "      <td>0.014713</td>\n",
       "      <td>13.443892</td>\n",
       "      <td>24.769373</td>\n",
       "      <td>0.017781</td>\n",
       "      <td>0.058838</td>\n",
       "      <td>3.659980</td>\n",
       "      <td>23.284998</td>\n",
       "      <td>0.016606</td>\n",
       "      <td>0.064362</td>\n",
       "      <td>4.171572</td>\n",
       "      <td>22</td>\n",
       "      <td>1</td>\n",
       "      <td>0</td>\n",
       "    </tr>\n",
       "    <tr>\n",
       "      <th>2019-12-31 21:00:00</th>\n",
       "      <td>1193.6802</td>\n",
       "      <td>26.354456</td>\n",
       "      <td>0.017980</td>\n",
       "      <td>0.013836</td>\n",
       "      <td>13.442195</td>\n",
       "      <td>24.479456</td>\n",
       "      <td>0.017606</td>\n",
       "      <td>0.038086</td>\n",
       "      <td>3.769294</td>\n",
       "      <td>23.041956</td>\n",
       "      <td>0.016492</td>\n",
       "      <td>0.054260</td>\n",
       "      <td>4.045283</td>\n",
       "      <td>22</td>\n",
       "      <td>1</td>\n",
       "      <td>0</td>\n",
       "    </tr>\n",
       "    <tr>\n",
       "      <th>2019-12-31 22:00:00</th>\n",
       "      <td>1130.4575</td>\n",
       "      <td>26.166895</td>\n",
       "      <td>0.017965</td>\n",
       "      <td>0.018486</td>\n",
       "      <td>13.420656</td>\n",
       "      <td>24.112207</td>\n",
       "      <td>0.017393</td>\n",
       "      <td>0.020386</td>\n",
       "      <td>3.872397</td>\n",
       "      <td>22.862207</td>\n",
       "      <td>0.016401</td>\n",
       "      <td>0.055557</td>\n",
       "      <td>3.843736</td>\n",
       "      <td>22</td>\n",
       "      <td>1</td>\n",
       "      <td>0</td>\n",
       "    </tr>\n",
       "    <tr>\n",
       "      <th>2019-12-31 23:00:00</th>\n",
       "      <td>1084.4737</td>\n",
       "      <td>25.976373</td>\n",
       "      <td>0.018072</td>\n",
       "      <td>0.023315</td>\n",
       "      <td>13.749788</td>\n",
       "      <td>23.663873</td>\n",
       "      <td>0.017156</td>\n",
       "      <td>0.019531</td>\n",
       "      <td>4.165276</td>\n",
       "      <td>22.726373</td>\n",
       "      <td>0.016302</td>\n",
       "      <td>0.061371</td>\n",
       "      <td>3.793209</td>\n",
       "      <td>22</td>\n",
       "      <td>1</td>\n",
       "      <td>0</td>\n",
       "    </tr>\n",
       "  </tbody>\n",
       "</table>\n",
       "</div>"
      ],
      "text/plain": [
       "                     nat_demand    T2M_toc  QV2M_toc   TQL_toc    W2M_toc  \\\n",
       "datetime                                                                    \n",
       "2019-12-31 19:00:00   1301.6065  26.635645  0.018421  0.013165  13.184052   \n",
       "2019-12-31 20:00:00   1250.9634  26.495935  0.018162  0.014713  13.443892   \n",
       "2019-12-31 21:00:00   1193.6802  26.354456  0.017980  0.013836  13.442195   \n",
       "2019-12-31 22:00:00   1130.4575  26.166895  0.017965  0.018486  13.420656   \n",
       "2019-12-31 23:00:00   1084.4737  25.976373  0.018072  0.023315  13.749788   \n",
       "\n",
       "                       T2M_san  QV2M_san   TQL_san   W2M_san    T2M_dav  \\\n",
       "datetime                                                                  \n",
       "2019-12-31 19:00:00  25.135645  0.018048  0.064240  3.086798  23.620020   \n",
       "2019-12-31 20:00:00  24.769373  0.017781  0.058838  3.659980  23.284998   \n",
       "2019-12-31 21:00:00  24.479456  0.017606  0.038086  3.769294  23.041956   \n",
       "2019-12-31 22:00:00  24.112207  0.017393  0.020386  3.872397  22.862207   \n",
       "2019-12-31 23:00:00  23.663873  0.017156  0.019531  4.165276  22.726373   \n",
       "\n",
       "                     QV2M_dav   TQL_dav   W2M_dav  Holiday_ID  holiday  school  \n",
       "datetime                                                                        \n",
       "2019-12-31 19:00:00  0.016697  0.073425  3.865351          22        1       0  \n",
       "2019-12-31 20:00:00  0.016606  0.064362  4.171572          22        1       0  \n",
       "2019-12-31 21:00:00  0.016492  0.054260  4.045283          22        1       0  \n",
       "2019-12-31 22:00:00  0.016401  0.055557  3.843736          22        1       0  \n",
       "2019-12-31 23:00:00  0.016302  0.061371  3.793209          22        1       0  "
      ]
     },
     "execution_count": 5,
     "metadata": {},
     "output_type": "execute_result"
    }
   ],
   "source": [
    "# # Airline Passgeners\n",
    "#df_full.set_index('Month', inplace=True)\n",
    "\n",
    "# Panama Electricity Load Forecasting\n",
    "df_full.set_index('datetime', inplace=True)\n",
    "\n",
    "df_full.tail()"
   ]
  },
  {
   "cell_type": "code",
   "execution_count": 6,
   "id": "23042d10-d9ba-4255-81a8-b0e2aafba703",
   "metadata": {},
   "outputs": [
    {
     "data": {
      "text/plain": [
       "<Axes: xlabel='datetime'>"
      ]
     },
     "execution_count": 6,
     "metadata": {},
     "output_type": "execute_result"
    },
    {
     "data": {
      "image/png": "[encoded data removed]",
      "text/plain": [
       "<Figure size 600x400 with 1 Axes>"
      ]
     },
     "metadata": {},
     "output_type": "display_data"
    }
   ],
   "source": [
    "# Airline Passgeners\n",
    "#df_full.plot()\n",
    "\n",
    "# Panama Electricity Load Forecasting\n",
    "df_full.loc['2019-01-03 05:00:00':'2019-01-12 05:00:00', 'nat_demand'].plot()"
   ]
  },
  {
   "cell_type": "markdown",
   "id": "f74c8752-4487-4375-87ad-e9311f3cde86",
   "metadata": {},
   "source": [
    "# Standart Scaler\n",
    "* Exercise: Try without scaler, see if learning works!"
   ]
  },
  {
   "cell_type": "code",
   "execution_count": 7,
   "id": "cca6ad4c-27af-4d30-b19d-c07308ac6acd",
   "metadata": {},
   "outputs": [
    {
     "data": {
      "text/plain": [
       "<Axes: xlabel='datetime'>"
      ]
     },
     "execution_count": 7,
     "metadata": {},
     "output_type": "execute_result"
    },
    {
     "data": {
      "image/png": "[encoded data removed]",
      "text/plain": [
       "<Figure size 600x400 with 1 Axes>"
      ]
     },
     "metadata": {},
     "output_type": "display_data"
    }
   ],
   "source": [
    "feature_scaler = StandardScaler()\n",
    "\n",
    "# Airline Passgeners\n",
    "#df_full['Passengers'] = scaler.fit_transform(df_full['Passengers'].values.reshape(-1, 1))\n",
    "\n",
    "# Panama Electricity Load Forecasting\n",
    "df_full[df_full.columns] = feature_scaler.fit_transform(df_full[df_full.columns])\n",
    "\n",
    "# Airline Passgeners\n",
    "#df_full.plot()\n",
    "\n",
    "# Panama Electricity Load Forecasting\n",
    "df_full.loc['2019-01-03 05:00:00':'2019-01-12 05:00:00', 'nat_demand'].plot()"
   ]
  },
  {
   "cell_type": "code",
   "execution_count": 8,
   "id": "968abec2-9cbd-47c0-b913-c87e175b9635",
   "metadata": {},
   "outputs": [
    {
     "data": {
      "text/plain": [
       "Timestamp('2019-12-31 23:00:00')"
      ]
     },
     "execution_count": 8,
     "metadata": {},
     "output_type": "execute_result"
    }
   ],
   "source": [
    "tstamp = df_full.index[-1]\n",
    "tstamp"
   ]
  },
  {
   "cell_type": "markdown",
   "id": "acf7b0b8-ee9d-4c5b-9558-872feca3f4dc",
   "metadata": {},
   "source": [
    "# Time series data shape: \n",
    "Unbatched: $(S, F)$\n",
    "\n",
    "* $S:$ Sequence Length\n",
    "* $F:$ Number of Features\n",
    "\n",
    "Batched: $(B, S, F)$\n",
    "* $B:$ Batch Size"
   ]
  },
  {
   "cell_type": "code",
   "execution_count": 9,
   "id": "d88f8373-2896-4644-bbab-5f5a912892d5",
   "metadata": {},
   "outputs": [
    {
     "data": {
      "text/plain": [
       "(43775, 16)"
      ]
     },
     "execution_count": 9,
     "metadata": {},
     "output_type": "execute_result"
    }
   ],
   "source": [
    "df_full.shape"
   ]
  },
  {
   "cell_type": "markdown",
   "id": "66106ad6-4eb2-45ea-9534-769a64bc23c1",
   "metadata": {},
   "source": [
    "# Model"
   ]
  },
  {
   "cell_type": "code",
   "execution_count": 10,
   "id": "90408c65-d0cd-43ff-bb19-3a7372afbfea",
   "metadata": {},
   "outputs": [],
   "source": [
    "from models.transformer import T5TimeSeries"
   ]
  },
  {
   "cell_type": "markdown",
   "id": "21028a64-d051-4443-8e6c-7c61953b0ca5",
   "metadata": {},
   "source": [
    "## Transformer Model\n",
    "### Initialized Model with Hyperparameters"
   ]
  },
  {
   "cell_type": "code",
   "execution_count": 11,
   "id": "2e62a5b6-6a2a-4bf6-82ac-b7564ff34352",
   "metadata": {},
   "outputs": [],
   "source": [
    "model = T5TimeSeries(\n",
    "    input_features_size=hyperparameters['input_features_size'],\n",
    "    date_input_features_size=hyperparameters['date_input_features_size'],\n",
    "    date_features_dim=hyperparameters['date_features_dim'],\n",
    "    features_dim=hyperparameters['hidden_features_size'],\n",
    "    output_features_size=hyperparameters['output_features_size'],\n",
    "    num_heads=hyperparameters['num_heads'],\n",
    "    ff_dim=hyperparameters['ff_dim'],\n",
    "    num_encoder_layers=hyperparameters['num_encoder_layers'],\n",
    "    num_decoder_layers=hyperparameters['num_decoder_layers'],\n",
    "    emb_dropout_prob=hyperparameters['emb_dropout_prob'],\n",
    "    attn_dropout_prob=hyperparameters['attn_dropout_prob'],\n",
    "    ff_dropout_prob=hyperparameters['ff_dropout_prob'],\n",
    "    attn_use_bias=hyperparameters['attn_use_bias'],\n",
    "    ff_use_bias=hyperparameters['ff_use_bias'],\n",
    "    output_features_bias=hyperparameters['output_features_bias'],\n",
    ")"
   ]
  },
  {
   "cell_type": "markdown",
   "id": "9cde0d98-32af-40f7-aa7c-6fb9e1e9d15e",
   "metadata": {},
   "source": [
    "### Number of parameters"
   ]
  },
  {
   "cell_type": "code",
   "execution_count": 12,
   "id": "66aea2e7-7cc0-41a4-98d9-abbfe855f0ba",
   "metadata": {},
   "outputs": [],
   "source": [
    "def print_model_parameters(model):\n",
    "    print(f'{sum(p.numel() for p in model.parameters()):,}')"
   ]
  },
  {
   "cell_type": "code",
   "execution_count": 13,
   "id": "250ac969-c12d-4271-9836-ae00d34c78f9",
   "metadata": {},
   "outputs": [
    {
     "name": "stdout",
     "output_type": "stream",
     "text": [
      "Number of parameters:\n",
      "24,813,952\n"
     ]
    }
   ],
   "source": [
    "print('Number of parameters:')\n",
    "print_model_parameters(model)"
   ]
  },
  {
   "cell_type": "code",
   "execution_count": 14,
   "id": "8be2e080-45e8-4a64-acc1-373d17ad0ac3",
   "metadata": {},
   "outputs": [
    {
     "data": {
      "text/plain": [
       "torch.Size([128, 216, 16])"
      ]
     },
     "execution_count": 14,
     "metadata": {},
     "output_type": "execute_result"
    }
   ],
   "source": [
    "dummy_data_enc = torch.randn(hyperparameters['batch_size'], hyperparameters['window_size'], hyperparameters['input_features_size'])\n",
    "dummy_date_enc = torch.randn(hyperparameters['batch_size'], hyperparameters['window_size'], hyperparameters['date_input_features_size'])\n",
    "\n",
    "dummy_data_dec = torch.randn(hyperparameters['batch_size'], hyperparameters['window_size'], hyperparameters['input_features_size'])\n",
    "dummy_date_dec = torch.randn(hyperparameters['batch_size'], hyperparameters['window_size'], hyperparameters['date_input_features_size'])\n",
    "\n",
    "o = model(dummy_data_enc, dummy_data_dec, dummy_date_enc, dummy_date_dec)\n",
    "o.shape"
   ]
  },
  {
   "cell_type": "markdown",
   "id": "4b42fd9c-ba8c-4453-9f2c-28298878cc78",
   "metadata": {},
   "source": [
    "# Dataset"
   ]
  },
  {
   "cell_type": "raw",
   "id": "1f1b990d-3214-4041-9411-e593f472f09f",
   "metadata": {},
   "source": [
    "forecast_init_features = torch.randn(hyperparameters['forecast'], hyperparameters['input_features_size']) \n",
    "forecast_init_date = torch.tensor([-1, -1, -1], dtype=torch.float32).permute(1, 0)"
   ]
  },
  {
   "cell_type": "code",
   "execution_count": 15,
   "id": "e7ad354d-f77e-49a5-b3ec-5da382d9cd8f",
   "metadata": {},
   "outputs": [],
   "source": [
    "class TimeSeriesDataset(Dataset):\n",
    "    def __init__(self, df, lags, forecast):\n",
    "        self.df = df\n",
    "        self.lags = lags\n",
    "        self.forecast = forecast\n",
    "        self.window_size = lags + forecast\n",
    "        \n",
    "    def __len__(self):\n",
    "        number_of_samples = self.df.shape[0]\n",
    "        # make sure that last window fits\n",
    "        return number_of_samples - self.window_size\n",
    "\n",
    "    def __getitem__(self, start_idx):\n",
    "\n",
    "        # get a NumPy array of size: (hyperparameters['window_size'], NUM_FEATURES)\n",
    "        df_window = self.df.iloc[start_idx:start_idx+self.window_size]\n",
    "\n",
    "        sample_window = df_window.values\n",
    "        # input (lag) timestamps\n",
    "        sample_timestamp_lags = df_window[:self.lags].index\n",
    "        # output (forecast) timestamps\n",
    "        sample_timestamp_forecast = df_window[-self.forecast:].index\n",
    "            \n",
    "        # divide window into lags and forecast:\n",
    "        # (hyperparameters['lags'], input_features_size)\n",
    "        lags = sample_window[:self.lags, :]\n",
    "        # (hyperparameters['forecast'], input_features_size)\n",
    "        forecast = sample_window[-self.forecast:, :]\n",
    "        #forecast_input  = forecast[:-1, :]\n",
    "        #forecast_output = forecast[1:, :]\n",
    "        \n",
    "        # convert to tensor\n",
    "        lags = torch.tensor(lags, dtype=torch.float32)\n",
    "        forecast = torch.tensor(forecast, dtype=torch.float32)\n",
    "        \n",
    "        # (lags, date_input_features_size)\n",
    "        date_lags = torch.tensor([sample_timestamp_lags.month, sample_timestamp_lags.day, sample_timestamp_lags.hour], dtype=torch.float32).permute(1, 0)\n",
    "        # (forecast, date_input_features_size)\n",
    "        date_forecast = torch.tensor([sample_timestamp_forecast.month, sample_timestamp_forecast.day, sample_timestamp_forecast.hour], dtype=torch.float32).permute(1, 0)\n",
    "        \n",
    "        return lags, forecast, date_lags, date_forecast"
   ]
  },
  {
   "cell_type": "code",
   "execution_count": 16,
   "id": "3c6dcf40-189e-4f2b-bc04-9a6a73cd1c96",
   "metadata": {},
   "outputs": [],
   "source": [
    "dataset_full = TimeSeriesDataset(\n",
    "    df_full,\n",
    "    hyperparameters['lags'],\n",
    "    hyperparameters['forecast'],\n",
    ")"
   ]
  },
  {
   "cell_type": "code",
   "execution_count": 17,
   "id": "570ccea2-bc70-4e55-9ab1-9f71c79a1c19",
   "metadata": {},
   "outputs": [
    {
     "data": {
      "text/plain": [
       "(torch.Size([168, 16]),\n",
       " torch.Size([48, 16]),\n",
       " torch.Size([168, 3]),\n",
       " torch.Size([48, 3]))"
      ]
     },
     "execution_count": 17,
     "metadata": {},
     "output_type": "execute_result"
    }
   ],
   "source": [
    "_lags, _forecast, _date_lags, _date_forecast = dataset_full[0]\n",
    "_lags.shape, _forecast.shape, _date_lags.shape, _date_forecast.shape"
   ]
  },
  {
   "cell_type": "markdown",
   "id": "65347aee-d469-4ebf-8499-767dacb6a102",
   "metadata": {},
   "source": [
    "### Train/Test Split"
   ]
  },
  {
   "cell_type": "code",
   "execution_count": 18,
   "id": "5ccdaaa6-c1d5-42ad-a66f-6c3539a4ab73",
   "metadata": {},
   "outputs": [
    {
     "data": {
      "text/plain": [
       "(34847, 8712)"
      ]
     },
     "execution_count": 18,
     "metadata": {},
     "output_type": "execute_result"
    }
   ],
   "source": [
    "train_size = int(hyperparameters['split_ratio'] * len(dataset_full))\n",
    "test_size = len(dataset_full) - train_size\n",
    "\n",
    "train_size, test_size"
   ]
  },
  {
   "cell_type": "code",
   "execution_count": 19,
   "id": "f098f3c5-0cd2-4d64-8ff3-de5b85d28d0f",
   "metadata": {},
   "outputs": [
    {
     "data": {
      "text/plain": [
       "<matplotlib.legend.Legend at 0x7f1a4444d250>"
      ]
     },
     "execution_count": 19,
     "metadata": {},
     "output_type": "execute_result"
    },
    {
     "data": {
      "image/png": "[encoded data removed]",
      "text/plain": [
       "<Figure size 600x400 with 1 Axes>"
      ]
     },
     "metadata": {},
     "output_type": "display_data"
    }
   ],
   "source": [
    "df_train = df_full.iloc[:train_size, :]\n",
    "df_test = df_full.iloc[-test_size:, :]\n",
    "\n",
    "# Airline Passgeners\n",
    "#plt.plot(df_train.index, df_train['Passengers'], c='blue', label='training')\n",
    "#plt.plot(df_test.index, df_test['Passengers'], c='red', label='test')\n",
    "\n",
    "# Panama Electricity Load Forecasting\n",
    "plt.plot(df_train.index, df_train['nat_demand'], c='blue', label='training')\n",
    "plt.plot(df_test.index, df_test['nat_demand'], c='red', label='test')\n",
    "\n",
    "plt.legend()"
   ]
  },
  {
   "cell_type": "code",
   "execution_count": 20,
   "id": "b53d20db-2358-494b-927c-196a3c407bf2",
   "metadata": {},
   "outputs": [],
   "source": [
    "dataset_train = TimeSeriesDataset(\n",
    "    df_train,\n",
    "    hyperparameters['lags'],\n",
    "    hyperparameters['forecast'],\n",
    ")\n",
    "\n",
    "dataset_test = TimeSeriesDataset(\n",
    "    df_test,\n",
    "    hyperparameters['lags'],\n",
    "    hyperparameters['forecast'],\n",
    ")"
   ]
  },
  {
   "cell_type": "markdown",
   "id": "0f9516e1-f1ee-4db5-b6e3-3a9d76f0b20d",
   "metadata": {},
   "source": [
    "# Dataloader"
   ]
  },
  {
   "cell_type": "code",
   "execution_count": 21,
   "id": "5acba036-7c98-4786-9c00-5af6325f8fd4",
   "metadata": {},
   "outputs": [
    {
     "name": "stdout",
     "output_type": "stream",
     "text": [
      "Number of batches (total): 341\n",
      "Number of batches (train): 271\n",
      "Number of batches (test): 67\n"
     ]
    }
   ],
   "source": [
    "dataloader_full = DataLoader(\n",
    "    dataset_full,\n",
    "    batch_size=hyperparameters['batch_size'],\n",
    "    shuffle=False,\n",
    ")\n",
    "\n",
    "dataloader_train = DataLoader(\n",
    "    dataset_train,\n",
    "    batch_size=hyperparameters['batch_size'],\n",
    "    shuffle=False,\n",
    ")\n",
    "\n",
    "dataloader_test = DataLoader(\n",
    "    dataset_test,\n",
    "    batch_size=hyperparameters['batch_size'],\n",
    "    shuffle=False,\n",
    ")\n",
    "\n",
    "print(f'Number of batches (total): {len(dataloader_full)}')\n",
    "print(f'Number of batches (train): {len(dataloader_train)}')\n",
    "print(f'Number of batches (test): {len(dataloader_test)}')"
   ]
  },
  {
   "cell_type": "code",
   "execution_count": 22,
   "id": "0ab4ab76-bc6a-4827-9686-e5f10b66987d",
   "metadata": {},
   "outputs": [
    {
     "data": {
      "text/plain": [
       "(torch.Size([128, 168, 16]),\n",
       " torch.Size([128, 48, 16]),\n",
       " torch.Size([128, 168, 3]),\n",
       " torch.Size([128, 48, 3]))"
      ]
     },
     "execution_count": 22,
     "metadata": {},
     "output_type": "execute_result"
    }
   ],
   "source": [
    "_lags_batch, _forecast_batch, _date_lags_batch, _date_forecast_batch = next(iter(dataloader_full))\n",
    "# (hyperparameters['batch_size'], hyperparameters['lags'], NUM_FEATURES), # (hyperparameters['batch_size'], hyperparameters['forecast'], NUM_FEATURES)\n",
    "_lags_batch.shape, _forecast_batch.shape, _date_lags_batch.shape, _date_forecast_batch.shape"
   ]
  },
  {
   "cell_type": "code",
   "execution_count": 23,
   "id": "092102e2-5185-43f7-947b-81abf7bdf96d",
   "metadata": {},
   "outputs": [
    {
     "data": {
      "text/plain": [
       "341"
      ]
     },
     "execution_count": 23,
     "metadata": {},
     "output_type": "execute_result"
    }
   ],
   "source": [
    "len(dataloader_full)"
   ]
  },
  {
   "cell_type": "raw",
   "id": "ffc14438-3d06-4c12-8756-e2f7eaf95b28",
   "metadata": {},
   "source": [
    "for idx, (s) in enumerate(dataloader_full):\n",
    "    print(idx)\n",
    "    print(s[0].shape, s[1].shape)"
   ]
  },
  {
   "cell_type": "markdown",
   "id": "e3a30eb6-4ac5-4dfa-b7d7-873168eb2339",
   "metadata": {},
   "source": [
    "# Training"
   ]
  },
  {
   "cell_type": "markdown",
   "id": "fab6e06b-cc55-4635-aeb1-07a681a70a29",
   "metadata": {},
   "source": [
    "### Training Functions"
   ]
  },
  {
   "cell_type": "code",
   "execution_count": 24,
   "id": "1d423e6a-1301-47b9-b906-55104dad5521",
   "metadata": {},
   "outputs": [],
   "source": [
    "def train_iter(model, dataloader, optimizer, criterion, device):\n",
    "    model.train()\n",
    "\n",
    "    avg_loss = []\n",
    "    \n",
    "    for (lags, forecast, date_lags, date_forecast) in dataloader:\n",
    "\n",
    "        lags = lags.to(device)\n",
    "        forecast = forecast.to(device)\n",
    "        date_lags = date_lags.to(device)\n",
    "        date_forecast = date_forecast.to(device)\n",
    "\n",
    "        forecast_input = forecast[:, :-1, :]\n",
    "        forecast_output = forecast[:, 1:, :]\n",
    "\n",
    "        date_forecast_input = date_forecast[:, :-1, :]\n",
    "        # no need for date_forecast_output\n",
    "        \n",
    "        optimizer.zero_grad()\n",
    "    \n",
    "        forecast_pred = model(lags, forecast_input, date_lags, date_forecast_input)\n",
    "        \n",
    "        loss = criterion(forecast_pred, forecast_output)\n",
    "        \n",
    "        loss.backward()\n",
    "        optimizer.step()\n",
    "\n",
    "        avg_loss.append(loss.item())\n",
    "\n",
    "    return sum(avg_loss) / len(avg_loss)\n",
    "\n",
    "\n",
    "@torch.no_grad()\n",
    "def eval_iter(model, dataloader, criterion, device):\n",
    "    model.eval()\n",
    "\n",
    "    avg_loss = []\n",
    "    predictions = []\n",
    "    \n",
    "    for (lags, forecast, date_lags, date_forecast) in dataloader:\n",
    "        \n",
    "        lags = lags.to(device)\n",
    "        forecast = forecast.to(device)\n",
    "        date_lags = date_lags.to(device)\n",
    "        date_forecast = date_forecast.to(device)\n",
    "\n",
    "        forecast_input = forecast[:, :-1, :]\n",
    "        forecast_output = forecast[:, 1:, :]\n",
    "\n",
    "        date_forecast_input = date_forecast[:, :-1, :]\n",
    "        # no need for date_forecast_output\n",
    "        \n",
    "        forecast_pred = model(lags, forecast_input, date_lags, date_forecast_input)\n",
    "\n",
    "        loss = criterion(forecast_pred, forecast_output)\n",
    "        \n",
    "        avg_loss.append(loss.item())\n",
    "        predictions.append(forecast_pred)\n",
    "\n",
    "    return sum(avg_loss) / len(avg_loss), predictions"
   ]
  },
  {
   "cell_type": "markdown",
   "id": "19f3e836-bd62-4e58-840a-18a5db7dec44",
   "metadata": {},
   "source": [
    "### Start Training"
   ]
  },
  {
   "cell_type": "code",
   "execution_count": 25,
   "id": "2d953510-def3-4d02-8847-40c28e59214e",
   "metadata": {},
   "outputs": [],
   "source": [
    "optimizer = torch.optim.Adam(\n",
    "    model.parameters(),\n",
    "    lr=hyperparameters['learning_rate']\n",
    ")\n",
    "\n",
    "scheduler = torch.optim.lr_scheduler.ReduceLROnPlateau(\n",
    "    optimizer,\n",
    "    mode='min', \n",
    "    factor=0.1, \n",
    "    patience=3,\n",
    "    min_lr=1e-6,\n",
    ")\n",
    "\n",
    "mse_loss = nn.MSELoss()"
   ]
  },
  {
   "cell_type": "code",
   "execution_count": 26,
   "id": "a86f98b9-3175-4d0c-855a-f054321d2f86",
   "metadata": {},
   "outputs": [
    {
     "name": "stdout",
     "output_type": "stream",
     "text": [
      "Epoch: 5  , Training loss: 7.0726, Testing Loss: 7.3978, LR: [0.0001]\n",
      "Epoch: 10 , Training loss: 6.1754, Testing Loss: 6.5309, LR: [0.0001]\n",
      "Epoch: 15 , Training loss: 5.1285, Testing Loss: 5.1717, LR: [0.0001]\n",
      "Epoch: 20 , Training loss: 1.6673, Testing Loss: 1.5858, LR: [0.0001]\n",
      "Epoch: 25 , Training loss: 1.0932, Testing Loss: 1.0534, LR: [0.0001]\n",
      "Epoch: 30 , Training loss: 0.8328, Testing Loss: 0.7862, LR: [0.0001]\n",
      "Epoch: 35 , Training loss: 0.6556, Testing Loss: 0.6440, LR: [0.0001]\n",
      "Epoch: 40 , Training loss: 0.5718, Testing Loss: 0.5871, LR: [0.0001]\n",
      "Epoch: 45 , Training loss: 0.4819, Testing Loss: 0.5214, LR: [0.0001]\n",
      "Epoch: 50 , Training loss: 0.4169, Testing Loss: 0.4574, LR: [0.0001]\n"
     ]
    }
   ],
   "source": [
    "model.to(device)\n",
    "\n",
    "for epoch in range(1, hyperparameters['num_epochs']+1):\n",
    "        \n",
    "    avg_train_loss = train_iter(\n",
    "        model=model, \n",
    "        dataloader=dataloader_train, \n",
    "        optimizer=optimizer, \n",
    "        criterion=mse_loss, \n",
    "        device=device\n",
    "    )\n",
    "    \n",
    "    avg_test_loss, _ = eval_iter(\n",
    "        model=model, \n",
    "        dataloader=dataloader_test, \n",
    "        criterion=mse_loss, \n",
    "        device=device\n",
    "    )\n",
    "\n",
    "    # auto decrease LR when not improving\n",
    "    scheduler.step(avg_test_loss)\n",
    "    \n",
    "    \"\"\"\n",
    "    # MANUAL LR SCHEDULING\n",
    "    if epoch == 30:\n",
    "        for pg in optimizer.param_groups:\n",
    "            pg['lr'] *= 0.1\n",
    "\n",
    "    if epoch == 60:\n",
    "        for pg in optimizer.param_groups:\n",
    "            pg['lr'] *= 0.1\n",
    "    \"\"\"\n",
    "    \n",
    "    if epoch % 5 == 0:\n",
    "        print(f'Epoch: {epoch:<3}, Training loss: {avg_train_loss:.4f}, Testing Loss: {avg_test_loss:.4f}, LR: {scheduler.get_last_lr()}')"
   ]
  },
  {
   "cell_type": "markdown",
   "id": "88d22bf5-4588-4c5b-914b-237833db8293",
   "metadata": {},
   "source": [
    "# Testing\n",
    "* NOTE: we prefer to use single windows step during prediction"
   ]
  },
  {
   "cell_type": "code",
   "execution_count": 27,
   "id": "03d19abb-3e77-4c33-9f37-c65c457ab413",
   "metadata": {},
   "outputs": [],
   "source": [
    "@torch.no_grad()\n",
    "def eval_iter_single_step(model, dataloader, criterion, device):\n",
    "    model.eval()\n",
    "\n",
    "    avg_loss = []\n",
    "    predictions = []\n",
    "    \n",
    "    # single step\n",
    "    for start_idx in range(0, len(df_test)):\n",
    "\n",
    "        # single step window sliding\n",
    "        df_window = df_test.iloc[start_idx:start_idx+hyperparameters['window_size'], :]\n",
    "        \n",
    "        sample_window = df_window.values\n",
    "        # input (lag) timestamps\n",
    "        sample_timestamp_lags = df_window[:hyperparameters['lags']].index\n",
    "        # output (forecast) timestamps\n",
    "        sample_timestamp_forecast = df_window[-hyperparameters['forecast']:].index\n",
    "        \n",
    "        # covnert to tensor\n",
    "        lags = torch.tensor(sample_window[:hyperparameters['lags']], dtype=torch.float32, device=device)\n",
    "        forecast = torch.tensor(sample_window[-hyperparameters['forecast']:], dtype=torch.float32, device=device)\n",
    "        \n",
    "        # (lags, date_input_features_size)\n",
    "        date_lags = torch.tensor([sample_timestamp_lags.month, sample_timestamp_lags.day, sample_timestamp_lags.hour], dtype=torch.float32, device=device).permute(1, 0)\n",
    "        # (forecast, date_input_features_size)\n",
    "        date_forecast = torch.tensor([sample_timestamp_forecast.month, sample_timestamp_forecast.day, sample_timestamp_forecast.hour], dtype=torch.float32, device=device).permute(1, 0)\n",
    "        \n",
    "        # artificially add batch dimension\n",
    "        # (we are not using the dataloader here!)\n",
    "        lags = lags.unsqueeze(0)\n",
    "        forecast = forecast.unsqueeze(0)\n",
    "        date_lags = date_lags.unsqueeze(0)\n",
    "        date_forecast = date_forecast.unsqueeze(0)\n",
    "\n",
    "        forecast_pred = model(lags, forecast, date_lags, date_forecast)\n",
    "\n",
    "        loss = criterion(forecast_pred, forecast)\n",
    "        \n",
    "        avg_loss.append(loss.item())\n",
    "        # (batch, forecast, output_features_size)-> (1, 1, output_features_size)\n",
    "        predictions.append(forecast_pred[0][0].cpu().numpy())\n",
    "\n",
    "    return sum(avg_loss) / len(avg_loss), predictions"
   ]
  },
  {
   "cell_type": "code",
   "execution_count": 28,
   "id": "0fab7f2f-c398-4154-97e2-efd8b9d88cc0",
   "metadata": {},
   "outputs": [
    {
     "data": {
      "text/plain": [
       "8712"
      ]
     },
     "execution_count": 28,
     "metadata": {},
     "output_type": "execute_result"
    }
   ],
   "source": [
    "_, pred_sliding= eval_iter_single_step(\n",
    "    model=model, \n",
    "    dataloader=dataloader_test, \n",
    "    criterion=mse_loss, \n",
    "    device=device\n",
    ")\n",
    "\n",
    "len(pred_sliding)"
   ]
  },
  {
   "cell_type": "code",
   "execution_count": 29,
   "id": "ffc489fe-1b8f-481d-a0f0-e2b3c801c3da",
   "metadata": {},
   "outputs": [
    {
     "data": {
      "text/plain": [
       "Index(['nat_demand', 'T2M_toc', 'QV2M_toc', 'TQL_toc', 'W2M_toc', 'T2M_san',\n",
       "       'QV2M_san', 'TQL_san', 'W2M_san', 'T2M_dav', 'QV2M_dav', 'TQL_dav',\n",
       "       'W2M_dav', 'Holiday_ID', 'holiday', 'school'],\n",
       "      dtype='object')"
      ]
     },
     "execution_count": 29,
     "metadata": {},
     "output_type": "execute_result"
    }
   ],
   "source": [
    "df_full.columns"
   ]
  },
  {
   "cell_type": "code",
   "execution_count": 30,
   "id": "bf1ca0b4-2951-452a-b0da-2dd19717944d",
   "metadata": {},
   "outputs": [
    {
     "data": {
      "text/html": [
       "<div>\n",
       "<style scoped>\n",
       "    .dataframe tbody tr th:only-of-type {\n",
       "        vertical-align: middle;\n",
       "    }\n",
       "\n",
       "    .dataframe tbody tr th {\n",
       "        vertical-align: top;\n",
       "    }\n",
       "\n",
       "    .dataframe thead th {\n",
       "        text-align: right;\n",
       "    }\n",
       "</style>\n",
       "<table border=\"1\" class=\"dataframe\">\n",
       "  <thead>\n",
       "    <tr style=\"text-align: right;\">\n",
       "      <th></th>\n",
       "      <th>nat_demand</th>\n",
       "      <th>T2M_toc</th>\n",
       "      <th>QV2M_toc</th>\n",
       "      <th>TQL_toc</th>\n",
       "      <th>W2M_toc</th>\n",
       "      <th>T2M_san</th>\n",
       "      <th>QV2M_san</th>\n",
       "      <th>TQL_san</th>\n",
       "      <th>W2M_san</th>\n",
       "      <th>T2M_dav</th>\n",
       "      <th>QV2M_dav</th>\n",
       "      <th>TQL_dav</th>\n",
       "      <th>W2M_dav</th>\n",
       "      <th>Holiday_ID</th>\n",
       "      <th>holiday</th>\n",
       "      <th>school</th>\n",
       "    </tr>\n",
       "    <tr>\n",
       "      <th>datetime</th>\n",
       "      <th></th>\n",
       "      <th></th>\n",
       "      <th></th>\n",
       "      <th></th>\n",
       "      <th></th>\n",
       "      <th></th>\n",
       "      <th></th>\n",
       "      <th></th>\n",
       "      <th></th>\n",
       "      <th></th>\n",
       "      <th></th>\n",
       "      <th></th>\n",
       "      <th></th>\n",
       "      <th></th>\n",
       "      <th></th>\n",
       "      <th></th>\n",
       "    </tr>\n",
       "  </thead>\n",
       "  <tbody>\n",
       "    <tr>\n",
       "      <th>2019-01-03 00:00:00</th>\n",
       "      <td>-1.330897</td>\n",
       "      <td>24.875402</td>\n",
       "      <td>0.013709</td>\n",
       "      <td>0.048807</td>\n",
       "      <td>13.237625</td>\n",
       "      <td>22.773354</td>\n",
       "      <td>0.015303</td>\n",
       "      <td>0.079422</td>\n",
       "      <td>6.326868</td>\n",
       "      <td>21.593912</td>\n",
       "      <td>0.012742</td>\n",
       "      <td>0.153805</td>\n",
       "      <td>4.353138</td>\n",
       "      <td>-0.030751</td>\n",
       "      <td>-0.006304</td>\n",
       "      <td>0.747516</td>\n",
       "    </tr>\n",
       "    <tr>\n",
       "      <th>2019-01-03 01:00:00</th>\n",
       "      <td>-1.402954</td>\n",
       "      <td>24.785547</td>\n",
       "      <td>0.013898</td>\n",
       "      <td>0.046983</td>\n",
       "      <td>13.611894</td>\n",
       "      <td>22.551483</td>\n",
       "      <td>0.015218</td>\n",
       "      <td>0.077210</td>\n",
       "      <td>6.385417</td>\n",
       "      <td>21.429394</td>\n",
       "      <td>0.013024</td>\n",
       "      <td>0.153105</td>\n",
       "      <td>4.508686</td>\n",
       "      <td>-0.022168</td>\n",
       "      <td>-0.007954</td>\n",
       "      <td>0.715648</td>\n",
       "    </tr>\n",
       "    <tr>\n",
       "      <th>2019-01-03 02:00:00</th>\n",
       "      <td>-1.379191</td>\n",
       "      <td>24.818386</td>\n",
       "      <td>0.014157</td>\n",
       "      <td>0.044807</td>\n",
       "      <td>14.289472</td>\n",
       "      <td>22.518322</td>\n",
       "      <td>0.015237</td>\n",
       "      <td>0.074514</td>\n",
       "      <td>6.566378</td>\n",
       "      <td>21.422562</td>\n",
       "      <td>0.013316</td>\n",
       "      <td>0.151611</td>\n",
       "      <td>4.609760</td>\n",
       "      <td>-0.024639</td>\n",
       "      <td>-0.009734</td>\n",
       "      <td>0.686044</td>\n",
       "    </tr>\n",
       "    <tr>\n",
       "      <th>2019-01-03 03:00:00</th>\n",
       "      <td>-1.318893</td>\n",
       "      <td>24.923847</td>\n",
       "      <td>0.014292</td>\n",
       "      <td>0.043581</td>\n",
       "      <td>14.741022</td>\n",
       "      <td>22.619116</td>\n",
       "      <td>0.015292</td>\n",
       "      <td>0.072189</td>\n",
       "      <td>6.725510</td>\n",
       "      <td>21.506035</td>\n",
       "      <td>0.013469</td>\n",
       "      <td>0.150606</td>\n",
       "      <td>4.640031</td>\n",
       "      <td>-0.034918</td>\n",
       "      <td>-0.010419</td>\n",
       "      <td>0.672405</td>\n",
       "    </tr>\n",
       "    <tr>\n",
       "      <th>2019-01-03 04:00:00</th>\n",
       "      <td>-1.292522</td>\n",
       "      <td>25.048458</td>\n",
       "      <td>0.014067</td>\n",
       "      <td>0.044317</td>\n",
       "      <td>14.264035</td>\n",
       "      <td>22.780659</td>\n",
       "      <td>0.015316</td>\n",
       "      <td>0.071196</td>\n",
       "      <td>6.652721</td>\n",
       "      <td>21.604975</td>\n",
       "      <td>0.013292</td>\n",
       "      <td>0.150973</td>\n",
       "      <td>4.565444</td>\n",
       "      <td>-0.044544</td>\n",
       "      <td>-0.007303</td>\n",
       "      <td>0.691166</td>\n",
       "    </tr>\n",
       "    <tr>\n",
       "      <th>2019-01-03 05:00:00</th>\n",
       "      <td>-1.200072</td>\n",
       "      <td>25.271597</td>\n",
       "      <td>0.013783</td>\n",
       "      <td>0.045398</td>\n",
       "      <td>13.701624</td>\n",
       "      <td>23.098839</td>\n",
       "      <td>0.015417</td>\n",
       "      <td>0.070302</td>\n",
       "      <td>6.607088</td>\n",
       "      <td>21.819731</td>\n",
       "      <td>0.013038</td>\n",
       "      <td>0.151453</td>\n",
       "      <td>4.435112</td>\n",
       "      <td>-0.052554</td>\n",
       "      <td>-0.002612</td>\n",
       "      <td>0.721415</td>\n",
       "    </tr>\n",
       "    <tr>\n",
       "      <th>2019-01-03 06:00:00</th>\n",
       "      <td>-1.073890</td>\n",
       "      <td>25.535898</td>\n",
       "      <td>0.013594</td>\n",
       "      <td>0.047582</td>\n",
       "      <td>13.257462</td>\n",
       "      <td>23.479563</td>\n",
       "      <td>0.015581</td>\n",
       "      <td>0.070743</td>\n",
       "      <td>6.748093</td>\n",
       "      <td>22.089497</td>\n",
       "      <td>0.012857</td>\n",
       "      <td>0.153434</td>\n",
       "      <td>4.389195</td>\n",
       "      <td>-0.049005</td>\n",
       "      <td>0.002605</td>\n",
       "      <td>0.750246</td>\n",
       "    </tr>\n",
       "    <tr>\n",
       "      <th>2019-01-03 07:00:00</th>\n",
       "      <td>-0.198136</td>\n",
       "      <td>26.753836</td>\n",
       "      <td>0.015258</td>\n",
       "      <td>0.066217</td>\n",
       "      <td>16.669554</td>\n",
       "      <td>25.468153</td>\n",
       "      <td>0.016743</td>\n",
       "      <td>0.086035</td>\n",
       "      <td>9.923748</td>\n",
       "      <td>23.716213</td>\n",
       "      <td>0.013770</td>\n",
       "      <td>0.172322</td>\n",
       "      <td>5.049547</td>\n",
       "      <td>-0.101513</td>\n",
       "      <td>-0.007133</td>\n",
       "      <td>0.763186</td>\n",
       "    </tr>\n",
       "    <tr>\n",
       "      <th>2019-01-03 08:00:00</th>\n",
       "      <td>0.620699</td>\n",
       "      <td>27.963924</td>\n",
       "      <td>0.016178</td>\n",
       "      <td>0.073350</td>\n",
       "      <td>19.702122</td>\n",
       "      <td>27.583059</td>\n",
       "      <td>0.017533</td>\n",
       "      <td>0.095724</td>\n",
       "      <td>12.023203</td>\n",
       "      <td>25.413774</td>\n",
       "      <td>0.014021</td>\n",
       "      <td>0.175971</td>\n",
       "      <td>4.971492</td>\n",
       "      <td>-0.055217</td>\n",
       "      <td>-0.026837</td>\n",
       "      <td>0.776136</td>\n",
       "    </tr>\n",
       "    <tr>\n",
       "      <th>2019-01-03 09:00:00</th>\n",
       "      <td>1.135420</td>\n",
       "      <td>28.868565</td>\n",
       "      <td>0.015965</td>\n",
       "      <td>0.078504</td>\n",
       "      <td>20.818575</td>\n",
       "      <td>29.265848</td>\n",
       "      <td>0.017830</td>\n",
       "      <td>0.100398</td>\n",
       "      <td>12.949776</td>\n",
       "      <td>26.772022</td>\n",
       "      <td>0.013320</td>\n",
       "      <td>0.170304</td>\n",
       "      <td>4.558597</td>\n",
       "      <td>0.038296</td>\n",
       "      <td>-0.035006</td>\n",
       "      <td>0.794980</td>\n",
       "    </tr>\n",
       "  </tbody>\n",
       "</table>\n",
       "</div>"
      ],
      "text/plain": [
       "                     nat_demand    T2M_toc  QV2M_toc   TQL_toc    W2M_toc  \\\n",
       "datetime                                                                    \n",
       "2019-01-03 00:00:00   -1.330897  24.875402  0.013709  0.048807  13.237625   \n",
       "2019-01-03 01:00:00   -1.402954  24.785547  0.013898  0.046983  13.611894   \n",
       "2019-01-03 02:00:00   -1.379191  24.818386  0.014157  0.044807  14.289472   \n",
       "2019-01-03 03:00:00   -1.318893  24.923847  0.014292  0.043581  14.741022   \n",
       "2019-01-03 04:00:00   -1.292522  25.048458  0.014067  0.044317  14.264035   \n",
       "2019-01-03 05:00:00   -1.200072  25.271597  0.013783  0.045398  13.701624   \n",
       "2019-01-03 06:00:00   -1.073890  25.535898  0.013594  0.047582  13.257462   \n",
       "2019-01-03 07:00:00   -0.198136  26.753836  0.015258  0.066217  16.669554   \n",
       "2019-01-03 08:00:00    0.620699  27.963924  0.016178  0.073350  19.702122   \n",
       "2019-01-03 09:00:00    1.135420  28.868565  0.015965  0.078504  20.818575   \n",
       "\n",
       "                       T2M_san  QV2M_san   TQL_san    W2M_san    T2M_dav  \\\n",
       "datetime                                                                   \n",
       "2019-01-03 00:00:00  22.773354  0.015303  0.079422   6.326868  21.593912   \n",
       "2019-01-03 01:00:00  22.551483  0.015218  0.077210   6.385417  21.429394   \n",
       "2019-01-03 02:00:00  22.518322  0.015237  0.074514   6.566378  21.422562   \n",
       "2019-01-03 03:00:00  22.619116  0.015292  0.072189   6.725510  21.506035   \n",
       "2019-01-03 04:00:00  22.780659  0.015316  0.071196   6.652721  21.604975   \n",
       "2019-01-03 05:00:00  23.098839  0.015417  0.070302   6.607088  21.819731   \n",
       "2019-01-03 06:00:00  23.479563  0.015581  0.070743   6.748093  22.089497   \n",
       "2019-01-03 07:00:00  25.468153  0.016743  0.086035   9.923748  23.716213   \n",
       "2019-01-03 08:00:00  27.583059  0.017533  0.095724  12.023203  25.413774   \n",
       "2019-01-03 09:00:00  29.265848  0.017830  0.100398  12.949776  26.772022   \n",
       "\n",
       "                     QV2M_dav   TQL_dav   W2M_dav  Holiday_ID   holiday  \\\n",
       "datetime                                                                  \n",
       "2019-01-03 00:00:00  0.012742  0.153805  4.353138   -0.030751 -0.006304   \n",
       "2019-01-03 01:00:00  0.013024  0.153105  4.508686   -0.022168 -0.007954   \n",
       "2019-01-03 02:00:00  0.013316  0.151611  4.609760   -0.024639 -0.009734   \n",
       "2019-01-03 03:00:00  0.013469  0.150606  4.640031   -0.034918 -0.010419   \n",
       "2019-01-03 04:00:00  0.013292  0.150973  4.565444   -0.044544 -0.007303   \n",
       "2019-01-03 05:00:00  0.013038  0.151453  4.435112   -0.052554 -0.002612   \n",
       "2019-01-03 06:00:00  0.012857  0.153434  4.389195   -0.049005  0.002605   \n",
       "2019-01-03 07:00:00  0.013770  0.172322  5.049547   -0.101513 -0.007133   \n",
       "2019-01-03 08:00:00  0.014021  0.175971  4.971492   -0.055217 -0.026837   \n",
       "2019-01-03 09:00:00  0.013320  0.170304  4.558597    0.038296 -0.035006   \n",
       "\n",
       "                       school  \n",
       "datetime                       \n",
       "2019-01-03 00:00:00  0.747516  \n",
       "2019-01-03 01:00:00  0.715648  \n",
       "2019-01-03 02:00:00  0.686044  \n",
       "2019-01-03 03:00:00  0.672405  \n",
       "2019-01-03 04:00:00  0.691166  \n",
       "2019-01-03 05:00:00  0.721415  \n",
       "2019-01-03 06:00:00  0.750246  \n",
       "2019-01-03 07:00:00  0.763186  \n",
       "2019-01-03 08:00:00  0.776136  \n",
       "2019-01-03 09:00:00  0.794980  "
      ]
     },
     "execution_count": 30,
     "metadata": {},
     "output_type": "execute_result"
    }
   ],
   "source": [
    "sliding_results_dict = {}\n",
    "\n",
    "pred_sliding_array = np.array(pred_sliding)\n",
    "\n",
    "for feature_id, feature_key in enumerate(df_full.columns):\n",
    "    sliding_results_dict[feature_key] = pred_sliding_array[:, feature_id]\n",
    "        \n",
    "df_sliding = pd.DataFrame(data=sliding_results_dict, index=df_test.index)\n",
    "\n",
    "df_sliding.head(10)"
   ]
  },
  {
   "cell_type": "code",
   "execution_count": 31,
   "id": "92a1934a-8d85-441f-bc84-0dade96b7344",
   "metadata": {},
   "outputs": [
    {
     "data": {
      "text/plain": [
       "<matplotlib.legend.Legend at 0x7f1a1ebdf3d0>"
      ]
     },
     "execution_count": 31,
     "metadata": {},
     "output_type": "execute_result"
    },
    {
     "data": {
      "image/png": "[encoded data removed]",
      "text/plain": [
       "<Figure size 600x400 with 1 Axes>"
      ]
     },
     "metadata": {},
     "output_type": "display_data"
    }
   ],
   "source": [
    "selected_feature = 'nat_demand'\n",
    "plt.plot(df_train.index, df_train[selected_feature], c='blue', label='training')\n",
    "plt.plot(df_sliding.index, df_test[selected_feature], c='red', label='test')\n",
    "plt.plot(df_sliding.index, df_sliding[selected_feature] , c='green', label='prediction')\n",
    "plt.legend()"
   ]
  },
  {
   "cell_type": "code",
   "execution_count": 32,
   "id": "2f18fd2f-2bc0-431b-8cdc-3f4b711e0897",
   "metadata": {},
   "outputs": [
    {
     "data": {
      "text/plain": [
       "<matplotlib.legend.Legend at 0x7f1a1ecaa850>"
      ]
     },
     "execution_count": 32,
     "metadata": {},
     "output_type": "execute_result"
    },
    {
     "data": {
      "image/png": "[encoded data removed]",
      "text/plain": [
       "<Figure size 1000x600 with 1 Axes>"
      ]
     },
     "metadata": {},
     "output_type": "display_data"
    }
   ],
   "source": [
    "plt.figure(figsize=(10, 6))\n",
    "df_test.loc['2019-01-03 05:00:00':'2019-01-12 05:00:00', 'nat_demand'].plot(label='actual')\n",
    "df_sliding.loc['2019-01-03 05:00:00':'2019-01-12 05:00:00', 'nat_demand'].plot(label='prediction')\n",
    "plt.legend()"
   ]
  },
  {
   "cell_type": "markdown",
   "id": "5ca0d119-19bc-4098-99dc-18a5b8cc581f",
   "metadata": {},
   "source": [
    "# Save Model"
   ]
  },
  {
   "cell_type": "code",
   "execution_count": 33,
   "id": "45d8c44e-2861-49e1-aca8-cd2593bc8b5a",
   "metadata": {},
   "outputs": [],
   "source": [
    "os.makedirs('./saved_models', exist_ok=True)\n",
    "\n",
    "torch.save({\n",
    "        'model_state_dict': model.state_dict(),\n",
    "        'optimizer_state_dict': optimizer.state_dict(),\n",
    "        'hyperparameters': hyperparameters,\n",
    "    },\n",
    "    './saved_models/T5TimeSeries.pt'\n",
    ")"
   ]
  },
  {
   "cell_type": "markdown",
   "id": "a1cf35c6-0043-4533-ac32-ea186c2cefbb",
   "metadata": {},
   "source": [
    "# Generative Forecast"
   ]
  },
  {
   "cell_type": "code",
   "execution_count": 34,
   "id": "b70fe843-6e44-4e06-8f6f-3ceec8e4f47d",
   "metadata": {},
   "outputs": [],
   "source": [
    "@torch.no_grad()\n",
    "def generative_forecast(model, data, num_steps, lag_window_size):\n",
    "    model.eval()\n",
    "    \n",
    "    predictions = []\n",
    "    time_indexes = []\n",
    "\n",
    "    _device = next(model.parameters()).device\n",
    "    \n",
    "    # covnert to tensor\n",
    "    # data.shape: (lags, features)\n",
    "    lags = torch.tensor(data[-lag_window_size:, :], dtype=torch.float32, device=_device)\n",
    "    \n",
    "    # artificially add batch dimension\n",
    "    # (we are not using the dataloader here!)\n",
    "    # data.shape: (1, lags, features)\n",
    "    lags = lags.unsqueeze(0)\n",
    "\n",
    "    # Datetime indexes \n",
    "    timestamps = df_full.index\n",
    "    # Delta time: calculate the time difference between two samples \n",
    "    delta_time = timestamps[1] - timestamps[0]\n",
    "    # Get last timestamp\n",
    "    current_timestamp = timestamps[-1]\n",
    "\n",
    "    def generate_date_tensor(_timestamp, _lags, _device):\n",
    "        _timestamp = _timestamp[-lag_window_size:]\n",
    "        date_lags, date_forecast = _timestamp[-(lag_window_size+1):-1], _timestamp[-1:]\n",
    "        \n",
    "        date_lags_t = torch.tensor([date_lags.month, date_lags.day, date_lags.hour], dtype=torch.float32, device=_device).permute(1, 0)\n",
    "        date_forecast_t = torch.tensor([date_forecast.month, date_forecast.day, date_forecast.hour], dtype=torch.float32, device=_device).permute(1, 0)\n",
    "        \n",
    "        return date_lags_t, date_forecast_t\n",
    "\n",
    "    # get the last lag steps\n",
    "    # +1 is for a single forecast step to initiate generative forecast\n",
    "    lags = lags[:, -(lag_window_size+1):, :]\n",
    "    # use the last step of lags to initiate forecast\n",
    "    forecast_init = lags[:, -1:, :]\n",
    "    lags = lags[:, -(lag_window_size+1):-1, :]\n",
    "    #print(lags)\n",
    "\n",
    "    # date\n",
    "    # (1 (dummy batch), lag_window_size+1, date_input_features_size)\n",
    "    date_lags, date_forecast = generate_date_tensor(timestamps, lag_window_size+1, device)\n",
    "    date_lags = date_lags.unsqueeze(0)\n",
    "    date_forecast = date_forecast.unsqueeze(0)\n",
    "    \n",
    "    # single step\n",
    "    for idx in range(num_steps):\n",
    "                \n",
    "        forecast_pred = model(lags, forecast_init, date_lags, date_forecast)\n",
    "        \n",
    "        # (batch, forecast, output_features_size)-> (1, 1, output_features_size)\n",
    "        # TAKE THE LAST FORECAST\n",
    "        predictions.append(forecast_pred[0][-1].cpu().numpy())\n",
    "\n",
    "        #print(forecast_pred.shape, forecast_pred[0][-1])\n",
    "        \n",
    "        # update current timestamp\n",
    "        current_timestamp = current_timestamp + delta_time\n",
    "        time_indexes.append(current_timestamp)\n",
    "        \n",
    "        # append last forecast to the end\n",
    "        forecast_init = torch.cat((forecast_init, forecast_pred[:, -1:, :].detach()), dim=1)\n",
    "        \n",
    "        # next timestamp\n",
    "        timestamps = timestamps + delta_time\n",
    "\n",
    "        # append last timestamp to the end\n",
    "        _, date_forecast_next = generate_date_tensor(timestamps, lag_window_size+1, device)\n",
    "        date_forecast_next = date_forecast_next.unsqueeze(0)\n",
    "        date_forecast = torch.cat((date_forecast, date_forecast_next), dim=1)\n",
    "\n",
    "    return predictions, time_indexes"
   ]
  },
  {
   "cell_type": "code",
   "execution_count": 35,
   "id": "4514d5aa-9123-4614-9818-d61524bb2f44",
   "metadata": {},
   "outputs": [],
   "source": [
    "pred_generative, time_indexes_generative = generative_forecast(model, df_full.values, 48, hyperparameters['lags'])\n",
    "\n",
    "pred_generative_array = np.array(pred_generative)\n",
    "\n",
    "generative_results_dict = {}\n",
    "\n",
    "# loop ove features\n",
    "for feature_id, feature_key in enumerate(df_full.columns):\n",
    "    generative_results_dict[feature_key] = pred_generative_array[:, feature_id]\n",
    "        \n",
    "df_generative = pd.DataFrame(data=generative_results_dict, index=time_indexes_generative)\n",
    "\n",
    "# REVERSE THE PREPROCESSING FOR ORIGINAL RANGE\n",
    "df_generative[df_generative.columns] = feature_scaler.inverse_transform(df_generative[df_generative.columns])    "
   ]
  },
  {
   "cell_type": "code",
   "execution_count": 36,
   "id": "80c4950d-0de0-48b8-8ff1-076f8767fd28",
   "metadata": {},
   "outputs": [
    {
     "data": {
      "text/html": [
       "<div>\n",
       "<style scoped>\n",
       "    .dataframe tbody tr th:only-of-type {\n",
       "        vertical-align: middle;\n",
       "    }\n",
       "\n",
       "    .dataframe tbody tr th {\n",
       "        vertical-align: top;\n",
       "    }\n",
       "\n",
       "    .dataframe thead th {\n",
       "        text-align: right;\n",
       "    }\n",
       "</style>\n",
       "<table border=\"1\" class=\"dataframe\">\n",
       "  <thead>\n",
       "    <tr style=\"text-align: right;\">\n",
       "      <th></th>\n",
       "      <th>nat_demand</th>\n",
       "      <th>T2M_toc</th>\n",
       "      <th>QV2M_toc</th>\n",
       "      <th>TQL_toc</th>\n",
       "      <th>W2M_toc</th>\n",
       "      <th>T2M_san</th>\n",
       "      <th>QV2M_san</th>\n",
       "      <th>TQL_san</th>\n",
       "      <th>W2M_san</th>\n",
       "      <th>T2M_dav</th>\n",
       "      <th>QV2M_dav</th>\n",
       "      <th>TQL_dav</th>\n",
       "      <th>W2M_dav</th>\n",
       "      <th>Holiday_ID</th>\n",
       "      <th>holiday</th>\n",
       "      <th>school</th>\n",
       "    </tr>\n",
       "  </thead>\n",
       "  <tbody>\n",
       "    <tr>\n",
       "      <th>2020-01-01 00:00:00</th>\n",
       "      <td>-0.188105</td>\n",
       "      <td>26.471968</td>\n",
       "      <td>0.021998</td>\n",
       "      <td>0.021871</td>\n",
       "      <td>13.677945</td>\n",
       "      <td>24.320902</td>\n",
       "      <td>0.014705</td>\n",
       "      <td>0.063028</td>\n",
       "      <td>3.833786</td>\n",
       "      <td>22.936703</td>\n",
       "      <td>0.016726</td>\n",
       "      <td>0.132128</td>\n",
       "      <td>2.874953</td>\n",
       "      <td>18.847788</td>\n",
       "      <td>1.094893</td>\n",
       "      <td>0.569142</td>\n",
       "    </tr>\n",
       "    <tr>\n",
       "      <th>2020-01-01 01:00:00</th>\n",
       "      <td>-0.459206</td>\n",
       "      <td>27.087589</td>\n",
       "      <td>0.022528</td>\n",
       "      <td>0.045522</td>\n",
       "      <td>12.931838</td>\n",
       "      <td>25.829409</td>\n",
       "      <td>0.013384</td>\n",
       "      <td>0.058025</td>\n",
       "      <td>3.615412</td>\n",
       "      <td>24.068033</td>\n",
       "      <td>0.015814</td>\n",
       "      <td>0.124937</td>\n",
       "      <td>2.006367</td>\n",
       "      <td>20.591747</td>\n",
       "      <td>1.038018</td>\n",
       "      <td>0.597669</td>\n",
       "    </tr>\n",
       "    <tr>\n",
       "      <th>2020-01-01 02:00:00</th>\n",
       "      <td>-0.324975</td>\n",
       "      <td>27.533262</td>\n",
       "      <td>0.022574</td>\n",
       "      <td>0.055019</td>\n",
       "      <td>12.816737</td>\n",
       "      <td>26.813675</td>\n",
       "      <td>0.012836</td>\n",
       "      <td>0.065031</td>\n",
       "      <td>3.700307</td>\n",
       "      <td>24.844196</td>\n",
       "      <td>0.015671</td>\n",
       "      <td>0.123207</td>\n",
       "      <td>1.922399</td>\n",
       "      <td>21.026134</td>\n",
       "      <td>0.997022</td>\n",
       "      <td>0.584623</td>\n",
       "    </tr>\n",
       "    <tr>\n",
       "      <th>2020-01-01 03:00:00</th>\n",
       "      <td>-0.175104</td>\n",
       "      <td>27.931364</td>\n",
       "      <td>0.022448</td>\n",
       "      <td>0.060908</td>\n",
       "      <td>12.931892</td>\n",
       "      <td>27.563229</td>\n",
       "      <td>0.012783</td>\n",
       "      <td>0.071212</td>\n",
       "      <td>4.001012</td>\n",
       "      <td>25.471741</td>\n",
       "      <td>0.015499</td>\n",
       "      <td>0.123682</td>\n",
       "      <td>1.940193</td>\n",
       "      <td>21.017385</td>\n",
       "      <td>0.978780</td>\n",
       "      <td>0.592151</td>\n",
       "    </tr>\n",
       "    <tr>\n",
       "      <th>2020-01-01 04:00:00</th>\n",
       "      <td>-0.035788</td>\n",
       "      <td>28.293911</td>\n",
       "      <td>0.022243</td>\n",
       "      <td>0.065832</td>\n",
       "      <td>13.049545</td>\n",
       "      <td>28.218628</td>\n",
       "      <td>0.012861</td>\n",
       "      <td>0.077094</td>\n",
       "      <td>4.337420</td>\n",
       "      <td>26.030659</td>\n",
       "      <td>0.015304</td>\n",
       "      <td>0.125389</td>\n",
       "      <td>1.966895</td>\n",
       "      <td>20.910194</td>\n",
       "      <td>0.969687</td>\n",
       "      <td>0.607026</td>\n",
       "    </tr>\n",
       "  </tbody>\n",
       "</table>\n",
       "</div>"
      ],
      "text/plain": [
       "                     nat_demand    T2M_toc  QV2M_toc   TQL_toc    W2M_toc  \\\n",
       "2020-01-01 00:00:00   -0.188105  26.471968  0.021998  0.021871  13.677945   \n",
       "2020-01-01 01:00:00   -0.459206  27.087589  0.022528  0.045522  12.931838   \n",
       "2020-01-01 02:00:00   -0.324975  27.533262  0.022574  0.055019  12.816737   \n",
       "2020-01-01 03:00:00   -0.175104  27.931364  0.022448  0.060908  12.931892   \n",
       "2020-01-01 04:00:00   -0.035788  28.293911  0.022243  0.065832  13.049545   \n",
       "\n",
       "                       T2M_san  QV2M_san   TQL_san   W2M_san    T2M_dav  \\\n",
       "2020-01-01 00:00:00  24.320902  0.014705  0.063028  3.833786  22.936703   \n",
       "2020-01-01 01:00:00  25.829409  0.013384  0.058025  3.615412  24.068033   \n",
       "2020-01-01 02:00:00  26.813675  0.012836  0.065031  3.700307  24.844196   \n",
       "2020-01-01 03:00:00  27.563229  0.012783  0.071212  4.001012  25.471741   \n",
       "2020-01-01 04:00:00  28.218628  0.012861  0.077094  4.337420  26.030659   \n",
       "\n",
       "                     QV2M_dav   TQL_dav   W2M_dav  Holiday_ID   holiday  \\\n",
       "2020-01-01 00:00:00  0.016726  0.132128  2.874953   18.847788  1.094893   \n",
       "2020-01-01 01:00:00  0.015814  0.124937  2.006367   20.591747  1.038018   \n",
       "2020-01-01 02:00:00  0.015671  0.123207  1.922399   21.026134  0.997022   \n",
       "2020-01-01 03:00:00  0.015499  0.123682  1.940193   21.017385  0.978780   \n",
       "2020-01-01 04:00:00  0.015304  0.125389  1.966895   20.910194  0.969687   \n",
       "\n",
       "                       school  \n",
       "2020-01-01 00:00:00  0.569142  \n",
       "2020-01-01 01:00:00  0.597669  \n",
       "2020-01-01 02:00:00  0.584623  \n",
       "2020-01-01 03:00:00  0.592151  \n",
       "2020-01-01 04:00:00  0.607026  "
      ]
     },
     "execution_count": 36,
     "metadata": {},
     "output_type": "execute_result"
    }
   ],
   "source": [
    "df_generative.head()"
   ]
  },
  {
   "cell_type": "code",
   "execution_count": 37,
   "id": "fb024d8d-cd2f-4272-904b-66847a442879",
   "metadata": {},
   "outputs": [
    {
     "data": {
      "text/plain": [
       "<Axes: >"
      ]
     },
     "execution_count": 37,
     "metadata": {},
     "output_type": "execute_result"
    },
    {
     "data": {
      "image/png": "[encoded data removed]",
      "text/plain": [
       "<Figure size 600x400 with 1 Axes>"
      ]
     },
     "metadata": {},
     "output_type": "display_data"
    }
   ],
   "source": [
    "df_generative[selected_feature].plot()"
   ]
  },
  {
   "cell_type": "code",
   "execution_count": null,
   "id": "b362c022-278d-435e-9be1-2d22a17cc12f",
   "metadata": {},
   "outputs": [],
   "source": []
  }
 ],
 "metadata": {
  "kernelspec": {
   "display_name": "Python [conda env:pytorch] *",
   "language": "python",
   "name": "conda-env-pytorch-py"
  },
  "language_info": {
   "codemirror_mode": {
    "name": "ipython",
    "version": 3
   },
   "file_extension": ".py",
   "mimetype": "text/x-python",
   "name": "python",
   "nbconvert_exporter": "python",
   "pygments_lexer": "ipython3",
   "version": "3.11.5"
  }
 },
 "nbformat": 4,
 "nbformat_minor": 5
}
