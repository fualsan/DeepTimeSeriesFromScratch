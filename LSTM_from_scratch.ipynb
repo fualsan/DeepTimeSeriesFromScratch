{
 "cells": [
  {
   "cell_type": "markdown",
   "id": "afb1107d-9a96-4d47-ab3e-0582fd89827d",
   "metadata": {},
   "source": [
    "# Long Short-Term Memory (LSTM) Implementation from Scratch in PyTorch"
   ]
  },
  {
   "cell_type": "code",
   "execution_count": 1,
   "id": "b1b2358b-d53a-43e3-9d26-d38b8f7649d3",
   "metadata": {},
   "outputs": [
    {
     "name": "stdout",
     "output_type": "stream",
     "text": [
      "USING DEVICE: cuda\n"
     ]
    }
   ],
   "source": [
    "import torch\n",
    "import torch.nn as nn\n",
    "import torch.nn.functional as F\n",
    "\n",
    "from torch.utils.data import Dataset, DataLoader\n",
    "\n",
    "import os\n",
    "import random\n",
    "import numpy as np\n",
    "import pandas as pd\n",
    "\n",
    "from sklearn.preprocessing import StandardScaler\n",
    "\n",
    "import matplotlib.pyplot as plt\n",
    "\n",
    "plt.rcParams['figure.figsize'] = (6, 4)\n",
    "plt.rcParams['axes.grid'] = True\n",
    "\n",
    "device = 'cuda' if torch.cuda.is_available() else 'cpu'\n",
    "print(f'USING DEVICE: {device}')"
   ]
  },
  {
   "cell_type": "markdown",
   "id": "e19ea6e8-2832-4975-b9a3-32e64c54fd57",
   "metadata": {},
   "source": [
    "# Hyperparameters"
   ]
  },
  {
   "cell_type": "code",
   "execution_count": 2,
   "id": "b03f7f03-4df8-4712-a131-52b5031c13fa",
   "metadata": {},
   "outputs": [],
   "source": [
    "hyperparameters = {\n",
    "    'lags': 9,\n",
    "    'forecast': 1,\n",
    "    'input_features_size': 1,\n",
    "    'hidden_features_size': 256,\n",
    "    'output_features_size': 1,\n",
    "    'num_layers': 6,\n",
    "    'batch_size': 32,\n",
    "    'split_ratio': 0.8, # 80% training, 20% testing\n",
    "    'learning_rate': 0.001,\n",
    "    'num_epochs': 150,\n",
    "}\n",
    "\n",
    "hyperparameters['window_size'] =  hyperparameters['lags'] + hyperparameters['forecast']"
   ]
  },
  {
   "cell_type": "markdown",
   "id": "a743a1f6-d57a-490e-9ac0-bb41ff95a352",
   "metadata": {},
   "source": [
    "# Dataset"
   ]
  },
  {
   "cell_type": "code",
   "execution_count": 3,
   "id": "db563c03-1ee8-417d-926e-ddd837b766bd",
   "metadata": {},
   "outputs": [
    {
     "data": {
      "text/html": [
       "<div>\n",
       "<style scoped>\n",
       "    .dataframe tbody tr th:only-of-type {\n",
       "        vertical-align: middle;\n",
       "    }\n",
       "\n",
       "    .dataframe tbody tr th {\n",
       "        vertical-align: top;\n",
       "    }\n",
       "\n",
       "    .dataframe thead th {\n",
       "        text-align: right;\n",
       "    }\n",
       "</style>\n",
       "<table border=\"1\" class=\"dataframe\">\n",
       "  <thead>\n",
       "    <tr style=\"text-align: right;\">\n",
       "      <th></th>\n",
       "      <th>Month</th>\n",
       "      <th>Passengers</th>\n",
       "    </tr>\n",
       "  </thead>\n",
       "  <tbody>\n",
       "    <tr>\n",
       "      <th>0</th>\n",
       "      <td>1949-01</td>\n",
       "      <td>112</td>\n",
       "    </tr>\n",
       "    <tr>\n",
       "      <th>1</th>\n",
       "      <td>1949-02</td>\n",
       "      <td>118</td>\n",
       "    </tr>\n",
       "    <tr>\n",
       "      <th>2</th>\n",
       "      <td>1949-03</td>\n",
       "      <td>132</td>\n",
       "    </tr>\n",
       "    <tr>\n",
       "      <th>3</th>\n",
       "      <td>1949-04</td>\n",
       "      <td>129</td>\n",
       "    </tr>\n",
       "    <tr>\n",
       "      <th>4</th>\n",
       "      <td>1949-05</td>\n",
       "      <td>121</td>\n",
       "    </tr>\n",
       "  </tbody>\n",
       "</table>\n",
       "</div>"
      ],
      "text/plain": [
       "     Month  Passengers\n",
       "0  1949-01         112\n",
       "1  1949-02         118\n",
       "2  1949-03         132\n",
       "3  1949-04         129\n",
       "4  1949-05         121"
      ]
     },
     "execution_count": 3,
     "metadata": {},
     "output_type": "execute_result"
    }
   ],
   "source": [
    "# Airline Passgeners \n",
    "df_full = pd.read_csv('data/airline_passengers/airline-passengers.csv')\n",
    "df_full.head()"
   ]
  },
  {
   "cell_type": "code",
   "execution_count": 4,
   "id": "9282fb84-75ad-4629-b9c9-5c0e01cae8a9",
   "metadata": {},
   "outputs": [
    {
     "data": {
      "text/html": [
       "<div>\n",
       "<style scoped>\n",
       "    .dataframe tbody tr th:only-of-type {\n",
       "        vertical-align: middle;\n",
       "    }\n",
       "\n",
       "    .dataframe tbody tr th {\n",
       "        vertical-align: top;\n",
       "    }\n",
       "\n",
       "    .dataframe thead th {\n",
       "        text-align: right;\n",
       "    }\n",
       "</style>\n",
       "<table border=\"1\" class=\"dataframe\">\n",
       "  <thead>\n",
       "    <tr style=\"text-align: right;\">\n",
       "      <th></th>\n",
       "      <th>Month</th>\n",
       "      <th>Passengers</th>\n",
       "    </tr>\n",
       "  </thead>\n",
       "  <tbody>\n",
       "    <tr>\n",
       "      <th>0</th>\n",
       "      <td>1949-01-01</td>\n",
       "      <td>112</td>\n",
       "    </tr>\n",
       "    <tr>\n",
       "      <th>1</th>\n",
       "      <td>1949-02-01</td>\n",
       "      <td>118</td>\n",
       "    </tr>\n",
       "    <tr>\n",
       "      <th>2</th>\n",
       "      <td>1949-03-01</td>\n",
       "      <td>132</td>\n",
       "    </tr>\n",
       "    <tr>\n",
       "      <th>3</th>\n",
       "      <td>1949-04-01</td>\n",
       "      <td>129</td>\n",
       "    </tr>\n",
       "    <tr>\n",
       "      <th>4</th>\n",
       "      <td>1949-05-01</td>\n",
       "      <td>121</td>\n",
       "    </tr>\n",
       "  </tbody>\n",
       "</table>\n",
       "</div>"
      ],
      "text/plain": [
       "       Month  Passengers\n",
       "0 1949-01-01         112\n",
       "1 1949-02-01         118\n",
       "2 1949-03-01         132\n",
       "3 1949-04-01         129\n",
       "4 1949-05-01         121"
      ]
     },
     "execution_count": 4,
     "metadata": {},
     "output_type": "execute_result"
    }
   ],
   "source": [
    "df_full['Month'] = pd.to_datetime(df_full['Month'])\n",
    "df_full.head()"
   ]
  },
  {
   "cell_type": "code",
   "execution_count": 5,
   "id": "c58545c8-31ee-483e-b1fc-028efcb0873a",
   "metadata": {},
   "outputs": [
    {
     "data": {
      "text/html": [
       "<div>\n",
       "<style scoped>\n",
       "    .dataframe tbody tr th:only-of-type {\n",
       "        vertical-align: middle;\n",
       "    }\n",
       "\n",
       "    .dataframe tbody tr th {\n",
       "        vertical-align: top;\n",
       "    }\n",
       "\n",
       "    .dataframe thead th {\n",
       "        text-align: right;\n",
       "    }\n",
       "</style>\n",
       "<table border=\"1\" class=\"dataframe\">\n",
       "  <thead>\n",
       "    <tr style=\"text-align: right;\">\n",
       "      <th></th>\n",
       "      <th>Passengers</th>\n",
       "    </tr>\n",
       "    <tr>\n",
       "      <th>Month</th>\n",
       "      <th></th>\n",
       "    </tr>\n",
       "  </thead>\n",
       "  <tbody>\n",
       "    <tr>\n",
       "      <th>1949-01-01</th>\n",
       "      <td>112</td>\n",
       "    </tr>\n",
       "    <tr>\n",
       "      <th>1949-02-01</th>\n",
       "      <td>118</td>\n",
       "    </tr>\n",
       "    <tr>\n",
       "      <th>1949-03-01</th>\n",
       "      <td>132</td>\n",
       "    </tr>\n",
       "    <tr>\n",
       "      <th>1949-04-01</th>\n",
       "      <td>129</td>\n",
       "    </tr>\n",
       "    <tr>\n",
       "      <th>1949-05-01</th>\n",
       "      <td>121</td>\n",
       "    </tr>\n",
       "  </tbody>\n",
       "</table>\n",
       "</div>"
      ],
      "text/plain": [
       "            Passengers\n",
       "Month                 \n",
       "1949-01-01         112\n",
       "1949-02-01         118\n",
       "1949-03-01         132\n",
       "1949-04-01         129\n",
       "1949-05-01         121"
      ]
     },
     "execution_count": 5,
     "metadata": {},
     "output_type": "execute_result"
    }
   ],
   "source": [
    "df_full.set_index('Month', inplace=True)\n",
    "df_full.head()"
   ]
  },
  {
   "cell_type": "code",
   "execution_count": 6,
   "id": "23042d10-d9ba-4255-81a8-b0e2aafba703",
   "metadata": {},
   "outputs": [
    {
     "data": {
      "text/plain": [
       "<Axes: xlabel='Month'>"
      ]
     },
     "execution_count": 6,
     "metadata": {},
     "output_type": "execute_result"
    },
    {
     "data": {
      "image/png": "[encoded data removed]",
      "text/plain": [
       "<Figure size 600x400 with 1 Axes>"
      ]
     },
     "metadata": {},
     "output_type": "display_data"
    }
   ],
   "source": [
    "df_full.plot()"
   ]
  },
  {
   "cell_type": "markdown",
   "id": "f74c8752-4487-4375-87ad-e9311f3cde86",
   "metadata": {},
   "source": [
    "# Standart Scaler\n",
    "* Exercise: Try without scaler, see if learning works!"
   ]
  },
  {
   "cell_type": "code",
   "execution_count": 7,
   "id": "cca6ad4c-27af-4d30-b19d-c07308ac6acd",
   "metadata": {},
   "outputs": [
    {
     "data": {
      "text/plain": [
       "<Axes: xlabel='Month'>"
      ]
     },
     "execution_count": 7,
     "metadata": {},
     "output_type": "execute_result"
    },
    {
     "data": {
      "image/png": "[encoded data removed]",
      "text/plain": [
       "<Figure size 600x400 with 1 Axes>"
      ]
     },
     "metadata": {},
     "output_type": "display_data"
    }
   ],
   "source": [
    "scaler = StandardScaler()\n",
    "\n",
    "df_full['Passengers'] = scaler.fit_transform(df_full['Passengers'].values.reshape(-1, 1))\n",
    "df_full.plot()"
   ]
  },
  {
   "cell_type": "markdown",
   "id": "acf7b0b8-ee9d-4c5b-9558-872feca3f4dc",
   "metadata": {},
   "source": [
    "### Time series data shape: \n",
    "Unbatched: $(S, F)$\n",
    "\n",
    "* $S:$ Sequence Length\n",
    "* $F:$ Number of Features\n",
    "\n",
    "Batched: $(B, S, F)$\n",
    "* $B:$ Batch Size"
   ]
  },
  {
   "cell_type": "code",
   "execution_count": 8,
   "id": "d88f8373-2896-4644-bbab-5f5a912892d5",
   "metadata": {},
   "outputs": [
    {
     "data": {
      "text/plain": [
       "(144, 1)"
      ]
     },
     "execution_count": 8,
     "metadata": {},
     "output_type": "execute_result"
    }
   ],
   "source": [
    "df_full.shape"
   ]
  },
  {
   "cell_type": "markdown",
   "id": "66106ad6-4eb2-45ea-9534-769a64bc23c1",
   "metadata": {},
   "source": [
    "# Model\n",
    "## LSTM Cell\n",
    "$input_t = \\sigma(W_{ii}x_t + b_{ii} + W_{hi}h_{t} + b_{hi})$\n",
    "\n",
    "$forget_t = \\sigma(W_{if}x_t + b_{if} + W_{hf}h_{t} + b_{hf})$\n",
    "\n",
    "$cell_t = tahn(W_{ic}x_t + b_{ic} + r_t \\odot (W_{hc}h_{t} + b_{hc}))$\n",
    "\n",
    "$output_t = \\sigma(W_{io}x_t + b_{io} + W_{ho}h_{t} + b_{ho})$\n",
    "\n",
    "$cell_{t+1} = forget_t \\odot cell_t + input_t \\odot cell_t$\n",
    "\n",
    "$hidden_{t+1} = output_t \\odot cell_{t+1}$"
   ]
  },
  {
   "cell_type": "code",
   "execution_count": 9,
   "id": "856ed56d-eab7-4f8c-9935-db43784a5f07",
   "metadata": {},
   "outputs": [],
   "source": [
    "class LSTMCell(nn.Module):\n",
    "    def __init__(self, input_size, hidden_size):\n",
    "        super(LSTMCell, self).__init__()\n",
    "        \n",
    "        self.input_size = input_size\n",
    "        self.hidden_size = hidden_size\n",
    "\n",
    "        self.input_gate = nn.Linear(input_size + hidden_size, hidden_size)\n",
    "        self.forget_gate = nn.Linear(input_size + hidden_size, hidden_size)\n",
    "        self.cell_gate = nn.Linear(input_size + hidden_size, hidden_size)\n",
    "        self.output_gate = nn.Linear(input_size + hidden_size, hidden_size)\n",
    "\n",
    "    def forward(self, x, hidden_prev, cell_prev):\n",
    "        \n",
    "        combined = torch.cat((x, hidden_prev), dim=1)\n",
    "        \n",
    "        input_t = torch.sigmoid(self.input_gate(combined))\n",
    "        forget_t = torch.sigmoid(self.forget_gate(combined))\n",
    "        cell_gate_t = torch.tanh(self.cell_gate(combined))\n",
    "        output_t = torch.sigmoid(self.output_gate(combined))\n",
    "\n",
    "        # New cell state \n",
    "        # (whether to forget previous or not)\n",
    "        cell_t = (forget_t * cell_prev) + (input_t * cell_gate_t)\n",
    "        hidden_t = output_t * torch.tanh(cell_t)\n",
    "        \n",
    "        return hidden_t, cell_t"
   ]
  },
  {
   "cell_type": "markdown",
   "id": "733e9fd9-4062-47f5-9014-425351dd21dd",
   "metadata": {},
   "source": [
    "## LSTM Model"
   ]
  },
  {
   "cell_type": "code",
   "execution_count": 10,
   "id": "90408c65-d0cd-43ff-bb19-3a7372afbfea",
   "metadata": {},
   "outputs": [],
   "source": [
    "class LSTM(nn.Module):\n",
    "    def __init__(self, input_features, hidden_features):\n",
    "        super(LSTM, self).__init__()\n",
    "\n",
    "        self.hidden_features = hidden_features\n",
    "        \n",
    "        self.lstm_cell = LSTMCell(input_features, hidden_features)\n",
    "\n",
    "    def init_hidden(self, batch_size):\n",
    "        return torch.zeros(batch_size, self.hidden_features)\n",
    "    \n",
    "    def forward(self, x, h, c):\n",
    "        # (BATCH_SIZE, SEQ_LEN, FEATURES)\n",
    "        seq_len = x.shape[1]\n",
    "\n",
    "        h_output_history = []\n",
    "        c_output_history = []\n",
    "\n",
    "        # loop through seqeunce of time series features\n",
    "        for i in range(seq_len):\n",
    "            # x[:, i, :] -> # (BATCH_SIZE, FEATURES)\n",
    "            h, c = self.lstm_cell(x[:, i, :], h, c)\n",
    "\n",
    "            # Add dummy sequence dimension (required to concat)\n",
    "            # (BATCH_SIZE, FEATURES) -> (BATCH_SIZE, 1, FEATURES)\n",
    "            h_output_history.append(h.unsqueeze(1))\n",
    "            c_output_history.append(c.unsqueeze(1))\n",
    "\n",
    "        output = torch.cat(h_output_history, dim=1)\n",
    "        # output: (BATCH_SIZE, SEQ_LEN, FEATURES)\n",
    "        # h (last hidden state): (BATCH_SIZE, FEATURES)\n",
    "        # c (last cell state): (BATCH_SIZE, FEATURES)\n",
    "        return output, h, c"
   ]
  },
  {
   "cell_type": "code",
   "execution_count": 11,
   "id": "2e62a5b6-6a2a-4bf6-82ac-b7564ff34352",
   "metadata": {},
   "outputs": [],
   "source": [
    "lstm = LSTM(\n",
    "    hyperparameters['input_features_size'], \n",
    "    hyperparameters['hidden_features_size']\n",
    ")"
   ]
  },
  {
   "cell_type": "code",
   "execution_count": 12,
   "id": "8be2e080-45e8-4a64-acc1-373d17ad0ac3",
   "metadata": {},
   "outputs": [
    {
     "data": {
      "text/plain": [
       "(torch.Size([32, 9, 256]), torch.Size([32, 256]), torch.Size([32, 256]))"
      ]
     },
     "execution_count": 12,
     "metadata": {},
     "output_type": "execute_result"
    }
   ],
   "source": [
    "hidden_state = torch.zeros(\n",
    "    hyperparameters['batch_size'], \n",
    "    hyperparameters['hidden_features_size']\n",
    ")\n",
    "\n",
    "cell_state = torch.zeros(\n",
    "    hyperparameters['batch_size'], \n",
    "    hyperparameters['hidden_features_size']\n",
    ")\n",
    "\n",
    "\n",
    "dummy_data = torch.randn(\n",
    "    hyperparameters['batch_size'], \n",
    "    hyperparameters['lags'], \n",
    "    hyperparameters['input_features_size']\n",
    ")\n",
    "            \n",
    "o, h, c = lstm(dummy_data, hidden_state, cell_state)\n",
    "o.shape, h.shape, c.shape"
   ]
  },
  {
   "cell_type": "markdown",
   "id": "1f8e151f-fb02-4264-b4b8-d58ff064db16",
   "metadata": {},
   "source": [
    "# Sliding Window \n",
    "*  **NOTE: \"LAGS + FORECAST = WINDOW_SIZE\" MUST HOLD**"
   ]
  },
  {
   "cell_type": "markdown",
   "id": "79d4c19d-2832-448a-86ac-d6e1b60dbbdd",
   "metadata": {},
   "source": [
    "### Slide Methods"
   ]
  },
  {
   "cell_type": "code",
   "execution_count": 13,
   "id": "40e09ef3-6d3d-4de8-9321-416e400d6d92",
   "metadata": {},
   "outputs": [
    {
     "name": "stdout",
     "output_type": "stream",
     "text": [
      "Start: 0, End: 10\n",
      "Lag: [0, 1, 2, 3, 4, 5, 6, 7, 8], forecast: [9]\n",
      "Start: 10, End: 20\n",
      "Lag: [10, 11, 12, 13, 14, 15, 16, 17, 18], forecast: [19]\n",
      "Start: 20, End: 30\n",
      "Lag: [20, 21, 22, 23, 24, 25, 26, 27, 28], forecast: [29]\n",
      "Start: 30, End: 40\n",
      "Lag: [30, 31, 32, 33, 34, 35, 36, 37, 38], forecast: [39]\n",
      "Start: 40, End: 50\n",
      "Lag: [40, 41, 42, 43, 44, 45, 46, 47, 48], forecast: [49]\n",
      "Start: 50, End: 60\n",
      "Lag: [50, 51, 52, 53, 54, 55, 56, 57, 58], forecast: [59]\n",
      "Start: 60, End: 70\n",
      "Lag: [60, 61, 62, 63, 64, 65, 66, 67, 68], forecast: [69]\n",
      "Start: 70, End: 80\n",
      "Lag: [70, 71, 72, 73, 74, 75, 76, 77, 78], forecast: [79]\n",
      "Start: 80, End: 90\n",
      "Lag: [80, 81, 82, 83, 84, 85, 86, 87, 88], forecast: [89]\n",
      "Start: 90, End: 100\n",
      "Lag: [90, 91, 92, 93, 94, 95, 96, 97, 98], forecast: [99]\n"
     ]
    }
   ],
   "source": [
    "dummy_data = list(range(100))\n",
    "\n",
    "# increase by 1\n",
    "single_step = range(0, len(dummy_data)-hyperparameters['window_size']+1, 1)\n",
    "# increase by hyperparameters['window_size']\n",
    "window_step = range(0, len(dummy_data)-hyperparameters['window_size']+1, hyperparameters['window_size'])\n",
    "\n",
    "\n",
    "#for start_index in single_step:\n",
    "for start_index in window_step:\n",
    "    print(f\"Start: {start_index}, End: {start_index+hyperparameters['window_size']}\")\n",
    "\n",
    "    # Slice window from data \n",
    "    data_window = dummy_data[start_index:start_index+hyperparameters['window_size']]\n",
    "\n",
    "    # Split current window into lags and forecast\n",
    "    data_lag = data_window[:hyperparameters['lags']]\n",
    "    data_forecast = data_window[-hyperparameters['forecast']:]\n",
    "\n",
    "    print(f'Lag: {data_lag}, forecast: {data_forecast}')"
   ]
  },
  {
   "cell_type": "markdown",
   "id": "4b42fd9c-ba8c-4453-9f2c-28298878cc78",
   "metadata": {},
   "source": [
    "# Dataset"
   ]
  },
  {
   "cell_type": "code",
   "execution_count": 14,
   "id": "e7ad354d-f77e-49a5-b3ec-5da382d9cd8f",
   "metadata": {},
   "outputs": [],
   "source": [
    "class TimeSeriesDataset(Dataset):\n",
    "    def __init__(self, df, lags, forecast):\n",
    "        self.df = df\n",
    "        self.lags = lags\n",
    "        self.forecast = forecast\n",
    "        self.window_size = lags + forecast\n",
    "        \n",
    "    def __len__(self):\n",
    "        number_of_samples = self.df.shape[0]\n",
    "        # make sure that last window fits\n",
    "        return number_of_samples - self.window_size\n",
    "\n",
    "    def __getitem__(self, start_idx):\n",
    "\n",
    "        # get a NumPy array of size: (WINDOW_SIZE, NUM_FEATURES)\n",
    "        sample_window = self.df.iloc[start_idx:start_idx+self.window_size].values\n",
    "\n",
    "        # divide window into lags and forecast:\n",
    "        # (LAGS, NUM_FEATURES)\n",
    "        lags = sample_window[:self.lags, :]\n",
    "        # (FORECAST, NUM_FEATURES)\n",
    "        forecast = sample_window[-self.forecast:, :]\n",
    "\n",
    "        # convert to tensor\n",
    "        lags = torch.tensor(lags, dtype=torch.float32)\n",
    "        forecast = torch.tensor(forecast, dtype=torch.float32)\n",
    "        return lags, forecast"
   ]
  },
  {
   "cell_type": "code",
   "execution_count": 15,
   "id": "3c6dcf40-189e-4f2b-bc04-9a6a73cd1c96",
   "metadata": {},
   "outputs": [],
   "source": [
    "dataset_full = TimeSeriesDataset(\n",
    "    df_full,\n",
    "    hyperparameters['lags'],\n",
    "    hyperparameters['forecast'],\n",
    ")"
   ]
  },
  {
   "cell_type": "code",
   "execution_count": 16,
   "id": "570ccea2-bc70-4e55-9ab1-9f71c79a1c19",
   "metadata": {},
   "outputs": [
    {
     "data": {
      "text/plain": [
       "(torch.Size([9, 1]), torch.Size([1, 1]))"
      ]
     },
     "execution_count": 16,
     "metadata": {},
     "output_type": "execute_result"
    }
   ],
   "source": [
    "_lags, _forecast = dataset_full[0]\n",
    "_lags.shape, _forecast.shape"
   ]
  },
  {
   "cell_type": "markdown",
   "id": "65347aee-d469-4ebf-8499-767dacb6a102",
   "metadata": {},
   "source": [
    "### Train/Test Split"
   ]
  },
  {
   "cell_type": "code",
   "execution_count": 17,
   "id": "5ccdaaa6-c1d5-42ad-a66f-6c3539a4ab73",
   "metadata": {},
   "outputs": [
    {
     "data": {
      "text/plain": [
       "(107, 27)"
      ]
     },
     "execution_count": 17,
     "metadata": {},
     "output_type": "execute_result"
    }
   ],
   "source": [
    "train_size = int(hyperparameters['split_ratio'] * len(dataset_full))\n",
    "test_size = len(dataset_full) - train_size\n",
    "\n",
    "train_size, test_size"
   ]
  },
  {
   "cell_type": "code",
   "execution_count": 18,
   "id": "f098f3c5-0cd2-4d64-8ff3-de5b85d28d0f",
   "metadata": {},
   "outputs": [
    {
     "data": {
      "text/plain": [
       "<matplotlib.legend.Legend at 0x7fbe79157890>"
      ]
     },
     "execution_count": 18,
     "metadata": {},
     "output_type": "execute_result"
    },
    {
     "data": {
      "image/png": "[encoded data removed]",
      "text/plain": [
       "<Figure size 600x400 with 1 Axes>"
      ]
     },
     "metadata": {},
     "output_type": "display_data"
    }
   ],
   "source": [
    "df_train = df_full.iloc[:train_size, :]\n",
    "df_test = df_full.iloc[-test_size:, :]\n",
    "\n",
    "plt.plot(df_train.index, df_train['Passengers'], c='blue', label='training')\n",
    "plt.plot(df_test.index, df_test['Passengers'], c='red', label='test')\n",
    "plt.legend()"
   ]
  },
  {
   "cell_type": "code",
   "execution_count": 19,
   "id": "b53d20db-2358-494b-927c-196a3c407bf2",
   "metadata": {},
   "outputs": [],
   "source": [
    "dataset_train = TimeSeriesDataset(\n",
    "    df_train,\n",
    "    hyperparameters['lags'],\n",
    "    hyperparameters['forecast'],\n",
    ")\n",
    "\n",
    "dataset_test = TimeSeriesDataset(\n",
    "    df_test,\n",
    "    hyperparameters['lags'],\n",
    "    hyperparameters['forecast'],\n",
    ")"
   ]
  },
  {
   "cell_type": "markdown",
   "id": "0f9516e1-f1ee-4db5-b6e3-3a9d76f0b20d",
   "metadata": {},
   "source": [
    "# Dataloader"
   ]
  },
  {
   "cell_type": "code",
   "execution_count": 20,
   "id": "5acba036-7c98-4786-9c00-5af6325f8fd4",
   "metadata": {},
   "outputs": [
    {
     "name": "stdout",
     "output_type": "stream",
     "text": [
      "Number of batches (total): 5\n",
      "Number of batches (train): 4\n",
      "Number of batches (test): 1\n"
     ]
    }
   ],
   "source": [
    "dataloader_full = DataLoader(\n",
    "    dataset_full,\n",
    "    batch_size=hyperparameters['batch_size'],\n",
    "    shuffle=False,\n",
    ")\n",
    "\n",
    "dataloader_train = DataLoader(\n",
    "    dataset_train,\n",
    "    batch_size=hyperparameters['batch_size'],\n",
    "    shuffle=False,\n",
    ")\n",
    "\n",
    "dataloader_test = DataLoader(\n",
    "    dataset_test,\n",
    "    batch_size=hyperparameters['batch_size'],\n",
    "    shuffle=False,\n",
    ")\n",
    "\n",
    "print(f'Number of batches (total): {len(dataloader_full)}')\n",
    "print(f'Number of batches (train): {len(dataloader_train)}')\n",
    "print(f'Number of batches (test): {len(dataloader_test)}')"
   ]
  },
  {
   "cell_type": "code",
   "execution_count": 21,
   "id": "0ab4ab76-bc6a-4827-9686-e5f10b66987d",
   "metadata": {},
   "outputs": [
    {
     "data": {
      "text/plain": [
       "(torch.Size([32, 9, 1]), torch.Size([32, 1, 1]))"
      ]
     },
     "execution_count": 21,
     "metadata": {},
     "output_type": "execute_result"
    }
   ],
   "source": [
    "_lags_batch, _forecast_batch = next(iter(dataloader_full))\n",
    "# (hyperparameters['batch_size'], hyperparameters['lags'], NUM_FEATURES), # (hyperparameters['batch_size'], hyperparameters['forecast'], NUM_FEATURES)\n",
    "_lags_batch.shape, _forecast_batch.shape"
   ]
  },
  {
   "cell_type": "code",
   "execution_count": 22,
   "id": "092102e2-5185-43f7-947b-81abf7bdf96d",
   "metadata": {},
   "outputs": [
    {
     "data": {
      "text/plain": [
       "5"
      ]
     },
     "execution_count": 22,
     "metadata": {},
     "output_type": "execute_result"
    }
   ],
   "source": [
    "len(dataloader_full)"
   ]
  },
  {
   "cell_type": "code",
   "execution_count": 23,
   "id": "c06c0735-b0e1-4070-bc28-dec09bc067d8",
   "metadata": {},
   "outputs": [
    {
     "name": "stdout",
     "output_type": "stream",
     "text": [
      "0\n",
      "torch.Size([32, 9, 1]) torch.Size([32, 1, 1])\n",
      "1\n",
      "torch.Size([32, 9, 1]) torch.Size([32, 1, 1])\n",
      "2\n",
      "torch.Size([32, 9, 1]) torch.Size([32, 1, 1])\n",
      "3\n",
      "torch.Size([32, 9, 1]) torch.Size([32, 1, 1])\n",
      "4\n",
      "torch.Size([6, 9, 1]) torch.Size([6, 1, 1])\n"
     ]
    }
   ],
   "source": [
    "for idx, (s) in enumerate(dataloader_full):\n",
    "    print(idx)\n",
    "    print(s[0].shape, s[1].shape)"
   ]
  },
  {
   "cell_type": "markdown",
   "id": "e0556653-35d1-403f-80a6-d63f129efcab",
   "metadata": {},
   "source": [
    "# Multilayer Autoregressive RNN"
   ]
  },
  {
   "cell_type": "code",
   "execution_count": 24,
   "id": "f35776f4-9541-4bef-a829-a484a71cb743",
   "metadata": {},
   "outputs": [],
   "source": [
    "class AutoregressiveRNN(nn.Module):\n",
    "    def __init__(self, input_features_size, hidden_features_size, output_features_size, forecast_size, num_layers):\n",
    "        super().__init__()\n",
    "        self.input_features_size = input_features_size\n",
    "        self.hidden_features_size = hidden_features_size\n",
    "        self.forecast_size = forecast_size\n",
    "        self.num_layers = num_layers\n",
    "\n",
    "        #self.input_to_hidden = nn.Linear(input_features_size, hidden_features_size)\n",
    "        self.input_to_hidden = LSTM(input_features_size, hidden_features_size)\n",
    "        self.hidden_to_output = nn.Linear(hidden_features_size, output_features_size)\n",
    "\n",
    "        self.rnn_layers = nn.ModuleList([\n",
    "            LSTM(hidden_features_size, hidden_features_size)\n",
    "            for _ in range(num_layers)\n",
    "        ])\n",
    "    \n",
    "    def forward(self, x, hidden_state=None):\n",
    "        # (BATCH_SIZE, SEQ_LEN, FEATURES)\n",
    "\n",
    "        if hidden_state is None:\n",
    "            _batch_size = x.shape[0]\n",
    "            _device = x.device\n",
    "            hidden_state = torch.zeros(_batch_size, self.hidden_features_size, device=_device)\n",
    "            cell_state = torch.zeros(_batch_size, self.hidden_features_size, device=_device)\n",
    "        \n",
    "        # Convert input features\n",
    "        x, hidden_state, cell_state = self.input_to_hidden(x, hidden_state, cell_state)\n",
    "        \n",
    "        for layer in self.rnn_layers:\n",
    "            x, hidden_state, cell_state = layer(x, hidden_state, cell_state)\n",
    "\n",
    "        # Slice forecast\n",
    "        x = x[:, -self.forecast_size:, :]\n",
    "        # Convert output features\n",
    "        x = self.hidden_to_output(x)\n",
    "        \n",
    "        return x, hidden_state"
   ]
  },
  {
   "cell_type": "markdown",
   "id": "f5231fa4-4c79-46d8-be04-b1f959088b19",
   "metadata": {},
   "source": [
    "### Initialized Model with Hyperparameters"
   ]
  },
  {
   "cell_type": "code",
   "execution_count": 25,
   "id": "1696a632-b5df-4ee8-b590-7585b1dc7b28",
   "metadata": {},
   "outputs": [
    {
     "data": {
      "text/plain": [
       "torch.Size([32, 1, 1])"
      ]
     },
     "execution_count": 25,
     "metadata": {},
     "output_type": "execute_result"
    }
   ],
   "source": [
    "model = AutoregressiveRNN(\n",
    "    input_features_size=hyperparameters['input_features_size'],\n",
    "    hidden_features_size=hyperparameters['hidden_features_size'],\n",
    "    output_features_size=hyperparameters['output_features_size'],\n",
    "    forecast_size=hyperparameters['forecast'],\n",
    "    num_layers=hyperparameters['num_layers']\n",
    ")\n",
    "\n",
    "#hidden_state = torch.zeros(hyperparameters['batch_size'], hyperparameters['hidden_features_size'])\n",
    "\n",
    "o, h = model(_lags_batch)\n",
    "# (hyperparameters['batch_size'], hyperparameters['forecast'], hyperparameters['hidden_features_size'])\n",
    "o.shape"
   ]
  },
  {
   "cell_type": "markdown",
   "id": "a481fc55-1a0b-480a-afeb-e316eef8133e",
   "metadata": {},
   "source": [
    "### Number of parameters"
   ]
  },
  {
   "cell_type": "code",
   "execution_count": 26,
   "id": "66aea2e7-7cc0-41a4-98d9-abbfe855f0ba",
   "metadata": {},
   "outputs": [],
   "source": [
    "def print_model_parameters(model):\n",
    "    print(f'{sum(p.numel() for p in model.parameters()):,}')"
   ]
  },
  {
   "cell_type": "code",
   "execution_count": 27,
   "id": "250ac969-c12d-4271-9836-ae00d34c78f9",
   "metadata": {},
   "outputs": [
    {
     "name": "stdout",
     "output_type": "stream",
     "text": [
      "Number of parameters:\n",
      "3,416,321\n"
     ]
    }
   ],
   "source": [
    "print('Number of parameters:')\n",
    "print_model_parameters(model)"
   ]
  },
  {
   "cell_type": "markdown",
   "id": "e3a30eb6-4ac5-4dfa-b7d7-873168eb2339",
   "metadata": {},
   "source": [
    "# Training"
   ]
  },
  {
   "cell_type": "markdown",
   "id": "fab6e06b-cc55-4635-aeb1-07a681a70a29",
   "metadata": {},
   "source": [
    "### Training Functions"
   ]
  },
  {
   "cell_type": "code",
   "execution_count": 28,
   "id": "1d423e6a-1301-47b9-b906-55104dad5521",
   "metadata": {},
   "outputs": [],
   "source": [
    "def train_iter(model, dataloader, optimizer, criterion, device):\n",
    "    model.train()\n",
    "\n",
    "    avg_loss = []\n",
    "    \n",
    "    for (lags, forecast) in dataloader:\n",
    "\n",
    "        lags = lags.to(device)\n",
    "        forecast = forecast.to(device)\n",
    "        \n",
    "        optimizer.zero_grad()\n",
    "    \n",
    "        forecast_pred, h = model(lags)\n",
    "        \n",
    "        loss = criterion(forecast_pred, forecast)\n",
    "        \n",
    "        loss.backward()\n",
    "        optimizer.step()\n",
    "\n",
    "        avg_loss.append(loss.item())\n",
    "\n",
    "    return sum(avg_loss) / len(avg_loss)\n",
    "\n",
    "\n",
    "@torch.no_grad()\n",
    "def eval_iter(model, dataloader, criterion, device):\n",
    "    model.eval()\n",
    "\n",
    "    avg_loss = []\n",
    "    predictions = []\n",
    "    \n",
    "    for (lags, forecast) in dataloader:\n",
    "        \n",
    "        lags = lags.to(device)\n",
    "        forecast = forecast.to(device)\n",
    "        \n",
    "        forecast_pred, h = model(lags)\n",
    "\n",
    "        loss = criterion(forecast_pred, forecast)\n",
    "        \n",
    "        avg_loss.append(loss.item())\n",
    "        predictions.append(forecast_pred)\n",
    "\n",
    "    return sum(avg_loss) / len(avg_loss), predictions"
   ]
  },
  {
   "cell_type": "markdown",
   "id": "19f3e836-bd62-4e58-840a-18a5db7dec44",
   "metadata": {},
   "source": [
    "### Start Training"
   ]
  },
  {
   "cell_type": "code",
   "execution_count": 29,
   "id": "2d953510-def3-4d02-8847-40c28e59214e",
   "metadata": {},
   "outputs": [],
   "source": [
    "optimizer = torch.optim.AdamW(\n",
    "    model.parameters(),\n",
    "    lr=hyperparameters['learning_rate']\n",
    ")\n",
    "\n",
    "# LOSS\n",
    "mse_loss = nn.MSELoss()"
   ]
  },
  {
   "cell_type": "code",
   "execution_count": 30,
   "id": "a86f98b9-3175-4d0c-855a-f054321d2f86",
   "metadata": {},
   "outputs": [
    {
     "name": "stdout",
     "output_type": "stream",
     "text": [
      "Epoch: 10, Training loss: 0.2757, Testing Loss: 2.4553\n",
      "Epoch: 20, Training loss: 0.0847, Testing Loss: 1.1163\n",
      "Epoch: 30, Training loss: 0.0491, Testing Loss: 1.1666\n",
      "Epoch: 40, Training loss: 0.1630, Testing Loss: 0.9651\n",
      "Epoch: 50, Training loss: 0.0451, Testing Loss: 1.0284\n",
      "Epoch: 60, Training loss: 0.0738, Testing Loss: 0.7134\n",
      "Epoch: 70, Training loss: 0.0290, Testing Loss: 0.5628\n",
      "Epoch: 80, Training loss: 0.0491, Testing Loss: 0.6041\n",
      "Epoch: 90, Training loss: 0.0252, Testing Loss: 0.3789\n",
      "Epoch: 100, Training loss: 0.0323, Testing Loss: 0.4330\n",
      "Epoch: 110, Training loss: 0.0232, Testing Loss: 0.3099\n",
      "Epoch: 120, Training loss: 0.0241, Testing Loss: 0.3407\n",
      "Epoch: 130, Training loss: 0.0263, Testing Loss: 0.2453\n",
      "Epoch: 140, Training loss: 0.0214, Testing Loss: 0.2193\n",
      "Epoch: 150, Training loss: 0.0298, Testing Loss: 0.5870\n"
     ]
    }
   ],
   "source": [
    "model.to(device)\n",
    "\n",
    "for epoch in range(1, hyperparameters['num_epochs']+1):\n",
    "        \n",
    "    avg_train_loss = train_iter(\n",
    "        model=model, \n",
    "        dataloader=dataloader_train, \n",
    "        optimizer=optimizer, \n",
    "        criterion=mse_loss, \n",
    "        device=device\n",
    "    )\n",
    "    \n",
    "    avg_test_loss, _ = eval_iter(\n",
    "        model=model, \n",
    "        dataloader=dataloader_test, \n",
    "        criterion=mse_loss, \n",
    "        device=device\n",
    "    )\n",
    "\n",
    "    if epoch == 150:\n",
    "        for pg in optimizer.param_groups:\n",
    "            pg['lr'] *= 0.1\n",
    "    \n",
    "    if epoch % 10 == 0:\n",
    "        print(f'Epoch: {epoch}, Training loss: {avg_train_loss:.4f}, Testing Loss: {avg_test_loss:.4f}')"
   ]
  },
  {
   "cell_type": "markdown",
   "id": "88d22bf5-4588-4c5b-914b-237833db8293",
   "metadata": {},
   "source": [
    "# Testing\n",
    "* NOTE: we prefer to use single windows step during prediction"
   ]
  },
  {
   "cell_type": "code",
   "execution_count": 31,
   "id": "03d19abb-3e77-4c33-9f37-c65c457ab413",
   "metadata": {},
   "outputs": [],
   "source": [
    "@torch.no_grad()\n",
    "def eval_iter_single_step(model, dataloader, criterion, device):\n",
    "    model.eval()\n",
    "\n",
    "    avg_loss = []\n",
    "    predictions = []\n",
    "    \n",
    "    # single step\n",
    "    for start_idx in range(0, len(df_test)):\n",
    "        \n",
    "        sample_window = df_test.iloc[start_idx:start_idx+hyperparameters['window_size'], :].values\n",
    "\n",
    "        # covnert to tensor\n",
    "        lags = torch.tensor(sample_window[:hyperparameters['lags']], dtype=torch.float32, device=device)\n",
    "        forecast = torch.tensor(sample_window[-hyperparameters['forecast']:], dtype=torch.float32, device=device)\n",
    "\n",
    "        # artificially add batch dimension\n",
    "        # (we are not using the dataloader here!)\n",
    "        lags = lags.unsqueeze(0)\n",
    "        forecast = forecast.unsqueeze(0)\n",
    "\n",
    "        forecast_pred, h = model(lags)\n",
    "\n",
    "        loss = criterion(forecast_pred, forecast)\n",
    "        \n",
    "        avg_loss.append(loss.item())\n",
    "        predictions.append(forecast_pred)\n",
    "\n",
    "    return sum(avg_loss) / len(avg_loss), predictions"
   ]
  },
  {
   "cell_type": "code",
   "execution_count": 32,
   "id": "bf1ca0b4-2951-452a-b0da-2dd19717944d",
   "metadata": {},
   "outputs": [
    {
     "data": {
      "text/html": [
       "<div>\n",
       "<style scoped>\n",
       "    .dataframe tbody tr th:only-of-type {\n",
       "        vertical-align: middle;\n",
       "    }\n",
       "\n",
       "    .dataframe tbody tr th {\n",
       "        vertical-align: top;\n",
       "    }\n",
       "\n",
       "    .dataframe thead th {\n",
       "        text-align: right;\n",
       "    }\n",
       "</style>\n",
       "<table border=\"1\" class=\"dataframe\">\n",
       "  <thead>\n",
       "    <tr style=\"text-align: right;\">\n",
       "      <th></th>\n",
       "      <th>Passengers</th>\n",
       "      <th>Prediction</th>\n",
       "    </tr>\n",
       "    <tr>\n",
       "      <th>Month</th>\n",
       "      <th></th>\n",
       "      <th></th>\n",
       "    </tr>\n",
       "  </thead>\n",
       "  <tbody>\n",
       "    <tr>\n",
       "      <th>1958-10-01</th>\n",
       "      <td>0.658319</td>\n",
       "      <td>1.042050</td>\n",
       "    </tr>\n",
       "    <tr>\n",
       "      <th>1958-11-01</th>\n",
       "      <td>0.248445</td>\n",
       "      <td>1.400773</td>\n",
       "    </tr>\n",
       "    <tr>\n",
       "      <th>1958-12-01</th>\n",
       "      <td>0.474294</td>\n",
       "      <td>1.110699</td>\n",
       "    </tr>\n",
       "    <tr>\n",
       "      <th>1959-01-01</th>\n",
       "      <td>0.666684</td>\n",
       "      <td>0.680474</td>\n",
       "    </tr>\n",
       "    <tr>\n",
       "      <th>1959-02-01</th>\n",
       "      <td>0.516118</td>\n",
       "      <td>0.684475</td>\n",
       "    </tr>\n",
       "  </tbody>\n",
       "</table>\n",
       "</div>"
      ],
      "text/plain": [
       "            Passengers  Prediction\n",
       "Month                             \n",
       "1958-10-01    0.658319    1.042050\n",
       "1958-11-01    0.248445    1.400773\n",
       "1958-12-01    0.474294    1.110699\n",
       "1959-01-01    0.666684    0.680474\n",
       "1959-02-01    0.516118    0.684475"
      ]
     },
     "execution_count": 32,
     "metadata": {},
     "output_type": "execute_result"
    }
   ],
   "source": [
    "_, pred = eval_iter_single_step(\n",
    "    model=model, \n",
    "    dataloader=dataloader_test, \n",
    "    criterion=mse_loss, \n",
    "    device=device\n",
    ")\n",
    "\n",
    "pred_flat = []\n",
    "\n",
    "for p in pred:\n",
    "    pred_flat.extend(p.flatten().tolist())\n",
    "\n",
    "df_results = df_test.copy()\n",
    "df_results['Prediction'] = pred_flat\n",
    "df_results.head()"
   ]
  },
  {
   "cell_type": "code",
   "execution_count": 33,
   "id": "ab8f5c94-4777-4d60-854b-0131b4aa5b5f",
   "metadata": {},
   "outputs": [
    {
     "data": {
      "text/plain": [
       "<matplotlib.legend.Legend at 0x7fbe3a0d94d0>"
      ]
     },
     "execution_count": 33,
     "metadata": {},
     "output_type": "execute_result"
    },
    {
     "data": {
      "image/png": "[encoded data removed]",
      "text/plain": [
       "<Figure size 600x400 with 1 Axes>"
      ]
     },
     "metadata": {},
     "output_type": "display_data"
    }
   ],
   "source": [
    "plt.plot(df_train.index, df_train['Passengers'], c='blue', label='training')\n",
    "plt.plot(df_results.index, df_results['Passengers'], c='red', label='test')\n",
    "plt.plot(df_results.index, df_results['Prediction'] , c='green', label='prediction')\n",
    "plt.legend()"
   ]
  },
  {
   "cell_type": "markdown",
   "id": "d4e34274-ec9d-467a-be6f-e5119602cb96",
   "metadata": {},
   "source": [
    "# Save Model"
   ]
  },
  {
   "cell_type": "code",
   "execution_count": 34,
   "id": "a9e2a4f1-18fb-4deb-b2d3-1a757e28ea19",
   "metadata": {},
   "outputs": [],
   "source": [
    "os.makedirs('./saved_models', exist_ok=True)\n",
    "\n",
    "torch.save({\n",
    "        'model_state_dict': model.state_dict(),\n",
    "        'optimizer_state_dict': optimizer.state_dict(),\n",
    "        'hyperparameters': hyperparameters,\n",
    "    },\n",
    "    './saved_models/LSTM_AutoregressiveRNN.pt'\n",
    ")"
   ]
  },
  {
   "cell_type": "markdown",
   "id": "cf37b810-976e-4387-b112-16acbf56809e",
   "metadata": {},
   "source": [
    "### Later: Push **df_results** to a database"
   ]
  },
  {
   "cell_type": "code",
   "execution_count": null,
   "id": "44bd340c-4466-4dfe-a7cf-60ea5f26999f",
   "metadata": {},
   "outputs": [],
   "source": []
  },
  {
   "cell_type": "code",
   "execution_count": null,
   "id": "7a54e886-e08c-489d-952f-c19defbd7441",
   "metadata": {},
   "outputs": [],
   "source": []
  },
  {
   "cell_type": "code",
   "execution_count": null,
   "id": "74f6ca69-2ce9-4747-a94c-d1c8cf914fef",
   "metadata": {},
   "outputs": [],
   "source": []
  }
 ],
 "metadata": {
  "kernelspec": {
   "display_name": "Python [conda env:pytorch] *",
   "language": "python",
   "name": "conda-env-pytorch-py"
  },
  "language_info": {
   "codemirror_mode": {
    "name": "ipython",
    "version": 3
   },
   "file_extension": ".py",
   "mimetype": "text/x-python",
   "name": "python",
   "nbconvert_exporter": "python",
   "pygments_lexer": "ipython3",
   "version": "3.11.5"
  }
 },
 "nbformat": 4,
 "nbformat_minor": 5
}
