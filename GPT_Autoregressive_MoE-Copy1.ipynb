{
 "cells": [
  {
   "cell_type": "markdown",
   "id": "afb1107d-9a96-4d47-ab3e-0582fd89827d",
   "metadata": {},
   "source": [
    "# Time Series Forecasting with Autoregressive GPT with Mixture of Experts (MoE)"
   ]
  },
  {
   "cell_type": "code",
   "execution_count": 32,
   "id": "b1b2358b-d53a-43e3-9d26-d38b8f7649d3",
   "metadata": {},
   "outputs": [
    {
     "name": "stdout",
     "output_type": "stream",
     "text": [
      "USING DEVICE: cuda\n"
     ]
    }
   ],
   "source": [
    "import torch\n",
    "import torch.nn as nn\n",
    "import torch.nn.functional as F\n",
    "\n",
    "from torch.utils.data import Dataset, DataLoader, random_split\n",
    "\n",
    "from models.transformer import GPTTimeSeries\n",
    "\n",
    "import os\n",
    "import random\n",
    "import numpy as np\n",
    "import pandas as pd\n",
    "import math\n",
    "from tqdm import tqdm\n",
    "\n",
    "from sklearn.preprocessing import StandardScaler, MinMaxScaler\n",
    "\n",
    "import matplotlib.pyplot as plt\n",
    "\n",
    "from collections.abc import Iterable\n",
    "import gc\n",
    "\n",
    "plt.rcParams['figure.figsize'] = (6, 4)\n",
    "plt.rcParams['axes.grid'] = True\n",
    "\n",
    "device = 'cuda' if torch.cuda.is_available() else 'cpu'\n",
    "print(f'USING DEVICE: {device}')"
   ]
  },
  {
   "cell_type": "markdown",
   "id": "54bb0bc4-3118-48c0-8f61-2b53d10bbc32",
   "metadata": {},
   "source": [
    "# Hyperparameters"
   ]
  },
  {
   "cell_type": "code",
   "execution_count": 2,
   "id": "288dc719-d4cc-4494-8ffd-19cb73db213f",
   "metadata": {},
   "outputs": [],
   "source": [
    "hyperparameters = {\n",
    "    'seed': 1234,\n",
    "    'window_size': 32, # also 'context_size'\n",
    "    'batch_size': 128,\n",
    "    'split_ratio': 0.8, # 80% training, 20% testing\n",
    "    'learning_rate': 0.001,\n",
    "    'num_epochs': 50,\n",
    "    'use_amp': True, # USE MIXED PRECISION\n",
    "}"
   ]
  },
  {
   "cell_type": "markdown",
   "id": "7e41b616-8068-434a-950d-328bb908b0d5",
   "metadata": {},
   "source": [
    "## Expert Hyperparameters\n",
    "* Hyperparameter dicts for each expert model"
   ]
  },
  {
   "cell_type": "code",
   "execution_count": 3,
   "id": "baab84fa-c034-42da-ba18-c3dbe4c2d367",
   "metadata": {},
   "outputs": [],
   "source": [
    "expert_hyperparameters = {\n",
    "    'expert_0': {\n",
    "        'input_features_size': 1, # \"value\" lags in NAB datasets\n",
    "        'date_input_features_size': 3, # (MONTH, DAY, HOUR)\n",
    "        'date_features_dim': 16,\n",
    "        'features_dim': 192-16, # will be concat inside model\n",
    "        'output_features_size': 1, # \"value\" forecast in NAB datasets\n",
    "        'num_heads': 6,\n",
    "        'ff_dim': 192*4, # usually 4 times the hidden feature size\n",
    "        'num_decoder_layers': 6,\n",
    "        'emb_dropout_prob': 0.1,\n",
    "        'attn_dropout_prob': 0.1,\n",
    "        'ff_dropout_prob': 0.1,\n",
    "        'attn_use_bias': False,\n",
    "        'ff_use_bias': False,\n",
    "        'output_features_bias': False,\n",
    "    },\n",
    "    'expert_1': {\n",
    "        'input_features_size': 1, # \"value\" lags in NAB datasets\n",
    "        'date_input_features_size': 3, # (MONTH, DAY, HOUR)\n",
    "        'date_features_dim': 16,\n",
    "        'features_dim': 192-16, # will be concat inside model\n",
    "        'output_features_size': 1, # \"value\" forecast in NAB datasets\n",
    "        'num_heads': 6,\n",
    "        'ff_dim': 192*4, # usually 4 times the hidden feature size\n",
    "        'num_decoder_layers': 6,\n",
    "        'emb_dropout_prob': 0.1,\n",
    "        'attn_dropout_prob': 0.1,\n",
    "        'ff_dropout_prob': 0.1,\n",
    "        'attn_use_bias': False,\n",
    "        'ff_use_bias': False,\n",
    "        'output_features_bias': False,\n",
    "    }\n",
    "}"
   ]
  },
  {
   "cell_type": "markdown",
   "id": "df85b050-4117-4352-9e18-6140087ab981",
   "metadata": {},
   "source": [
    "# Seed"
   ]
  },
  {
   "cell_type": "code",
   "execution_count": 4,
   "id": "48e4584c-51ad-44f9-9e82-765a9421da2c",
   "metadata": {},
   "outputs": [],
   "source": [
    "def seed_everything(seed):\n",
    "    random.seed(seed)\n",
    "    os.environ['PYTHONHASHSEED'] = str(seed)\n",
    "    np.random.seed(seed)\n",
    "    torch.manual_seed(seed)\n",
    "    torch.cuda.manual_seed(seed)\n",
    "    torch.backends.cudnn.deterministic = True\n",
    "    torch.backends.cudnn.benchmark = False\n",
    "    \n",
    "seed_everything(hyperparameters['seed'])"
   ]
  },
  {
   "cell_type": "markdown",
   "id": "a743a1f6-d57a-490e-9ac0-bb41ff95a352",
   "metadata": {},
   "source": [
    "# List of Datasets\n",
    "* Each expert in MoE gets a different dataset in this case"
   ]
  },
  {
   "cell_type": "code",
   "execution_count": 5,
   "id": "c589191d-60d5-4168-8c98-6b8982fb292e",
   "metadata": {},
   "outputs": [],
   "source": [
    "dataset_names = [\n",
    "    #'NAB/data/realTweets/Twitter_volume_AAPL.csv',\n",
    "    #'NAB/data/realTweets/Twitter_volume_AMZN.csv',\n",
    "    'NAB/data/realAWSCloudwatch/ec2_cpu_utilization_24ae8d.csv',\n",
    "    'NAB/data/realAWSCloudwatch/ec2_cpu_utilization_53ea38.csv',\n",
    "]"
   ]
  },
  {
   "cell_type": "markdown",
   "id": "2f7e1db2-1459-42d8-bc57-d8a973c39aaa",
   "metadata": {},
   "source": [
    "# Dataset"
   ]
  },
  {
   "cell_type": "code",
   "execution_count": 6,
   "id": "d57ac639-5c2c-40f4-a8e4-e753977e4ffc",
   "metadata": {},
   "outputs": [],
   "source": [
    "class MixtureTimeSeriesDataset(Dataset):\n",
    "    def __init__(self, data_path_list, window_size, feature_columns, datetime_column):\n",
    "        \"\"\"\n",
    "        data_path_list: required to be a .csv file\n",
    "        feature_columns and datetime_column: can be a single string (same for all datasets) or iterable strings (different per dataset).\n",
    "        feature_columns should be 2D iterable of feature columns for each dataset. If a single string or iterable is given, it will be copied for all datasets\n",
    "        datetime_column should be 1D iteralbe of datetime columns for each dataset. If a single string is given, it will be copied for all datasets\n",
    "        \"\"\"\n",
    "        \n",
    "        self.data_path_list = data_path_list\n",
    "        self.window_size = window_size\n",
    "\n",
    "        self.named_df_list = {}\n",
    "\n",
    "        self.df_list = []\n",
    "        self.scalers = []\n",
    "\n",
    "        # utility function used in read_and_scale() \n",
    "        self.check_if_series = lambda x: pd.DataFrame(x) if isinstance(x, pd.Series) else x\n",
    "\n",
    "        # If feature_columns is a single string of single feature\n",
    "        if isinstance(feature_columns, str):\n",
    "            self.feature_columns = [[feature_columns] for _ in range(len(data_path_list))]\n",
    "        # Check if inner dimension is iterable\n",
    "        # (feature_columns expected to be a 2D/1D iterable or single string)\n",
    "        elif isinstance(feature_columns[0], Iterable):\n",
    "            if len(feature_columns) != len(data_path_list):\n",
    "                raise ValueError('feature_columns should be 2D/1D iterable of feature columns or a singe string.')\n",
    "            self.feature_columns = feature_columns\n",
    "        # If feature_columns contains mutiple features (1D iterable)\n",
    "        elif isinstance(feature_columns, Iterable):\n",
    "            self.feature_columns = [feature_columns for _ in range(len(data_path_list))]\n",
    "        else:\n",
    "            raise ValueError('unrecognized feature_columns format!')\n",
    "\n",
    "        # If feature_columns is a single string of single feature\n",
    "        if isinstance(datetime_column, str):\n",
    "            self.datetime_column = [datetime_column for _ in range(len(data_path_list))]\n",
    "        # (datetime_column expected to be a 1D iterable or single string)\n",
    "        elif isinstance(datetime_column, Iterable):\n",
    "            if len(datetime_column) != len(data_path_list):\n",
    "                raise ValueError('datetime_column should be 1D iterable of datetime columns or a singe string.')\n",
    "            self.datetime_column = datetime_column\n",
    "        else:\n",
    "            raise ValueError('unrecognized datetime_column format!')\n",
    "\n",
    "        self.read_and_scale()\n",
    "    \n",
    "    def __len__(self):\n",
    "        len_list = [_df.shape[0] for _df in self.df_list]\n",
    "        # take the longest as referance len\n",
    "        number_of_samples = max(len_list)\n",
    "        # make sure that last window fits\n",
    "        return number_of_samples #- self.window_size\n",
    "\n",
    "    def read_csv_with_datetime_index(self, data_path, datetime_column='timestamp'):\n",
    "        _df = pd.read_csv(data_path)\n",
    "        _df[datetime_column] = pd.to_datetime(_df[datetime_column])\n",
    "        _df.set_index(datetime_column, inplace=True)\n",
    "        return _df\n",
    "    \n",
    "    def read_and_scale(self):\n",
    "        \"\"\"\n",
    "        read and standard scales each .csv file\n",
    "        \"\"\"\n",
    "        \n",
    "        for path, _feature_columns, _datetime_column in zip(self.data_path_list, self.feature_columns, self.datetime_column):\n",
    "            _df = self.read_csv_with_datetime_index(path, _datetime_column)\n",
    "            \n",
    "            _scaler = StandardScaler()\n",
    "            print('>>>', _df.columns)\n",
    "            if _df[_feature_columns].values.ndim < 2:\n",
    "                _df[_feature_columns] = _scaler.fit_transform(_df[_feature_columns].values.reshape(-1, 1)).reshape(-1)\n",
    "            else:\n",
    "                _df[_feature_columns] = _scaler.fit_transform(_df[_feature_columns])\n",
    "            _df = _df[_feature_columns]\n",
    "            \n",
    "            self.df_list.append(_df)\n",
    "            self.scalers.append(_scaler)\n",
    "\n",
    "        self.named_df_list = {f'expert_{i}': self.check_if_series(_df) for i, _df in enumerate(self.df_list)}\n",
    "        #for ___df in self.named_df_list.values():\n",
    "        #    print(type(___df))\n",
    "    \n",
    "    def add_padding_maybe(self, _df_window):\n",
    "        _df_window = _df_window.copy()\n",
    "        if _df_window.shape[0] < self.window_size:\n",
    "            num_rows_to_add = self.window_size - _df_window.shape[0]\n",
    "            pad_date = pd.Timestamp('1970-01-01')\n",
    "            pad_date_indexes = [pad_date] * num_rows_to_add\n",
    "            df_zeros = pd.DataFrame(0.0, index=pad_date_indexes, columns=_df_window.columns)\n",
    "            _df_window['attention_mask'] = 1.0\n",
    "            df_zeros['attention_mask'] = 0.0\n",
    "            df_padded = pd.concat([_df_window, df_zeros])\n",
    "            return df_padded\n",
    "        else:\n",
    "            _df_window['attention_mask'] = 1.0\n",
    "            return _df_window\n",
    "        \n",
    "    def __getitem__(self, start_idx):\n",
    "        return_dict = {}\n",
    "\n",
    "        for name, df_expert in self.named_df_list.items():\n",
    "                    \n",
    "            # get a NumPy array of size: (hyperparameters['window_size'], NUM_FEATURES)\n",
    "            df_window = df_expert.iloc[start_idx:start_idx+self.window_size]\n",
    "    \n",
    "            # apend padding values (zeros) if necessery\n",
    "            df_window = self.add_padding_maybe(df_window)\n",
    "        \n",
    "            # attention mask\n",
    "            # 1 -> regular values, 0 -> pad values\n",
    "            # (0s supposed to be masked)\n",
    "            attention_mask = df_window['attention_mask'].copy()\n",
    "            df_window.drop('attention_mask', axis=1, inplace=True)\n",
    "            # (window_size, ) -> (lags/forecast,)\n",
    "            attention_mask = attention_mask[:-1].values\n",
    "            \n",
    "            sample_window = df_window.values\n",
    "            # input (lag) timestamps\n",
    "            sample_timestamp_lags = df_window[:-1].index\n",
    "            \n",
    "            # divide window into lags and forecast (shifted by 1)\n",
    "            # first window_size-1 steps\n",
    "            lags = sample_window[:-1, :]\n",
    "            # last window_size-1 steps\n",
    "            forecast = sample_window[1:, :]\n",
    "            \n",
    "            # convert to tensor\n",
    "            lags = torch.tensor(lags, dtype=torch.float32)\n",
    "            forecast = torch.tensor(forecast, dtype=torch.float32)\n",
    "            \n",
    "            # (lags, date_input_features_size)\n",
    "            # 1970-01-01 is used for padding values\n",
    "            date = torch.tensor([sample_timestamp_lags.month, sample_timestamp_lags.day, sample_timestamp_lags.hour], dtype=torch.float32).permute(1, 0)\n",
    "\n",
    "            # attention mask (tensor)\n",
    "            attention_mask = torch.tensor(attention_mask, dtype=torch.float32)\n",
    "            \n",
    "            return_dict[name] = (lags, forecast, date, attention_mask)\n",
    "        \n",
    "        return return_dict"
   ]
  },
  {
   "cell_type": "markdown",
   "id": "96fae76a-b23c-4faf-9d0a-b14bd0db8851",
   "metadata": {},
   "source": [
    "* Use \"value\" and \"timestamp\" columns for both datasets\n",
    "* (Two experts)"
   ]
  },
  {
   "cell_type": "code",
   "execution_count": 54,
   "id": "466b1652-4d65-4c04-93a8-9d0cc858aa32",
   "metadata": {},
   "outputs": [
    {
     "name": "stdout",
     "output_type": "stream",
     "text": [
      ">>> Index(['value'], dtype='object')\n",
      ">>> Index(['value'], dtype='object')\n",
      "4032\n"
     ]
    },
    {
     "data": {
      "text/plain": [
       "dict_keys(['expert_0', 'expert_1'])"
      ]
     },
     "execution_count": 54,
     "metadata": {},
     "output_type": "execute_result"
    }
   ],
   "source": [
    "dataset_full = MixtureTimeSeriesDataset(\n",
    "    data_path_list=dataset_names,\n",
    "    window_size=120,\n",
    "    feature_columns=['value', 'value'],  # use 'value' for each expert\n",
    "    datetime_column=['timestamp', 'timestamp'], # use 'timestamp' for each expert\n",
    ")\n",
    "print(len(dataset_full))\n",
    "\n",
    "dataset_full.named_df_list.keys()"
   ]
  },
  {
   "cell_type": "markdown",
   "id": "942de949-f078-449e-bea6-fd587c65904c",
   "metadata": {},
   "source": [
    "### Feeature Scaler (Per Expert)"
   ]
  },
  {
   "cell_type": "code",
   "execution_count": 55,
   "id": "7ca40951-4174-4a7e-8c11-fddf89c096b1",
   "metadata": {},
   "outputs": [
    {
     "data": {
      "text/html": [
       "<div>\n",
       "<style scoped>\n",
       "    .dataframe tbody tr th:only-of-type {\n",
       "        vertical-align: middle;\n",
       "    }\n",
       "\n",
       "    .dataframe tbody tr th {\n",
       "        vertical-align: top;\n",
       "    }\n",
       "\n",
       "    .dataframe thead th {\n",
       "        text-align: right;\n",
       "    }\n",
       "</style>\n",
       "<table border=\"1\" class=\"dataframe\">\n",
       "  <thead>\n",
       "    <tr style=\"text-align: right;\">\n",
       "      <th></th>\n",
       "      <th>value</th>\n",
       "    </tr>\n",
       "    <tr>\n",
       "      <th>timestamp</th>\n",
       "      <th></th>\n",
       "    </tr>\n",
       "  </thead>\n",
       "  <tbody>\n",
       "    <tr>\n",
       "      <th>2014-02-14 14:30:00</th>\n",
       "      <td>0.060093</td>\n",
       "    </tr>\n",
       "    <tr>\n",
       "      <th>2014-02-14 14:35:00</th>\n",
       "      <td>0.081190</td>\n",
       "    </tr>\n",
       "    <tr>\n",
       "      <th>2014-02-14 14:40:00</th>\n",
       "      <td>0.081190</td>\n",
       "    </tr>\n",
       "    <tr>\n",
       "      <th>2014-02-14 14:45:00</th>\n",
       "      <td>0.081190</td>\n",
       "    </tr>\n",
       "    <tr>\n",
       "      <th>2014-02-14 14:50:00</th>\n",
       "      <td>0.081190</td>\n",
       "    </tr>\n",
       "    <tr>\n",
       "      <th>...</th>\n",
       "      <td>...</td>\n",
       "    </tr>\n",
       "    <tr>\n",
       "      <th>2014-02-28 14:05:00</th>\n",
       "      <td>0.060093</td>\n",
       "    </tr>\n",
       "    <tr>\n",
       "      <th>2014-02-28 14:10:00</th>\n",
       "      <td>0.081190</td>\n",
       "    </tr>\n",
       "    <tr>\n",
       "      <th>2014-02-28 14:15:00</th>\n",
       "      <td>0.081190</td>\n",
       "    </tr>\n",
       "    <tr>\n",
       "      <th>2014-02-28 14:20:00</th>\n",
       "      <td>0.081190</td>\n",
       "    </tr>\n",
       "    <tr>\n",
       "      <th>2014-02-28 14:25:00</th>\n",
       "      <td>0.081190</td>\n",
       "    </tr>\n",
       "  </tbody>\n",
       "</table>\n",
       "<p>4032 rows × 1 columns</p>\n",
       "</div>"
      ],
      "text/plain": [
       "                        value\n",
       "timestamp                    \n",
       "2014-02-14 14:30:00  0.060093\n",
       "2014-02-14 14:35:00  0.081190\n",
       "2014-02-14 14:40:00  0.081190\n",
       "2014-02-14 14:45:00  0.081190\n",
       "2014-02-14 14:50:00  0.081190\n",
       "...                       ...\n",
       "2014-02-28 14:05:00  0.060093\n",
       "2014-02-28 14:10:00  0.081190\n",
       "2014-02-28 14:15:00  0.081190\n",
       "2014-02-28 14:20:00  0.081190\n",
       "2014-02-28 14:25:00  0.081190\n",
       "\n",
       "[4032 rows x 1 columns]"
      ]
     },
     "execution_count": 55,
     "metadata": {},
     "output_type": "execute_result"
    }
   ],
   "source": [
    "dataset_full.named_df_list['expert_0']"
   ]
  },
  {
   "cell_type": "code",
   "execution_count": 56,
   "id": "c63e3dc5-2d0f-4370-ae23-0cca75968bde",
   "metadata": {},
   "outputs": [
    {
     "data": {
      "text/html": [
       "<div>\n",
       "<style scoped>\n",
       "    .dataframe tbody tr th:only-of-type {\n",
       "        vertical-align: middle;\n",
       "    }\n",
       "\n",
       "    .dataframe tbody tr th {\n",
       "        vertical-align: top;\n",
       "    }\n",
       "\n",
       "    .dataframe thead th {\n",
       "        text-align: right;\n",
       "    }\n",
       "</style>\n",
       "<table border=\"1\" class=\"dataframe\">\n",
       "  <thead>\n",
       "    <tr style=\"text-align: right;\">\n",
       "      <th></th>\n",
       "      <th>value</th>\n",
       "    </tr>\n",
       "    <tr>\n",
       "      <th>timestamp</th>\n",
       "      <th></th>\n",
       "    </tr>\n",
       "  </thead>\n",
       "  <tbody>\n",
       "    <tr>\n",
       "      <th>2014-02-14 14:30:00</th>\n",
       "      <td>-0.961651</td>\n",
       "    </tr>\n",
       "    <tr>\n",
       "      <th>2014-02-14 14:35:00</th>\n",
       "      <td>-0.961651</td>\n",
       "    </tr>\n",
       "    <tr>\n",
       "      <th>2014-02-14 14:40:00</th>\n",
       "      <td>1.285864</td>\n",
       "    </tr>\n",
       "    <tr>\n",
       "      <th>2014-02-14 14:45:00</th>\n",
       "      <td>-0.961651</td>\n",
       "    </tr>\n",
       "    <tr>\n",
       "      <th>2014-02-14 14:50:00</th>\n",
       "      <td>-1.217947</td>\n",
       "    </tr>\n",
       "    <tr>\n",
       "      <th>...</th>\n",
       "      <td>...</td>\n",
       "    </tr>\n",
       "    <tr>\n",
       "      <th>2014-02-28 14:05:00</th>\n",
       "      <td>-0.665926</td>\n",
       "    </tr>\n",
       "    <tr>\n",
       "      <th>2014-02-28 14:10:00</th>\n",
       "      <td>1.404154</td>\n",
       "    </tr>\n",
       "    <tr>\n",
       "      <th>2014-02-28 14:15:00</th>\n",
       "      <td>-0.961651</td>\n",
       "    </tr>\n",
       "    <tr>\n",
       "      <th>2014-02-28 14:20:00</th>\n",
       "      <td>-0.054759</td>\n",
       "    </tr>\n",
       "    <tr>\n",
       "      <th>2014-02-28 14:25:00</th>\n",
       "      <td>-0.626496</td>\n",
       "    </tr>\n",
       "  </tbody>\n",
       "</table>\n",
       "<p>4032 rows × 1 columns</p>\n",
       "</div>"
      ],
      "text/plain": [
       "                        value\n",
       "timestamp                    \n",
       "2014-02-14 14:30:00 -0.961651\n",
       "2014-02-14 14:35:00 -0.961651\n",
       "2014-02-14 14:40:00  1.285864\n",
       "2014-02-14 14:45:00 -0.961651\n",
       "2014-02-14 14:50:00 -1.217947\n",
       "...                       ...\n",
       "2014-02-28 14:05:00 -0.665926\n",
       "2014-02-28 14:10:00  1.404154\n",
       "2014-02-28 14:15:00 -0.961651\n",
       "2014-02-28 14:20:00 -0.054759\n",
       "2014-02-28 14:25:00 -0.626496\n",
       "\n",
       "[4032 rows x 1 columns]"
      ]
     },
     "execution_count": 56,
     "metadata": {},
     "output_type": "execute_result"
    }
   ],
   "source": [
    "dataset_full.named_df_list['expert_1']"
   ]
  },
  {
   "cell_type": "code",
   "execution_count": 57,
   "id": "79e648bc-cfaa-46fb-b180-58a73a87420c",
   "metadata": {},
   "outputs": [
    {
     "data": {
      "text/plain": [
       "dict"
      ]
     },
     "execution_count": 57,
     "metadata": {},
     "output_type": "execute_result"
    }
   ],
   "source": [
    "type(dataset_full.named_df_list)"
   ]
  },
  {
   "cell_type": "code",
   "execution_count": 58,
   "id": "cf02c12d-b4fa-41bd-b07c-c4e559c5d3c7",
   "metadata": {},
   "outputs": [
    {
     "name": "stdout",
     "output_type": "stream",
     "text": [
      "Scaling expert: expert_0\n",
      "Scaling expert: expert_1\n"
     ]
    }
   ],
   "source": [
    "expert_scaler_dict = {}\n",
    "\n",
    "for expert_id_key in dataset_full.named_df_list.keys():\n",
    "    print(f'Scaling expert: {expert_id_key}')\n",
    "\n",
    "    _scaler = MinMaxScaler(feature_range=(0, 1))\n",
    "\n",
    "    _scaled_df = pd.DataFrame(\n",
    "        data=_scaler.fit_transform(dataset_full.named_df_list[expert_id_key]), \n",
    "        index=dataset_full.named_df_list[expert_id_key].index, \n",
    "        columns=dataset_full.named_df_list[expert_id_key].columns\n",
    "    )\n",
    "\n",
    "    dataset_full.named_df_list[expert_id_key] = _scaled_df\n",
    "    \n",
    "    expert_scaler_dict[expert_id_key] = _scaler"
   ]
  },
  {
   "cell_type": "code",
   "execution_count": 59,
   "id": "1ae63e5c-9628-4f16-a896-727943e052fc",
   "metadata": {},
   "outputs": [
    {
     "data": {
      "text/plain": [
       "<Axes: xlabel='timestamp'>"
      ]
     },
     "execution_count": 59,
     "metadata": {},
     "output_type": "execute_result"
    },
    {
     "data": {
      "image/png": "[encoded data removed]",
      "text/plain": [
       "<Figure size 600x400 with 1 Axes>"
      ]
     },
     "metadata": {},
     "output_type": "display_data"
    }
   ],
   "source": [
    "dataset_full.named_df_list['expert_0'].plot()"
   ]
  },
  {
   "cell_type": "code",
   "execution_count": 60,
   "id": "0fb6eb11-9a87-44cc-87e8-14f458585afa",
   "metadata": {},
   "outputs": [
    {
     "data": {
      "text/plain": [
       "<Axes: xlabel='timestamp'>"
      ]
     },
     "execution_count": 60,
     "metadata": {},
     "output_type": "execute_result"
    },
    {
     "data": {
      "image/png": "[encoded data removed]",
      "text/plain": [
       "<Figure size 600x400 with 1 Axes>"
      ]
     },
     "metadata": {},
     "output_type": "display_data"
    }
   ],
   "source": [
    "dataset_full.named_df_list['expert_1'].plot()"
   ]
  },
  {
   "cell_type": "code",
   "execution_count": 61,
   "id": "14e90a51-de31-44db-a442-9016ce7990bf",
   "metadata": {},
   "outputs": [
    {
     "data": {
      "text/plain": [
       "dict_keys(['expert_0', 'expert_1'])"
      ]
     },
     "execution_count": 61,
     "metadata": {},
     "output_type": "execute_result"
    }
   ],
   "source": [
    "_return_dict = dataset_full[4000]\n",
    "_return_dict.keys()"
   ]
  },
  {
   "cell_type": "code",
   "execution_count": 62,
   "id": "7c9df82c-9048-4d8b-8027-5a0252bddc39",
   "metadata": {},
   "outputs": [
    {
     "data": {
      "text/plain": [
       "(torch.Size([119, 1]),\n",
       " torch.Size([119, 1]),\n",
       " torch.Size([119, 3]),\n",
       " torch.Size([119]))"
      ]
     },
     "execution_count": 62,
     "metadata": {},
     "output_type": "execute_result"
    }
   ],
   "source": [
    "_lags, _forecast, _date, _attention_mask = _return_dict['expert_0']\n",
    "_lags.shape, _forecast.shape, _date.shape, _attention_mask.shape"
   ]
  },
  {
   "cell_type": "code",
   "execution_count": 63,
   "id": "626fa0b3-6732-421d-b1fa-8be95356c4fa",
   "metadata": {},
   "outputs": [
    {
     "data": {
      "text/plain": [
       "tensor([1., 1., 1., 1., 1., 1., 1., 1., 1., 1., 1., 1., 1., 1., 1., 1., 1., 1.,\n",
       "        1., 1., 1., 1., 1., 1., 1., 1., 1., 1., 1., 1., 1., 1., 0., 0., 0., 0.,\n",
       "        0., 0., 0., 0., 0., 0., 0., 0., 0., 0., 0., 0., 0., 0., 0., 0., 0., 0.,\n",
       "        0., 0., 0., 0., 0., 0., 0., 0., 0., 0., 0., 0., 0., 0., 0., 0., 0., 0.,\n",
       "        0., 0., 0., 0., 0., 0., 0., 0., 0., 0., 0., 0., 0., 0., 0., 0., 0., 0.,\n",
       "        0., 0., 0., 0., 0., 0., 0., 0., 0., 0., 0., 0., 0., 0., 0., 0., 0., 0.,\n",
       "        0., 0., 0., 0., 0., 0., 0., 0., 0., 0., 0.])"
      ]
     },
     "execution_count": 63,
     "metadata": {},
     "output_type": "execute_result"
    }
   ],
   "source": [
    "_attention_mask"
   ]
  },
  {
   "cell_type": "markdown",
   "id": "c341ff40-696f-41f6-b21f-bcf63c5533eb",
   "metadata": {},
   "source": [
    "### Train/Test Split"
   ]
  },
  {
   "cell_type": "code",
   "execution_count": 64,
   "id": "5ccdaaa6-c1d5-42ad-a66f-6c3539a4ab73",
   "metadata": {},
   "outputs": [
    {
     "data": {
      "text/plain": [
       "(3225, 807)"
      ]
     },
     "execution_count": 64,
     "metadata": {},
     "output_type": "execute_result"
    }
   ],
   "source": [
    "train_size = int(hyperparameters['split_ratio'] * len(dataset_full))\n",
    "test_size = len(dataset_full) - train_size\n",
    "\n",
    "train_size, test_size"
   ]
  },
  {
   "cell_type": "markdown",
   "id": "51d95fa1-463f-4b64-b77c-5ac5eda60be6",
   "metadata": {},
   "source": [
    "### Random Index Sampling Train/Test Split"
   ]
  },
  {
   "cell_type": "code",
   "execution_count": 65,
   "id": "366baffc-b32b-41e1-a1c6-96ea6e81d5a9",
   "metadata": {},
   "outputs": [
    {
     "data": {
      "text/plain": [
       "(3225, 807)"
      ]
     },
     "execution_count": 65,
     "metadata": {},
     "output_type": "execute_result"
    }
   ],
   "source": [
    "dataset_train, dataset_test = random_split(dataset_full, [train_size, test_size])\n",
    "len(dataset_train), len(dataset_test)"
   ]
  },
  {
   "cell_type": "markdown",
   "id": "7190897f-1526-4492-b0ac-51a180187f9e",
   "metadata": {},
   "source": [
    "# Dataloader"
   ]
  },
  {
   "cell_type": "code",
   "execution_count": 66,
   "id": "5acba036-7c98-4786-9c00-5af6325f8fd4",
   "metadata": {},
   "outputs": [
    {
     "name": "stdout",
     "output_type": "stream",
     "text": [
      "Number of batches (total): 32\n",
      "Number of batches (train): 26\n",
      "Number of batches (test): 7\n"
     ]
    }
   ],
   "source": [
    "dataloader_full = DataLoader(\n",
    "    dataset_full,\n",
    "    batch_size=hyperparameters['batch_size'],\n",
    "    shuffle=False,\n",
    ")\n",
    "\n",
    "dataloader_train = DataLoader(\n",
    "    dataset_train,\n",
    "    batch_size=hyperparameters['batch_size'],\n",
    "    shuffle=True,\n",
    ")\n",
    "\n",
    "dataloader_test = DataLoader(\n",
    "    dataset_test,\n",
    "    batch_size=hyperparameters['batch_size'],\n",
    "    shuffle=False,\n",
    ")\n",
    "\n",
    "print(f'Number of batches (total): {len(dataloader_full)}')\n",
    "print(f'Number of batches (train): {len(dataloader_train)}')\n",
    "print(f'Number of batches (test): {len(dataloader_test)}')"
   ]
  },
  {
   "cell_type": "code",
   "execution_count": 67,
   "id": "d48c3b83-1d33-4fd7-8933-6390823432d0",
   "metadata": {},
   "outputs": [],
   "source": [
    "_return_dict_batch = next(iter(dataloader_full))"
   ]
  },
  {
   "cell_type": "code",
   "execution_count": 68,
   "id": "0ab4ab76-bc6a-4827-9686-e5f10b66987d",
   "metadata": {},
   "outputs": [
    {
     "data": {
      "text/plain": [
       "(torch.Size([128, 119, 1]),\n",
       " torch.Size([128, 119, 1]),\n",
       " torch.Size([128, 119, 3]),\n",
       " torch.Size([128, 119]))"
      ]
     },
     "execution_count": 68,
     "metadata": {},
     "output_type": "execute_result"
    }
   ],
   "source": [
    "_lags_batch, _forecast_batch, _date_batch, _attention_mask_batch = _return_dict_batch['expert_0']\n",
    "\n",
    "# (hyperparameters['batch_size'], hyperparameters['lags'], NUM_FEATURES), # (hyperparameters['batch_size'], hyperparameters['forecast'], NUM_FEATURES)\n",
    "\n",
    "_lags_batch.shape, _forecast_batch.shape, _date_batch.shape, _attention_mask_batch.shape"
   ]
  },
  {
   "cell_type": "markdown",
   "id": "acf7b0b8-ee9d-4c5b-9558-872feca3f4dc",
   "metadata": {},
   "source": [
    "### Time series data shape: \n",
    "Unbatched: $(S, F)$\n",
    "\n",
    "* $S:$ Sequence Length\n",
    "* $F:$ Number of Features\n",
    "\n",
    "Batched: $(B, S, F)$\n",
    "* $B:$ Batch Size"
   ]
  },
  {
   "cell_type": "code",
   "execution_count": 69,
   "id": "d88f8373-2896-4644-bbab-5f5a912892d5",
   "metadata": {},
   "outputs": [
    {
     "data": {
      "text/plain": [
       "(4032, 1)"
      ]
     },
     "execution_count": 69,
     "metadata": {},
     "output_type": "execute_result"
    }
   ],
   "source": [
    "dataset_full.named_df_list['expert_0'].shape"
   ]
  },
  {
   "cell_type": "markdown",
   "id": "e68ce628-84ea-4917-bdf0-046140ec81fd",
   "metadata": {},
   "source": [
    "### Update Hyperparamters for MoE"
   ]
  },
  {
   "cell_type": "code",
   "execution_count": 70,
   "id": "e48e0436-cc37-4b9c-a788-9ec52a2a3b78",
   "metadata": {},
   "outputs": [],
   "source": [
    "hyperparameters['num_experts'] = len(dataset_full.named_df_list)"
   ]
  },
  {
   "cell_type": "markdown",
   "id": "e3a30eb6-4ac5-4dfa-b7d7-873168eb2339",
   "metadata": {},
   "source": [
    "# Training"
   ]
  },
  {
   "cell_type": "markdown",
   "id": "f15bf614-596e-4c9b-abfe-91d933c05d76",
   "metadata": {},
   "source": [
    "### Training Functions\n",
    "* with AMP support"
   ]
  },
  {
   "cell_type": "code",
   "execution_count": 71,
   "id": "1003c1c4-c9ae-4f24-8e72-6f8ea31285dc",
   "metadata": {},
   "outputs": [],
   "source": [
    "def expert_train_iter(model, dataloader, optimizer, criterion, scaler, use_amp, device, expert_id):\n",
    "    model.train()\n",
    "\n",
    "    avg_loss = []\n",
    "    \n",
    "    for return_dict in dataloader:\n",
    "\n",
    "        (lags, forecast, date, attention_mask) = return_dict[f'expert_{expert_id}']\n",
    "        \n",
    "        lags = lags.to(device)\n",
    "        forecast = forecast.to(device)\n",
    "        date = date.to(device)\n",
    "        attention_mask = attention_mask.to(device)\n",
    "\n",
    "        # remove device index (required for autocast device_type)\n",
    "        if ':' in device:\n",
    "            device_type = device.split(':')[0]\n",
    "        else:\n",
    "            device_type = device\n",
    "            \n",
    "        with torch.autocast(device_type=device_type, dtype=torch.float16, enabled=use_amp):\n",
    "            # AMP forward pass\n",
    "            forecast_pred = model(x_input=lags, date_input=date, pad_mask=attention_mask)\n",
    "            loss = criterion(forecast_pred, forecast)\n",
    "        \n",
    "        scaler.scale(loss).backward()  #loss.backward()\n",
    "        scaler.step(optimizer)         #optimizer.step()\n",
    "        scaler.update()\n",
    "        optimizer.zero_grad()\n",
    "\n",
    "        avg_loss.append(loss.item())\n",
    "\n",
    "    return sum(avg_loss) / len(avg_loss)\n",
    "\n",
    "\n",
    "@torch.no_grad()\n",
    "def expert_eval_iter(model, dataloader, criterion, use_amp, device, expert_id):\n",
    "    model.eval()\n",
    "\n",
    "    avg_loss = []\n",
    "    predictions = []\n",
    "    \n",
    "    for return_dict in dataloader:\n",
    "\n",
    "        (lags, forecast, date, attention_mask) = return_dict[f'expert_{expert_id}']\n",
    "    \n",
    "        lags = lags.to(device)\n",
    "        forecast = forecast.to(device)\n",
    "        date = date.to(device)\n",
    "        attention_mask = attention_mask.to(device)\n",
    "\n",
    "        # remove device index (required for autocast device_type)\n",
    "        if ':' in device:\n",
    "            device_type = device.split(':')[0]\n",
    "        else:\n",
    "            device_type = device\n",
    "        \n",
    "        with torch.autocast(device_type=device_type, dtype=torch.float16, enabled=use_amp):\n",
    "            # AMP forward pass\n",
    "            forecast_pred = model(x_input=lags, date_input=date, pad_mask=attention_mask)\n",
    "            loss = criterion(forecast_pred, forecast)\n",
    "        \n",
    "        avg_loss.append(loss.item())\n",
    "        predictions.append(forecast_pred)\n",
    "\n",
    "    return sum(avg_loss) / len(avg_loss), predictions"
   ]
  },
  {
   "cell_type": "markdown",
   "id": "62538991-94af-4ee8-bfaf-acafe4eac2e2",
   "metadata": {},
   "source": [
    "### Expert Trainer Dict"
   ]
  },
  {
   "cell_type": "code",
   "execution_count": 72,
   "id": "66aea2e7-7cc0-41a4-98d9-abbfe855f0ba",
   "metadata": {},
   "outputs": [],
   "source": [
    "# utiliy function\n",
    "def print_model_parameters(model):\n",
    "    print(f'{sum(p.numel() for p in model.parameters() if p.requires_grad):,}')"
   ]
  },
  {
   "cell_type": "code",
   "execution_count": 73,
   "id": "d0d389d9-4623-438f-b916-0781dff8e5aa",
   "metadata": {},
   "outputs": [
    {
     "name": "stdout",
     "output_type": "stream",
     "text": [
      "Number of parameters for expert 0:\n",
      "2,659,808\n",
      "Number of parameters for expert 1:\n",
      "2,659,808\n"
     ]
    }
   ],
   "source": [
    "expert_trainer_dict = {}\n",
    "\n",
    "for expert_id in range(hyperparameters['num_experts']):\n",
    "    expert_trainer_dict[f'expert_{expert_id}'] = {}\n",
    "     \n",
    "    # Transformer Model\n",
    "    #_expert_model = deepcopy(model)\n",
    "\n",
    "    \"\"\"\n",
    "    input_features_size=hyperparameters['input_features_size'],\n",
    "    date_input_features_size=hyperparameters['date_input_features_size'],\n",
    "    date_features_dim=hyperparameters['date_features_dim'],\n",
    "    features_dim=hyperparameters['hidden_features_size'],\n",
    "    output_features_size=hyperparameters['output_features_size'],\n",
    "    num_heads=hyperparameters['num_heads'],\n",
    "    ff_dim=hyperparameters['ff_dim'],\n",
    "    num_decoder_layers=hyperparameters['num_decoder_layers'],\n",
    "    emb_dropout_prob=hyperparameters['emb_dropout_prob'],\n",
    "    attn_dropout_prob=hyperparameters['attn_dropout_prob'],\n",
    "    ff_dropout_prob=hyperparameters['ff_dropout_prob'],\n",
    "    attn_use_bias=hyperparameters['attn_use_bias'],\n",
    "    ff_use_bias=hyperparameters['ff_use_bias'],\n",
    "    output_features_bias=hyperparameters['output_features_bias'],\n",
    "    \"\"\"\n",
    "\n",
    "    _expert_model = GPTTimeSeries(**expert_hyperparameters[f'expert_{expert_id}'])\n",
    "\n",
    "    print(f'Number of parameters for expert {expert_id}:')\n",
    "    print_model_parameters(_expert_model)\n",
    "    \n",
    "    # Loss, Optimizer, Scaler & Scheduler\n",
    "    _optimizer = torch.optim.Adam(\n",
    "        _expert_model.parameters(),\n",
    "        lr=hyperparameters['learning_rate']\n",
    "    )\n",
    "    \n",
    "    _scheduler = torch.optim.lr_scheduler.ReduceLROnPlateau(\n",
    "        _optimizer,\n",
    "        mode='min', \n",
    "        factor=0.1, \n",
    "        patience=3,\n",
    "        min_lr=1e-6,\n",
    "    )\n",
    "    \n",
    "    _scaler = torch.amp.GradScaler(enabled=hyperparameters['use_amp'])\n",
    "    \n",
    "    _criterion = nn.MSELoss()\n",
    "        \n",
    "    expert_trainer_dict[f'expert_{expert_id}']['model'] = _expert_model\n",
    "    expert_trainer_dict[f'expert_{expert_id}']['optimizer'] = _optimizer\n",
    "    expert_trainer_dict[f'expert_{expert_id}']['scheduler'] = _scheduler\n",
    "    expert_trainer_dict[f'expert_{expert_id}']['scaler'] = _scaler\n",
    "    expert_trainer_dict[f'expert_{expert_id}']['criterion'] = _criterion"
   ]
  },
  {
   "cell_type": "markdown",
   "id": "4e6b4ac4-047d-4219-8644-1b8066c514a2",
   "metadata": {},
   "source": [
    "#### Example Prediction"
   ]
  },
  {
   "cell_type": "code",
   "execution_count": 74,
   "id": "8be2e080-45e8-4a64-acc1-373d17ad0ac3",
   "metadata": {},
   "outputs": [
    {
     "data": {
      "text/plain": [
       "torch.Size([1, 32, 1])"
      ]
     },
     "execution_count": 74,
     "metadata": {},
     "output_type": "execute_result"
    }
   ],
   "source": [
    "ex_expert_id = 0\n",
    "\n",
    "# \"1\" is the batch, single sample to speed it up\n",
    "dummy_data = torch.randn(1, hyperparameters['window_size'], expert_hyperparameters[f'expert_{ex_expert_id}']['input_features_size'])\n",
    "dummy_date = torch.randn(1, hyperparameters['window_size'], expert_hyperparameters[f'expert_{ex_expert_id}']['date_input_features_size'])\n",
    "\n",
    "o = expert_trainer_dict[f'expert_{ex_expert_id}']['model'](dummy_data, dummy_date)\n",
    "o.shape"
   ]
  },
  {
   "cell_type": "markdown",
   "id": "4fa1e4dc-ed2f-4fdc-ae2c-b9fd00204da3",
   "metadata": {},
   "source": [
    "# Devices for MoE\n",
    "### Single GPU"
   ]
  },
  {
   "cell_type": "code",
   "execution_count": 75,
   "id": "20b1053a-2779-46ec-88fd-29dba53ed66a",
   "metadata": {},
   "outputs": [],
   "source": [
    "for expert_id in range(len(expert_trainer_dict)):\n",
    "    expert_trainer_dict[f'expert_{expert_id}']['device'] = 'cuda:0'"
   ]
  },
  {
   "cell_type": "markdown",
   "id": "d2751087-9f27-4e56-8d23-602e9c314285",
   "metadata": {},
   "source": [
    "### Multiple GPU"
   ]
  },
  {
   "cell_type": "code",
   "execution_count": 76,
   "id": "ba9576b3-344d-47a6-980b-840e8c7e6f36",
   "metadata": {},
   "outputs": [],
   "source": [
    "# USE THIS IF YOU HAVE SECOND GPU\n",
    "#expert_trainer_dict['expert_0']['device'] = 'cuda:0'\n",
    "#expert_trainer_dict['expert_1']['device'] = 'cuda:1'"
   ]
  },
  {
   "cell_type": "markdown",
   "id": "ccb1740d-6df6-4bc9-8da2-adede78ca844",
   "metadata": {},
   "source": [
    "#### Final Expert Trainer Dict"
   ]
  },
  {
   "cell_type": "code",
   "execution_count": 77,
   "id": "a4c3b1f8-4989-4546-bcfa-72bb9e444a07",
   "metadata": {},
   "outputs": [
    {
     "data": {
      "text/plain": [
       "(dict_keys(['expert_0', 'expert_1']),\n",
       " dict_keys(['model', 'optimizer', 'scheduler', 'scaler', 'criterion', 'device']))"
      ]
     },
     "execution_count": 77,
     "metadata": {},
     "output_type": "execute_result"
    }
   ],
   "source": [
    "expert_trainer_dict.keys(), expert_trainer_dict['expert_0'].keys()"
   ]
  },
  {
   "cell_type": "code",
   "execution_count": 78,
   "id": "a86f98b9-3175-4d0c-855a-f054321d2f86",
   "metadata": {},
   "outputs": [],
   "source": [
    "def expert_trainer(hyperparameters, expert_trainer_dict):\n",
    "    for epoch in range(1, hyperparameters['num_epochs']+1):\n",
    "        for expert_id in range(len(expert_trainer_dict)):\n",
    "            _model     = expert_trainer_dict[f'expert_{expert_id}']['model']\n",
    "            _optimizer = expert_trainer_dict[f'expert_{expert_id}']['optimizer'] \n",
    "            _scheduler = expert_trainer_dict[f'expert_{expert_id}']['scheduler']\n",
    "            _scaler    = expert_trainer_dict[f'expert_{expert_id}']['scaler']\n",
    "            _criterion = expert_trainer_dict[f'expert_{expert_id}']['criterion']\n",
    "            _device    = expert_trainer_dict[f'expert_{expert_id}']['device']\n",
    "\n",
    "            _model.to(_device)\n",
    "            \n",
    "            avg_train_loss = expert_train_iter(\n",
    "                model=_model, \n",
    "                dataloader=dataloader_train, \n",
    "                optimizer=_optimizer, \n",
    "                criterion=_criterion, \n",
    "                scaler=_scaler, \n",
    "                use_amp=hyperparameters['use_amp'], \n",
    "                device=_device,\n",
    "                expert_id=expert_id,\n",
    "            )\n",
    "            \n",
    "            avg_test_loss, _ = expert_eval_iter(\n",
    "                model=_model, \n",
    "                dataloader=dataloader_test, \n",
    "                criterion=_criterion,\n",
    "                use_amp=hyperparameters['use_amp'],\n",
    "                device=_device,\n",
    "                expert_id=expert_id,\n",
    "            )\n",
    "        \n",
    "            # auto decrease LR when not improving\n",
    "            _scheduler.step(avg_test_loss)\n",
    "            \n",
    "            print(f'Epoch: {epoch:<3}| Expert: {expert_id:>2}, Training loss: {avg_train_loss:.6f}, Testing Loss: {avg_test_loss:.6f}, LR: {_scheduler.get_last_lr()}')\n",
    "\n",
    "            # save some memory\n",
    "            torch.cuda.empty_cache()\n",
    "            gc.collect()\n",
    "            \n",
    "        print()"
   ]
  },
  {
   "cell_type": "markdown",
   "id": "c1c09fb5-2d00-4314-8b8c-357fab2db861",
   "metadata": {},
   "source": [
    "### Start Training"
   ]
  },
  {
   "cell_type": "code",
   "execution_count": 79,
   "id": "e0230963-f90a-4f2e-a4aa-e16260ed7637",
   "metadata": {},
   "outputs": [
    {
     "name": "stdout",
     "output_type": "stream",
     "text": [
      "Epoch: 1  | Expert:  0, Training loss: 0.3117, Testing Loss: 0.0172, LR: [0.001]\n",
      "Epoch: 1  | Expert:  1, Training loss: 0.7682, Testing Loss: 0.0118, LR: [0.001]\n",
      "\n",
      "Epoch: 2  | Expert:  0, Training loss: 0.0062, Testing Loss: 0.0034, LR: [0.001]\n",
      "Epoch: 2  | Expert:  1, Training loss: 0.0131, Testing Loss: 0.0106, LR: [0.001]\n",
      "\n",
      "Epoch: 3  | Expert:  0, Training loss: 0.0023, Testing Loss: 0.0018, LR: [0.001]\n",
      "Epoch: 3  | Expert:  1, Training loss: 0.0103, Testing Loss: 0.0100, LR: [0.001]\n",
      "\n",
      "Epoch: 4  | Expert:  0, Training loss: 0.0019, Testing Loss: 0.0017, LR: [0.001]\n",
      "Epoch: 4  | Expert:  1, Training loss: 0.0101, Testing Loss: 0.0100, LR: [0.001]\n",
      "\n",
      "Epoch: 5  | Expert:  0, Training loss: 0.0019, Testing Loss: 0.0017, LR: [0.001]\n",
      "Epoch: 5  | Expert:  1, Training loss: 0.0100, Testing Loss: 0.0099, LR: [0.001]\n",
      "\n",
      "Epoch: 6  | Expert:  0, Training loss: 0.0019, Testing Loss: 0.0017, LR: [0.001]\n",
      "Epoch: 6  | Expert:  1, Training loss: 0.0100, Testing Loss: 0.0099, LR: [0.001]\n",
      "\n",
      "Epoch: 7  | Expert:  0, Training loss: 0.0019, Testing Loss: 0.0017, LR: [0.001]\n",
      "Epoch: 7  | Expert:  1, Training loss: 0.0100, Testing Loss: 0.0099, LR: [0.001]\n",
      "\n",
      "Epoch: 8  | Expert:  0, Training loss: 0.0019, Testing Loss: 0.0017, LR: [0.001]\n",
      "Epoch: 8  | Expert:  1, Training loss: 0.0100, Testing Loss: 0.0099, LR: [0.001]\n",
      "\n"
     ]
    },
    {
     "ename": "KeyboardInterrupt",
     "evalue": "",
     "output_type": "error",
     "traceback": [
      "\u001b[1;31m---------------------------------------------------------------------------\u001b[0m",
      "\u001b[1;31mKeyboardInterrupt\u001b[0m                         Traceback (most recent call last)",
      "Cell \u001b[1;32mIn[79], line 1\u001b[0m\n\u001b[1;32m----> 1\u001b[0m \u001b[43mexpert_trainer\u001b[49m\u001b[43m(\u001b[49m\u001b[43mhyperparameters\u001b[49m\u001b[43m,\u001b[49m\u001b[43m \u001b[49m\u001b[43mexpert_trainer_dict\u001b[49m\u001b[43m)\u001b[49m\n",
      "Cell \u001b[1;32mIn[78], line 13\u001b[0m, in \u001b[0;36mexpert_trainer\u001b[1;34m(hyperparameters, expert_trainer_dict)\u001b[0m\n\u001b[0;32m      9\u001b[0m _device    \u001b[38;5;241m=\u001b[39m expert_trainer_dict[\u001b[38;5;124mf\u001b[39m\u001b[38;5;124m'\u001b[39m\u001b[38;5;124mexpert_\u001b[39m\u001b[38;5;132;01m{\u001b[39;00mexpert_id\u001b[38;5;132;01m}\u001b[39;00m\u001b[38;5;124m'\u001b[39m][\u001b[38;5;124m'\u001b[39m\u001b[38;5;124mdevice\u001b[39m\u001b[38;5;124m'\u001b[39m]\n\u001b[0;32m     11\u001b[0m _model\u001b[38;5;241m.\u001b[39mto(_device)\n\u001b[1;32m---> 13\u001b[0m avg_train_loss \u001b[38;5;241m=\u001b[39m \u001b[43mexpert_train_iter\u001b[49m\u001b[43m(\u001b[49m\n\u001b[0;32m     14\u001b[0m \u001b[43m    \u001b[49m\u001b[43mmodel\u001b[49m\u001b[38;5;241;43m=\u001b[39;49m\u001b[43m_model\u001b[49m\u001b[43m,\u001b[49m\u001b[43m \u001b[49m\n\u001b[0;32m     15\u001b[0m \u001b[43m    \u001b[49m\u001b[43mdataloader\u001b[49m\u001b[38;5;241;43m=\u001b[39;49m\u001b[43mdataloader_train\u001b[49m\u001b[43m,\u001b[49m\u001b[43m \u001b[49m\n\u001b[0;32m     16\u001b[0m \u001b[43m    \u001b[49m\u001b[43moptimizer\u001b[49m\u001b[38;5;241;43m=\u001b[39;49m\u001b[43m_optimizer\u001b[49m\u001b[43m,\u001b[49m\u001b[43m \u001b[49m\n\u001b[0;32m     17\u001b[0m \u001b[43m    \u001b[49m\u001b[43mcriterion\u001b[49m\u001b[38;5;241;43m=\u001b[39;49m\u001b[43m_criterion\u001b[49m\u001b[43m,\u001b[49m\u001b[43m \u001b[49m\n\u001b[0;32m     18\u001b[0m \u001b[43m    \u001b[49m\u001b[43mscaler\u001b[49m\u001b[38;5;241;43m=\u001b[39;49m\u001b[43m_scaler\u001b[49m\u001b[43m,\u001b[49m\u001b[43m \u001b[49m\n\u001b[0;32m     19\u001b[0m \u001b[43m    \u001b[49m\u001b[43muse_amp\u001b[49m\u001b[38;5;241;43m=\u001b[39;49m\u001b[43mhyperparameters\u001b[49m\u001b[43m[\u001b[49m\u001b[38;5;124;43m'\u001b[39;49m\u001b[38;5;124;43muse_amp\u001b[39;49m\u001b[38;5;124;43m'\u001b[39;49m\u001b[43m]\u001b[49m\u001b[43m,\u001b[49m\u001b[43m \u001b[49m\n\u001b[0;32m     20\u001b[0m \u001b[43m    \u001b[49m\u001b[43mdevice\u001b[49m\u001b[38;5;241;43m=\u001b[39;49m\u001b[43m_device\u001b[49m\u001b[43m,\u001b[49m\n\u001b[0;32m     21\u001b[0m \u001b[43m    \u001b[49m\u001b[43mexpert_id\u001b[49m\u001b[38;5;241;43m=\u001b[39;49m\u001b[43mexpert_id\u001b[49m\u001b[43m,\u001b[49m\n\u001b[0;32m     22\u001b[0m \u001b[43m\u001b[49m\u001b[43m)\u001b[49m\n\u001b[0;32m     24\u001b[0m avg_test_loss, _ \u001b[38;5;241m=\u001b[39m expert_eval_iter(\n\u001b[0;32m     25\u001b[0m     model\u001b[38;5;241m=\u001b[39m_model, \n\u001b[0;32m     26\u001b[0m     dataloader\u001b[38;5;241m=\u001b[39mdataloader_test, \n\u001b[1;32m   (...)\u001b[0m\n\u001b[0;32m     30\u001b[0m     expert_id\u001b[38;5;241m=\u001b[39mexpert_id,\n\u001b[0;32m     31\u001b[0m )\n\u001b[0;32m     33\u001b[0m \u001b[38;5;66;03m# auto decrease LR when not improving\u001b[39;00m\n",
      "Cell \u001b[1;32mIn[71], line 6\u001b[0m, in \u001b[0;36mexpert_train_iter\u001b[1;34m(model, dataloader, optimizer, criterion, scaler, use_amp, device, expert_id)\u001b[0m\n\u001b[0;32m      2\u001b[0m model\u001b[38;5;241m.\u001b[39mtrain()\n\u001b[0;32m      4\u001b[0m avg_loss \u001b[38;5;241m=\u001b[39m []\n\u001b[1;32m----> 6\u001b[0m \u001b[43m\u001b[49m\u001b[38;5;28;43;01mfor\u001b[39;49;00m\u001b[43m \u001b[49m\u001b[43mreturn_dict\u001b[49m\u001b[43m \u001b[49m\u001b[38;5;129;43;01min\u001b[39;49;00m\u001b[43m \u001b[49m\u001b[43mdataloader\u001b[49m\u001b[43m:\u001b[49m\n\u001b[0;32m      8\u001b[0m \u001b[43m    \u001b[49m\u001b[43m(\u001b[49m\u001b[43mlags\u001b[49m\u001b[43m,\u001b[49m\u001b[43m \u001b[49m\u001b[43mforecast\u001b[49m\u001b[43m,\u001b[49m\u001b[43m \u001b[49m\u001b[43mdate\u001b[49m\u001b[43m,\u001b[49m\u001b[43m \u001b[49m\u001b[43mattention_mask\u001b[49m\u001b[43m)\u001b[49m\u001b[43m \u001b[49m\u001b[38;5;241;43m=\u001b[39;49m\u001b[43m \u001b[49m\u001b[43mreturn_dict\u001b[49m\u001b[43m[\u001b[49m\u001b[38;5;124;43mf\u001b[39;49m\u001b[38;5;124;43m'\u001b[39;49m\u001b[38;5;124;43mexpert_\u001b[39;49m\u001b[38;5;132;43;01m{\u001b[39;49;00m\u001b[43mexpert_id\u001b[49m\u001b[38;5;132;43;01m}\u001b[39;49;00m\u001b[38;5;124;43m'\u001b[39;49m\u001b[43m]\u001b[49m\n\u001b[0;32m     10\u001b[0m \u001b[43m    \u001b[49m\u001b[43mlags\u001b[49m\u001b[43m \u001b[49m\u001b[38;5;241;43m=\u001b[39;49m\u001b[43m \u001b[49m\u001b[43mlags\u001b[49m\u001b[38;5;241;43m.\u001b[39;49m\u001b[43mto\u001b[49m\u001b[43m(\u001b[49m\u001b[43mdevice\u001b[49m\u001b[43m)\u001b[49m\n",
      "File \u001b[1;32m~\\anaconda3\\envs\\pytorch\\Lib\\site-packages\\torch\\utils\\data\\dataloader.py:630\u001b[0m, in \u001b[0;36m_BaseDataLoaderIter.__next__\u001b[1;34m(self)\u001b[0m\n\u001b[0;32m    627\u001b[0m \u001b[38;5;28;01mif\u001b[39;00m \u001b[38;5;28mself\u001b[39m\u001b[38;5;241m.\u001b[39m_sampler_iter \u001b[38;5;129;01mis\u001b[39;00m \u001b[38;5;28;01mNone\u001b[39;00m:\n\u001b[0;32m    628\u001b[0m     \u001b[38;5;66;03m# TODO(https://github.com/pytorch/pytorch/issues/76750)\u001b[39;00m\n\u001b[0;32m    629\u001b[0m     \u001b[38;5;28mself\u001b[39m\u001b[38;5;241m.\u001b[39m_reset()  \u001b[38;5;66;03m# type: ignore[call-arg]\u001b[39;00m\n\u001b[1;32m--> 630\u001b[0m data \u001b[38;5;241m=\u001b[39m \u001b[38;5;28;43mself\u001b[39;49m\u001b[38;5;241;43m.\u001b[39;49m\u001b[43m_next_data\u001b[49m\u001b[43m(\u001b[49m\u001b[43m)\u001b[49m\n\u001b[0;32m    631\u001b[0m \u001b[38;5;28mself\u001b[39m\u001b[38;5;241m.\u001b[39m_num_yielded \u001b[38;5;241m+\u001b[39m\u001b[38;5;241m=\u001b[39m \u001b[38;5;241m1\u001b[39m\n\u001b[0;32m    632\u001b[0m \u001b[38;5;28;01mif\u001b[39;00m \u001b[38;5;28mself\u001b[39m\u001b[38;5;241m.\u001b[39m_dataset_kind \u001b[38;5;241m==\u001b[39m _DatasetKind\u001b[38;5;241m.\u001b[39mIterable \u001b[38;5;129;01mand\u001b[39;00m \\\n\u001b[0;32m    633\u001b[0m         \u001b[38;5;28mself\u001b[39m\u001b[38;5;241m.\u001b[39m_IterableDataset_len_called \u001b[38;5;129;01mis\u001b[39;00m \u001b[38;5;129;01mnot\u001b[39;00m \u001b[38;5;28;01mNone\u001b[39;00m \u001b[38;5;129;01mand\u001b[39;00m \\\n\u001b[0;32m    634\u001b[0m         \u001b[38;5;28mself\u001b[39m\u001b[38;5;241m.\u001b[39m_num_yielded \u001b[38;5;241m>\u001b[39m \u001b[38;5;28mself\u001b[39m\u001b[38;5;241m.\u001b[39m_IterableDataset_len_called:\n",
      "File \u001b[1;32m~\\anaconda3\\envs\\pytorch\\Lib\\site-packages\\torch\\utils\\data\\dataloader.py:673\u001b[0m, in \u001b[0;36m_SingleProcessDataLoaderIter._next_data\u001b[1;34m(self)\u001b[0m\n\u001b[0;32m    671\u001b[0m \u001b[38;5;28;01mdef\u001b[39;00m \u001b[38;5;21m_next_data\u001b[39m(\u001b[38;5;28mself\u001b[39m):\n\u001b[0;32m    672\u001b[0m     index \u001b[38;5;241m=\u001b[39m \u001b[38;5;28mself\u001b[39m\u001b[38;5;241m.\u001b[39m_next_index()  \u001b[38;5;66;03m# may raise StopIteration\u001b[39;00m\n\u001b[1;32m--> 673\u001b[0m     data \u001b[38;5;241m=\u001b[39m \u001b[38;5;28;43mself\u001b[39;49m\u001b[38;5;241;43m.\u001b[39;49m\u001b[43m_dataset_fetcher\u001b[49m\u001b[38;5;241;43m.\u001b[39;49m\u001b[43mfetch\u001b[49m\u001b[43m(\u001b[49m\u001b[43mindex\u001b[49m\u001b[43m)\u001b[49m  \u001b[38;5;66;03m# may raise StopIteration\u001b[39;00m\n\u001b[0;32m    674\u001b[0m     \u001b[38;5;28;01mif\u001b[39;00m \u001b[38;5;28mself\u001b[39m\u001b[38;5;241m.\u001b[39m_pin_memory:\n\u001b[0;32m    675\u001b[0m         data \u001b[38;5;241m=\u001b[39m _utils\u001b[38;5;241m.\u001b[39mpin_memory\u001b[38;5;241m.\u001b[39mpin_memory(data, \u001b[38;5;28mself\u001b[39m\u001b[38;5;241m.\u001b[39m_pin_memory_device)\n",
      "File \u001b[1;32m~\\anaconda3\\envs\\pytorch\\Lib\\site-packages\\torch\\utils\\data\\_utils\\fetch.py:50\u001b[0m, in \u001b[0;36m_MapDatasetFetcher.fetch\u001b[1;34m(self, possibly_batched_index)\u001b[0m\n\u001b[0;32m     48\u001b[0m \u001b[38;5;28;01mif\u001b[39;00m \u001b[38;5;28mself\u001b[39m\u001b[38;5;241m.\u001b[39mauto_collation:\n\u001b[0;32m     49\u001b[0m     \u001b[38;5;28;01mif\u001b[39;00m \u001b[38;5;28mhasattr\u001b[39m(\u001b[38;5;28mself\u001b[39m\u001b[38;5;241m.\u001b[39mdataset, \u001b[38;5;124m\"\u001b[39m\u001b[38;5;124m__getitems__\u001b[39m\u001b[38;5;124m\"\u001b[39m) \u001b[38;5;129;01mand\u001b[39;00m \u001b[38;5;28mself\u001b[39m\u001b[38;5;241m.\u001b[39mdataset\u001b[38;5;241m.\u001b[39m__getitems__:\n\u001b[1;32m---> 50\u001b[0m         data \u001b[38;5;241m=\u001b[39m \u001b[38;5;28;43mself\u001b[39;49m\u001b[38;5;241;43m.\u001b[39;49m\u001b[43mdataset\u001b[49m\u001b[38;5;241;43m.\u001b[39;49m\u001b[43m__getitems__\u001b[49m\u001b[43m(\u001b[49m\u001b[43mpossibly_batched_index\u001b[49m\u001b[43m)\u001b[49m\n\u001b[0;32m     51\u001b[0m     \u001b[38;5;28;01melse\u001b[39;00m:\n\u001b[0;32m     52\u001b[0m         data \u001b[38;5;241m=\u001b[39m [\u001b[38;5;28mself\u001b[39m\u001b[38;5;241m.\u001b[39mdataset[idx] \u001b[38;5;28;01mfor\u001b[39;00m idx \u001b[38;5;129;01min\u001b[39;00m possibly_batched_index]\n",
      "File \u001b[1;32m~\\anaconda3\\envs\\pytorch\\Lib\\site-packages\\torch\\utils\\data\\dataset.py:420\u001b[0m, in \u001b[0;36mSubset.__getitems__\u001b[1;34m(self, indices)\u001b[0m\n\u001b[0;32m    418\u001b[0m     \u001b[38;5;28;01mreturn\u001b[39;00m \u001b[38;5;28mself\u001b[39m\u001b[38;5;241m.\u001b[39mdataset\u001b[38;5;241m.\u001b[39m__getitems__([\u001b[38;5;28mself\u001b[39m\u001b[38;5;241m.\u001b[39mindices[idx] \u001b[38;5;28;01mfor\u001b[39;00m idx \u001b[38;5;129;01min\u001b[39;00m indices])  \u001b[38;5;66;03m# type: ignore[attr-defined]\u001b[39;00m\n\u001b[0;32m    419\u001b[0m \u001b[38;5;28;01melse\u001b[39;00m:\n\u001b[1;32m--> 420\u001b[0m     \u001b[38;5;28;01mreturn\u001b[39;00m \u001b[43m[\u001b[49m\u001b[38;5;28;43mself\u001b[39;49m\u001b[38;5;241;43m.\u001b[39;49m\u001b[43mdataset\u001b[49m\u001b[43m[\u001b[49m\u001b[38;5;28;43mself\u001b[39;49m\u001b[38;5;241;43m.\u001b[39;49m\u001b[43mindices\u001b[49m\u001b[43m[\u001b[49m\u001b[43midx\u001b[49m\u001b[43m]\u001b[49m\u001b[43m]\u001b[49m\u001b[43m \u001b[49m\u001b[38;5;28;43;01mfor\u001b[39;49;00m\u001b[43m \u001b[49m\u001b[43midx\u001b[49m\u001b[43m \u001b[49m\u001b[38;5;129;43;01min\u001b[39;49;00m\u001b[43m \u001b[49m\u001b[43mindices\u001b[49m\u001b[43m]\u001b[49m\n",
      "File \u001b[1;32m~\\anaconda3\\envs\\pytorch\\Lib\\site-packages\\torch\\utils\\data\\dataset.py:420\u001b[0m, in \u001b[0;36m<listcomp>\u001b[1;34m(.0)\u001b[0m\n\u001b[0;32m    418\u001b[0m     \u001b[38;5;28;01mreturn\u001b[39;00m \u001b[38;5;28mself\u001b[39m\u001b[38;5;241m.\u001b[39mdataset\u001b[38;5;241m.\u001b[39m__getitems__([\u001b[38;5;28mself\u001b[39m\u001b[38;5;241m.\u001b[39mindices[idx] \u001b[38;5;28;01mfor\u001b[39;00m idx \u001b[38;5;129;01min\u001b[39;00m indices])  \u001b[38;5;66;03m# type: ignore[attr-defined]\u001b[39;00m\n\u001b[0;32m    419\u001b[0m \u001b[38;5;28;01melse\u001b[39;00m:\n\u001b[1;32m--> 420\u001b[0m     \u001b[38;5;28;01mreturn\u001b[39;00m [\u001b[38;5;28;43mself\u001b[39;49m\u001b[38;5;241;43m.\u001b[39;49m\u001b[43mdataset\u001b[49m\u001b[43m[\u001b[49m\u001b[38;5;28;43mself\u001b[39;49m\u001b[38;5;241;43m.\u001b[39;49m\u001b[43mindices\u001b[49m\u001b[43m[\u001b[49m\u001b[43midx\u001b[49m\u001b[43m]\u001b[49m\u001b[43m]\u001b[49m \u001b[38;5;28;01mfor\u001b[39;00m idx \u001b[38;5;129;01min\u001b[39;00m indices]\n",
      "Cell \u001b[1;32mIn[6], line 130\u001b[0m, in \u001b[0;36mMixtureTimeSeriesDataset.__getitem__\u001b[1;34m(self, start_idx)\u001b[0m\n\u001b[0;32m    127\u001b[0m forecast \u001b[38;5;241m=\u001b[39m sample_window[\u001b[38;5;241m1\u001b[39m:, :]\n\u001b[0;32m    129\u001b[0m \u001b[38;5;66;03m# convert to tensor\u001b[39;00m\n\u001b[1;32m--> 130\u001b[0m lags \u001b[38;5;241m=\u001b[39m \u001b[43mtorch\u001b[49m\u001b[38;5;241;43m.\u001b[39;49m\u001b[43mtensor\u001b[49m\u001b[43m(\u001b[49m\u001b[43mlags\u001b[49m\u001b[43m,\u001b[49m\u001b[43m \u001b[49m\u001b[43mdtype\u001b[49m\u001b[38;5;241;43m=\u001b[39;49m\u001b[43mtorch\u001b[49m\u001b[38;5;241;43m.\u001b[39;49m\u001b[43mfloat32\u001b[49m\u001b[43m)\u001b[49m\n\u001b[0;32m    131\u001b[0m forecast \u001b[38;5;241m=\u001b[39m torch\u001b[38;5;241m.\u001b[39mtensor(forecast, dtype\u001b[38;5;241m=\u001b[39mtorch\u001b[38;5;241m.\u001b[39mfloat32)\n\u001b[0;32m    133\u001b[0m \u001b[38;5;66;03m# (lags, date_input_features_size)\u001b[39;00m\n\u001b[0;32m    134\u001b[0m \u001b[38;5;66;03m# 1970-01-01 is used for padding values\u001b[39;00m\n",
      "\u001b[1;31mKeyboardInterrupt\u001b[0m: "
     ]
    }
   ],
   "source": [
    "expert_trainer(hyperparameters, expert_trainer_dict)"
   ]
  },
  {
   "cell_type": "markdown",
   "id": "5ca0d119-19bc-4098-99dc-18a5b8cc581f",
   "metadata": {},
   "source": [
    "# Save Model"
   ]
  },
  {
   "cell_type": "code",
   "execution_count": 80,
   "id": "fb190312-0f3d-4e68-a481-a435c4ae5da0",
   "metadata": {},
   "outputs": [],
   "source": [
    "os.makedirs('./saved_models', exist_ok=True)\n",
    "\n",
    "expert_checkpoint_dict = {}\n",
    "\n",
    "for expert_id in range(hyperparameters['num_experts']):\n",
    "    checkpoint = {}\n",
    "    \n",
    "    checkpoint = {\n",
    "        'model_state_dict': expert_trainer_dict[f'expert_{expert_id}']['model'].state_dict(),\n",
    "        'optimizer_state_dict': expert_trainer_dict[f'expert_{expert_id}']['optimizer'].state_dict(),\n",
    "        'hyperparameters': hyperparameters,\n",
    "    }\n",
    "    \n",
    "    if hyperparameters['use_amp']:\n",
    "        checkpoint['scaler_state_dict'] = expert_trainer_dict[f'expert_{expert_id}']['scaler'].state_dict()\n",
    "\n",
    "    expert_checkpoint_dict[f'expert_{expert_id}'] = checkpoint\n",
    "\n",
    "\n",
    "torch.save(\n",
    "    expert_checkpoint_dict,\n",
    "    './saved_models/GPTTimeSeries_Autoregressive_MoE.pt'\n",
    ")"
   ]
  },
  {
   "cell_type": "markdown",
   "id": "a1cf35c6-0043-4533-ac32-ea186c2cefbb",
   "metadata": {},
   "source": [
    "# Generative Forecast"
   ]
  },
  {
   "cell_type": "code",
   "execution_count": 81,
   "id": "b70fe843-6e44-4e06-8f6f-3ceec8e4f47d",
   "metadata": {},
   "outputs": [],
   "source": [
    "@torch.no_grad()\n",
    "def generative_forecast(model, data, timestamps, num_steps, lag_window_size, use_amp, device):\n",
    "    model.eval()\n",
    "    \n",
    "    predictions = []\n",
    "    time_indexes = []\n",
    "    \n",
    "    # covnert to tensor\n",
    "    # data.shape: (lags, features)\n",
    "    lags = torch.tensor(data[-lag_window_size:, :], dtype=torch.float32, device=device)\n",
    "    \n",
    "    # artificially add batch dimension\n",
    "    # (we are not using the dataloader here!)\n",
    "    # data.shape: (1, lags, features)\n",
    "    lags = lags.unsqueeze(0)\n",
    "\n",
    "    # Datetime indexes \n",
    "    #timestamps = df_full.index \n",
    "    # Delta time: calculate the time difference between two samples \n",
    "    delta_time = timestamps[1] - timestamps[0]\n",
    "    # Get last timestamp\n",
    "    current_timestamp = timestamps[-1]\n",
    "\n",
    "    def generate_date_tensor(_timestamp, _lags, _device):\n",
    "        _timestamp = _timestamp[-lag_window_size:]\n",
    "        return torch.tensor([_timestamp.month, _timestamp.day, _timestamp.hour], dtype=torch.float32, device=_device).permute(1, 0)\n",
    "    \n",
    "    # single step\n",
    "    for idx in tqdm(range(num_steps)):\n",
    "\n",
    "        # get the last lag steps\n",
    "        lags = lags[:, -lag_window_size:, :]\n",
    "        #print(lags)\n",
    "\n",
    "        # date\n",
    "        date = generate_date_tensor(timestamps, lag_window_size, device).unsqueeze(0)\n",
    "\n",
    "        # remove device index (required for autocast device_type)\n",
    "        if ':' in device:\n",
    "            device_type = device.split(':')[0]\n",
    "        else:\n",
    "            device_type = device\n",
    "        \n",
    "        with torch.autocast(device_type=device_type, dtype=torch.float16, enabled=use_amp):\n",
    "            # (attention mask is not required here)\n",
    "            forecast_pred = model(lags, date)\n",
    "        \n",
    "        # (batch, forecast, output_features_size)-> (1, window_size-1, output_features_size)\n",
    "        # TAKE THE LAST PREDICTION STEP AS FORECAST!\n",
    "        predictions.append(forecast_pred[0][-1].cpu().numpy())\n",
    "\n",
    "        # update current timestamp\n",
    "        current_timestamp = current_timestamp + delta_time\n",
    "        time_indexes.append(current_timestamp)\n",
    "        \n",
    "        # append last forecast to the end\n",
    "        # TAKE THE LAST PREDICTION STEP AS FORECAST!\n",
    "        lags = torch.cat((lags, forecast_pred[:, -1:, :].detach()), dim=1)\n",
    "        \n",
    "        # next timestamp\n",
    "        timestamps = timestamps + delta_time\n",
    "\n",
    "    return predictions, time_indexes"
   ]
  },
  {
   "cell_type": "code",
   "execution_count": 88,
   "id": "4f197c2b-8058-4624-9b82-6251a556fd33",
   "metadata": {},
   "outputs": [
    {
     "name": "stderr",
     "output_type": "stream",
     "text": [
      "100%|██████████████████████████████████████████████████████████████████████████████| 32/32 [00:00<00:00, 97.70it/s]"
     ]
    },
    {
     "name": "stdout",
     "output_type": "stream",
     "text": [
      "                        value\n",
      "2014-02-28 14:30:00  0.028076\n",
      "2014-02-28 14:35:00  0.028061\n",
      "2014-02-28 14:40:00  0.028046\n",
      "2014-02-28 14:45:00  0.028046\n",
      "2014-02-28 14:50:00  0.028046\n",
      "                        value\n",
      "2014-02-28 14:30:00  0.038544\n",
      "2014-02-28 14:35:00  0.038177\n",
      "2014-02-28 14:40:00  0.037811\n",
      "2014-02-28 14:45:00  0.037811\n",
      "2014-02-28 14:50:00  0.037811\n"
     ]
    },
    {
     "name": "stderr",
     "output_type": "stream",
     "text": [
      "\n"
     ]
    },
    {
     "data": {
      "text/plain": [
       "\"\\n# REVERSE THE PREPROCESSING FOR ORIGINAL RANGE\\ndf_generative[df_generative.columns] = dataset_full.scalers[EXPERT_ID].inverse_transform(df_generative[df_generative.columns])    \\n\\ndf_generative[SELECTED_FEATURES].plot(title='Generative Forecast')\\ndataset_full.named_df_list[f'expert_{EXPERT_ID}'][-hyperparameters['window_size']:].plot(title='Last Window')\\n\""
      ]
     },
     "execution_count": 88,
     "metadata": {},
     "output_type": "execute_result"
    }
   ],
   "source": [
    "# select expert to generate\n",
    "EXPERT_ID = 0\n",
    "# features to forecast\n",
    "SELECTED_FEATURES = 'value'\n",
    "# should be min of original model\n",
    "#REQUEST_WINDOW_SIZE = 200 * 2 # * 2 is added for convenience\n",
    "REQUEST_WINDOW_SIZE = hyperparameters['window_size']\n",
    "# temp dataframe for generative prediction input\n",
    "df_temp = dataset_full.df_list[EXPERT_ID][-REQUEST_WINDOW_SIZE:]\n",
    "\n",
    "if isinstance(df_temp, pd.Series):\n",
    "    df_temp = df_temp.to_frame()\n",
    "\n",
    "pred_generative, time_indexes_generative = generative_forecast(\n",
    "    model=expert_trainer_dict[f'expert_{EXPERT_ID}']['model'], \n",
    "    data=df_temp.values,\n",
    "    timestamps=df_temp.index,\n",
    "    num_steps=hyperparameters['window_size'], \n",
    "    lag_window_size=hyperparameters['window_size'], \n",
    "    use_amp=hyperparameters['use_amp'], \n",
    "    device=expert_trainer_dict[f'expert_{EXPERT_ID}']['device']\n",
    ")\n",
    "\n",
    "pred_generative_array = np.array(pred_generative)\n",
    "\n",
    "generative_results_dict = {}\n",
    "\n",
    "# loop ove features\n",
    "for feature_id, feature_key in enumerate(df_temp.columns):\n",
    "    generative_results_dict[feature_key] = pred_generative_array[:, feature_id]\n",
    "        \n",
    "df_generative = pd.DataFrame(data=generative_results_dict, index=time_indexes_generative)\n",
    "\n",
    "print(df_generative.head())\n",
    "\n",
    "df_generative_unscaled = pd.DataFrame(\n",
    "    data=expert_scaler_dict[f'expert_{EXPERT_ID}'].inverse_transform(df_generative),\n",
    "    index=df_generative.index,\n",
    "    columns=df_generative.columns\n",
    ")\n",
    "\n",
    "print(df_generative_unscaled.head())\n",
    "\n",
    "\"\"\"\n",
    "# REVERSE THE PREPROCESSING FOR ORIGINAL RANGE\n",
    "df_generative[df_generative.columns] = dataset_full.scalers[EXPERT_ID].inverse_transform(df_generative[df_generative.columns])    \n",
    "\n",
    "df_generative[SELECTED_FEATURES].plot(title='Generative Forecast')\n",
    "dataset_full.named_df_list[f'expert_{EXPERT_ID}'][-hyperparameters['window_size']:].plot(title='Last Window')\n",
    "\"\"\""
   ]
  },
  {
   "cell_type": "code",
   "execution_count": null,
   "id": "ed211574-3764-4ff1-970e-4b586bd07265",
   "metadata": {},
   "outputs": [],
   "source": []
  }
 ],
 "metadata": {
  "kernelspec": {
   "display_name": "Python 3 (ipykernel)",
   "language": "python",
   "name": "python3"
  },
  "language_info": {
   "codemirror_mode": {
    "name": "ipython",
    "version": 3
   },
   "file_extension": ".py",
   "mimetype": "text/x-python",
   "name": "python",
   "nbconvert_exporter": "python",
   "pygments_lexer": "ipython3",
   "version": "3.11.9"
  }
 },
 "nbformat": 4,
 "nbformat_minor": 5
}
