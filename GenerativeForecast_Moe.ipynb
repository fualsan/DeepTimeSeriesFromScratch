{
 "cells": [
  {
   "cell_type": "markdown",
   "id": "a18c6069-4621-4b99-9bc6-d5ee67cc43a7",
   "metadata": {},
   "source": [
    "# Generative Forecast Autoregressively (with MoE)\n",
    "### **NOTE: this notebook assumes that all experts are have identical model architecture**\n",
    "\n",
    "* This notebook loads a pre-trained time series model to make forecast with minimal testing data. \n",
    "\n",
    "* Model takes previous lags to autoregressively make forecast. Last forecast is appended to initial data.\n",
    "    * This can be repeted with indefinately but forecasts are less accurate as steps increase."
   ]
  },
  {
   "cell_type": "code",
   "execution_count": 1,
   "id": "dd013e04-27b5-42c5-9b5f-669773b2a1ac",
   "metadata": {},
   "outputs": [
    {
     "name": "stdout",
     "output_type": "stream",
     "text": [
      "USING DEVICE: cuda\n"
     ]
    }
   ],
   "source": [
    "import torch\n",
    "import torch.nn as nn\n",
    "import torch.nn.functional as F\n",
    "\n",
    "from torch.utils.data import Dataset, DataLoader, random_split\n",
    "\n",
    "from models.transformer import GPTTimeSeries\n",
    "\n",
    "import os\n",
    "import random\n",
    "import numpy as np\n",
    "import pandas as pd\n",
    "import math\n",
    "from tqdm import tqdm\n",
    "\n",
    "from sklearn.preprocessing import StandardScaler\n",
    "\n",
    "import matplotlib.pyplot as plt\n",
    "\n",
    "from collections.abc import Iterable\n",
    "\n",
    "plt.rcParams['figure.figsize'] = (6, 4)\n",
    "plt.rcParams['axes.grid'] = True\n",
    "\n",
    "device = 'cuda' if torch.cuda.is_available() else 'cpu'\n",
    "print(f'USING DEVICE: {device}')"
   ]
  },
  {
   "cell_type": "markdown",
   "id": "0a273a39-151c-4cf5-986a-bb9c05d9c1fa",
   "metadata": {},
   "source": [
    "# Load Saved Checkpoint"
   ]
  },
  {
   "cell_type": "code",
   "execution_count": 2,
   "id": "99a883b6-501e-434a-bd23-46b71aed1eaf",
   "metadata": {},
   "outputs": [
    {
     "name": "stderr",
     "output_type": "stream",
     "text": [
      "C:\\Users\\hfuat\\AppData\\Local\\Temp\\ipykernel_40264\\936429453.py:1: FutureWarning: You are using `torch.load` with `weights_only=False` (the current default value), which uses the default pickle module implicitly. It is possible to construct malicious pickle data which will execute arbitrary code during unpickling (See https://github.com/pytorch/pytorch/blob/main/SECURITY.md#untrusted-models for more details). In a future release, the default value for `weights_only` will be flipped to `True`. This limits the functions that could be executed during unpickling. Arbitrary objects will no longer be allowed to be loaded via this mode unless they are explicitly allowlisted by the user via `torch.serialization.add_safe_globals`. We recommend you start setting `weights_only=True` for any use case where you don't have full control of the loaded file. Please open an issue on GitHub for any issues related to this experimental feature.\n",
      "  checkpoint = torch.load('./saved_models/GPTTimeSeries_Autoregressive_MoE.pt')\n"
     ]
    },
    {
     "data": {
      "text/plain": [
       "dict_keys(['expert_0', 'expert_1'])"
      ]
     },
     "execution_count": 2,
     "metadata": {},
     "output_type": "execute_result"
    }
   ],
   "source": [
    "checkpoint = torch.load('./saved_models/GPTTimeSeries_Autoregressive_MoE.pt')\n",
    "checkpoint.keys()"
   ]
  },
  {
   "cell_type": "code",
   "execution_count": 3,
   "id": "cf19a9be-1d33-4f45-b77f-01c5e7634c74",
   "metadata": {},
   "outputs": [],
   "source": [
    "# NOTE: this assumes that all experts are have identical model architecture\n",
    "hyperparameters = checkpoint['expert_0']['hyperparameters']"
   ]
  },
  {
   "cell_type": "markdown",
   "id": "a99bd4ce-e741-48e9-a3cf-9055f48af827",
   "metadata": {},
   "source": [
    "# Load Saved (Pre-trained) Model"
   ]
  },
  {
   "cell_type": "code",
   "execution_count": 4,
   "id": "7743b86d-99ab-4e15-9cf5-594a5bfcc257",
   "metadata": {},
   "outputs": [
    {
     "name": "stdout",
     "output_type": "stream",
     "text": [
      "Model hyperparameters is loaded with:\n",
      "seed                      1234\n",
      "window_size               20\n",
      "batch_size                128\n",
      "split_ratio               0.8\n",
      "learning_rate             0.001\n",
      "num_epochs                50\n",
      "use_amp                   False\n",
      "num_experts               2\n",
      "\n"
     ]
    }
   ],
   "source": [
    "print('Model hyperparameters is loaded with:')\n",
    "\n",
    "for k, v in hyperparameters.items():\n",
    "    print(f'{k:<25} {v}')\n",
    "print()"
   ]
  },
  {
   "cell_type": "markdown",
   "id": "a63678fd-35c7-4632-9c07-856bfc813249",
   "metadata": {},
   "source": [
    "# Seed"
   ]
  },
  {
   "cell_type": "code",
   "execution_count": 5,
   "id": "ee1d17e4-4e2d-490b-93fc-0c16111d61a3",
   "metadata": {},
   "outputs": [],
   "source": [
    "def seed_everything(seed):\n",
    "    random.seed(seed)\n",
    "    os.environ['PYTHONHASHSEED'] = str(seed)\n",
    "    np.random.seed(seed)\n",
    "    torch.manual_seed(seed)\n",
    "    torch.cuda.manual_seed(seed)\n",
    "    torch.backends.cudnn.deterministic = True\n",
    "    torch.backends.cudnn.benchmark = False\n",
    "    \n",
    "seed_everything(hyperparameters['seed'])"
   ]
  },
  {
   "cell_type": "markdown",
   "id": "47a4fa2d-5131-450c-bd4f-23f6dbeab6ff",
   "metadata": {},
   "source": [
    "# List of Datasets\n",
    "* Each expert in MoE gets a different dataset in this case"
   ]
  },
  {
   "cell_type": "code",
   "execution_count": 6,
   "id": "505e51b0-a0fc-4ed6-b48f-5e769621f454",
   "metadata": {},
   "outputs": [],
   "source": [
    "dataset_names = [\n",
    "    #'NAB/data/realTweets/Twitter_volume_AAPL.csv',\n",
    "    #'NAB/data/realTweets/Twitter_volume_AMZN.csv',\n",
    "    'NAB/data/realAWSCloudwatch/ec2_cpu_utilization_24ae8d.csv',\n",
    "    'NAB/data/realAWSCloudwatch/ec2_cpu_utilization_53ea38.csv',\n",
    "]"
   ]
  },
  {
   "cell_type": "markdown",
   "id": "bb47441b-98c9-4df5-90f0-9c9dac263094",
   "metadata": {},
   "source": [
    "# Dataset"
   ]
  },
  {
   "cell_type": "code",
   "execution_count": 7,
   "id": "e8e8c2de-d3c6-4c36-a311-7e4ace336ee0",
   "metadata": {},
   "outputs": [],
   "source": [
    "class MixtureTimeSeriesDataset(Dataset):\n",
    "    def __init__(self, data_path_list, window_size, feature_columns, datetime_column):\n",
    "        \"\"\"\n",
    "        data_path_list: required to be a .csv file\n",
    "        feature_columns and datetime_column: can be a single string (same for all datasets) or iterable strings (different per dataset).\n",
    "        feature_columns should be 2D iterable of feature columns for each dataset. If a single string or iterable is given, it will be copied for all datasets\n",
    "        datetime_column should be 1D iteralbe of datetime columns for each dataset. If a single string is given, it will be copied for all datasets\n",
    "        \"\"\"\n",
    "        \n",
    "        self.data_path_list = data_path_list\n",
    "        self.window_size = window_size\n",
    "\n",
    "        self.named_df_list = {}\n",
    "\n",
    "        self.df_list = []\n",
    "        self.scalers = []\n",
    "\n",
    "        # utility function used in read_and_scale() \n",
    "        self.check_if_series = lambda x: pd.DataFrame(x) if isinstance(x, pd.Series) else x\n",
    "\n",
    "        # If feature_columns is a single string of single feature\n",
    "        if isinstance(feature_columns, str):\n",
    "            self.feature_columns = [[feature_columns] for _ in range(len(data_path_list))]\n",
    "        # Check if inner dimension is iterable\n",
    "        # (feature_columns expected to be a 2D/1D iterable or single string)\n",
    "        elif isinstance(feature_columns[0], Iterable):\n",
    "            if len(feature_columns) != len(data_path_list):\n",
    "                raise ValueError('feature_columns should be 2D/1D iterable of feature columns or a singe string.')\n",
    "            self.feature_columns = feature_columns\n",
    "        # If feature_columns contains mutiple features (1D iterable)\n",
    "        elif isinstance(feature_columns, Iterable):\n",
    "            self.feature_columns = [feature_columns for _ in range(len(data_path_list))]\n",
    "        else:\n",
    "            raise ValueError('unrecognized feature_columns format!')\n",
    "\n",
    "        # If feature_columns is a single string of single feature\n",
    "        if isinstance(datetime_column, str):\n",
    "            self.datetime_column = [datetime_column for _ in range(len(data_path_list))]\n",
    "        # (datetime_column expected to be a 1D iterable or single string)\n",
    "        elif isinstance(datetime_column, Iterable):\n",
    "            if len(datetime_column) != len(data_path_list):\n",
    "                raise ValueError('datetime_column should be 1D iterable of datetime columns or a singe string.')\n",
    "            self.datetime_column = datetime_column\n",
    "        else:\n",
    "            raise ValueError('unrecognized datetime_column format!')\n",
    "\n",
    "        self.read_and_scale()\n",
    "    \n",
    "    def __len__(self):\n",
    "        len_list = [_df.shape[0] for _df in self.df_list]\n",
    "        # take the longest as referance len\n",
    "        number_of_samples = max(len_list)\n",
    "        # make sure that last window fits\n",
    "        return number_of_samples #- self.window_size\n",
    "\n",
    "    def read_csv_with_datetime_index(self, data_path, datetime_column='timestamp'):\n",
    "        _df = pd.read_csv(data_path)\n",
    "        _df[datetime_column] = pd.to_datetime(_df[datetime_column])\n",
    "        _df.set_index(datetime_column, inplace=True)\n",
    "        return _df\n",
    "    \n",
    "    def read_and_scale(self):\n",
    "        \"\"\"\n",
    "        read and standard scales each .csv file\n",
    "        \"\"\"\n",
    "        \n",
    "        for path, _feature_columns, _datetime_column in zip(self.data_path_list, self.feature_columns, self.datetime_column):\n",
    "            _df = self.read_csv_with_datetime_index(path, _datetime_column)\n",
    "            \n",
    "            _scaler = StandardScaler()\n",
    "            print('>>>', _df.columns)\n",
    "            if _df[_feature_columns].values.ndim < 2:\n",
    "                _df[_feature_columns] = _scaler.fit_transform(_df[_feature_columns].values.reshape(-1, 1)).reshape(-1)\n",
    "            else:\n",
    "                _df[_feature_columns] = _scaler.fit_transform(_df[_feature_columns])\n",
    "            _df = _df[_feature_columns]\n",
    "            \n",
    "            self.df_list.append(_df)\n",
    "            self.scalers.append(_scaler)\n",
    "\n",
    "        self.named_df_list = {f'expert_{i}': self.check_if_series(_df) for i, _df in enumerate(self.df_list)}\n",
    "        #for ___df in self.named_df_list.values():\n",
    "        #    print(type(___df))\n",
    "    \n",
    "    def add_padding_maybe(self, _df_window):\n",
    "        _df_window = _df_window.copy()\n",
    "        if _df_window.shape[0] < self.window_size:\n",
    "            num_rows_to_add = self.window_size - _df_window.shape[0]\n",
    "            pad_date = pd.Timestamp('1970-01-01')\n",
    "            pad_date_indexes = [pad_date] * num_rows_to_add\n",
    "            df_zeros = pd.DataFrame(0.0, index=pad_date_indexes, columns=_df_window.columns)\n",
    "            _df_window['attention_mask'] = 1.0\n",
    "            df_zeros['attention_mask'] = 0.0\n",
    "            df_padded = pd.concat([_df_window, df_zeros])\n",
    "            return df_padded\n",
    "        else:\n",
    "            _df_window['attention_mask'] = 1.0\n",
    "            return _df_window\n",
    "        \n",
    "    def __getitem__(self, start_idx):\n",
    "        return_dict = {}\n",
    "\n",
    "        for name, df_expert in self.named_df_list.items():\n",
    "                    \n",
    "            # get a NumPy array of size: (hyperparameters['window_size'], NUM_FEATURES)\n",
    "            df_window = df_expert.iloc[start_idx:start_idx+self.window_size]\n",
    "    \n",
    "            # apend padding values (zeros) if necessery\n",
    "            df_window = self.add_padding_maybe(df_window)\n",
    "        \n",
    "            # attention mask\n",
    "            # 1 -> regular values, 0 -> pad values\n",
    "            # (0s supposed to be masked)\n",
    "            attention_mask = df_window['attention_mask'].copy()\n",
    "            df_window.drop('attention_mask', axis=1, inplace=True)\n",
    "            # (window_size, ) -> (lags/forecast,)\n",
    "            attention_mask = attention_mask[:-1].values\n",
    "            \n",
    "            sample_window = df_window.values\n",
    "            # input (lag) timestamps\n",
    "            sample_timestamp_lags = df_window[:-1].index\n",
    "            \n",
    "            # divide window into lags and forecast (shifted by 1)\n",
    "            # first window_size-1 steps\n",
    "            lags = sample_window[:-1, :]\n",
    "            # last window_size-1 steps\n",
    "            forecast = sample_window[1:, :]\n",
    "            \n",
    "            # convert to tensor\n",
    "            lags = torch.tensor(lags, dtype=torch.float32)\n",
    "            forecast = torch.tensor(forecast, dtype=torch.float32)\n",
    "            \n",
    "            # (lags, date_input_features_size)\n",
    "            # 1970-01-01 is used for padding values\n",
    "            date = torch.tensor([sample_timestamp_lags.month, sample_timestamp_lags.day, sample_timestamp_lags.hour], dtype=torch.float32).permute(1, 0)\n",
    "\n",
    "            # attention mask (tensor)\n",
    "            attention_mask = torch.tensor(attention_mask, dtype=torch.float32)\n",
    "            \n",
    "            return_dict[name] = (lags, forecast, date, attention_mask)\n",
    "        \n",
    "        return return_dict"
   ]
  },
  {
   "cell_type": "code",
   "execution_count": 8,
   "id": "c06ef798-41a8-4913-aa36-7f8639a5924d",
   "metadata": {},
   "outputs": [
    {
     "name": "stdout",
     "output_type": "stream",
     "text": [
      ">>> Index(['value'], dtype='object')\n",
      ">>> Index(['value'], dtype='object')\n",
      "4032\n"
     ]
    },
    {
     "data": {
      "text/plain": [
       "dict_keys(['expert_0', 'expert_1'])"
      ]
     },
     "execution_count": 8,
     "metadata": {},
     "output_type": "execute_result"
    }
   ],
   "source": [
    "dataset_full = MixtureTimeSeriesDataset(\n",
    "    data_path_list=dataset_names,\n",
    "    window_size=120,\n",
    "    feature_columns=['value', 'value'],\n",
    "    datetime_column=['timestamp', 'timestamp'],\n",
    ")\n",
    "print(len(dataset_full))\n",
    "\n",
    "dataset_full.named_df_list.keys()"
   ]
  },
  {
   "cell_type": "code",
   "execution_count": 9,
   "id": "924ab8b6-cd5f-45d9-931d-5180a6fd8aa5",
   "metadata": {},
   "outputs": [
    {
     "data": {
      "text/plain": [
       "<Axes: xlabel='timestamp'>"
      ]
     },
     "execution_count": 9,
     "metadata": {},
     "output_type": "execute_result"
    },
    {
     "data": {
      "image/png": "[encoded data removed]",
      "text/plain": [
       "<Figure size 600x400 with 1 Axes>"
      ]
     },
     "metadata": {},
     "output_type": "display_data"
    }
   ],
   "source": [
    "dataset_full.named_df_list['expert_0'].plot()"
   ]
  },
  {
   "cell_type": "code",
   "execution_count": 10,
   "id": "7c7fd7bb-db16-41a8-9979-153a64d1ef6f",
   "metadata": {},
   "outputs": [
    {
     "data": {
      "text/plain": [
       "<Axes: xlabel='timestamp'>"
      ]
     },
     "execution_count": 10,
     "metadata": {},
     "output_type": "execute_result"
    },
    {
     "data": {
      "image/png": "[encoded data removed]",
      "text/plain": [
       "<Figure size 600x400 with 1 Axes>"
      ]
     },
     "metadata": {},
     "output_type": "display_data"
    }
   ],
   "source": [
    "dataset_full.named_df_list['expert_1'].plot()"
   ]
  },
  {
   "cell_type": "code",
   "execution_count": 11,
   "id": "4977491b-9a7a-43f6-b556-b3587159aaf3",
   "metadata": {},
   "outputs": [
    {
     "data": {
      "text/plain": [
       "dict_keys(['expert_0', 'expert_1'])"
      ]
     },
     "execution_count": 11,
     "metadata": {},
     "output_type": "execute_result"
    }
   ],
   "source": [
    "_return_dict = dataset_full[4000]\n",
    "_return_dict.keys()"
   ]
  },
  {
   "cell_type": "markdown",
   "id": "3247b95a-e2f4-4885-8375-a38715186af7",
   "metadata": {},
   "source": [
    "# Time series data shape: \n",
    "Unbatched: $(S, F)$\n",
    "\n",
    "* $S:$ Sequence Length\n",
    "* $F:$ Number of Features\n",
    "\n",
    "Batched: $(B, S, F)$\n",
    "* $B:$ Batch Size"
   ]
  },
  {
   "cell_type": "code",
   "execution_count": 12,
   "id": "628f07de-d19c-4656-acb7-509b81a4329a",
   "metadata": {},
   "outputs": [
    {
     "data": {
      "text/plain": [
       "(torch.Size([119, 1]),\n",
       " torch.Size([119, 1]),\n",
       " torch.Size([119, 3]),\n",
       " torch.Size([119]))"
      ]
     },
     "execution_count": 12,
     "metadata": {},
     "output_type": "execute_result"
    }
   ],
   "source": [
    "_lags, _forecast, _date, _attention_mask = _return_dict['expert_0']\n",
    "_lags.shape, _forecast.shape, _date.shape, _attention_mask.shape"
   ]
  },
  {
   "cell_type": "markdown",
   "id": "05789c11-3302-4424-892b-34e9e9b4df98",
   "metadata": {},
   "source": [
    "# Expert Dict"
   ]
  },
  {
   "cell_type": "code",
   "execution_count": 13,
   "id": "31ba197e-387a-469f-bd15-486976259a64",
   "metadata": {},
   "outputs": [],
   "source": [
    "# utiliy function\n",
    "def print_model_parameters(model):\n",
    "    print(f'{sum(p.numel() for p in model.parameters() if p.requires_grad):,}')"
   ]
  },
  {
   "cell_type": "code",
   "execution_count": 14,
   "id": "40b38efe-e981-4621-8a6c-3853ff94590f",
   "metadata": {},
   "outputs": [
    {
     "name": "stdout",
     "output_type": "stream",
     "text": [
      "Number of parameters for expert 0:\n",
      "10,628,033\n",
      "Number of parameters for expert 1:\n",
      "10,628,033\n"
     ]
    }
   ],
   "source": [
    "expert_trainer_dict = {}\n",
    "\n",
    "for expert_id in range(hyperparameters['num_experts']):\n",
    "    expert_trainer_dict[f'expert_{expert_id}'] = {}\n",
    "\n",
    "    # single GPU\n",
    "    expert_trainer_dict[f'expert_{expert_id}']['device'] = 'cuda:0'\n",
    "    # USE THIS IF YOU HAVE SECOND GPU\n",
    "    #expert_trainer_dict['expert_0']['device'] = 'cuda:0'\n",
    "    #expert_trainer_dict['expert_1']['device'] = 'cuda:1'\n",
    "    \n",
    "    # Transformer Model\n",
    "    _expert_model = GPTTimeSeries(**checkpoint[f'expert_{expert_id}']['expert_hyperparameters'])\n",
    "\n",
    "    print(f'Number of parameters for expert {expert_id}:')\n",
    "    print_model_parameters(_expert_model)\n",
    "\n",
    "    _expert_model.load_state_dict(checkpoint[f'expert_{expert_id}']['model_state_dict'], strict=True)\n",
    "    \n",
    "    expert_trainer_dict[f'expert_{expert_id}']['model'] = _expert_model"
   ]
  },
  {
   "cell_type": "code",
   "execution_count": 15,
   "id": "79a52f75-3e79-4328-b93f-e7c92ee6a316",
   "metadata": {},
   "outputs": [
    {
     "data": {
      "text/plain": [
       "dict_keys(['expert_0', 'expert_1'])"
      ]
     },
     "execution_count": 15,
     "metadata": {},
     "output_type": "execute_result"
    }
   ],
   "source": [
    "checkpoint.keys()"
   ]
  },
  {
   "cell_type": "markdown",
   "id": "7e8fa554-313a-4ed1-9cf2-f854d5d81f8d",
   "metadata": {},
   "source": [
    "### Move All Experts to Device"
   ]
  },
  {
   "cell_type": "code",
   "execution_count": 16,
   "id": "e90eeafe-4586-4be4-8b44-c41303f86931",
   "metadata": {},
   "outputs": [],
   "source": [
    "for expert_id in range(hyperparameters['num_experts']):\n",
    "    expert_trainer_dict[f'expert_{expert_id}']['model'].to(expert_trainer_dict[f'expert_{expert_id}']['device'])"
   ]
  },
  {
   "cell_type": "markdown",
   "id": "a0298afd-19ec-4d57-9bb1-d34ea0acd015",
   "metadata": {},
   "source": [
    "# Generative Forecast"
   ]
  },
  {
   "cell_type": "code",
   "execution_count": 17,
   "id": "49d3254a-f0e8-40a6-85cd-0d5f645fe517",
   "metadata": {},
   "outputs": [],
   "source": [
    "@torch.no_grad()\n",
    "def generative_forecast(model, data, timestamps, num_steps, lag_window_size, use_amp, device):\n",
    "    model.eval()\n",
    "    \n",
    "    predictions = []\n",
    "    time_indexes = []\n",
    "    \n",
    "    # covnert to tensor\n",
    "    # data.shape: (lags, features)\n",
    "    lags = torch.tensor(data[-lag_window_size:, :], dtype=torch.float32, device=device)\n",
    "    \n",
    "    # artificially add batch dimension\n",
    "    # (we are not using the dataloader here!)\n",
    "    # data.shape: (1, lags, features)\n",
    "    lags = lags.unsqueeze(0)\n",
    "\n",
    "    # Datetime indexes \n",
    "    #timestamps = df_full.index \n",
    "    # Delta time: calculate the time difference between two samples \n",
    "    delta_time = timestamps[1] - timestamps[0]\n",
    "    # Get last timestamp\n",
    "    current_timestamp = timestamps[-1]\n",
    "\n",
    "    def generate_date_tensor(_timestamp, _lags, _device):\n",
    "        _timestamp = _timestamp[-lag_window_size:]\n",
    "        return torch.tensor([_timestamp.month, _timestamp.day, _timestamp.hour], dtype=torch.float32, device=_device).permute(1, 0)\n",
    "    \n",
    "    # single step\n",
    "    for idx in tqdm(range(num_steps)):\n",
    "\n",
    "        # get the last lag steps\n",
    "        lags = lags[:, -lag_window_size:, :]\n",
    "        #print(lags)\n",
    "\n",
    "        # date\n",
    "        date = generate_date_tensor(timestamps, lag_window_size, device).unsqueeze(0)\n",
    "\n",
    "        # remove device index (required for autocast device_type)\n",
    "        if ':' in device:\n",
    "            device_type = device.split(':')[0]\n",
    "        else:\n",
    "            device_type = device\n",
    "        \n",
    "        with torch.autocast(device_type=device_type, dtype=torch.float16, enabled=use_amp):\n",
    "            # (attention mask is not required here)\n",
    "            forecast_pred = model(lags, date)\n",
    "        \n",
    "        # (batch, forecast, output_features_size)-> (1, window_size-1, output_features_size)\n",
    "        # TAKE THE LAST PREDICTION STEP AS FORECAST!\n",
    "        predictions.append(forecast_pred[0][-1].cpu().numpy())\n",
    "\n",
    "        # update current timestamp\n",
    "        current_timestamp = current_timestamp + delta_time\n",
    "        time_indexes.append(current_timestamp)\n",
    "        \n",
    "        # append last forecast to the end\n",
    "        # TAKE THE LAST PREDICTION STEP AS FORECAST!\n",
    "        lags = torch.cat((lags, forecast_pred[:, -1:, :].detach()), dim=1)\n",
    "        \n",
    "        # next timestamp\n",
    "        timestamps = timestamps + delta_time\n",
    "\n",
    "    return predictions, time_indexes"
   ]
  },
  {
   "cell_type": "code",
   "execution_count": 18,
   "id": "9456efbc-8e52-492e-b1a0-7d48d7368b01",
   "metadata": {},
   "outputs": [
    {
     "name": "stderr",
     "output_type": "stream",
     "text": [
      "100%|██████████████████████████████████████████████████████████████████████████████| 20/20 [00:00<00:00, 90.78it/s]\n"
     ]
    },
    {
     "data": {
      "text/plain": [
       "<Axes: title={'center': 'Last Window'}, xlabel='timestamp'>"
      ]
     },
     "execution_count": 18,
     "metadata": {},
     "output_type": "execute_result"
    },
    {
     "data": {
      "image/png": "[encoded data removed]",
      "text/plain": [
       "<Figure size 600x400 with 1 Axes>"
      ]
     },
     "metadata": {},
     "output_type": "display_data"
    },
    {
     "data": {
      "image/png": "[encoded data removed]",
      "text/plain": [
       "<Figure size 600x400 with 1 Axes>"
      ]
     },
     "metadata": {},
     "output_type": "display_data"
    }
   ],
   "source": [
    "# select expert to generate\n",
    "EXPERT_ID = 0\n",
    "# features to forecast\n",
    "SELECTED_FEATURES = 'value'\n",
    "# should be min of original model\n",
    "#REQUEST_WINDOW_SIZE = 200 * 2 # * 2 is added for convenience\n",
    "REQUEST_WINDOW_SIZE = hyperparameters['window_size']\n",
    "# temp dataframe for generative prediction input\n",
    "df_temp = dataset_full.df_list[EXPERT_ID][-REQUEST_WINDOW_SIZE:]\n",
    "\n",
    "if isinstance(df_temp, pd.Series):\n",
    "    df_temp = df_temp.to_frame()\n",
    "\n",
    "pred_generative, time_indexes_generative = generative_forecast(\n",
    "    model=expert_trainer_dict[f'expert_{EXPERT_ID}']['model'], \n",
    "    data=df_temp.values,\n",
    "    timestamps=df_temp.index,\n",
    "    num_steps=hyperparameters['window_size'], \n",
    "    lag_window_size=hyperparameters['window_size'], \n",
    "    use_amp=hyperparameters['use_amp'], \n",
    "    device=expert_trainer_dict[f'expert_{EXPERT_ID}']['device']\n",
    ")\n",
    "\n",
    "pred_generative_array = np.array(pred_generative)\n",
    "\n",
    "generative_results_dict = {}\n",
    "\n",
    "# loop ove features\n",
    "for feature_id, feature_key in enumerate(df_temp.columns):\n",
    "    generative_results_dict[feature_key] = pred_generative_array[:, feature_id]\n",
    "        \n",
    "df_generative = pd.DataFrame(data=generative_results_dict, index=time_indexes_generative)\n",
    "\n",
    "# REVERSE THE PREPROCESSING FOR ORIGINAL RANGE\n",
    "df_generative[df_generative.columns] = dataset_full.scalers[EXPERT_ID].inverse_transform(df_generative[df_generative.columns])    \n",
    "\n",
    "df_generative[SELECTED_FEATURES].plot(title='Generative Forecast')\n",
    "\n",
    "# take a copy of the last window of actual data\n",
    "df_last_window = dataset_full.named_df_list[f'expert_{EXPERT_ID}'][-hyperparameters['window_size']:].copy()\n",
    "\n",
    "# REVERSE THE PREPROCESSING FOR ORIGINAL RANGE\n",
    "df_last_window[df_last_window.columns] = dataset_full.scalers[EXPERT_ID].inverse_transform(df_last_window[df_last_window.columns])    \n",
    "\n",
    "df_last_window.plot(title='Last Window')"
   ]
  },
  {
   "cell_type": "code",
   "execution_count": null,
   "id": "6d1358f7-52ee-431a-abc3-1b52dbc9f76c",
   "metadata": {},
   "outputs": [],
   "source": []
  },
  {
   "cell_type": "code",
   "execution_count": null,
   "id": "48a67bd5-cd55-401d-8572-b87c4590e69f",
   "metadata": {},
   "outputs": [],
   "source": []
  }
 ],
 "metadata": {
  "kernelspec": {
   "display_name": "Python 3 (ipykernel)",
   "language": "python",
   "name": "python3"
  },
  "language_info": {
   "codemirror_mode": {
    "name": "ipython",
    "version": 3
   },
   "file_extension": ".py",
   "mimetype": "text/x-python",
   "name": "python",
   "nbconvert_exporter": "python",
   "pygments_lexer": "ipython3",
   "version": "3.11.9"
  }
 },
 "nbformat": 4,
 "nbformat_minor": 5
}
