{
 "cells": [
  {
   "cell_type": "markdown",
   "id": "a18c6069-4621-4b99-9bc6-d5ee67cc43a7",
   "metadata": {},
   "source": [
    "# Generative Forecast Autoregressively\n",
    "\n",
    "* This notebook loads a pre-trained time series model to make forecast with minimal testing data. \n",
    "\n",
    "* Model takes previous lags to autoregressively make forecast. Last forecast is appended to initial data.\n",
    "    * This can be repeted with indefinately but forecasts are less accurate as steps increase."
   ]
  },
  {
   "cell_type": "code",
   "execution_count": 1,
   "id": "dd013e04-27b5-42c5-9b5f-669773b2a1ac",
   "metadata": {},
   "outputs": [
    {
     "name": "stdout",
     "output_type": "stream",
     "text": [
      "USING DEVICE: cuda\n"
     ]
    }
   ],
   "source": [
    "import torch\n",
    "import torch.nn as nn\n",
    "import torch.nn.functional as F\n",
    "\n",
    "from models.transformer import GPTTimeSeries\n",
    "\n",
    "import os\n",
    "import random\n",
    "import numpy as np\n",
    "import pandas as pd\n",
    "import math\n",
    "\n",
    "from sklearn.preprocessing import StandardScaler\n",
    "\n",
    "import matplotlib.pyplot as plt\n",
    "\n",
    "plt.rcParams['figure.figsize'] = (6, 4)\n",
    "plt.rcParams['axes.grid'] = True\n",
    "\n",
    "device = 'cuda' if torch.cuda.is_available() else 'cpu'\n",
    "print(f'USING DEVICE: {device}')"
   ]
  },
  {
   "cell_type": "markdown",
   "id": "51bc46e1-a72b-48fa-bd8c-5c40bcf317a9",
   "metadata": {},
   "source": [
    "# Dataset"
   ]
  },
  {
   "cell_type": "code",
   "execution_count": 2,
   "id": "50a79350-43c4-418b-95fd-057d7853974a",
   "metadata": {},
   "outputs": [
    {
     "data": {
      "text/html": [
       "<div>\n",
       "<style scoped>\n",
       "    .dataframe tbody tr th:only-of-type {\n",
       "        vertical-align: middle;\n",
       "    }\n",
       "\n",
       "    .dataframe tbody tr th {\n",
       "        vertical-align: top;\n",
       "    }\n",
       "\n",
       "    .dataframe thead th {\n",
       "        text-align: right;\n",
       "    }\n",
       "</style>\n",
       "<table border=\"1\" class=\"dataframe\">\n",
       "  <thead>\n",
       "    <tr style=\"text-align: right;\">\n",
       "      <th></th>\n",
       "      <th>datetime</th>\n",
       "      <th>nat_demand</th>\n",
       "      <th>T2M_toc</th>\n",
       "      <th>QV2M_toc</th>\n",
       "      <th>TQL_toc</th>\n",
       "      <th>W2M_toc</th>\n",
       "      <th>T2M_san</th>\n",
       "      <th>QV2M_san</th>\n",
       "      <th>TQL_san</th>\n",
       "      <th>W2M_san</th>\n",
       "      <th>T2M_dav</th>\n",
       "      <th>QV2M_dav</th>\n",
       "      <th>TQL_dav</th>\n",
       "      <th>W2M_dav</th>\n",
       "      <th>Holiday_ID</th>\n",
       "      <th>holiday</th>\n",
       "      <th>school</th>\n",
       "    </tr>\n",
       "  </thead>\n",
       "  <tbody>\n",
       "    <tr>\n",
       "      <th>0</th>\n",
       "      <td>03-01-2015 01:00</td>\n",
       "      <td>970.3450</td>\n",
       "      <td>25.865259</td>\n",
       "      <td>0.018576</td>\n",
       "      <td>0.016174</td>\n",
       "      <td>21.850546</td>\n",
       "      <td>23.482446</td>\n",
       "      <td>0.017272</td>\n",
       "      <td>0.001855</td>\n",
       "      <td>10.328949</td>\n",
       "      <td>22.662134</td>\n",
       "      <td>0.016562</td>\n",
       "      <td>0.096100</td>\n",
       "      <td>5.364148</td>\n",
       "      <td>0</td>\n",
       "      <td>0</td>\n",
       "      <td>0</td>\n",
       "    </tr>\n",
       "    <tr>\n",
       "      <th>1</th>\n",
       "      <td>03-01-2015 02:00</td>\n",
       "      <td>912.1755</td>\n",
       "      <td>25.899255</td>\n",
       "      <td>0.018653</td>\n",
       "      <td>0.016418</td>\n",
       "      <td>22.166944</td>\n",
       "      <td>23.399255</td>\n",
       "      <td>0.017265</td>\n",
       "      <td>0.001327</td>\n",
       "      <td>10.681517</td>\n",
       "      <td>22.578943</td>\n",
       "      <td>0.016509</td>\n",
       "      <td>0.087646</td>\n",
       "      <td>5.572471</td>\n",
       "      <td>0</td>\n",
       "      <td>0</td>\n",
       "      <td>0</td>\n",
       "    </tr>\n",
       "    <tr>\n",
       "      <th>2</th>\n",
       "      <td>03-01-2015 03:00</td>\n",
       "      <td>900.2688</td>\n",
       "      <td>25.937280</td>\n",
       "      <td>0.018768</td>\n",
       "      <td>0.015480</td>\n",
       "      <td>22.454911</td>\n",
       "      <td>23.343530</td>\n",
       "      <td>0.017211</td>\n",
       "      <td>0.001428</td>\n",
       "      <td>10.874924</td>\n",
       "      <td>22.531030</td>\n",
       "      <td>0.016479</td>\n",
       "      <td>0.078735</td>\n",
       "      <td>5.871184</td>\n",
       "      <td>0</td>\n",
       "      <td>0</td>\n",
       "      <td>0</td>\n",
       "    </tr>\n",
       "    <tr>\n",
       "      <th>3</th>\n",
       "      <td>03-01-2015 04:00</td>\n",
       "      <td>889.9538</td>\n",
       "      <td>25.957544</td>\n",
       "      <td>0.018890</td>\n",
       "      <td>0.016273</td>\n",
       "      <td>22.110481</td>\n",
       "      <td>23.238794</td>\n",
       "      <td>0.017128</td>\n",
       "      <td>0.002599</td>\n",
       "      <td>10.518620</td>\n",
       "      <td>22.512231</td>\n",
       "      <td>0.016487</td>\n",
       "      <td>0.068390</td>\n",
       "      <td>5.883621</td>\n",
       "      <td>0</td>\n",
       "      <td>0</td>\n",
       "      <td>0</td>\n",
       "    </tr>\n",
       "    <tr>\n",
       "      <th>4</th>\n",
       "      <td>03-01-2015 05:00</td>\n",
       "      <td>893.6865</td>\n",
       "      <td>25.973840</td>\n",
       "      <td>0.018981</td>\n",
       "      <td>0.017281</td>\n",
       "      <td>21.186089</td>\n",
       "      <td>23.075403</td>\n",
       "      <td>0.017059</td>\n",
       "      <td>0.001729</td>\n",
       "      <td>9.733589</td>\n",
       "      <td>22.481653</td>\n",
       "      <td>0.016456</td>\n",
       "      <td>0.064362</td>\n",
       "      <td>5.611724</td>\n",
       "      <td>0</td>\n",
       "      <td>0</td>\n",
       "      <td>0</td>\n",
       "    </tr>\n",
       "  </tbody>\n",
       "</table>\n",
       "</div>"
      ],
      "text/plain": [
       "           datetime  nat_demand    T2M_toc  QV2M_toc   TQL_toc    W2M_toc  \\\n",
       "0  03-01-2015 01:00    970.3450  25.865259  0.018576  0.016174  21.850546   \n",
       "1  03-01-2015 02:00    912.1755  25.899255  0.018653  0.016418  22.166944   \n",
       "2  03-01-2015 03:00    900.2688  25.937280  0.018768  0.015480  22.454911   \n",
       "3  03-01-2015 04:00    889.9538  25.957544  0.018890  0.016273  22.110481   \n",
       "4  03-01-2015 05:00    893.6865  25.973840  0.018981  0.017281  21.186089   \n",
       "\n",
       "     T2M_san  QV2M_san   TQL_san    W2M_san    T2M_dav  QV2M_dav   TQL_dav  \\\n",
       "0  23.482446  0.017272  0.001855  10.328949  22.662134  0.016562  0.096100   \n",
       "1  23.399255  0.017265  0.001327  10.681517  22.578943  0.016509  0.087646   \n",
       "2  23.343530  0.017211  0.001428  10.874924  22.531030  0.016479  0.078735   \n",
       "3  23.238794  0.017128  0.002599  10.518620  22.512231  0.016487  0.068390   \n",
       "4  23.075403  0.017059  0.001729   9.733589  22.481653  0.016456  0.064362   \n",
       "\n",
       "    W2M_dav  Holiday_ID  holiday  school  \n",
       "0  5.364148           0        0       0  \n",
       "1  5.572471           0        0       0  \n",
       "2  5.871184           0        0       0  \n",
       "3  5.883621           0        0       0  \n",
       "4  5.611724           0        0       0  "
      ]
     },
     "execution_count": 2,
     "metadata": {},
     "output_type": "execute_result"
    }
   ],
   "source": [
    "# Airline Passgeners\n",
    "#df_full = pd.read_csv('data/airline_passengers/airline-passengers.csv')\n",
    "\n",
    "# Panama Electricity Load Forecasting\n",
    "df_full = pd.read_csv('data/panama_electricity_load_forecasting/train.csv')\n",
    "\n",
    "\n",
    "df_full.head()"
   ]
  },
  {
   "cell_type": "code",
   "execution_count": 3,
   "id": "a8de040f-ecc8-44d0-af1e-0473d649b19b",
   "metadata": {},
   "outputs": [
    {
     "data": {
      "text/html": [
       "<div>\n",
       "<style scoped>\n",
       "    .dataframe tbody tr th:only-of-type {\n",
       "        vertical-align: middle;\n",
       "    }\n",
       "\n",
       "    .dataframe tbody tr th {\n",
       "        vertical-align: top;\n",
       "    }\n",
       "\n",
       "    .dataframe thead th {\n",
       "        text-align: right;\n",
       "    }\n",
       "</style>\n",
       "<table border=\"1\" class=\"dataframe\">\n",
       "  <thead>\n",
       "    <tr style=\"text-align: right;\">\n",
       "      <th></th>\n",
       "      <th>datetime</th>\n",
       "      <th>nat_demand</th>\n",
       "      <th>T2M_toc</th>\n",
       "      <th>QV2M_toc</th>\n",
       "      <th>TQL_toc</th>\n",
       "      <th>W2M_toc</th>\n",
       "      <th>T2M_san</th>\n",
       "      <th>QV2M_san</th>\n",
       "      <th>TQL_san</th>\n",
       "      <th>W2M_san</th>\n",
       "      <th>T2M_dav</th>\n",
       "      <th>QV2M_dav</th>\n",
       "      <th>TQL_dav</th>\n",
       "      <th>W2M_dav</th>\n",
       "      <th>Holiday_ID</th>\n",
       "      <th>holiday</th>\n",
       "      <th>school</th>\n",
       "    </tr>\n",
       "  </thead>\n",
       "  <tbody>\n",
       "    <tr>\n",
       "      <th>0</th>\n",
       "      <td>2015-01-03 01:00:00</td>\n",
       "      <td>970.3450</td>\n",
       "      <td>25.865259</td>\n",
       "      <td>0.018576</td>\n",
       "      <td>0.016174</td>\n",
       "      <td>21.850546</td>\n",
       "      <td>23.482446</td>\n",
       "      <td>0.017272</td>\n",
       "      <td>0.001855</td>\n",
       "      <td>10.328949</td>\n",
       "      <td>22.662134</td>\n",
       "      <td>0.016562</td>\n",
       "      <td>0.096100</td>\n",
       "      <td>5.364148</td>\n",
       "      <td>0</td>\n",
       "      <td>0</td>\n",
       "      <td>0</td>\n",
       "    </tr>\n",
       "    <tr>\n",
       "      <th>1</th>\n",
       "      <td>2015-01-03 02:00:00</td>\n",
       "      <td>912.1755</td>\n",
       "      <td>25.899255</td>\n",
       "      <td>0.018653</td>\n",
       "      <td>0.016418</td>\n",
       "      <td>22.166944</td>\n",
       "      <td>23.399255</td>\n",
       "      <td>0.017265</td>\n",
       "      <td>0.001327</td>\n",
       "      <td>10.681517</td>\n",
       "      <td>22.578943</td>\n",
       "      <td>0.016509</td>\n",
       "      <td>0.087646</td>\n",
       "      <td>5.572471</td>\n",
       "      <td>0</td>\n",
       "      <td>0</td>\n",
       "      <td>0</td>\n",
       "    </tr>\n",
       "    <tr>\n",
       "      <th>2</th>\n",
       "      <td>2015-01-03 03:00:00</td>\n",
       "      <td>900.2688</td>\n",
       "      <td>25.937280</td>\n",
       "      <td>0.018768</td>\n",
       "      <td>0.015480</td>\n",
       "      <td>22.454911</td>\n",
       "      <td>23.343530</td>\n",
       "      <td>0.017211</td>\n",
       "      <td>0.001428</td>\n",
       "      <td>10.874924</td>\n",
       "      <td>22.531030</td>\n",
       "      <td>0.016479</td>\n",
       "      <td>0.078735</td>\n",
       "      <td>5.871184</td>\n",
       "      <td>0</td>\n",
       "      <td>0</td>\n",
       "      <td>0</td>\n",
       "    </tr>\n",
       "    <tr>\n",
       "      <th>3</th>\n",
       "      <td>2015-01-03 04:00:00</td>\n",
       "      <td>889.9538</td>\n",
       "      <td>25.957544</td>\n",
       "      <td>0.018890</td>\n",
       "      <td>0.016273</td>\n",
       "      <td>22.110481</td>\n",
       "      <td>23.238794</td>\n",
       "      <td>0.017128</td>\n",
       "      <td>0.002599</td>\n",
       "      <td>10.518620</td>\n",
       "      <td>22.512231</td>\n",
       "      <td>0.016487</td>\n",
       "      <td>0.068390</td>\n",
       "      <td>5.883621</td>\n",
       "      <td>0</td>\n",
       "      <td>0</td>\n",
       "      <td>0</td>\n",
       "    </tr>\n",
       "    <tr>\n",
       "      <th>4</th>\n",
       "      <td>2015-01-03 05:00:00</td>\n",
       "      <td>893.6865</td>\n",
       "      <td>25.973840</td>\n",
       "      <td>0.018981</td>\n",
       "      <td>0.017281</td>\n",
       "      <td>21.186089</td>\n",
       "      <td>23.075403</td>\n",
       "      <td>0.017059</td>\n",
       "      <td>0.001729</td>\n",
       "      <td>9.733589</td>\n",
       "      <td>22.481653</td>\n",
       "      <td>0.016456</td>\n",
       "      <td>0.064362</td>\n",
       "      <td>5.611724</td>\n",
       "      <td>0</td>\n",
       "      <td>0</td>\n",
       "      <td>0</td>\n",
       "    </tr>\n",
       "  </tbody>\n",
       "</table>\n",
       "</div>"
      ],
      "text/plain": [
       "             datetime  nat_demand    T2M_toc  QV2M_toc   TQL_toc    W2M_toc  \\\n",
       "0 2015-01-03 01:00:00    970.3450  25.865259  0.018576  0.016174  21.850546   \n",
       "1 2015-01-03 02:00:00    912.1755  25.899255  0.018653  0.016418  22.166944   \n",
       "2 2015-01-03 03:00:00    900.2688  25.937280  0.018768  0.015480  22.454911   \n",
       "3 2015-01-03 04:00:00    889.9538  25.957544  0.018890  0.016273  22.110481   \n",
       "4 2015-01-03 05:00:00    893.6865  25.973840  0.018981  0.017281  21.186089   \n",
       "\n",
       "     T2M_san  QV2M_san   TQL_san    W2M_san    T2M_dav  QV2M_dav   TQL_dav  \\\n",
       "0  23.482446  0.017272  0.001855  10.328949  22.662134  0.016562  0.096100   \n",
       "1  23.399255  0.017265  0.001327  10.681517  22.578943  0.016509  0.087646   \n",
       "2  23.343530  0.017211  0.001428  10.874924  22.531030  0.016479  0.078735   \n",
       "3  23.238794  0.017128  0.002599  10.518620  22.512231  0.016487  0.068390   \n",
       "4  23.075403  0.017059  0.001729   9.733589  22.481653  0.016456  0.064362   \n",
       "\n",
       "    W2M_dav  Holiday_ID  holiday  school  \n",
       "0  5.364148           0        0       0  \n",
       "1  5.572471           0        0       0  \n",
       "2  5.871184           0        0       0  \n",
       "3  5.883621           0        0       0  \n",
       "4  5.611724           0        0       0  "
      ]
     },
     "execution_count": 3,
     "metadata": {},
     "output_type": "execute_result"
    }
   ],
   "source": [
    "# Airline Passgeners\n",
    "#df_full['Month'] = pd.to_datetime(df_full['Month'])\n",
    "\n",
    "# Panama Electricity Load Forecasting\n",
    "df_full['datetime'] = pd.to_datetime(df_full['datetime'], dayfirst=True)\n",
    "\n",
    "df_full.head()"
   ]
  },
  {
   "cell_type": "code",
   "execution_count": 4,
   "id": "d5e075b3-7c91-41f0-b49e-9e08ef8e9765",
   "metadata": {},
   "outputs": [
    {
     "data": {
      "text/html": [
       "<div>\n",
       "<style scoped>\n",
       "    .dataframe tbody tr th:only-of-type {\n",
       "        vertical-align: middle;\n",
       "    }\n",
       "\n",
       "    .dataframe tbody tr th {\n",
       "        vertical-align: top;\n",
       "    }\n",
       "\n",
       "    .dataframe thead th {\n",
       "        text-align: right;\n",
       "    }\n",
       "</style>\n",
       "<table border=\"1\" class=\"dataframe\">\n",
       "  <thead>\n",
       "    <tr style=\"text-align: right;\">\n",
       "      <th></th>\n",
       "      <th>nat_demand</th>\n",
       "      <th>T2M_toc</th>\n",
       "      <th>QV2M_toc</th>\n",
       "      <th>TQL_toc</th>\n",
       "      <th>W2M_toc</th>\n",
       "      <th>T2M_san</th>\n",
       "      <th>QV2M_san</th>\n",
       "      <th>TQL_san</th>\n",
       "      <th>W2M_san</th>\n",
       "      <th>T2M_dav</th>\n",
       "      <th>QV2M_dav</th>\n",
       "      <th>TQL_dav</th>\n",
       "      <th>W2M_dav</th>\n",
       "      <th>Holiday_ID</th>\n",
       "      <th>holiday</th>\n",
       "      <th>school</th>\n",
       "    </tr>\n",
       "    <tr>\n",
       "      <th>datetime</th>\n",
       "      <th></th>\n",
       "      <th></th>\n",
       "      <th></th>\n",
       "      <th></th>\n",
       "      <th></th>\n",
       "      <th></th>\n",
       "      <th></th>\n",
       "      <th></th>\n",
       "      <th></th>\n",
       "      <th></th>\n",
       "      <th></th>\n",
       "      <th></th>\n",
       "      <th></th>\n",
       "      <th></th>\n",
       "      <th></th>\n",
       "      <th></th>\n",
       "    </tr>\n",
       "  </thead>\n",
       "  <tbody>\n",
       "    <tr>\n",
       "      <th>2019-12-31 19:00:00</th>\n",
       "      <td>1301.6065</td>\n",
       "      <td>26.635645</td>\n",
       "      <td>0.018421</td>\n",
       "      <td>0.013165</td>\n",
       "      <td>13.184052</td>\n",
       "      <td>25.135645</td>\n",
       "      <td>0.018048</td>\n",
       "      <td>0.064240</td>\n",
       "      <td>3.086798</td>\n",
       "      <td>23.620020</td>\n",
       "      <td>0.016697</td>\n",
       "      <td>0.073425</td>\n",
       "      <td>3.865351</td>\n",
       "      <td>22</td>\n",
       "      <td>1</td>\n",
       "      <td>0</td>\n",
       "    </tr>\n",
       "    <tr>\n",
       "      <th>2019-12-31 20:00:00</th>\n",
       "      <td>1250.9634</td>\n",
       "      <td>26.495935</td>\n",
       "      <td>0.018162</td>\n",
       "      <td>0.014713</td>\n",
       "      <td>13.443892</td>\n",
       "      <td>24.769373</td>\n",
       "      <td>0.017781</td>\n",
       "      <td>0.058838</td>\n",
       "      <td>3.659980</td>\n",
       "      <td>23.284998</td>\n",
       "      <td>0.016606</td>\n",
       "      <td>0.064362</td>\n",
       "      <td>4.171572</td>\n",
       "      <td>22</td>\n",
       "      <td>1</td>\n",
       "      <td>0</td>\n",
       "    </tr>\n",
       "    <tr>\n",
       "      <th>2019-12-31 21:00:00</th>\n",
       "      <td>1193.6802</td>\n",
       "      <td>26.354456</td>\n",
       "      <td>0.017980</td>\n",
       "      <td>0.013836</td>\n",
       "      <td>13.442195</td>\n",
       "      <td>24.479456</td>\n",
       "      <td>0.017606</td>\n",
       "      <td>0.038086</td>\n",
       "      <td>3.769294</td>\n",
       "      <td>23.041956</td>\n",
       "      <td>0.016492</td>\n",
       "      <td>0.054260</td>\n",
       "      <td>4.045283</td>\n",
       "      <td>22</td>\n",
       "      <td>1</td>\n",
       "      <td>0</td>\n",
       "    </tr>\n",
       "    <tr>\n",
       "      <th>2019-12-31 22:00:00</th>\n",
       "      <td>1130.4575</td>\n",
       "      <td>26.166895</td>\n",
       "      <td>0.017965</td>\n",
       "      <td>0.018486</td>\n",
       "      <td>13.420656</td>\n",
       "      <td>24.112207</td>\n",
       "      <td>0.017393</td>\n",
       "      <td>0.020386</td>\n",
       "      <td>3.872397</td>\n",
       "      <td>22.862207</td>\n",
       "      <td>0.016401</td>\n",
       "      <td>0.055557</td>\n",
       "      <td>3.843736</td>\n",
       "      <td>22</td>\n",
       "      <td>1</td>\n",
       "      <td>0</td>\n",
       "    </tr>\n",
       "    <tr>\n",
       "      <th>2019-12-31 23:00:00</th>\n",
       "      <td>1084.4737</td>\n",
       "      <td>25.976373</td>\n",
       "      <td>0.018072</td>\n",
       "      <td>0.023315</td>\n",
       "      <td>13.749788</td>\n",
       "      <td>23.663873</td>\n",
       "      <td>0.017156</td>\n",
       "      <td>0.019531</td>\n",
       "      <td>4.165276</td>\n",
       "      <td>22.726373</td>\n",
       "      <td>0.016302</td>\n",
       "      <td>0.061371</td>\n",
       "      <td>3.793209</td>\n",
       "      <td>22</td>\n",
       "      <td>1</td>\n",
       "      <td>0</td>\n",
       "    </tr>\n",
       "  </tbody>\n",
       "</table>\n",
       "</div>"
      ],
      "text/plain": [
       "                     nat_demand    T2M_toc  QV2M_toc   TQL_toc    W2M_toc  \\\n",
       "datetime                                                                    \n",
       "2019-12-31 19:00:00   1301.6065  26.635645  0.018421  0.013165  13.184052   \n",
       "2019-12-31 20:00:00   1250.9634  26.495935  0.018162  0.014713  13.443892   \n",
       "2019-12-31 21:00:00   1193.6802  26.354456  0.017980  0.013836  13.442195   \n",
       "2019-12-31 22:00:00   1130.4575  26.166895  0.017965  0.018486  13.420656   \n",
       "2019-12-31 23:00:00   1084.4737  25.976373  0.018072  0.023315  13.749788   \n",
       "\n",
       "                       T2M_san  QV2M_san   TQL_san   W2M_san    T2M_dav  \\\n",
       "datetime                                                                  \n",
       "2019-12-31 19:00:00  25.135645  0.018048  0.064240  3.086798  23.620020   \n",
       "2019-12-31 20:00:00  24.769373  0.017781  0.058838  3.659980  23.284998   \n",
       "2019-12-31 21:00:00  24.479456  0.017606  0.038086  3.769294  23.041956   \n",
       "2019-12-31 22:00:00  24.112207  0.017393  0.020386  3.872397  22.862207   \n",
       "2019-12-31 23:00:00  23.663873  0.017156  0.019531  4.165276  22.726373   \n",
       "\n",
       "                     QV2M_dav   TQL_dav   W2M_dav  Holiday_ID  holiday  school  \n",
       "datetime                                                                        \n",
       "2019-12-31 19:00:00  0.016697  0.073425  3.865351          22        1       0  \n",
       "2019-12-31 20:00:00  0.016606  0.064362  4.171572          22        1       0  \n",
       "2019-12-31 21:00:00  0.016492  0.054260  4.045283          22        1       0  \n",
       "2019-12-31 22:00:00  0.016401  0.055557  3.843736          22        1       0  \n",
       "2019-12-31 23:00:00  0.016302  0.061371  3.793209          22        1       0  "
      ]
     },
     "execution_count": 4,
     "metadata": {},
     "output_type": "execute_result"
    }
   ],
   "source": [
    "# # Airline Passgeners\n",
    "#df_full.set_index('Month', inplace=True)\n",
    "\n",
    "# Panama Electricity Load Forecasting\n",
    "df_full.set_index('datetime', inplace=True)\n",
    "\n",
    "df_full.tail()"
   ]
  },
  {
   "cell_type": "code",
   "execution_count": 5,
   "id": "b47d22be-d5f7-49ec-a1f9-66f0517098a5",
   "metadata": {},
   "outputs": [
    {
     "data": {
      "text/plain": [
       "<Axes: xlabel='datetime'>"
      ]
     },
     "execution_count": 5,
     "metadata": {},
     "output_type": "execute_result"
    },
    {
     "data": {
      "image/png": "[encoded data removed]",
      "text/plain": [
       "<Figure size 600x400 with 1 Axes>"
      ]
     },
     "metadata": {},
     "output_type": "display_data"
    }
   ],
   "source": [
    "# Airline Passgeners\n",
    "#df_full.plot()\n",
    "\n",
    "# Panama Electricity Load Forecasting\n",
    "df_full.loc['2019-01-03 05:00:00':'2019-01-12 05:00:00', 'nat_demand'].plot()"
   ]
  },
  {
   "cell_type": "markdown",
   "id": "153c4657-cb57-4c92-a0b8-852138506f4a",
   "metadata": {},
   "source": [
    "# Standart Scaler\n",
    "* Exercise: Try without scaler, see if learning works!"
   ]
  },
  {
   "cell_type": "code",
   "execution_count": 6,
   "id": "30d924de-d812-4561-90c5-1b23009056a3",
   "metadata": {},
   "outputs": [
    {
     "data": {
      "text/plain": [
       "<Axes: xlabel='datetime'>"
      ]
     },
     "execution_count": 6,
     "metadata": {},
     "output_type": "execute_result"
    },
    {
     "data": {
      "image/png": "[encoded data removed]",
      "text/plain": [
       "<Figure size 600x400 with 1 Axes>"
      ]
     },
     "metadata": {},
     "output_type": "display_data"
    }
   ],
   "source": [
    "scaler = StandardScaler()\n",
    "\n",
    "# Airline Passgeners\n",
    "#df_full['Passengers'] = scaler.fit_transform(df_full['Passengers'].values.reshape(-1, 1))\n",
    "\n",
    "# Panama Electricity Load Forecasting\n",
    "df_full['nat_demand'] = scaler.fit_transform(df_full['nat_demand'].values.reshape(-1, 1))\n",
    "\n",
    "# Airline Passgeners\n",
    "#df_full.plot()\n",
    "\n",
    "# Panama Electricity Load Forecasting\n",
    "df_full.loc['2019-01-03 05:00:00':'2019-01-12 05:00:00', 'nat_demand'].plot()"
   ]
  },
  {
   "cell_type": "markdown",
   "id": "65714fe7-4bc6-4f30-bffc-40899b1ec13e",
   "metadata": {},
   "source": [
    "### Time series data shape: \n",
    "Unbatched: $(S, F)$\n",
    "\n",
    "* $S:$ Sequence Length\n",
    "* $F:$ Number of Features\n",
    "\n",
    "Batched: $(B, S, F)$\n",
    "* $B:$ Batch Size"
   ]
  },
  {
   "cell_type": "code",
   "execution_count": 7,
   "id": "ac976f02-1801-469e-ac52-27eb5af22eb6",
   "metadata": {},
   "outputs": [
    {
     "data": {
      "text/plain": [
       "(43775, 16)"
      ]
     },
     "execution_count": 7,
     "metadata": {},
     "output_type": "execute_result"
    }
   ],
   "source": [
    "df_full.shape"
   ]
  },
  {
   "cell_type": "markdown",
   "id": "6c8c66f2-8172-4b70-9de6-d7004cd95dc7",
   "metadata": {},
   "source": [
    "# Load Saved Checkpoint"
   ]
  },
  {
   "cell_type": "code",
   "execution_count": 8,
   "id": "99a883b6-501e-434a-bd23-46b71aed1eaf",
   "metadata": {},
   "outputs": [
    {
     "data": {
      "text/plain": [
       "dict_keys(['model_state_dict', 'optimizer_state_dict', 'hyperparameters', 'scaler_state_dict'])"
      ]
     },
     "execution_count": 8,
     "metadata": {},
     "output_type": "execute_result"
    }
   ],
   "source": [
    "checkpoint = torch.load('./saved_models/GPTTimeSeries_Autoregressive.pt')\n",
    "checkpoint.keys()"
   ]
  },
  {
   "cell_type": "markdown",
   "id": "bddff1dd-58d9-421c-a12d-500401580884",
   "metadata": {},
   "source": [
    "# Load Saved (Pre-trained) Model"
   ]
  },
  {
   "cell_type": "code",
   "execution_count": 9,
   "id": "7743b86d-99ab-4e15-9cf5-594a5bfcc257",
   "metadata": {},
   "outputs": [
    {
     "data": {
      "text/plain": [
       "dict_keys(['window_size', 'input_features_size', 'date_input_features_size', 'date_features_dim', 'hidden_features_size', 'output_features_size', 'num_heads', 'ff_dim', 'num_decoder_layers', 'emb_dropout_prob', 'attn_dropout_prob', 'ff_dropout_prob', 'attn_use_bias', 'ff_use_bias', 'output_features_bias', 'batch_size', 'split_ratio', 'learning_rate', 'num_epochs', 'use_amp'])"
      ]
     },
     "execution_count": 9,
     "metadata": {},
     "output_type": "execute_result"
    }
   ],
   "source": [
    "hyperparameters = checkpoint['hyperparameters']\n",
    "hyperparameters.keys()"
   ]
  },
  {
   "cell_type": "code",
   "execution_count": 10,
   "id": "40b38efe-e981-4621-8a6c-3853ff94590f",
   "metadata": {},
   "outputs": [],
   "source": [
    "model = GPTTimeSeries(\n",
    "    input_features_size=hyperparameters['input_features_size'],\n",
    "    date_input_features_size=hyperparameters['date_input_features_size'],\n",
    "    date_features_dim=hyperparameters['date_features_dim'],\n",
    "    features_dim=hyperparameters['hidden_features_size'],\n",
    "    output_features_size=hyperparameters['output_features_size'],\n",
    "    num_heads=hyperparameters['num_heads'],\n",
    "    ff_dim=hyperparameters['ff_dim'],\n",
    "    num_decoder_layers=hyperparameters['num_decoder_layers'],\n",
    "    emb_dropout_prob=hyperparameters['emb_dropout_prob'],\n",
    "    attn_dropout_prob=hyperparameters['attn_dropout_prob'],\n",
    "    ff_dropout_prob=hyperparameters['ff_dropout_prob'],\n",
    "    attn_use_bias=hyperparameters['attn_use_bias'],\n",
    "    ff_use_bias=hyperparameters['ff_use_bias'],\n",
    "    output_features_bias=hyperparameters['output_features_bias'],\n",
    ")"
   ]
  },
  {
   "cell_type": "code",
   "execution_count": 11,
   "id": "e90eeafe-4586-4be4-8b44-c41303f86931",
   "metadata": {},
   "outputs": [
    {
     "data": {
      "text/plain": [
       "<All keys matched successfully>"
      ]
     },
     "execution_count": 11,
     "metadata": {},
     "output_type": "execute_result"
    }
   ],
   "source": [
    "model.to(device)\n",
    "model.load_state_dict(checkpoint['model_state_dict'], strict=True)"
   ]
  },
  {
   "cell_type": "markdown",
   "id": "a0298afd-19ec-4d57-9bb1-d34ea0acd015",
   "metadata": {},
   "source": [
    "# Generative Forecast"
   ]
  },
  {
   "cell_type": "code",
   "execution_count": 12,
   "id": "49d3254a-f0e8-40a6-85cd-0d5f645fe517",
   "metadata": {},
   "outputs": [],
   "source": [
    "@torch.no_grad()\n",
    "def generative_forecast(model, data, num_steps, lag_window_size, use_amp, device):\n",
    "    model.eval()\n",
    "    \n",
    "    predictions = []\n",
    "    time_indexes = []\n",
    "    \n",
    "    # covnert to tensor\n",
    "    # data.shape: (lags, features)\n",
    "    lags = torch.tensor(data[-lag_window_size:, :], dtype=torch.float32, device=device)\n",
    "    \n",
    "    # artificially add batch dimension\n",
    "    # (we are not using the dataloader here!)\n",
    "    # data.shape: (1, lags, features)\n",
    "    lags = lags.unsqueeze(0)\n",
    "\n",
    "    # Datetime indexes \n",
    "    timestamps = df_full.index\n",
    "    # Delta time: calculate the time difference between two samples \n",
    "    delta_time = timestamps[1] - timestamps[0]\n",
    "    # Get last timestamp\n",
    "    current_timestamp = timestamps[-1]\n",
    "\n",
    "    def generate_date_tensor(_timestamp, _lags, _device):\n",
    "        _timestamp = _timestamp[-lag_window_size:]\n",
    "        return torch.tensor([_timestamp.month, _timestamp.day, _timestamp.hour], dtype=torch.float32, device=_device).permute(1, 0)\n",
    "    \n",
    "    # single step\n",
    "    for idx in range(num_steps):\n",
    "\n",
    "        # get the last lag steps\n",
    "        lags = lags[:, -lag_window_size:, :]\n",
    "        #print(lags)\n",
    "\n",
    "        # date\n",
    "        date = generate_date_tensor(timestamps, lag_window_size, device).unsqueeze(0)\n",
    "\n",
    "        with torch.autocast(device_type=device, dtype=torch.float16, enabled=use_amp):\n",
    "            forecast_pred = model(lags, date)\n",
    "        \n",
    "        # (batch, forecast, output_features_size)-> (1, window_size-1, output_features_size)\n",
    "        # TAKE THE LAST PREDICTION STEP AS FORECAST!\n",
    "        predictions.append(forecast_pred[0][-1].cpu().numpy())\n",
    "\n",
    "        # update current timestamp\n",
    "        current_timestamp = current_timestamp + delta_time\n",
    "        time_indexes.append(current_timestamp)\n",
    "        \n",
    "        # append last forecast to the end\n",
    "        # TAKE THE LAST PREDICTION STEP AS FORECAST!\n",
    "        lags = torch.cat((lags, forecast_pred[:, -1:, :].detach()), dim=1)\n",
    "        \n",
    "        # next timestamp\n",
    "        timestamps = timestamps + delta_time\n",
    "\n",
    "    return predictions, time_indexes"
   ]
  },
  {
   "cell_type": "code",
   "execution_count": 16,
   "id": "9456efbc-8e52-492e-b1a0-7d48d7368b01",
   "metadata": {},
   "outputs": [],
   "source": [
    "pred_generative, time_indexes_generative = generative_forecast(\n",
    "    model=model, \n",
    "    data=df_full.values, \n",
    "    num_steps=100, \n",
    "    lag_window_size=hyperparameters['window_size'], \n",
    "    use_amp=hyperparameters['use_amp'], \n",
    "    device=device\n",
    ")\n",
    "\n",
    "pred_generative_array = np.array(pred_generative)\n",
    "\n",
    "generative_results_dict = {}\n",
    "\n",
    "# loop ove features\n",
    "for feature_id, feature_key in enumerate(df_full.columns):\n",
    "    generative_results_dict[feature_key] = pred_generative_array[:, feature_id]\n",
    "        \n",
    "df_generative = pd.DataFrame(data=generative_results_dict, index=time_indexes_generative)"
   ]
  },
  {
   "cell_type": "code",
   "execution_count": 17,
   "id": "3b130f3b-49d3-46fd-b1d4-b5c12d1ae9d0",
   "metadata": {},
   "outputs": [
    {
     "data": {
      "text/plain": [
       "<Axes: >"
      ]
     },
     "execution_count": 17,
     "metadata": {},
     "output_type": "execute_result"
    },
    {
     "data": {
      "image/png": "[encoded data removed]",
      "text/plain": [
       "<Figure size 600x400 with 1 Axes>"
      ]
     },
     "metadata": {},
     "output_type": "display_data"
    }
   ],
   "source": [
    "selected_feature = 'nat_demand'\n",
    "df_generative[selected_feature].plot()"
   ]
  },
  {
   "cell_type": "code",
   "execution_count": null,
   "id": "6d1358f7-52ee-431a-abc3-1b52dbc9f76c",
   "metadata": {},
   "outputs": [],
   "source": []
  }
 ],
 "metadata": {
  "kernelspec": {
   "display_name": "Python 3 (ipykernel)",
   "language": "python",
   "name": "python3"
  },
  "language_info": {
   "codemirror_mode": {
    "name": "ipython",
    "version": 3
   },
   "file_extension": ".py",
   "mimetype": "text/x-python",
   "name": "python",
   "nbconvert_exporter": "python",
   "pygments_lexer": "ipython3",
   "version": "3.11.5"
  }
 },
 "nbformat": 4,
 "nbformat_minor": 5
}
