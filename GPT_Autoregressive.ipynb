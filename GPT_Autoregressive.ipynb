{
 "cells": [
  {
   "cell_type": "markdown",
   "id": "afb1107d-9a96-4d47-ab3e-0582fd89827d",
   "metadata": {},
   "source": [
    "# Time Series Forecasting with Autoregressive GPT "
   ]
  },
  {
   "cell_type": "code",
   "execution_count": 1,
   "id": "b1b2358b-d53a-43e3-9d26-d38b8f7649d3",
   "metadata": {},
   "outputs": [
    {
     "name": "stdout",
     "output_type": "stream",
     "text": [
      "USING DEVICE: cuda\n"
     ]
    }
   ],
   "source": [
    "import torch\n",
    "import torch.nn as nn\n",
    "import torch.nn.functional as F\n",
    "\n",
    "from torch.utils.data import Dataset, DataLoader\n",
    "\n",
    "import os\n",
    "import random\n",
    "import numpy as np\n",
    "import pandas as pd\n",
    "import math\n",
    "from tqdm import tqdm\n",
    "\n",
    "from sklearn.preprocessing import StandardScaler\n",
    "\n",
    "import matplotlib.pyplot as plt\n",
    "\n",
    "plt.rcParams['figure.figsize'] = (6, 4)\n",
    "plt.rcParams['axes.grid'] = True\n",
    "\n",
    "device = 'cuda' if torch.cuda.is_available() else 'cpu'\n",
    "print(f'USING DEVICE: {device}')"
   ]
  },
  {
   "cell_type": "markdown",
   "id": "54bb0bc4-3118-48c0-8f61-2b53d10bbc32",
   "metadata": {},
   "source": [
    "# Hyperparameters"
   ]
  },
  {
   "cell_type": "code",
   "execution_count": 2,
   "id": "288dc719-d4cc-4494-8ffd-19cb73db213f",
   "metadata": {},
   "outputs": [],
   "source": [
    "hyperparameters = {\n",
    "    'window_size': 100, # also 'context_size'\n",
    "    'input_features_size': 16,\n",
    "    'date_input_features_size': 3, # (MONTH, DAY, HOUR)\n",
    "    'date_features_dim': 64,\n",
    "    'hidden_features_size': 256-64, # will be concat inside model\n",
    "    'output_features_size': 16,\n",
    "    'num_heads': 4,\n",
    "    'ff_dim': 256*4, # usually 4 times the hidden feature size\n",
    "    'num_decoder_layers': 12,\n",
    "    'emb_dropout_prob': 0.1,\n",
    "    'attn_dropout_prob': 0.1,\n",
    "    'ff_dropout_prob': 0.1,\n",
    "    'attn_use_bias': False,\n",
    "    'ff_use_bias': False,\n",
    "    'output_features_bias': False,\n",
    "    'batch_size': 128,\n",
    "    'split_ratio': 0.8, # 80% training, 20% testing\n",
    "    'learning_rate': 0.001,\n",
    "    'num_epochs': 60,\n",
    "    'use_amp': True, # USE MIXED PRECISION\n",
    "}"
   ]
  },
  {
   "cell_type": "markdown",
   "id": "a743a1f6-d57a-490e-9ac0-bb41ff95a352",
   "metadata": {},
   "source": [
    "# Dataset"
   ]
  },
  {
   "cell_type": "code",
   "execution_count": 3,
   "id": "db563c03-1ee8-417d-926e-ddd837b766bd",
   "metadata": {},
   "outputs": [
    {
     "data": {
      "text/html": [
       "<div>\n",
       "<style scoped>\n",
       "    .dataframe tbody tr th:only-of-type {\n",
       "        vertical-align: middle;\n",
       "    }\n",
       "\n",
       "    .dataframe tbody tr th {\n",
       "        vertical-align: top;\n",
       "    }\n",
       "\n",
       "    .dataframe thead th {\n",
       "        text-align: right;\n",
       "    }\n",
       "</style>\n",
       "<table border=\"1\" class=\"dataframe\">\n",
       "  <thead>\n",
       "    <tr style=\"text-align: right;\">\n",
       "      <th></th>\n",
       "      <th>datetime</th>\n",
       "      <th>nat_demand</th>\n",
       "      <th>T2M_toc</th>\n",
       "      <th>QV2M_toc</th>\n",
       "      <th>TQL_toc</th>\n",
       "      <th>W2M_toc</th>\n",
       "      <th>T2M_san</th>\n",
       "      <th>QV2M_san</th>\n",
       "      <th>TQL_san</th>\n",
       "      <th>W2M_san</th>\n",
       "      <th>T2M_dav</th>\n",
       "      <th>QV2M_dav</th>\n",
       "      <th>TQL_dav</th>\n",
       "      <th>W2M_dav</th>\n",
       "      <th>Holiday_ID</th>\n",
       "      <th>holiday</th>\n",
       "      <th>school</th>\n",
       "    </tr>\n",
       "  </thead>\n",
       "  <tbody>\n",
       "    <tr>\n",
       "      <th>0</th>\n",
       "      <td>03-01-2015 01:00</td>\n",
       "      <td>970.3450</td>\n",
       "      <td>25.865259</td>\n",
       "      <td>0.018576</td>\n",
       "      <td>0.016174</td>\n",
       "      <td>21.850546</td>\n",
       "      <td>23.482446</td>\n",
       "      <td>0.017272</td>\n",
       "      <td>0.001855</td>\n",
       "      <td>10.328949</td>\n",
       "      <td>22.662134</td>\n",
       "      <td>0.016562</td>\n",
       "      <td>0.096100</td>\n",
       "      <td>5.364148</td>\n",
       "      <td>0</td>\n",
       "      <td>0</td>\n",
       "      <td>0</td>\n",
       "    </tr>\n",
       "    <tr>\n",
       "      <th>1</th>\n",
       "      <td>03-01-2015 02:00</td>\n",
       "      <td>912.1755</td>\n",
       "      <td>25.899255</td>\n",
       "      <td>0.018653</td>\n",
       "      <td>0.016418</td>\n",
       "      <td>22.166944</td>\n",
       "      <td>23.399255</td>\n",
       "      <td>0.017265</td>\n",
       "      <td>0.001327</td>\n",
       "      <td>10.681517</td>\n",
       "      <td>22.578943</td>\n",
       "      <td>0.016509</td>\n",
       "      <td>0.087646</td>\n",
       "      <td>5.572471</td>\n",
       "      <td>0</td>\n",
       "      <td>0</td>\n",
       "      <td>0</td>\n",
       "    </tr>\n",
       "    <tr>\n",
       "      <th>2</th>\n",
       "      <td>03-01-2015 03:00</td>\n",
       "      <td>900.2688</td>\n",
       "      <td>25.937280</td>\n",
       "      <td>0.018768</td>\n",
       "      <td>0.015480</td>\n",
       "      <td>22.454911</td>\n",
       "      <td>23.343530</td>\n",
       "      <td>0.017211</td>\n",
       "      <td>0.001428</td>\n",
       "      <td>10.874924</td>\n",
       "      <td>22.531030</td>\n",
       "      <td>0.016479</td>\n",
       "      <td>0.078735</td>\n",
       "      <td>5.871184</td>\n",
       "      <td>0</td>\n",
       "      <td>0</td>\n",
       "      <td>0</td>\n",
       "    </tr>\n",
       "    <tr>\n",
       "      <th>3</th>\n",
       "      <td>03-01-2015 04:00</td>\n",
       "      <td>889.9538</td>\n",
       "      <td>25.957544</td>\n",
       "      <td>0.018890</td>\n",
       "      <td>0.016273</td>\n",
       "      <td>22.110481</td>\n",
       "      <td>23.238794</td>\n",
       "      <td>0.017128</td>\n",
       "      <td>0.002599</td>\n",
       "      <td>10.518620</td>\n",
       "      <td>22.512231</td>\n",
       "      <td>0.016487</td>\n",
       "      <td>0.068390</td>\n",
       "      <td>5.883621</td>\n",
       "      <td>0</td>\n",
       "      <td>0</td>\n",
       "      <td>0</td>\n",
       "    </tr>\n",
       "    <tr>\n",
       "      <th>4</th>\n",
       "      <td>03-01-2015 05:00</td>\n",
       "      <td>893.6865</td>\n",
       "      <td>25.973840</td>\n",
       "      <td>0.018981</td>\n",
       "      <td>0.017281</td>\n",
       "      <td>21.186089</td>\n",
       "      <td>23.075403</td>\n",
       "      <td>0.017059</td>\n",
       "      <td>0.001729</td>\n",
       "      <td>9.733589</td>\n",
       "      <td>22.481653</td>\n",
       "      <td>0.016456</td>\n",
       "      <td>0.064362</td>\n",
       "      <td>5.611724</td>\n",
       "      <td>0</td>\n",
       "      <td>0</td>\n",
       "      <td>0</td>\n",
       "    </tr>\n",
       "  </tbody>\n",
       "</table>\n",
       "</div>"
      ],
      "text/plain": [
       "           datetime  nat_demand    T2M_toc  QV2M_toc   TQL_toc    W2M_toc  \\\n",
       "0  03-01-2015 01:00    970.3450  25.865259  0.018576  0.016174  21.850546   \n",
       "1  03-01-2015 02:00    912.1755  25.899255  0.018653  0.016418  22.166944   \n",
       "2  03-01-2015 03:00    900.2688  25.937280  0.018768  0.015480  22.454911   \n",
       "3  03-01-2015 04:00    889.9538  25.957544  0.018890  0.016273  22.110481   \n",
       "4  03-01-2015 05:00    893.6865  25.973840  0.018981  0.017281  21.186089   \n",
       "\n",
       "     T2M_san  QV2M_san   TQL_san    W2M_san    T2M_dav  QV2M_dav   TQL_dav  \\\n",
       "0  23.482446  0.017272  0.001855  10.328949  22.662134  0.016562  0.096100   \n",
       "1  23.399255  0.017265  0.001327  10.681517  22.578943  0.016509  0.087646   \n",
       "2  23.343530  0.017211  0.001428  10.874924  22.531030  0.016479  0.078735   \n",
       "3  23.238794  0.017128  0.002599  10.518620  22.512231  0.016487  0.068390   \n",
       "4  23.075403  0.017059  0.001729   9.733589  22.481653  0.016456  0.064362   \n",
       "\n",
       "    W2M_dav  Holiday_ID  holiday  school  \n",
       "0  5.364148           0        0       0  \n",
       "1  5.572471           0        0       0  \n",
       "2  5.871184           0        0       0  \n",
       "3  5.883621           0        0       0  \n",
       "4  5.611724           0        0       0  "
      ]
     },
     "execution_count": 3,
     "metadata": {},
     "output_type": "execute_result"
    }
   ],
   "source": [
    "# Airline Passgeners\n",
    "#df_full = pd.read_csv('data/airline_passengers/airline-passengers.csv')\n",
    "\n",
    "# Panama Electricity Load Forecasting\n",
    "df_full = pd.read_csv('data/panama_electricity_load_forecasting/train.csv')\n",
    "\n",
    "df_full.head()"
   ]
  },
  {
   "cell_type": "code",
   "execution_count": 4,
   "id": "9282fb84-75ad-4629-b9c9-5c0e01cae8a9",
   "metadata": {},
   "outputs": [
    {
     "data": {
      "text/html": [
       "<div>\n",
       "<style scoped>\n",
       "    .dataframe tbody tr th:only-of-type {\n",
       "        vertical-align: middle;\n",
       "    }\n",
       "\n",
       "    .dataframe tbody tr th {\n",
       "        vertical-align: top;\n",
       "    }\n",
       "\n",
       "    .dataframe thead th {\n",
       "        text-align: right;\n",
       "    }\n",
       "</style>\n",
       "<table border=\"1\" class=\"dataframe\">\n",
       "  <thead>\n",
       "    <tr style=\"text-align: right;\">\n",
       "      <th></th>\n",
       "      <th>datetime</th>\n",
       "      <th>nat_demand</th>\n",
       "      <th>T2M_toc</th>\n",
       "      <th>QV2M_toc</th>\n",
       "      <th>TQL_toc</th>\n",
       "      <th>W2M_toc</th>\n",
       "      <th>T2M_san</th>\n",
       "      <th>QV2M_san</th>\n",
       "      <th>TQL_san</th>\n",
       "      <th>W2M_san</th>\n",
       "      <th>T2M_dav</th>\n",
       "      <th>QV2M_dav</th>\n",
       "      <th>TQL_dav</th>\n",
       "      <th>W2M_dav</th>\n",
       "      <th>Holiday_ID</th>\n",
       "      <th>holiday</th>\n",
       "      <th>school</th>\n",
       "    </tr>\n",
       "  </thead>\n",
       "  <tbody>\n",
       "    <tr>\n",
       "      <th>0</th>\n",
       "      <td>2015-01-03 01:00:00</td>\n",
       "      <td>970.3450</td>\n",
       "      <td>25.865259</td>\n",
       "      <td>0.018576</td>\n",
       "      <td>0.016174</td>\n",
       "      <td>21.850546</td>\n",
       "      <td>23.482446</td>\n",
       "      <td>0.017272</td>\n",
       "      <td>0.001855</td>\n",
       "      <td>10.328949</td>\n",
       "      <td>22.662134</td>\n",
       "      <td>0.016562</td>\n",
       "      <td>0.096100</td>\n",
       "      <td>5.364148</td>\n",
       "      <td>0</td>\n",
       "      <td>0</td>\n",
       "      <td>0</td>\n",
       "    </tr>\n",
       "    <tr>\n",
       "      <th>1</th>\n",
       "      <td>2015-01-03 02:00:00</td>\n",
       "      <td>912.1755</td>\n",
       "      <td>25.899255</td>\n",
       "      <td>0.018653</td>\n",
       "      <td>0.016418</td>\n",
       "      <td>22.166944</td>\n",
       "      <td>23.399255</td>\n",
       "      <td>0.017265</td>\n",
       "      <td>0.001327</td>\n",
       "      <td>10.681517</td>\n",
       "      <td>22.578943</td>\n",
       "      <td>0.016509</td>\n",
       "      <td>0.087646</td>\n",
       "      <td>5.572471</td>\n",
       "      <td>0</td>\n",
       "      <td>0</td>\n",
       "      <td>0</td>\n",
       "    </tr>\n",
       "    <tr>\n",
       "      <th>2</th>\n",
       "      <td>2015-01-03 03:00:00</td>\n",
       "      <td>900.2688</td>\n",
       "      <td>25.937280</td>\n",
       "      <td>0.018768</td>\n",
       "      <td>0.015480</td>\n",
       "      <td>22.454911</td>\n",
       "      <td>23.343530</td>\n",
       "      <td>0.017211</td>\n",
       "      <td>0.001428</td>\n",
       "      <td>10.874924</td>\n",
       "      <td>22.531030</td>\n",
       "      <td>0.016479</td>\n",
       "      <td>0.078735</td>\n",
       "      <td>5.871184</td>\n",
       "      <td>0</td>\n",
       "      <td>0</td>\n",
       "      <td>0</td>\n",
       "    </tr>\n",
       "    <tr>\n",
       "      <th>3</th>\n",
       "      <td>2015-01-03 04:00:00</td>\n",
       "      <td>889.9538</td>\n",
       "      <td>25.957544</td>\n",
       "      <td>0.018890</td>\n",
       "      <td>0.016273</td>\n",
       "      <td>22.110481</td>\n",
       "      <td>23.238794</td>\n",
       "      <td>0.017128</td>\n",
       "      <td>0.002599</td>\n",
       "      <td>10.518620</td>\n",
       "      <td>22.512231</td>\n",
       "      <td>0.016487</td>\n",
       "      <td>0.068390</td>\n",
       "      <td>5.883621</td>\n",
       "      <td>0</td>\n",
       "      <td>0</td>\n",
       "      <td>0</td>\n",
       "    </tr>\n",
       "    <tr>\n",
       "      <th>4</th>\n",
       "      <td>2015-01-03 05:00:00</td>\n",
       "      <td>893.6865</td>\n",
       "      <td>25.973840</td>\n",
       "      <td>0.018981</td>\n",
       "      <td>0.017281</td>\n",
       "      <td>21.186089</td>\n",
       "      <td>23.075403</td>\n",
       "      <td>0.017059</td>\n",
       "      <td>0.001729</td>\n",
       "      <td>9.733589</td>\n",
       "      <td>22.481653</td>\n",
       "      <td>0.016456</td>\n",
       "      <td>0.064362</td>\n",
       "      <td>5.611724</td>\n",
       "      <td>0</td>\n",
       "      <td>0</td>\n",
       "      <td>0</td>\n",
       "    </tr>\n",
       "  </tbody>\n",
       "</table>\n",
       "</div>"
      ],
      "text/plain": [
       "             datetime  nat_demand    T2M_toc  QV2M_toc   TQL_toc    W2M_toc  \\\n",
       "0 2015-01-03 01:00:00    970.3450  25.865259  0.018576  0.016174  21.850546   \n",
       "1 2015-01-03 02:00:00    912.1755  25.899255  0.018653  0.016418  22.166944   \n",
       "2 2015-01-03 03:00:00    900.2688  25.937280  0.018768  0.015480  22.454911   \n",
       "3 2015-01-03 04:00:00    889.9538  25.957544  0.018890  0.016273  22.110481   \n",
       "4 2015-01-03 05:00:00    893.6865  25.973840  0.018981  0.017281  21.186089   \n",
       "\n",
       "     T2M_san  QV2M_san   TQL_san    W2M_san    T2M_dav  QV2M_dav   TQL_dav  \\\n",
       "0  23.482446  0.017272  0.001855  10.328949  22.662134  0.016562  0.096100   \n",
       "1  23.399255  0.017265  0.001327  10.681517  22.578943  0.016509  0.087646   \n",
       "2  23.343530  0.017211  0.001428  10.874924  22.531030  0.016479  0.078735   \n",
       "3  23.238794  0.017128  0.002599  10.518620  22.512231  0.016487  0.068390   \n",
       "4  23.075403  0.017059  0.001729   9.733589  22.481653  0.016456  0.064362   \n",
       "\n",
       "    W2M_dav  Holiday_ID  holiday  school  \n",
       "0  5.364148           0        0       0  \n",
       "1  5.572471           0        0       0  \n",
       "2  5.871184           0        0       0  \n",
       "3  5.883621           0        0       0  \n",
       "4  5.611724           0        0       0  "
      ]
     },
     "execution_count": 4,
     "metadata": {},
     "output_type": "execute_result"
    }
   ],
   "source": [
    "# Airline Passgeners\n",
    "#df_full['Month'] = pd.to_datetime(df_full['Month'])\n",
    "\n",
    "# Panama Electricity Load Forecasting\n",
    "df_full['datetime'] = pd.to_datetime(df_full['datetime'], dayfirst=True)\n",
    "\n",
    "df_full.head()"
   ]
  },
  {
   "cell_type": "code",
   "execution_count": 5,
   "id": "c58545c8-31ee-483e-b1fc-028efcb0873a",
   "metadata": {},
   "outputs": [
    {
     "data": {
      "text/html": [
       "<div>\n",
       "<style scoped>\n",
       "    .dataframe tbody tr th:only-of-type {\n",
       "        vertical-align: middle;\n",
       "    }\n",
       "\n",
       "    .dataframe tbody tr th {\n",
       "        vertical-align: top;\n",
       "    }\n",
       "\n",
       "    .dataframe thead th {\n",
       "        text-align: right;\n",
       "    }\n",
       "</style>\n",
       "<table border=\"1\" class=\"dataframe\">\n",
       "  <thead>\n",
       "    <tr style=\"text-align: right;\">\n",
       "      <th></th>\n",
       "      <th>nat_demand</th>\n",
       "      <th>T2M_toc</th>\n",
       "      <th>QV2M_toc</th>\n",
       "      <th>TQL_toc</th>\n",
       "      <th>W2M_toc</th>\n",
       "      <th>T2M_san</th>\n",
       "      <th>QV2M_san</th>\n",
       "      <th>TQL_san</th>\n",
       "      <th>W2M_san</th>\n",
       "      <th>T2M_dav</th>\n",
       "      <th>QV2M_dav</th>\n",
       "      <th>TQL_dav</th>\n",
       "      <th>W2M_dav</th>\n",
       "      <th>Holiday_ID</th>\n",
       "      <th>holiday</th>\n",
       "      <th>school</th>\n",
       "    </tr>\n",
       "    <tr>\n",
       "      <th>datetime</th>\n",
       "      <th></th>\n",
       "      <th></th>\n",
       "      <th></th>\n",
       "      <th></th>\n",
       "      <th></th>\n",
       "      <th></th>\n",
       "      <th></th>\n",
       "      <th></th>\n",
       "      <th></th>\n",
       "      <th></th>\n",
       "      <th></th>\n",
       "      <th></th>\n",
       "      <th></th>\n",
       "      <th></th>\n",
       "      <th></th>\n",
       "      <th></th>\n",
       "    </tr>\n",
       "  </thead>\n",
       "  <tbody>\n",
       "    <tr>\n",
       "      <th>2019-12-31 19:00:00</th>\n",
       "      <td>1301.6065</td>\n",
       "      <td>26.635645</td>\n",
       "      <td>0.018421</td>\n",
       "      <td>0.013165</td>\n",
       "      <td>13.184052</td>\n",
       "      <td>25.135645</td>\n",
       "      <td>0.018048</td>\n",
       "      <td>0.064240</td>\n",
       "      <td>3.086798</td>\n",
       "      <td>23.620020</td>\n",
       "      <td>0.016697</td>\n",
       "      <td>0.073425</td>\n",
       "      <td>3.865351</td>\n",
       "      <td>22</td>\n",
       "      <td>1</td>\n",
       "      <td>0</td>\n",
       "    </tr>\n",
       "    <tr>\n",
       "      <th>2019-12-31 20:00:00</th>\n",
       "      <td>1250.9634</td>\n",
       "      <td>26.495935</td>\n",
       "      <td>0.018162</td>\n",
       "      <td>0.014713</td>\n",
       "      <td>13.443892</td>\n",
       "      <td>24.769373</td>\n",
       "      <td>0.017781</td>\n",
       "      <td>0.058838</td>\n",
       "      <td>3.659980</td>\n",
       "      <td>23.284998</td>\n",
       "      <td>0.016606</td>\n",
       "      <td>0.064362</td>\n",
       "      <td>4.171572</td>\n",
       "      <td>22</td>\n",
       "      <td>1</td>\n",
       "      <td>0</td>\n",
       "    </tr>\n",
       "    <tr>\n",
       "      <th>2019-12-31 21:00:00</th>\n",
       "      <td>1193.6802</td>\n",
       "      <td>26.354456</td>\n",
       "      <td>0.017980</td>\n",
       "      <td>0.013836</td>\n",
       "      <td>13.442195</td>\n",
       "      <td>24.479456</td>\n",
       "      <td>0.017606</td>\n",
       "      <td>0.038086</td>\n",
       "      <td>3.769294</td>\n",
       "      <td>23.041956</td>\n",
       "      <td>0.016492</td>\n",
       "      <td>0.054260</td>\n",
       "      <td>4.045283</td>\n",
       "      <td>22</td>\n",
       "      <td>1</td>\n",
       "      <td>0</td>\n",
       "    </tr>\n",
       "    <tr>\n",
       "      <th>2019-12-31 22:00:00</th>\n",
       "      <td>1130.4575</td>\n",
       "      <td>26.166895</td>\n",
       "      <td>0.017965</td>\n",
       "      <td>0.018486</td>\n",
       "      <td>13.420656</td>\n",
       "      <td>24.112207</td>\n",
       "      <td>0.017393</td>\n",
       "      <td>0.020386</td>\n",
       "      <td>3.872397</td>\n",
       "      <td>22.862207</td>\n",
       "      <td>0.016401</td>\n",
       "      <td>0.055557</td>\n",
       "      <td>3.843736</td>\n",
       "      <td>22</td>\n",
       "      <td>1</td>\n",
       "      <td>0</td>\n",
       "    </tr>\n",
       "    <tr>\n",
       "      <th>2019-12-31 23:00:00</th>\n",
       "      <td>1084.4737</td>\n",
       "      <td>25.976373</td>\n",
       "      <td>0.018072</td>\n",
       "      <td>0.023315</td>\n",
       "      <td>13.749788</td>\n",
       "      <td>23.663873</td>\n",
       "      <td>0.017156</td>\n",
       "      <td>0.019531</td>\n",
       "      <td>4.165276</td>\n",
       "      <td>22.726373</td>\n",
       "      <td>0.016302</td>\n",
       "      <td>0.061371</td>\n",
       "      <td>3.793209</td>\n",
       "      <td>22</td>\n",
       "      <td>1</td>\n",
       "      <td>0</td>\n",
       "    </tr>\n",
       "  </tbody>\n",
       "</table>\n",
       "</div>"
      ],
      "text/plain": [
       "                     nat_demand    T2M_toc  QV2M_toc   TQL_toc    W2M_toc  \\\n",
       "datetime                                                                    \n",
       "2019-12-31 19:00:00   1301.6065  26.635645  0.018421  0.013165  13.184052   \n",
       "2019-12-31 20:00:00   1250.9634  26.495935  0.018162  0.014713  13.443892   \n",
       "2019-12-31 21:00:00   1193.6802  26.354456  0.017980  0.013836  13.442195   \n",
       "2019-12-31 22:00:00   1130.4575  26.166895  0.017965  0.018486  13.420656   \n",
       "2019-12-31 23:00:00   1084.4737  25.976373  0.018072  0.023315  13.749788   \n",
       "\n",
       "                       T2M_san  QV2M_san   TQL_san   W2M_san    T2M_dav  \\\n",
       "datetime                                                                  \n",
       "2019-12-31 19:00:00  25.135645  0.018048  0.064240  3.086798  23.620020   \n",
       "2019-12-31 20:00:00  24.769373  0.017781  0.058838  3.659980  23.284998   \n",
       "2019-12-31 21:00:00  24.479456  0.017606  0.038086  3.769294  23.041956   \n",
       "2019-12-31 22:00:00  24.112207  0.017393  0.020386  3.872397  22.862207   \n",
       "2019-12-31 23:00:00  23.663873  0.017156  0.019531  4.165276  22.726373   \n",
       "\n",
       "                     QV2M_dav   TQL_dav   W2M_dav  Holiday_ID  holiday  school  \n",
       "datetime                                                                        \n",
       "2019-12-31 19:00:00  0.016697  0.073425  3.865351          22        1       0  \n",
       "2019-12-31 20:00:00  0.016606  0.064362  4.171572          22        1       0  \n",
       "2019-12-31 21:00:00  0.016492  0.054260  4.045283          22        1       0  \n",
       "2019-12-31 22:00:00  0.016401  0.055557  3.843736          22        1       0  \n",
       "2019-12-31 23:00:00  0.016302  0.061371  3.793209          22        1       0  "
      ]
     },
     "execution_count": 5,
     "metadata": {},
     "output_type": "execute_result"
    }
   ],
   "source": [
    "# # Airline Passgeners\n",
    "#df_full.set_index('Month', inplace=True)\n",
    "\n",
    "# Panama Electricity Load Forecasting\n",
    "df_full.set_index('datetime', inplace=True)\n",
    "\n",
    "df_full.tail()"
   ]
  },
  {
   "cell_type": "code",
   "execution_count": 6,
   "id": "23042d10-d9ba-4255-81a8-b0e2aafba703",
   "metadata": {},
   "outputs": [
    {
     "data": {
      "text/plain": [
       "<Axes: xlabel='datetime'>"
      ]
     },
     "execution_count": 6,
     "metadata": {},
     "output_type": "execute_result"
    },
    {
     "data": {
      "image/png": "[encoded data removed]",
      "text/plain": [
       "<Figure size 600x400 with 1 Axes>"
      ]
     },
     "metadata": {},
     "output_type": "display_data"
    }
   ],
   "source": [
    "# Airline Passgeners\n",
    "#df_full.plot()\n",
    "\n",
    "# Panama Electricity Load Forecasting\n",
    "df_full.loc['2019-01-03 05:00:00':'2019-01-12 05:00:00', 'nat_demand'].plot()"
   ]
  },
  {
   "cell_type": "markdown",
   "id": "f74c8752-4487-4375-87ad-e9311f3cde86",
   "metadata": {},
   "source": [
    "# Standart Scaler\n",
    "* Exercise: Try without scaler, see if learning works!"
   ]
  },
  {
   "cell_type": "code",
   "execution_count": 7,
   "id": "cca6ad4c-27af-4d30-b19d-c07308ac6acd",
   "metadata": {},
   "outputs": [
    {
     "data": {
      "text/plain": [
       "<Axes: xlabel='datetime'>"
      ]
     },
     "execution_count": 7,
     "metadata": {},
     "output_type": "execute_result"
    },
    {
     "data": {
      "image/png": "[encoded data removed]",
      "text/plain": [
       "<Figure size 600x400 with 1 Axes>"
      ]
     },
     "metadata": {},
     "output_type": "display_data"
    }
   ],
   "source": [
    "feature_scaler = StandardScaler()\n",
    "\n",
    "# Airline Passgeners\n",
    "#df_full['Passengers'] = scaler.fit_transform(df_full['Passengers'].values.reshape(-1, 1))\n",
    "\n",
    "# Panama Electricity Load Forecasting\n",
    "df_full[df_full.columns] = feature_scaler.fit_transform(df_full[df_full.columns])\n",
    "\n",
    "# Airline Passgeners\n",
    "#df_full.plot()\n",
    "\n",
    "# Panama Electricity Load Forecasting\n",
    "df_full.loc['2019-01-03 05:00:00':'2019-01-12 05:00:00', 'nat_demand'].plot()"
   ]
  },
  {
   "cell_type": "code",
   "execution_count": 8,
   "id": "968abec2-9cbd-47c0-b913-c87e175b9635",
   "metadata": {},
   "outputs": [
    {
     "data": {
      "text/plain": [
       "Timestamp('2019-12-31 23:00:00')"
      ]
     },
     "execution_count": 8,
     "metadata": {},
     "output_type": "execute_result"
    }
   ],
   "source": [
    "tstamp = df_full.index[-1]\n",
    "tstamp"
   ]
  },
  {
   "cell_type": "markdown",
   "id": "acf7b0b8-ee9d-4c5b-9558-872feca3f4dc",
   "metadata": {},
   "source": [
    "# Time series data shape: \n",
    "Unbatched: $(S, F)$\n",
    "\n",
    "* $S:$ Sequence Length\n",
    "* $F:$ Number of Features\n",
    "\n",
    "Batched: $(B, S, F)$\n",
    "* $B:$ Batch Size"
   ]
  },
  {
   "cell_type": "code",
   "execution_count": 9,
   "id": "d88f8373-2896-4644-bbab-5f5a912892d5",
   "metadata": {},
   "outputs": [
    {
     "data": {
      "text/plain": [
       "(43775, 16)"
      ]
     },
     "execution_count": 9,
     "metadata": {},
     "output_type": "execute_result"
    }
   ],
   "source": [
    "df_full.shape"
   ]
  },
  {
   "cell_type": "markdown",
   "id": "66106ad6-4eb2-45ea-9534-769a64bc23c1",
   "metadata": {},
   "source": [
    "# Model"
   ]
  },
  {
   "cell_type": "code",
   "execution_count": 10,
   "id": "90408c65-d0cd-43ff-bb19-3a7372afbfea",
   "metadata": {},
   "outputs": [],
   "source": [
    "from models.transformer import GPTTimeSeries"
   ]
  },
  {
   "cell_type": "markdown",
   "id": "21028a64-d051-4443-8e6c-7c61953b0ca5",
   "metadata": {},
   "source": [
    "## Transformer Model\n",
    "### Initialized Model with Hyperparameters"
   ]
  },
  {
   "cell_type": "code",
   "execution_count": 11,
   "id": "2e62a5b6-6a2a-4bf6-82ac-b7564ff34352",
   "metadata": {},
   "outputs": [],
   "source": [
    "model = GPTTimeSeries(\n",
    "    input_features_size=hyperparameters['input_features_size'],\n",
    "    date_input_features_size=hyperparameters['date_input_features_size'],\n",
    "    date_features_dim=hyperparameters['date_features_dim'],\n",
    "    features_dim=hyperparameters['hidden_features_size'],\n",
    "    output_features_size=hyperparameters['output_features_size'],\n",
    "    num_heads=hyperparameters['num_heads'],\n",
    "    ff_dim=hyperparameters['ff_dim'],\n",
    "    num_decoder_layers=hyperparameters['num_decoder_layers'],\n",
    "    emb_dropout_prob=hyperparameters['emb_dropout_prob'],\n",
    "    attn_dropout_prob=hyperparameters['attn_dropout_prob'],\n",
    "    ff_dropout_prob=hyperparameters['ff_dropout_prob'],\n",
    "    attn_use_bias=hyperparameters['attn_use_bias'],\n",
    "    ff_use_bias=hyperparameters['ff_use_bias'],\n",
    "    output_features_bias=hyperparameters['output_features_bias'],\n",
    ")"
   ]
  },
  {
   "cell_type": "markdown",
   "id": "9cde0d98-32af-40f7-aa7c-6fb9e1e9d15e",
   "metadata": {},
   "source": [
    "### Number of parameters"
   ]
  },
  {
   "cell_type": "code",
   "execution_count": 12,
   "id": "66aea2e7-7cc0-41a4-98d9-abbfe855f0ba",
   "metadata": {},
   "outputs": [],
   "source": [
    "def print_model_parameters(model):\n",
    "    print(f'{sum(p.numel() for p in model.parameters()):,}')"
   ]
  },
  {
   "cell_type": "code",
   "execution_count": 13,
   "id": "250ac969-c12d-4271-9836-ae00d34c78f9",
   "metadata": {},
   "outputs": [
    {
     "name": "stdout",
     "output_type": "stream",
     "text": [
      "Number of parameters:\n",
      "9,457,600\n"
     ]
    }
   ],
   "source": [
    "print('Number of parameters:')\n",
    "print_model_parameters(model)"
   ]
  },
  {
   "cell_type": "code",
   "execution_count": 14,
   "id": "8be2e080-45e8-4a64-acc1-373d17ad0ac3",
   "metadata": {},
   "outputs": [
    {
     "data": {
      "text/plain": [
       "torch.Size([1, 100, 16])"
      ]
     },
     "execution_count": 14,
     "metadata": {},
     "output_type": "execute_result"
    }
   ],
   "source": [
    "# \"1\" is the batch, single sample to speed it up\n",
    "dummy_data = torch.randn(1, hyperparameters['window_size'], hyperparameters['input_features_size'])\n",
    "dummy_date = torch.randn(1, hyperparameters['window_size'], hyperparameters['date_input_features_size'])\n",
    "\n",
    "o = model(dummy_data, dummy_date)\n",
    "o.shape"
   ]
  },
  {
   "cell_type": "markdown",
   "id": "4b42fd9c-ba8c-4453-9f2c-28298878cc78",
   "metadata": {},
   "source": [
    "# Dataset"
   ]
  },
  {
   "cell_type": "code",
   "execution_count": 15,
   "id": "e7ad354d-f77e-49a5-b3ec-5da382d9cd8f",
   "metadata": {},
   "outputs": [],
   "source": [
    "class TimeSeriesDataset(Dataset):\n",
    "    def __init__(self, df, window_size):\n",
    "        self.df = df\n",
    "        self.window_size = window_size\n",
    "        \n",
    "    def __len__(self):\n",
    "        number_of_samples = self.df.shape[0]\n",
    "        # make sure that last window fits\n",
    "        return number_of_samples - self.window_size\n",
    "\n",
    "    def __getitem__(self, start_idx):\n",
    "\n",
    "        # get a NumPy array of size: (hyperparameters['window_size'], NUM_FEATURES)\n",
    "        df_window = self.df.iloc[start_idx:start_idx+self.window_size]\n",
    "\n",
    "        sample_window = df_window.values\n",
    "        # input (lag) timestamps\n",
    "        sample_timestamp_lags = df_window[:-1].index\n",
    "            \n",
    "        # divide window into lags and forecast (shifted by 1)\n",
    "        # first window_size-1 steps\n",
    "        lags = sample_window[:-1, :]\n",
    "        # last window_size-1 steps\n",
    "        forecast = sample_window[1:, :]\n",
    "\n",
    "        # convert to tensor\n",
    "        lags = torch.tensor(lags, dtype=torch.float32)\n",
    "        forecast = torch.tensor(forecast, dtype=torch.float32)\n",
    "        \n",
    "        # (lags, date_input_features_size)\n",
    "        date = torch.tensor([sample_timestamp_lags.month, sample_timestamp_lags.day, sample_timestamp_lags.hour], dtype=torch.float32).permute(1, 0)\n",
    "        \n",
    "        return lags, forecast, date"
   ]
  },
  {
   "cell_type": "code",
   "execution_count": 16,
   "id": "3c6dcf40-189e-4f2b-bc04-9a6a73cd1c96",
   "metadata": {},
   "outputs": [],
   "source": [
    "dataset_full = TimeSeriesDataset(\n",
    "    df_full,\n",
    "    hyperparameters['window_size'],\n",
    ")"
   ]
  },
  {
   "cell_type": "code",
   "execution_count": 17,
   "id": "570ccea2-bc70-4e55-9ab1-9f71c79a1c19",
   "metadata": {},
   "outputs": [
    {
     "data": {
      "text/plain": [
       "(torch.Size([99, 16]), torch.Size([99, 16]), torch.Size([99, 3]))"
      ]
     },
     "execution_count": 17,
     "metadata": {},
     "output_type": "execute_result"
    }
   ],
   "source": [
    "_lags, _forecast, _date = dataset_full[0]\n",
    "_lags.shape, _forecast.shape, _date.shape"
   ]
  },
  {
   "cell_type": "markdown",
   "id": "65347aee-d469-4ebf-8499-767dacb6a102",
   "metadata": {},
   "source": [
    "### Train/Test Split"
   ]
  },
  {
   "cell_type": "code",
   "execution_count": 18,
   "id": "5ccdaaa6-c1d5-42ad-a66f-6c3539a4ab73",
   "metadata": {},
   "outputs": [
    {
     "data": {
      "text/plain": [
       "(34940, 8735)"
      ]
     },
     "execution_count": 18,
     "metadata": {},
     "output_type": "execute_result"
    }
   ],
   "source": [
    "train_size = int(hyperparameters['split_ratio'] * len(dataset_full))\n",
    "test_size = len(dataset_full) - train_size\n",
    "\n",
    "train_size, test_size"
   ]
  },
  {
   "cell_type": "code",
   "execution_count": 19,
   "id": "f098f3c5-0cd2-4d64-8ff3-de5b85d28d0f",
   "metadata": {},
   "outputs": [
    {
     "data": {
      "text/plain": [
       "<matplotlib.legend.Legend at 0x7fefb6554ad0>"
      ]
     },
     "execution_count": 19,
     "metadata": {},
     "output_type": "execute_result"
    },
    {
     "data": {
      "image/png": "[encoded data removed]",
      "text/plain": [
       "<Figure size 600x400 with 1 Axes>"
      ]
     },
     "metadata": {},
     "output_type": "display_data"
    }
   ],
   "source": [
    "df_train = df_full.iloc[:train_size, :]\n",
    "df_test = df_full.iloc[-test_size:, :]\n",
    "\n",
    "# Airline Passgeners\n",
    "#plt.plot(df_train.index, df_train['Passengers'], c='blue', label='training')\n",
    "#plt.plot(df_test.index, df_test['Passengers'], c='red', label='test')\n",
    "\n",
    "# Panama Electricity Load Forecasting\n",
    "plt.plot(df_train.index, df_train['nat_demand'], c='blue', label='training')\n",
    "plt.plot(df_test.index, df_test['nat_demand'], c='red', label='test')\n",
    "\n",
    "plt.legend()"
   ]
  },
  {
   "cell_type": "code",
   "execution_count": 20,
   "id": "b53d20db-2358-494b-927c-196a3c407bf2",
   "metadata": {},
   "outputs": [],
   "source": [
    "dataset_train = TimeSeriesDataset(\n",
    "    df_train,\n",
    "    hyperparameters['window_size'],\n",
    ")\n",
    "\n",
    "dataset_test = TimeSeriesDataset(\n",
    "    df_test,\n",
    "    hyperparameters['window_size'],\n",
    ")"
   ]
  },
  {
   "cell_type": "markdown",
   "id": "0f9516e1-f1ee-4db5-b6e3-3a9d76f0b20d",
   "metadata": {},
   "source": [
    "# Dataloader"
   ]
  },
  {
   "cell_type": "code",
   "execution_count": 21,
   "id": "5acba036-7c98-4786-9c00-5af6325f8fd4",
   "metadata": {},
   "outputs": [
    {
     "name": "stdout",
     "output_type": "stream",
     "text": [
      "Number of batches (total): 342\n",
      "Number of batches (train): 273\n",
      "Number of batches (test): 68\n"
     ]
    }
   ],
   "source": [
    "dataloader_full = DataLoader(\n",
    "    dataset_full,\n",
    "    batch_size=hyperparameters['batch_size'],\n",
    "    shuffle=False,\n",
    ")\n",
    "\n",
    "dataloader_train = DataLoader(\n",
    "    dataset_train,\n",
    "    batch_size=hyperparameters['batch_size'],\n",
    "    shuffle=False,\n",
    ")\n",
    "\n",
    "dataloader_test = DataLoader(\n",
    "    dataset_test,\n",
    "    batch_size=hyperparameters['batch_size'],\n",
    "    shuffle=False,\n",
    ")\n",
    "\n",
    "print(f'Number of batches (total): {len(dataloader_full)}')\n",
    "print(f'Number of batches (train): {len(dataloader_train)}')\n",
    "print(f'Number of batches (test): {len(dataloader_test)}')"
   ]
  },
  {
   "cell_type": "code",
   "execution_count": 22,
   "id": "0ab4ab76-bc6a-4827-9686-e5f10b66987d",
   "metadata": {},
   "outputs": [
    {
     "data": {
      "text/plain": [
       "(torch.Size([128, 99, 16]),\n",
       " torch.Size([128, 99, 16]),\n",
       " torch.Size([128, 99, 3]))"
      ]
     },
     "execution_count": 22,
     "metadata": {},
     "output_type": "execute_result"
    }
   ],
   "source": [
    "_lags_batch, _forecast_batch, _date_batch = next(iter(dataloader_full))\n",
    "# (hyperparameters['batch_size'], hyperparameters['lags'], NUM_FEATURES), # (hyperparameters['batch_size'], hyperparameters['forecast'], NUM_FEATURES)\n",
    "_lags_batch.shape, _forecast_batch.shape, _date_batch.shape"
   ]
  },
  {
   "cell_type": "code",
   "execution_count": 23,
   "id": "092102e2-5185-43f7-947b-81abf7bdf96d",
   "metadata": {},
   "outputs": [
    {
     "data": {
      "text/plain": [
       "342"
      ]
     },
     "execution_count": 23,
     "metadata": {},
     "output_type": "execute_result"
    }
   ],
   "source": [
    "len(dataloader_full)"
   ]
  },
  {
   "cell_type": "raw",
   "id": "ffc14438-3d06-4c12-8756-e2f7eaf95b28",
   "metadata": {},
   "source": [
    "for idx, (s) in enumerate(dataloader_full):\n",
    "    print(idx)\n",
    "    print(s[0].shape, s[1].shape)"
   ]
  },
  {
   "cell_type": "markdown",
   "id": "e3a30eb6-4ac5-4dfa-b7d7-873168eb2339",
   "metadata": {},
   "source": [
    "# Training"
   ]
  },
  {
   "cell_type": "markdown",
   "id": "f15bf614-596e-4c9b-abfe-91d933c05d76",
   "metadata": {},
   "source": [
    "### Training Functions\n",
    "* with AMP support"
   ]
  },
  {
   "cell_type": "code",
   "execution_count": 24,
   "id": "1003c1c4-c9ae-4f24-8e72-6f8ea31285dc",
   "metadata": {},
   "outputs": [],
   "source": [
    "def train_iter(model, dataloader, optimizer, criterion, scaler, use_amp, device):\n",
    "    model.train()\n",
    "\n",
    "    avg_loss = []\n",
    "    \n",
    "    for (lags, forecast, date) in dataloader:\n",
    "\n",
    "        lags = lags.to(device)\n",
    "        forecast = forecast.to(device)\n",
    "        date = date.to(device)\n",
    "        \n",
    "        with torch.autocast(device_type=device, dtype=torch.float16, enabled=use_amp):\n",
    "            # AMP forward pass\n",
    "            forecast_pred = model(lags, date)\n",
    "            loss = criterion(forecast_pred, forecast)\n",
    "        \n",
    "        scaler.scale(loss).backward()  #loss.backward()\n",
    "        scaler.step(optimizer)         #optimizer.step()\n",
    "        scaler.update()\n",
    "        optimizer.zero_grad()\n",
    "\n",
    "        avg_loss.append(loss.item())\n",
    "\n",
    "    return sum(avg_loss) / len(avg_loss)\n",
    "\n",
    "\n",
    "@torch.no_grad()\n",
    "def eval_iter(model, dataloader, criterion, use_amp, device):\n",
    "    model.eval()\n",
    "\n",
    "    avg_loss = []\n",
    "    predictions = []\n",
    "    \n",
    "    for (lags, forecast, date) in dataloader:\n",
    "        \n",
    "        lags = lags.to(device)\n",
    "        forecast = forecast.to(device)\n",
    "        date = date.to(device)\n",
    "                \n",
    "        with torch.autocast(device_type=device, dtype=torch.float16, enabled=use_amp):\n",
    "            # AMP forward pass\n",
    "            forecast_pred = model(lags, date)\n",
    "            loss = criterion(forecast_pred, forecast)\n",
    "        \n",
    "        avg_loss.append(loss.item())\n",
    "        predictions.append(forecast_pred)\n",
    "\n",
    "    return sum(avg_loss) / len(avg_loss), predictions"
   ]
  },
  {
   "cell_type": "markdown",
   "id": "19f3e836-bd62-4e58-840a-18a5db7dec44",
   "metadata": {},
   "source": [
    "### Start Training"
   ]
  },
  {
   "cell_type": "code",
   "execution_count": 25,
   "id": "2d953510-def3-4d02-8847-40c28e59214e",
   "metadata": {},
   "outputs": [],
   "source": [
    "optimizer = torch.optim.Adam(\n",
    "    model.parameters(),\n",
    "    lr=hyperparameters['learning_rate']\n",
    ")\n",
    "\n",
    "scheduler = torch.optim.lr_scheduler.ReduceLROnPlateau(\n",
    "    optimizer,\n",
    "    mode='min', \n",
    "    factor=0.1, \n",
    "    patience=3,\n",
    "    min_lr=1e-6,\n",
    ")\n",
    "\n",
    "scaler = torch.cuda.amp.GradScaler(enabled=hyperparameters['use_amp'])\n",
    "\n",
    "mse_loss = nn.MSELoss()"
   ]
  },
  {
   "cell_type": "code",
   "execution_count": 26,
   "id": "a86f98b9-3175-4d0c-855a-f054321d2f86",
   "metadata": {},
   "outputs": [
    {
     "name": "stdout",
     "output_type": "stream",
     "text": [
      "Epoch: 1  | Training loss: 0.8658, Testing Loss: 0.9631, LR: [0.001]\n",
      "Epoch: 2  | Training loss: 0.8130, Testing Loss: 0.9308, LR: [0.001]\n",
      "Epoch: 3  | Training loss: 0.7901, Testing Loss: 0.7717, LR: [0.001]\n",
      "Epoch: 4  | Training loss: 0.6808, Testing Loss: 0.6257, LR: [0.001]\n",
      "Epoch: 5  | Training loss: 0.6200, Testing Loss: 0.5450, LR: [0.001]\n",
      "Epoch: 6  | Training loss: 0.5348, Testing Loss: 0.4402, LR: [0.001]\n",
      "Epoch: 7  | Training loss: 0.4369, Testing Loss: 0.3815, LR: [0.001]\n",
      "Epoch: 8  | Training loss: 0.4006, Testing Loss: 0.3565, LR: [0.001]\n",
      "Epoch: 9  | Training loss: 0.3529, Testing Loss: 0.3419, LR: [0.001]\n",
      "Epoch: 10 | Training loss: 0.3193, Testing Loss: 0.3193, LR: [0.001]\n",
      "Epoch: 11 | Training loss: 0.2817, Testing Loss: 0.2788, LR: [0.001]\n",
      "Epoch: 12 | Training loss: 0.2490, Testing Loss: 0.2357, LR: [0.001]\n",
      "Epoch: 13 | Training loss: 0.2313, Testing Loss: 0.2052, LR: [0.001]\n",
      "Epoch: 14 | Training loss: 0.2150, Testing Loss: 0.1950, LR: [0.001]\n",
      "Epoch: 15 | Training loss: 0.2036, Testing Loss: 0.1843, LR: [0.001]\n",
      "Epoch: 16 | Training loss: 0.1867, Testing Loss: 0.1683, LR: [0.001]\n",
      "Epoch: 17 | Training loss: 0.1726, Testing Loss: 0.1705, LR: [0.001]\n",
      "Epoch: 18 | Training loss: 0.1584, Testing Loss: 0.1530, LR: [0.001]\n",
      "Epoch: 19 | Training loss: 0.1492, Testing Loss: 0.1431, LR: [0.001]\n",
      "Epoch: 20 | Training loss: 0.1447, Testing Loss: 0.1360, LR: [0.001]\n",
      "Epoch: 21 | Training loss: 0.1405, Testing Loss: 0.1426, LR: [0.001]\n",
      "Epoch: 22 | Training loss: 0.1310, Testing Loss: 0.1353, LR: [0.001]\n",
      "Epoch: 23 | Training loss: 0.1200, Testing Loss: 0.1152, LR: [0.001]\n",
      "Epoch: 24 | Training loss: 0.1087, Testing Loss: 0.0987, LR: [0.001]\n",
      "Epoch: 25 | Training loss: 0.0979, Testing Loss: 0.0874, LR: [0.001]\n",
      "Epoch: 26 | Training loss: 0.0902, Testing Loss: 0.0841, LR: [0.001]\n",
      "Epoch: 27 | Training loss: 0.0934, Testing Loss: 0.0795, LR: [0.001]\n",
      "Epoch: 28 | Training loss: 0.0801, Testing Loss: 0.0743, LR: [0.001]\n",
      "Epoch: 29 | Training loss: 0.0711, Testing Loss: 0.0681, LR: [0.001]\n",
      "Epoch: 30 | Training loss: 0.0650, Testing Loss: 0.0593, LR: [0.001]\n",
      "Epoch: 31 | Training loss: 0.0611, Testing Loss: 0.0677, LR: [0.001]\n",
      "Epoch: 32 | Training loss: 0.0571, Testing Loss: 0.0625, LR: [0.001]\n",
      "Epoch: 33 | Training loss: 0.0542, Testing Loss: 0.0693, LR: [0.001]\n",
      "Epoch: 34 | Training loss: 0.0843, Testing Loss: 0.0680, LR: [0.0001]\n",
      "Epoch: 35 | Training loss: 0.0556, Testing Loss: 0.0436, LR: [0.0001]\n",
      "Epoch: 36 | Training loss: 0.0487, Testing Loss: 0.0417, LR: [0.0001]\n",
      "Epoch: 37 | Training loss: 0.0469, Testing Loss: 0.0406, LR: [0.0001]\n",
      "Epoch: 38 | Training loss: 0.0458, Testing Loss: 0.0397, LR: [0.0001]\n",
      "Epoch: 39 | Training loss: 0.0448, Testing Loss: 0.0389, LR: [0.0001]\n",
      "Epoch: 40 | Training loss: 0.0439, Testing Loss: 0.0383, LR: [0.0001]\n",
      "Epoch: 41 | Training loss: 0.0431, Testing Loss: 0.0377, LR: [0.0001]\n",
      "Epoch: 42 | Training loss: 0.0424, Testing Loss: 0.0373, LR: [0.0001]\n",
      "Epoch: 43 | Training loss: 0.0417, Testing Loss: 0.0369, LR: [0.0001]\n",
      "Epoch: 44 | Training loss: 0.0411, Testing Loss: 0.0365, LR: [0.0001]\n",
      "Epoch: 45 | Training loss: 0.0404, Testing Loss: 0.0362, LR: [0.0001]\n",
      "Epoch: 46 | Training loss: 0.0399, Testing Loss: 0.0359, LR: [0.0001]\n",
      "Epoch: 47 | Training loss: 0.0393, Testing Loss: 0.0357, LR: [0.0001]\n",
      "Epoch: 48 | Training loss: 0.0387, Testing Loss: 0.0354, LR: [0.0001]\n",
      "Epoch: 49 | Training loss: 0.0381, Testing Loss: 0.0350, LR: [0.0001]\n",
      "Epoch: 50 | Training loss: 0.0376, Testing Loss: 0.0347, LR: [0.0001]\n",
      "Epoch: 51 | Training loss: 0.0371, Testing Loss: 0.0347, LR: [0.0001]\n",
      "Epoch: 52 | Training loss: 0.0366, Testing Loss: 0.0344, LR: [0.0001]\n",
      "Epoch: 53 | Training loss: 0.0363, Testing Loss: 0.0339, LR: [0.0001]\n",
      "Epoch: 54 | Training loss: 0.0357, Testing Loss: 0.0339, LR: [0.0001]\n",
      "Epoch: 55 | Training loss: 0.0355, Testing Loss: 0.0336, LR: [0.0001]\n",
      "Epoch: 56 | Training loss: 0.0349, Testing Loss: 0.0336, LR: [0.0001]\n",
      "Epoch: 57 | Training loss: 0.0346, Testing Loss: 0.0337, LR: [0.0001]\n",
      "Epoch: 58 | Training loss: 0.0345, Testing Loss: 0.0337, LR: [0.0001]\n",
      "Epoch: 59 | Training loss: 0.0339, Testing Loss: 0.0334, LR: [0.0001]\n",
      "Epoch: 60 | Training loss: 0.0336, Testing Loss: 0.0330, LR: [0.0001]\n"
     ]
    }
   ],
   "source": [
    "model.to(device)\n",
    "\n",
    "for epoch in range(1, hyperparameters['num_epochs']+1):\n",
    "        \n",
    "    avg_train_loss = train_iter(\n",
    "        model=model, \n",
    "        dataloader=dataloader_train, \n",
    "        optimizer=optimizer, \n",
    "        criterion=mse_loss, \n",
    "        scaler=scaler, \n",
    "        use_amp=hyperparameters['use_amp'], \n",
    "        device=device\n",
    "    )\n",
    "    \n",
    "    avg_test_loss, _ = eval_iter(\n",
    "        model=model, \n",
    "        dataloader=dataloader_test, \n",
    "        criterion=mse_loss, \n",
    "        use_amp=hyperparameters['use_amp'],\n",
    "        device=device\n",
    "    )\n",
    "\n",
    "    # auto decrease LR when not improving\n",
    "    scheduler.step(avg_test_loss)\n",
    "    \n",
    "    \"\"\"\n",
    "    # MANUAL LR SCHEDULING\n",
    "    if epoch == 30:\n",
    "        for pg in optimizer.param_groups:\n",
    "            pg['lr'] *= 0.1\n",
    "\n",
    "    if epoch == 60:\n",
    "        for pg in optimizer.param_groups:\n",
    "            pg['lr'] *= 0.1\n",
    "    \"\"\"\n",
    "    \n",
    "    print(f'Epoch: {epoch:<3}| Training loss: {avg_train_loss:.4f}, Testing Loss: {avg_test_loss:.4f}, LR: {scheduler.get_last_lr()}')"
   ]
  },
  {
   "cell_type": "markdown",
   "id": "88d22bf5-4588-4c5b-914b-237833db8293",
   "metadata": {},
   "source": [
    "# Testing\n",
    "* NOTE: we prefer to use single windows step during prediction"
   ]
  },
  {
   "cell_type": "code",
   "execution_count": 27,
   "id": "03d19abb-3e77-4c33-9f37-c65c457ab413",
   "metadata": {},
   "outputs": [],
   "source": [
    "@torch.no_grad()\n",
    "def eval_iter_single_step(model, dataloader, criterion, use_amp, device):\n",
    "    model.eval()\n",
    "\n",
    "    avg_loss = []\n",
    "    predictions = []\n",
    "    \n",
    "    # single step\n",
    "    for start_idx in tqdm(range(0, len(df_test)-hyperparameters['window_size'])):\n",
    "\n",
    "        # single step window sliding\n",
    "        df_window = df_test.iloc[start_idx:start_idx+hyperparameters['window_size'], :]\n",
    "\n",
    "        sample_window = df_window.values\n",
    "        # input (lag) timestamps\n",
    "        sample_timestamp_lags = df_window[:-1].index\n",
    "\n",
    "        # covnert to tensor\n",
    "        lags = torch.tensor(sample_window[:-1], dtype=torch.float32, device=device)\n",
    "        forecast = torch.tensor(sample_window[1:], dtype=torch.float32, device=device)\n",
    "        # (lags, date_input_features_size)\n",
    "        date = torch.tensor([sample_timestamp_lags.month, sample_timestamp_lags.day, sample_timestamp_lags.hour], dtype=torch.float32, device=device).permute(1, 0)\n",
    "        \n",
    "        # artificially add batch dimension\n",
    "        # (we are not using the dataloader here!)\n",
    "        lags = lags.unsqueeze(0)\n",
    "        forecast = forecast.unsqueeze(0)\n",
    "        date = date.unsqueeze(0)\n",
    "\n",
    "        with torch.autocast(device_type=device, dtype=torch.float16, enabled=use_amp):\n",
    "            forecast_pred = model(lags, date)\n",
    "            loss = criterion(forecast_pred, forecast)\n",
    "            \n",
    "        avg_loss.append(loss.item())\n",
    "        # (batch, forecast, output_features_size)-> (1, window_size-1, output_features_size)\n",
    "        # TAKE THE LAST PREDICTION STEP AS FORECAST!\n",
    "        predictions.append(forecast_pred[0][-1].cpu().numpy())\n",
    "\n",
    "    return sum(avg_loss) / len(avg_loss), predictions"
   ]
  },
  {
   "cell_type": "code",
   "execution_count": 28,
   "id": "0fab7f2f-c398-4154-97e2-efd8b9d88cc0",
   "metadata": {},
   "outputs": [
    {
     "name": "stderr",
     "output_type": "stream",
     "text": [
      "100%|███████████████████████████████████████████████████████████████████████████| 8635/8635 [01:29<00:00, 96.64it/s]\n"
     ]
    },
    {
     "data": {
      "text/plain": [
       "8635"
      ]
     },
     "execution_count": 28,
     "metadata": {},
     "output_type": "execute_result"
    }
   ],
   "source": [
    "_, pred_sliding = eval_iter_single_step(\n",
    "    model=model, \n",
    "    dataloader=dataloader_test, \n",
    "    criterion=mse_loss, \n",
    "    use_amp=hyperparameters['use_amp'],\n",
    "    device=device\n",
    ")\n",
    "\n",
    "len(pred_sliding)"
   ]
  },
  {
   "cell_type": "code",
   "execution_count": 29,
   "id": "ffc489fe-1b8f-481d-a0f0-e2b3c801c3da",
   "metadata": {},
   "outputs": [
    {
     "data": {
      "text/plain": [
       "Index(['nat_demand', 'T2M_toc', 'QV2M_toc', 'TQL_toc', 'W2M_toc', 'T2M_san',\n",
       "       'QV2M_san', 'TQL_san', 'W2M_san', 'T2M_dav', 'QV2M_dav', 'TQL_dav',\n",
       "       'W2M_dav', 'Holiday_ID', 'holiday', 'school'],\n",
       "      dtype='object')"
      ]
     },
     "execution_count": 29,
     "metadata": {},
     "output_type": "execute_result"
    }
   ],
   "source": [
    "df_full.columns"
   ]
  },
  {
   "cell_type": "code",
   "execution_count": 30,
   "id": "bf1ca0b4-2951-452a-b0da-2dd19717944d",
   "metadata": {},
   "outputs": [
    {
     "data": {
      "text/html": [
       "<div>\n",
       "<style scoped>\n",
       "    .dataframe tbody tr th:only-of-type {\n",
       "        vertical-align: middle;\n",
       "    }\n",
       "\n",
       "    .dataframe tbody tr th {\n",
       "        vertical-align: top;\n",
       "    }\n",
       "\n",
       "    .dataframe thead th {\n",
       "        text-align: right;\n",
       "    }\n",
       "</style>\n",
       "<table border=\"1\" class=\"dataframe\">\n",
       "  <thead>\n",
       "    <tr style=\"text-align: right;\">\n",
       "      <th></th>\n",
       "      <th>nat_demand</th>\n",
       "      <th>T2M_toc</th>\n",
       "      <th>QV2M_toc</th>\n",
       "      <th>TQL_toc</th>\n",
       "      <th>W2M_toc</th>\n",
       "      <th>T2M_san</th>\n",
       "      <th>QV2M_san</th>\n",
       "      <th>TQL_san</th>\n",
       "      <th>W2M_san</th>\n",
       "      <th>T2M_dav</th>\n",
       "      <th>QV2M_dav</th>\n",
       "      <th>TQL_dav</th>\n",
       "      <th>W2M_dav</th>\n",
       "      <th>Holiday_ID</th>\n",
       "      <th>holiday</th>\n",
       "      <th>school</th>\n",
       "    </tr>\n",
       "    <tr>\n",
       "      <th>datetime</th>\n",
       "      <th></th>\n",
       "      <th></th>\n",
       "      <th></th>\n",
       "      <th></th>\n",
       "      <th></th>\n",
       "      <th></th>\n",
       "      <th></th>\n",
       "      <th></th>\n",
       "      <th></th>\n",
       "      <th></th>\n",
       "      <th></th>\n",
       "      <th></th>\n",
       "      <th></th>\n",
       "      <th></th>\n",
       "      <th></th>\n",
       "      <th></th>\n",
       "    </tr>\n",
       "  </thead>\n",
       "  <tbody>\n",
       "    <tr>\n",
       "      <th>2019-01-02 01:00:00</th>\n",
       "      <td>-1.023438</td>\n",
       "      <td>-1.584961</td>\n",
       "      <td>-0.704102</td>\n",
       "      <td>-0.904297</td>\n",
       "      <td>1.195312</td>\n",
       "      <td>-1.494141</td>\n",
       "      <td>-1.044922</td>\n",
       "      <td>-0.971680</td>\n",
       "      <td>0.577637</td>\n",
       "      <td>-1.320312</td>\n",
       "      <td>-1.218750</td>\n",
       "      <td>-1.070312</td>\n",
       "      <td>1.144531</td>\n",
       "      <td>-0.178345</td>\n",
       "      <td>-0.255615</td>\n",
       "      <td>-1.738281</td>\n",
       "    </tr>\n",
       "    <tr>\n",
       "      <th>2019-01-02 02:00:00</th>\n",
       "      <td>-1.053711</td>\n",
       "      <td>-1.587891</td>\n",
       "      <td>-0.785156</td>\n",
       "      <td>-0.999512</td>\n",
       "      <td>1.210938</td>\n",
       "      <td>-1.494141</td>\n",
       "      <td>-1.017578</td>\n",
       "      <td>-1.021484</td>\n",
       "      <td>0.577637</td>\n",
       "      <td>-1.308594</td>\n",
       "      <td>-1.167969</td>\n",
       "      <td>-1.036133</td>\n",
       "      <td>0.962891</td>\n",
       "      <td>-0.173218</td>\n",
       "      <td>-0.247681</td>\n",
       "      <td>-1.734375</td>\n",
       "    </tr>\n",
       "    <tr>\n",
       "      <th>2019-01-02 03:00:00</th>\n",
       "      <td>-1.015625</td>\n",
       "      <td>-1.511719</td>\n",
       "      <td>-0.852539</td>\n",
       "      <td>-1.074219</td>\n",
       "      <td>1.162109</td>\n",
       "      <td>-1.435547</td>\n",
       "      <td>-0.952637</td>\n",
       "      <td>-1.061523</td>\n",
       "      <td>0.535156</td>\n",
       "      <td>-1.257812</td>\n",
       "      <td>-1.100586</td>\n",
       "      <td>-1.045898</td>\n",
       "      <td>0.759277</td>\n",
       "      <td>-0.177246</td>\n",
       "      <td>-0.245728</td>\n",
       "      <td>-1.733398</td>\n",
       "    </tr>\n",
       "    <tr>\n",
       "      <th>2019-01-02 04:00:00</th>\n",
       "      <td>-0.967773</td>\n",
       "      <td>-1.393555</td>\n",
       "      <td>-0.943848</td>\n",
       "      <td>-1.118164</td>\n",
       "      <td>1.130859</td>\n",
       "      <td>-1.305664</td>\n",
       "      <td>-0.890137</td>\n",
       "      <td>-1.044922</td>\n",
       "      <td>0.581055</td>\n",
       "      <td>-1.168945</td>\n",
       "      <td>-1.078125</td>\n",
       "      <td>-1.006836</td>\n",
       "      <td>0.646973</td>\n",
       "      <td>-0.190674</td>\n",
       "      <td>-0.247681</td>\n",
       "      <td>-1.731445</td>\n",
       "    </tr>\n",
       "    <tr>\n",
       "      <th>2019-01-02 05:00:00</th>\n",
       "      <td>-0.803223</td>\n",
       "      <td>-0.814941</td>\n",
       "      <td>-0.980469</td>\n",
       "      <td>-1.100586</td>\n",
       "      <td>1.546875</td>\n",
       "      <td>-0.725098</td>\n",
       "      <td>-0.690918</td>\n",
       "      <td>-0.983887</td>\n",
       "      <td>1.279297</td>\n",
       "      <td>-0.738770</td>\n",
       "      <td>-0.942383</td>\n",
       "      <td>-0.943359</td>\n",
       "      <td>0.741211</td>\n",
       "      <td>-0.192993</td>\n",
       "      <td>-0.253418</td>\n",
       "      <td>-1.739258</td>\n",
       "    </tr>\n",
       "    <tr>\n",
       "      <th>2019-01-02 06:00:00</th>\n",
       "      <td>-0.553711</td>\n",
       "      <td>-0.129517</td>\n",
       "      <td>-1.059570</td>\n",
       "      <td>-0.981934</td>\n",
       "      <td>2.031250</td>\n",
       "      <td>-0.072266</td>\n",
       "      <td>-0.680664</td>\n",
       "      <td>-0.991699</td>\n",
       "      <td>1.846680</td>\n",
       "      <td>-0.156494</td>\n",
       "      <td>-0.982910</td>\n",
       "      <td>-1.019531</td>\n",
       "      <td>0.712402</td>\n",
       "      <td>-0.202759</td>\n",
       "      <td>-0.256104</td>\n",
       "      <td>-1.728516</td>\n",
       "    </tr>\n",
       "    <tr>\n",
       "      <th>2019-01-02 07:00:00</th>\n",
       "      <td>-0.403809</td>\n",
       "      <td>0.431152</td>\n",
       "      <td>-1.179688</td>\n",
       "      <td>-0.914062</td>\n",
       "      <td>2.080078</td>\n",
       "      <td>0.499268</td>\n",
       "      <td>-0.731445</td>\n",
       "      <td>-1.044922</td>\n",
       "      <td>2.064453</td>\n",
       "      <td>0.498535</td>\n",
       "      <td>-1.083008</td>\n",
       "      <td>-1.128906</td>\n",
       "      <td>0.480225</td>\n",
       "      <td>-0.209229</td>\n",
       "      <td>-0.257568</td>\n",
       "      <td>-1.732422</td>\n",
       "    </tr>\n",
       "    <tr>\n",
       "      <th>2019-01-02 08:00:00</th>\n",
       "      <td>-0.165527</td>\n",
       "      <td>0.908203</td>\n",
       "      <td>-1.126953</td>\n",
       "      <td>-0.958984</td>\n",
       "      <td>1.929688</td>\n",
       "      <td>0.969238</td>\n",
       "      <td>-0.697266</td>\n",
       "      <td>-1.061523</td>\n",
       "      <td>1.919922</td>\n",
       "      <td>1.044922</td>\n",
       "      <td>-1.103516</td>\n",
       "      <td>-1.220703</td>\n",
       "      <td>0.168213</td>\n",
       "      <td>-0.219116</td>\n",
       "      <td>-0.253418</td>\n",
       "      <td>-1.737305</td>\n",
       "    </tr>\n",
       "    <tr>\n",
       "      <th>2019-01-02 09:00:00</th>\n",
       "      <td>0.072937</td>\n",
       "      <td>1.226562</td>\n",
       "      <td>-1.042969</td>\n",
       "      <td>-0.957520</td>\n",
       "      <td>1.788086</td>\n",
       "      <td>1.267578</td>\n",
       "      <td>-0.650391</td>\n",
       "      <td>-1.073242</td>\n",
       "      <td>1.799805</td>\n",
       "      <td>1.386719</td>\n",
       "      <td>-1.061523</td>\n",
       "      <td>-1.249023</td>\n",
       "      <td>-0.149780</td>\n",
       "      <td>-0.225342</td>\n",
       "      <td>-0.246338</td>\n",
       "      <td>-1.734375</td>\n",
       "    </tr>\n",
       "    <tr>\n",
       "      <th>2019-01-02 10:00:00</th>\n",
       "      <td>0.086426</td>\n",
       "      <td>1.339844</td>\n",
       "      <td>-0.940918</td>\n",
       "      <td>-0.981934</td>\n",
       "      <td>1.678711</td>\n",
       "      <td>1.337891</td>\n",
       "      <td>-0.557617</td>\n",
       "      <td>-1.089844</td>\n",
       "      <td>1.691406</td>\n",
       "      <td>1.502930</td>\n",
       "      <td>-0.948242</td>\n",
       "      <td>-1.229492</td>\n",
       "      <td>-0.445068</td>\n",
       "      <td>-0.227905</td>\n",
       "      <td>-0.233276</td>\n",
       "      <td>-1.728516</td>\n",
       "    </tr>\n",
       "  </tbody>\n",
       "</table>\n",
       "</div>"
      ],
      "text/plain": [
       "                     nat_demand   T2M_toc  QV2M_toc   TQL_toc   W2M_toc  \\\n",
       "datetime                                                                  \n",
       "2019-01-02 01:00:00   -1.023438 -1.584961 -0.704102 -0.904297  1.195312   \n",
       "2019-01-02 02:00:00   -1.053711 -1.587891 -0.785156 -0.999512  1.210938   \n",
       "2019-01-02 03:00:00   -1.015625 -1.511719 -0.852539 -1.074219  1.162109   \n",
       "2019-01-02 04:00:00   -0.967773 -1.393555 -0.943848 -1.118164  1.130859   \n",
       "2019-01-02 05:00:00   -0.803223 -0.814941 -0.980469 -1.100586  1.546875   \n",
       "2019-01-02 06:00:00   -0.553711 -0.129517 -1.059570 -0.981934  2.031250   \n",
       "2019-01-02 07:00:00   -0.403809  0.431152 -1.179688 -0.914062  2.080078   \n",
       "2019-01-02 08:00:00   -0.165527  0.908203 -1.126953 -0.958984  1.929688   \n",
       "2019-01-02 09:00:00    0.072937  1.226562 -1.042969 -0.957520  1.788086   \n",
       "2019-01-02 10:00:00    0.086426  1.339844 -0.940918 -0.981934  1.678711   \n",
       "\n",
       "                      T2M_san  QV2M_san   TQL_san   W2M_san   T2M_dav  \\\n",
       "datetime                                                                \n",
       "2019-01-02 01:00:00 -1.494141 -1.044922 -0.971680  0.577637 -1.320312   \n",
       "2019-01-02 02:00:00 -1.494141 -1.017578 -1.021484  0.577637 -1.308594   \n",
       "2019-01-02 03:00:00 -1.435547 -0.952637 -1.061523  0.535156 -1.257812   \n",
       "2019-01-02 04:00:00 -1.305664 -0.890137 -1.044922  0.581055 -1.168945   \n",
       "2019-01-02 05:00:00 -0.725098 -0.690918 -0.983887  1.279297 -0.738770   \n",
       "2019-01-02 06:00:00 -0.072266 -0.680664 -0.991699  1.846680 -0.156494   \n",
       "2019-01-02 07:00:00  0.499268 -0.731445 -1.044922  2.064453  0.498535   \n",
       "2019-01-02 08:00:00  0.969238 -0.697266 -1.061523  1.919922  1.044922   \n",
       "2019-01-02 09:00:00  1.267578 -0.650391 -1.073242  1.799805  1.386719   \n",
       "2019-01-02 10:00:00  1.337891 -0.557617 -1.089844  1.691406  1.502930   \n",
       "\n",
       "                     QV2M_dav   TQL_dav   W2M_dav  Holiday_ID   holiday  \\\n",
       "datetime                                                                  \n",
       "2019-01-02 01:00:00 -1.218750 -1.070312  1.144531   -0.178345 -0.255615   \n",
       "2019-01-02 02:00:00 -1.167969 -1.036133  0.962891   -0.173218 -0.247681   \n",
       "2019-01-02 03:00:00 -1.100586 -1.045898  0.759277   -0.177246 -0.245728   \n",
       "2019-01-02 04:00:00 -1.078125 -1.006836  0.646973   -0.190674 -0.247681   \n",
       "2019-01-02 05:00:00 -0.942383 -0.943359  0.741211   -0.192993 -0.253418   \n",
       "2019-01-02 06:00:00 -0.982910 -1.019531  0.712402   -0.202759 -0.256104   \n",
       "2019-01-02 07:00:00 -1.083008 -1.128906  0.480225   -0.209229 -0.257568   \n",
       "2019-01-02 08:00:00 -1.103516 -1.220703  0.168213   -0.219116 -0.253418   \n",
       "2019-01-02 09:00:00 -1.061523 -1.249023 -0.149780   -0.225342 -0.246338   \n",
       "2019-01-02 10:00:00 -0.948242 -1.229492 -0.445068   -0.227905 -0.233276   \n",
       "\n",
       "                       school  \n",
       "datetime                       \n",
       "2019-01-02 01:00:00 -1.738281  \n",
       "2019-01-02 02:00:00 -1.734375  \n",
       "2019-01-02 03:00:00 -1.733398  \n",
       "2019-01-02 04:00:00 -1.731445  \n",
       "2019-01-02 05:00:00 -1.739258  \n",
       "2019-01-02 06:00:00 -1.728516  \n",
       "2019-01-02 07:00:00 -1.732422  \n",
       "2019-01-02 08:00:00 -1.737305  \n",
       "2019-01-02 09:00:00 -1.734375  \n",
       "2019-01-02 10:00:00 -1.728516  "
      ]
     },
     "execution_count": 30,
     "metadata": {},
     "output_type": "execute_result"
    }
   ],
   "source": [
    "sliding_results_dict = {}\n",
    "\n",
    "pred_sliding_array = np.array(pred_sliding)\n",
    "\n",
    "for feature_id, feature_key in enumerate(df_full.columns):\n",
    "    sliding_results_dict[feature_key] = pred_sliding_array[:, feature_id]\n",
    "        \n",
    "df_sliding = pd.DataFrame(data=sliding_results_dict, index=df_test.index[:-hyperparameters['window_size']])\n",
    "\n",
    "df_sliding.head(10)"
   ]
  },
  {
   "cell_type": "code",
   "execution_count": 31,
   "id": "92a1934a-8d85-441f-bc84-0dade96b7344",
   "metadata": {},
   "outputs": [
    {
     "data": {
      "text/plain": [
       "<matplotlib.legend.Legend at 0x7fefad9c4990>"
      ]
     },
     "execution_count": 31,
     "metadata": {},
     "output_type": "execute_result"
    },
    {
     "data": {
      "image/png": "[encoded data removed]",
      "text/plain": [
       "<Figure size 600x400 with 1 Axes>"
      ]
     },
     "metadata": {},
     "output_type": "display_data"
    }
   ],
   "source": [
    "selected_feature = 'nat_demand'\n",
    "\n",
    "df_train_plot = df_train[:-hyperparameters['window_size']].copy()\n",
    "df_test_plot = df_test[:-hyperparameters['window_size']].copy()\n",
    "\n",
    "plt.plot(df_train_plot.index, df_train_plot[selected_feature], c='blue', label='training')\n",
    "plt.plot(df_test_plot.index, df_test_plot[selected_feature], c='red', label='test')\n",
    "plt.plot(df_sliding.index, df_sliding[selected_feature] , c='green', label='prediction')\n",
    "plt.legend()"
   ]
  },
  {
   "cell_type": "code",
   "execution_count": 32,
   "id": "2f18fd2f-2bc0-431b-8cdc-3f4b711e0897",
   "metadata": {},
   "outputs": [
    {
     "data": {
      "text/plain": [
       "<matplotlib.legend.Legend at 0x7fef8c6d8710>"
      ]
     },
     "execution_count": 32,
     "metadata": {},
     "output_type": "execute_result"
    },
    {
     "data": {
      "image/png": "[encoded data removed]",
      "text/plain": [
       "<Figure size 1000x600 with 1 Axes>"
      ]
     },
     "metadata": {},
     "output_type": "display_data"
    }
   ],
   "source": [
    "plt.figure(figsize=(10, 6))\n",
    "df_test.loc['2019-01-03 05:00:00':'2019-01-12 05:00:00', 'nat_demand'].plot(label='actual')\n",
    "df_sliding.loc['2019-01-03 05:00:00':'2019-01-12 05:00:00', 'nat_demand'].plot(label='prediction')\n",
    "plt.legend()"
   ]
  },
  {
   "cell_type": "markdown",
   "id": "5ca0d119-19bc-4098-99dc-18a5b8cc581f",
   "metadata": {},
   "source": [
    "# Save Model"
   ]
  },
  {
   "cell_type": "code",
   "execution_count": 33,
   "id": "45d8c44e-2861-49e1-aca8-cd2593bc8b5a",
   "metadata": {},
   "outputs": [],
   "source": [
    "os.makedirs('./saved_models', exist_ok=True)\n",
    "\n",
    "checkpoint = {\n",
    "    'model_state_dict': model.state_dict(),\n",
    "    'optimizer_state_dict': optimizer.state_dict(),\n",
    "    'hyperparameters': hyperparameters,\n",
    "}\n",
    "\n",
    "if hyperparameters['use_amp']:\n",
    "    checkpoint['scaler_state_dict'] = scaler.state_dict()\n",
    "\n",
    "torch.save(\n",
    "    checkpoint,\n",
    "    './saved_models/GPTTimeSeries_Autoregressive.pt'\n",
    ")"
   ]
  },
  {
   "cell_type": "markdown",
   "id": "a1cf35c6-0043-4533-ac32-ea186c2cefbb",
   "metadata": {},
   "source": [
    "# Generative Forecast"
   ]
  },
  {
   "cell_type": "code",
   "execution_count": 34,
   "id": "b70fe843-6e44-4e06-8f6f-3ceec8e4f47d",
   "metadata": {},
   "outputs": [],
   "source": [
    "@torch.no_grad()\n",
    "def generative_forecast(model, data, timestamps, num_steps, lag_window_size, use_amp, device):\n",
    "    model.eval()\n",
    "    \n",
    "    predictions = []\n",
    "    time_indexes = []\n",
    "    \n",
    "    # covnert to tensor\n",
    "    # data.shape: (lags, features)\n",
    "    lags = torch.tensor(data[-lag_window_size:, :], dtype=torch.float32, device=device)\n",
    "    \n",
    "    # artificially add batch dimension\n",
    "    # (we are not using the dataloader here!)\n",
    "    # data.shape: (1, lags, features)\n",
    "    lags = lags.unsqueeze(0)\n",
    "\n",
    "    # Datetime indexes \n",
    "    #timestamps = df_full.index \n",
    "    # Delta time: calculate the time difference between two samples \n",
    "    delta_time = timestamps[1] - timestamps[0]\n",
    "    # Get last timestamp\n",
    "    current_timestamp = timestamps[-1]\n",
    "\n",
    "    def generate_date_tensor(_timestamp, _lags, _device):\n",
    "        _timestamp = _timestamp[-lag_window_size:]\n",
    "        return torch.tensor([_timestamp.month, _timestamp.day, _timestamp.hour], dtype=torch.float32, device=_device).permute(1, 0)\n",
    "    \n",
    "    # single step\n",
    "    for idx in tqdm(range(num_steps)):\n",
    "\n",
    "        # get the last lag steps\n",
    "        lags = lags[:, -lag_window_size:, :]\n",
    "        #print(lags)\n",
    "\n",
    "        # date\n",
    "        date = generate_date_tensor(timestamps, lag_window_size, device).unsqueeze(0)\n",
    "\n",
    "        with torch.autocast(device_type=device, dtype=torch.float16, enabled=use_amp):\n",
    "            forecast_pred = model(lags, date)\n",
    "        \n",
    "        # (batch, forecast, output_features_size)-> (1, window_size-1, output_features_size)\n",
    "        # TAKE THE LAST PREDICTION STEP AS FORECAST!\n",
    "        predictions.append(forecast_pred[0][-1].cpu().numpy())\n",
    "\n",
    "        # update current timestamp\n",
    "        current_timestamp = current_timestamp + delta_time\n",
    "        time_indexes.append(current_timestamp)\n",
    "        \n",
    "        # append last forecast to the end\n",
    "        # TAKE THE LAST PREDICTION STEP AS FORECAST!\n",
    "        lags = torch.cat((lags, forecast_pred[:, -1:, :].detach()), dim=1)\n",
    "        \n",
    "        # next timestamp\n",
    "        timestamps = timestamps + delta_time\n",
    "\n",
    "    return predictions, time_indexes"
   ]
  },
  {
   "cell_type": "code",
   "execution_count": 35,
   "id": "4514d5aa-9123-4614-9818-d61524bb2f44",
   "metadata": {},
   "outputs": [
    {
     "name": "stderr",
     "output_type": "stream",
     "text": [
      "100%|████████████████████████████████████████████████████████████████████████████| 300/300 [00:02<00:00, 100.70it/s]\n"
     ]
    }
   ],
   "source": [
    "# should be min of original model\n",
    "REQUEST_WINDOW_SIZE = 200 * 2 # * 2 is added for convenience\n",
    "# temp dataframe for generative prediction input\n",
    "df_temp = df_full[-REQUEST_WINDOW_SIZE:]\n",
    "\n",
    "pred_generative, time_indexes_generative = generative_forecast(\n",
    "    model=model, \n",
    "    data=df_temp.values,\n",
    "    timestamps=df_temp.index,\n",
    "    num_steps=300, \n",
    "    lag_window_size=hyperparameters['window_size'], \n",
    "    use_amp=hyperparameters['use_amp'], \n",
    "    device=device\n",
    ")\n",
    "\n",
    "pred_generative_array = np.array(pred_generative)\n",
    "\n",
    "generative_results_dict = {}\n",
    "\n",
    "# loop ove features\n",
    "for feature_id, feature_key in enumerate(df_temp.columns):\n",
    "    generative_results_dict[feature_key] = pred_generative_array[:, feature_id]\n",
    "        \n",
    "df_generative = pd.DataFrame(data=generative_results_dict, index=time_indexes_generative)\n",
    "\n",
    "# REVERSE THE PREPROCESSING FOR ORIGINAL RANGE\n",
    "df_generative[df_generative.columns] = feature_scaler.inverse_transform(df_generative[df_generative.columns])    "
   ]
  },
  {
   "cell_type": "code",
   "execution_count": 36,
   "id": "fb024d8d-cd2f-4272-904b-66847a442879",
   "metadata": {},
   "outputs": [
    {
     "data": {
      "text/plain": [
       "<Axes: >"
      ]
     },
     "execution_count": 36,
     "metadata": {},
     "output_type": "execute_result"
    },
    {
     "data": {
      "image/png": "[encoded data removed]",
      "text/plain": [
       "<Figure size 600x400 with 1 Axes>"
      ]
     },
     "metadata": {},
     "output_type": "display_data"
    }
   ],
   "source": [
    "df_generative[selected_feature].plot()"
   ]
  },
  {
   "cell_type": "code",
   "execution_count": null,
   "id": "b362c022-278d-435e-9be1-2d22a17cc12f",
   "metadata": {},
   "outputs": [],
   "source": []
  },
  {
   "cell_type": "code",
   "execution_count": null,
   "id": "226a7cac-387c-4855-a646-4515a81b03cf",
   "metadata": {},
   "outputs": [],
   "source": []
  }
 ],
 "metadata": {
  "kernelspec": {
   "display_name": "Python [conda env:pytorch] *",
   "language": "python",
   "name": "conda-env-pytorch-py"
  },
  "language_info": {
   "codemirror_mode": {
    "name": "ipython",
    "version": 3
   },
   "file_extension": ".py",
   "mimetype": "text/x-python",
   "name": "python",
   "nbconvert_exporter": "python",
   "pygments_lexer": "ipython3",
   "version": "3.11.5"
  }
 },
 "nbformat": 4,
 "nbformat_minor": 5
}
