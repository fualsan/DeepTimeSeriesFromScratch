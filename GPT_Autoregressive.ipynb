{
 "cells": [
  {
   "cell_type": "markdown",
   "id": "afb1107d-9a96-4d47-ab3e-0582fd89827d",
   "metadata": {},
   "source": [
    "# Time Series Forecasting with Autoregressive GPT "
   ]
  },
  {
   "cell_type": "code",
   "execution_count": 1,
   "id": "b1b2358b-d53a-43e3-9d26-d38b8f7649d3",
   "metadata": {},
   "outputs": [
    {
     "name": "stdout",
     "output_type": "stream",
     "text": [
      "USING DEVICE: cuda\n"
     ]
    }
   ],
   "source": [
    "import torch\n",
    "import torch.nn as nn\n",
    "import torch.nn.functional as F\n",
    "\n",
    "from torch.utils.data import Dataset, DataLoader\n",
    "\n",
    "import os\n",
    "import random\n",
    "import numpy as np\n",
    "import pandas as pd\n",
    "import math\n",
    "\n",
    "from sklearn.preprocessing import StandardScaler\n",
    "\n",
    "import matplotlib.pyplot as plt\n",
    "\n",
    "plt.rcParams['figure.figsize'] = (6, 4)\n",
    "plt.rcParams['axes.grid'] = True\n",
    "\n",
    "from tqdm import tqdm\n",
    "\n",
    "device = 'cuda' if torch.cuda.is_available() else 'cpu'\n",
    "print(f'USING DEVICE: {device}')"
   ]
  },
  {
   "cell_type": "markdown",
   "id": "54bb0bc4-3118-48c0-8f61-2b53d10bbc32",
   "metadata": {},
   "source": [
    "# Hyperparameters"
   ]
  },
  {
   "cell_type": "code",
   "execution_count": 2,
   "id": "288dc719-d4cc-4494-8ffd-19cb73db213f",
   "metadata": {},
   "outputs": [],
   "source": [
    "hyperparameters = {\n",
    "    #'lags': 90,\n",
    "    #'forecast': 10,\n",
    "    'window_size': 100, # also 'context_size'\n",
    "    'input_features_size': 16,\n",
    "    'date_input_features_size': 3, # (MONTH, DAY, HOUR)\n",
    "    'date_features_dim': 64,\n",
    "    'hidden_features_size': 192-64, # will be concat inside model\n",
    "    'output_features_size': 16,\n",
    "    'num_heads': 12,\n",
    "    'ff_dim': 192*4, # usually 4 times the hidden feature size\n",
    "    'num_decoder_layers': 6,\n",
    "    'emb_dropout_prob': 0.1,\n",
    "    'attn_dropout_prob': 0.1,\n",
    "    'ff_dropout_prob': 0.1,\n",
    "    'attn_use_bias': False,\n",
    "    'ff_use_bias': False,\n",
    "    'output_features_bias': False,\n",
    "    'batch_size': 128,\n",
    "    'split_ratio': 0.8, # 80% training, 20% testing\n",
    "    'learning_rate': 0.001,\n",
    "    'num_epochs': 75,\n",
    "    'use_amp': True, # USE MIXED PRECISION\n",
    "}\n",
    "\n",
    "#hyperparameters['window_size'] =  hyperparameters['lags'] + hyperparameters['forecast']"
   ]
  },
  {
   "cell_type": "markdown",
   "id": "a743a1f6-d57a-490e-9ac0-bb41ff95a352",
   "metadata": {},
   "source": [
    "# Dataset"
   ]
  },
  {
   "cell_type": "code",
   "execution_count": 3,
   "id": "db563c03-1ee8-417d-926e-ddd837b766bd",
   "metadata": {},
   "outputs": [
    {
     "data": {
      "text/html": [
       "<div>\n",
       "<style scoped>\n",
       "    .dataframe tbody tr th:only-of-type {\n",
       "        vertical-align: middle;\n",
       "    }\n",
       "\n",
       "    .dataframe tbody tr th {\n",
       "        vertical-align: top;\n",
       "    }\n",
       "\n",
       "    .dataframe thead th {\n",
       "        text-align: right;\n",
       "    }\n",
       "</style>\n",
       "<table border=\"1\" class=\"dataframe\">\n",
       "  <thead>\n",
       "    <tr style=\"text-align: right;\">\n",
       "      <th></th>\n",
       "      <th>datetime</th>\n",
       "      <th>nat_demand</th>\n",
       "      <th>T2M_toc</th>\n",
       "      <th>QV2M_toc</th>\n",
       "      <th>TQL_toc</th>\n",
       "      <th>W2M_toc</th>\n",
       "      <th>T2M_san</th>\n",
       "      <th>QV2M_san</th>\n",
       "      <th>TQL_san</th>\n",
       "      <th>W2M_san</th>\n",
       "      <th>T2M_dav</th>\n",
       "      <th>QV2M_dav</th>\n",
       "      <th>TQL_dav</th>\n",
       "      <th>W2M_dav</th>\n",
       "      <th>Holiday_ID</th>\n",
       "      <th>holiday</th>\n",
       "      <th>school</th>\n",
       "    </tr>\n",
       "  </thead>\n",
       "  <tbody>\n",
       "    <tr>\n",
       "      <th>0</th>\n",
       "      <td>03-01-2015 01:00</td>\n",
       "      <td>970.3450</td>\n",
       "      <td>25.865259</td>\n",
       "      <td>0.018576</td>\n",
       "      <td>0.016174</td>\n",
       "      <td>21.850546</td>\n",
       "      <td>23.482446</td>\n",
       "      <td>0.017272</td>\n",
       "      <td>0.001855</td>\n",
       "      <td>10.328949</td>\n",
       "      <td>22.662134</td>\n",
       "      <td>0.016562</td>\n",
       "      <td>0.096100</td>\n",
       "      <td>5.364148</td>\n",
       "      <td>0</td>\n",
       "      <td>0</td>\n",
       "      <td>0</td>\n",
       "    </tr>\n",
       "    <tr>\n",
       "      <th>1</th>\n",
       "      <td>03-01-2015 02:00</td>\n",
       "      <td>912.1755</td>\n",
       "      <td>25.899255</td>\n",
       "      <td>0.018653</td>\n",
       "      <td>0.016418</td>\n",
       "      <td>22.166944</td>\n",
       "      <td>23.399255</td>\n",
       "      <td>0.017265</td>\n",
       "      <td>0.001327</td>\n",
       "      <td>10.681517</td>\n",
       "      <td>22.578943</td>\n",
       "      <td>0.016509</td>\n",
       "      <td>0.087646</td>\n",
       "      <td>5.572471</td>\n",
       "      <td>0</td>\n",
       "      <td>0</td>\n",
       "      <td>0</td>\n",
       "    </tr>\n",
       "    <tr>\n",
       "      <th>2</th>\n",
       "      <td>03-01-2015 03:00</td>\n",
       "      <td>900.2688</td>\n",
       "      <td>25.937280</td>\n",
       "      <td>0.018768</td>\n",
       "      <td>0.015480</td>\n",
       "      <td>22.454911</td>\n",
       "      <td>23.343530</td>\n",
       "      <td>0.017211</td>\n",
       "      <td>0.001428</td>\n",
       "      <td>10.874924</td>\n",
       "      <td>22.531030</td>\n",
       "      <td>0.016479</td>\n",
       "      <td>0.078735</td>\n",
       "      <td>5.871184</td>\n",
       "      <td>0</td>\n",
       "      <td>0</td>\n",
       "      <td>0</td>\n",
       "    </tr>\n",
       "    <tr>\n",
       "      <th>3</th>\n",
       "      <td>03-01-2015 04:00</td>\n",
       "      <td>889.9538</td>\n",
       "      <td>25.957544</td>\n",
       "      <td>0.018890</td>\n",
       "      <td>0.016273</td>\n",
       "      <td>22.110481</td>\n",
       "      <td>23.238794</td>\n",
       "      <td>0.017128</td>\n",
       "      <td>0.002599</td>\n",
       "      <td>10.518620</td>\n",
       "      <td>22.512231</td>\n",
       "      <td>0.016487</td>\n",
       "      <td>0.068390</td>\n",
       "      <td>5.883621</td>\n",
       "      <td>0</td>\n",
       "      <td>0</td>\n",
       "      <td>0</td>\n",
       "    </tr>\n",
       "    <tr>\n",
       "      <th>4</th>\n",
       "      <td>03-01-2015 05:00</td>\n",
       "      <td>893.6865</td>\n",
       "      <td>25.973840</td>\n",
       "      <td>0.018981</td>\n",
       "      <td>0.017281</td>\n",
       "      <td>21.186089</td>\n",
       "      <td>23.075403</td>\n",
       "      <td>0.017059</td>\n",
       "      <td>0.001729</td>\n",
       "      <td>9.733589</td>\n",
       "      <td>22.481653</td>\n",
       "      <td>0.016456</td>\n",
       "      <td>0.064362</td>\n",
       "      <td>5.611724</td>\n",
       "      <td>0</td>\n",
       "      <td>0</td>\n",
       "      <td>0</td>\n",
       "    </tr>\n",
       "  </tbody>\n",
       "</table>\n",
       "</div>"
      ],
      "text/plain": [
       "           datetime  nat_demand    T2M_toc  QV2M_toc   TQL_toc    W2M_toc  \\\n",
       "0  03-01-2015 01:00    970.3450  25.865259  0.018576  0.016174  21.850546   \n",
       "1  03-01-2015 02:00    912.1755  25.899255  0.018653  0.016418  22.166944   \n",
       "2  03-01-2015 03:00    900.2688  25.937280  0.018768  0.015480  22.454911   \n",
       "3  03-01-2015 04:00    889.9538  25.957544  0.018890  0.016273  22.110481   \n",
       "4  03-01-2015 05:00    893.6865  25.973840  0.018981  0.017281  21.186089   \n",
       "\n",
       "     T2M_san  QV2M_san   TQL_san    W2M_san    T2M_dav  QV2M_dav   TQL_dav  \\\n",
       "0  23.482446  0.017272  0.001855  10.328949  22.662134  0.016562  0.096100   \n",
       "1  23.399255  0.017265  0.001327  10.681517  22.578943  0.016509  0.087646   \n",
       "2  23.343530  0.017211  0.001428  10.874924  22.531030  0.016479  0.078735   \n",
       "3  23.238794  0.017128  0.002599  10.518620  22.512231  0.016487  0.068390   \n",
       "4  23.075403  0.017059  0.001729   9.733589  22.481653  0.016456  0.064362   \n",
       "\n",
       "    W2M_dav  Holiday_ID  holiday  school  \n",
       "0  5.364148           0        0       0  \n",
       "1  5.572471           0        0       0  \n",
       "2  5.871184           0        0       0  \n",
       "3  5.883621           0        0       0  \n",
       "4  5.611724           0        0       0  "
      ]
     },
     "execution_count": 3,
     "metadata": {},
     "output_type": "execute_result"
    }
   ],
   "source": [
    "# Airline Passgeners\n",
    "#df_full = pd.read_csv('data/airline_passengers/airline-passengers.csv')\n",
    "\n",
    "# Panama Electricity Load Forecasting\n",
    "df_full = pd.read_csv('data/panama_electricity_load_forecasting/train.csv')\n",
    "\n",
    "df_full.head()"
   ]
  },
  {
   "cell_type": "code",
   "execution_count": 4,
   "id": "9282fb84-75ad-4629-b9c9-5c0e01cae8a9",
   "metadata": {},
   "outputs": [
    {
     "data": {
      "text/html": [
       "<div>\n",
       "<style scoped>\n",
       "    .dataframe tbody tr th:only-of-type {\n",
       "        vertical-align: middle;\n",
       "    }\n",
       "\n",
       "    .dataframe tbody tr th {\n",
       "        vertical-align: top;\n",
       "    }\n",
       "\n",
       "    .dataframe thead th {\n",
       "        text-align: right;\n",
       "    }\n",
       "</style>\n",
       "<table border=\"1\" class=\"dataframe\">\n",
       "  <thead>\n",
       "    <tr style=\"text-align: right;\">\n",
       "      <th></th>\n",
       "      <th>datetime</th>\n",
       "      <th>nat_demand</th>\n",
       "      <th>T2M_toc</th>\n",
       "      <th>QV2M_toc</th>\n",
       "      <th>TQL_toc</th>\n",
       "      <th>W2M_toc</th>\n",
       "      <th>T2M_san</th>\n",
       "      <th>QV2M_san</th>\n",
       "      <th>TQL_san</th>\n",
       "      <th>W2M_san</th>\n",
       "      <th>T2M_dav</th>\n",
       "      <th>QV2M_dav</th>\n",
       "      <th>TQL_dav</th>\n",
       "      <th>W2M_dav</th>\n",
       "      <th>Holiday_ID</th>\n",
       "      <th>holiday</th>\n",
       "      <th>school</th>\n",
       "    </tr>\n",
       "  </thead>\n",
       "  <tbody>\n",
       "    <tr>\n",
       "      <th>0</th>\n",
       "      <td>2015-01-03 01:00:00</td>\n",
       "      <td>970.3450</td>\n",
       "      <td>25.865259</td>\n",
       "      <td>0.018576</td>\n",
       "      <td>0.016174</td>\n",
       "      <td>21.850546</td>\n",
       "      <td>23.482446</td>\n",
       "      <td>0.017272</td>\n",
       "      <td>0.001855</td>\n",
       "      <td>10.328949</td>\n",
       "      <td>22.662134</td>\n",
       "      <td>0.016562</td>\n",
       "      <td>0.096100</td>\n",
       "      <td>5.364148</td>\n",
       "      <td>0</td>\n",
       "      <td>0</td>\n",
       "      <td>0</td>\n",
       "    </tr>\n",
       "    <tr>\n",
       "      <th>1</th>\n",
       "      <td>2015-01-03 02:00:00</td>\n",
       "      <td>912.1755</td>\n",
       "      <td>25.899255</td>\n",
       "      <td>0.018653</td>\n",
       "      <td>0.016418</td>\n",
       "      <td>22.166944</td>\n",
       "      <td>23.399255</td>\n",
       "      <td>0.017265</td>\n",
       "      <td>0.001327</td>\n",
       "      <td>10.681517</td>\n",
       "      <td>22.578943</td>\n",
       "      <td>0.016509</td>\n",
       "      <td>0.087646</td>\n",
       "      <td>5.572471</td>\n",
       "      <td>0</td>\n",
       "      <td>0</td>\n",
       "      <td>0</td>\n",
       "    </tr>\n",
       "    <tr>\n",
       "      <th>2</th>\n",
       "      <td>2015-01-03 03:00:00</td>\n",
       "      <td>900.2688</td>\n",
       "      <td>25.937280</td>\n",
       "      <td>0.018768</td>\n",
       "      <td>0.015480</td>\n",
       "      <td>22.454911</td>\n",
       "      <td>23.343530</td>\n",
       "      <td>0.017211</td>\n",
       "      <td>0.001428</td>\n",
       "      <td>10.874924</td>\n",
       "      <td>22.531030</td>\n",
       "      <td>0.016479</td>\n",
       "      <td>0.078735</td>\n",
       "      <td>5.871184</td>\n",
       "      <td>0</td>\n",
       "      <td>0</td>\n",
       "      <td>0</td>\n",
       "    </tr>\n",
       "    <tr>\n",
       "      <th>3</th>\n",
       "      <td>2015-01-03 04:00:00</td>\n",
       "      <td>889.9538</td>\n",
       "      <td>25.957544</td>\n",
       "      <td>0.018890</td>\n",
       "      <td>0.016273</td>\n",
       "      <td>22.110481</td>\n",
       "      <td>23.238794</td>\n",
       "      <td>0.017128</td>\n",
       "      <td>0.002599</td>\n",
       "      <td>10.518620</td>\n",
       "      <td>22.512231</td>\n",
       "      <td>0.016487</td>\n",
       "      <td>0.068390</td>\n",
       "      <td>5.883621</td>\n",
       "      <td>0</td>\n",
       "      <td>0</td>\n",
       "      <td>0</td>\n",
       "    </tr>\n",
       "    <tr>\n",
       "      <th>4</th>\n",
       "      <td>2015-01-03 05:00:00</td>\n",
       "      <td>893.6865</td>\n",
       "      <td>25.973840</td>\n",
       "      <td>0.018981</td>\n",
       "      <td>0.017281</td>\n",
       "      <td>21.186089</td>\n",
       "      <td>23.075403</td>\n",
       "      <td>0.017059</td>\n",
       "      <td>0.001729</td>\n",
       "      <td>9.733589</td>\n",
       "      <td>22.481653</td>\n",
       "      <td>0.016456</td>\n",
       "      <td>0.064362</td>\n",
       "      <td>5.611724</td>\n",
       "      <td>0</td>\n",
       "      <td>0</td>\n",
       "      <td>0</td>\n",
       "    </tr>\n",
       "  </tbody>\n",
       "</table>\n",
       "</div>"
      ],
      "text/plain": [
       "             datetime  nat_demand    T2M_toc  QV2M_toc   TQL_toc    W2M_toc  \\\n",
       "0 2015-01-03 01:00:00    970.3450  25.865259  0.018576  0.016174  21.850546   \n",
       "1 2015-01-03 02:00:00    912.1755  25.899255  0.018653  0.016418  22.166944   \n",
       "2 2015-01-03 03:00:00    900.2688  25.937280  0.018768  0.015480  22.454911   \n",
       "3 2015-01-03 04:00:00    889.9538  25.957544  0.018890  0.016273  22.110481   \n",
       "4 2015-01-03 05:00:00    893.6865  25.973840  0.018981  0.017281  21.186089   \n",
       "\n",
       "     T2M_san  QV2M_san   TQL_san    W2M_san    T2M_dav  QV2M_dav   TQL_dav  \\\n",
       "0  23.482446  0.017272  0.001855  10.328949  22.662134  0.016562  0.096100   \n",
       "1  23.399255  0.017265  0.001327  10.681517  22.578943  0.016509  0.087646   \n",
       "2  23.343530  0.017211  0.001428  10.874924  22.531030  0.016479  0.078735   \n",
       "3  23.238794  0.017128  0.002599  10.518620  22.512231  0.016487  0.068390   \n",
       "4  23.075403  0.017059  0.001729   9.733589  22.481653  0.016456  0.064362   \n",
       "\n",
       "    W2M_dav  Holiday_ID  holiday  school  \n",
       "0  5.364148           0        0       0  \n",
       "1  5.572471           0        0       0  \n",
       "2  5.871184           0        0       0  \n",
       "3  5.883621           0        0       0  \n",
       "4  5.611724           0        0       0  "
      ]
     },
     "execution_count": 4,
     "metadata": {},
     "output_type": "execute_result"
    }
   ],
   "source": [
    "# Airline Passgeners\n",
    "#df_full['Month'] = pd.to_datetime(df_full['Month'])\n",
    "\n",
    "# Panama Electricity Load Forecasting\n",
    "df_full['datetime'] = pd.to_datetime(df_full['datetime'], dayfirst=True)\n",
    "\n",
    "df_full.head()"
   ]
  },
  {
   "cell_type": "code",
   "execution_count": 5,
   "id": "c58545c8-31ee-483e-b1fc-028efcb0873a",
   "metadata": {},
   "outputs": [
    {
     "data": {
      "text/html": [
       "<div>\n",
       "<style scoped>\n",
       "    .dataframe tbody tr th:only-of-type {\n",
       "        vertical-align: middle;\n",
       "    }\n",
       "\n",
       "    .dataframe tbody tr th {\n",
       "        vertical-align: top;\n",
       "    }\n",
       "\n",
       "    .dataframe thead th {\n",
       "        text-align: right;\n",
       "    }\n",
       "</style>\n",
       "<table border=\"1\" class=\"dataframe\">\n",
       "  <thead>\n",
       "    <tr style=\"text-align: right;\">\n",
       "      <th></th>\n",
       "      <th>nat_demand</th>\n",
       "      <th>T2M_toc</th>\n",
       "      <th>QV2M_toc</th>\n",
       "      <th>TQL_toc</th>\n",
       "      <th>W2M_toc</th>\n",
       "      <th>T2M_san</th>\n",
       "      <th>QV2M_san</th>\n",
       "      <th>TQL_san</th>\n",
       "      <th>W2M_san</th>\n",
       "      <th>T2M_dav</th>\n",
       "      <th>QV2M_dav</th>\n",
       "      <th>TQL_dav</th>\n",
       "      <th>W2M_dav</th>\n",
       "      <th>Holiday_ID</th>\n",
       "      <th>holiday</th>\n",
       "      <th>school</th>\n",
       "    </tr>\n",
       "    <tr>\n",
       "      <th>datetime</th>\n",
       "      <th></th>\n",
       "      <th></th>\n",
       "      <th></th>\n",
       "      <th></th>\n",
       "      <th></th>\n",
       "      <th></th>\n",
       "      <th></th>\n",
       "      <th></th>\n",
       "      <th></th>\n",
       "      <th></th>\n",
       "      <th></th>\n",
       "      <th></th>\n",
       "      <th></th>\n",
       "      <th></th>\n",
       "      <th></th>\n",
       "      <th></th>\n",
       "    </tr>\n",
       "  </thead>\n",
       "  <tbody>\n",
       "    <tr>\n",
       "      <th>2019-12-31 19:00:00</th>\n",
       "      <td>1301.6065</td>\n",
       "      <td>26.635645</td>\n",
       "      <td>0.018421</td>\n",
       "      <td>0.013165</td>\n",
       "      <td>13.184052</td>\n",
       "      <td>25.135645</td>\n",
       "      <td>0.018048</td>\n",
       "      <td>0.064240</td>\n",
       "      <td>3.086798</td>\n",
       "      <td>23.620020</td>\n",
       "      <td>0.016697</td>\n",
       "      <td>0.073425</td>\n",
       "      <td>3.865351</td>\n",
       "      <td>22</td>\n",
       "      <td>1</td>\n",
       "      <td>0</td>\n",
       "    </tr>\n",
       "    <tr>\n",
       "      <th>2019-12-31 20:00:00</th>\n",
       "      <td>1250.9634</td>\n",
       "      <td>26.495935</td>\n",
       "      <td>0.018162</td>\n",
       "      <td>0.014713</td>\n",
       "      <td>13.443892</td>\n",
       "      <td>24.769373</td>\n",
       "      <td>0.017781</td>\n",
       "      <td>0.058838</td>\n",
       "      <td>3.659980</td>\n",
       "      <td>23.284998</td>\n",
       "      <td>0.016606</td>\n",
       "      <td>0.064362</td>\n",
       "      <td>4.171572</td>\n",
       "      <td>22</td>\n",
       "      <td>1</td>\n",
       "      <td>0</td>\n",
       "    </tr>\n",
       "    <tr>\n",
       "      <th>2019-12-31 21:00:00</th>\n",
       "      <td>1193.6802</td>\n",
       "      <td>26.354456</td>\n",
       "      <td>0.017980</td>\n",
       "      <td>0.013836</td>\n",
       "      <td>13.442195</td>\n",
       "      <td>24.479456</td>\n",
       "      <td>0.017606</td>\n",
       "      <td>0.038086</td>\n",
       "      <td>3.769294</td>\n",
       "      <td>23.041956</td>\n",
       "      <td>0.016492</td>\n",
       "      <td>0.054260</td>\n",
       "      <td>4.045283</td>\n",
       "      <td>22</td>\n",
       "      <td>1</td>\n",
       "      <td>0</td>\n",
       "    </tr>\n",
       "    <tr>\n",
       "      <th>2019-12-31 22:00:00</th>\n",
       "      <td>1130.4575</td>\n",
       "      <td>26.166895</td>\n",
       "      <td>0.017965</td>\n",
       "      <td>0.018486</td>\n",
       "      <td>13.420656</td>\n",
       "      <td>24.112207</td>\n",
       "      <td>0.017393</td>\n",
       "      <td>0.020386</td>\n",
       "      <td>3.872397</td>\n",
       "      <td>22.862207</td>\n",
       "      <td>0.016401</td>\n",
       "      <td>0.055557</td>\n",
       "      <td>3.843736</td>\n",
       "      <td>22</td>\n",
       "      <td>1</td>\n",
       "      <td>0</td>\n",
       "    </tr>\n",
       "    <tr>\n",
       "      <th>2019-12-31 23:00:00</th>\n",
       "      <td>1084.4737</td>\n",
       "      <td>25.976373</td>\n",
       "      <td>0.018072</td>\n",
       "      <td>0.023315</td>\n",
       "      <td>13.749788</td>\n",
       "      <td>23.663873</td>\n",
       "      <td>0.017156</td>\n",
       "      <td>0.019531</td>\n",
       "      <td>4.165276</td>\n",
       "      <td>22.726373</td>\n",
       "      <td>0.016302</td>\n",
       "      <td>0.061371</td>\n",
       "      <td>3.793209</td>\n",
       "      <td>22</td>\n",
       "      <td>1</td>\n",
       "      <td>0</td>\n",
       "    </tr>\n",
       "  </tbody>\n",
       "</table>\n",
       "</div>"
      ],
      "text/plain": [
       "                     nat_demand    T2M_toc  QV2M_toc   TQL_toc    W2M_toc  \\\n",
       "datetime                                                                    \n",
       "2019-12-31 19:00:00   1301.6065  26.635645  0.018421  0.013165  13.184052   \n",
       "2019-12-31 20:00:00   1250.9634  26.495935  0.018162  0.014713  13.443892   \n",
       "2019-12-31 21:00:00   1193.6802  26.354456  0.017980  0.013836  13.442195   \n",
       "2019-12-31 22:00:00   1130.4575  26.166895  0.017965  0.018486  13.420656   \n",
       "2019-12-31 23:00:00   1084.4737  25.976373  0.018072  0.023315  13.749788   \n",
       "\n",
       "                       T2M_san  QV2M_san   TQL_san   W2M_san    T2M_dav  \\\n",
       "datetime                                                                  \n",
       "2019-12-31 19:00:00  25.135645  0.018048  0.064240  3.086798  23.620020   \n",
       "2019-12-31 20:00:00  24.769373  0.017781  0.058838  3.659980  23.284998   \n",
       "2019-12-31 21:00:00  24.479456  0.017606  0.038086  3.769294  23.041956   \n",
       "2019-12-31 22:00:00  24.112207  0.017393  0.020386  3.872397  22.862207   \n",
       "2019-12-31 23:00:00  23.663873  0.017156  0.019531  4.165276  22.726373   \n",
       "\n",
       "                     QV2M_dav   TQL_dav   W2M_dav  Holiday_ID  holiday  school  \n",
       "datetime                                                                        \n",
       "2019-12-31 19:00:00  0.016697  0.073425  3.865351          22        1       0  \n",
       "2019-12-31 20:00:00  0.016606  0.064362  4.171572          22        1       0  \n",
       "2019-12-31 21:00:00  0.016492  0.054260  4.045283          22        1       0  \n",
       "2019-12-31 22:00:00  0.016401  0.055557  3.843736          22        1       0  \n",
       "2019-12-31 23:00:00  0.016302  0.061371  3.793209          22        1       0  "
      ]
     },
     "execution_count": 5,
     "metadata": {},
     "output_type": "execute_result"
    }
   ],
   "source": [
    "# # Airline Passgeners\n",
    "#df_full.set_index('Month', inplace=True)\n",
    "\n",
    "# Panama Electricity Load Forecasting\n",
    "df_full.set_index('datetime', inplace=True)\n",
    "\n",
    "df_full.tail()"
   ]
  },
  {
   "cell_type": "code",
   "execution_count": 6,
   "id": "23042d10-d9ba-4255-81a8-b0e2aafba703",
   "metadata": {},
   "outputs": [
    {
     "data": {
      "text/plain": [
       "<Axes: xlabel='datetime'>"
      ]
     },
     "execution_count": 6,
     "metadata": {},
     "output_type": "execute_result"
    },
    {
     "data": {
      "image/png": "[encoded data removed]",
      "text/plain": [
       "<Figure size 600x400 with 1 Axes>"
      ]
     },
     "metadata": {},
     "output_type": "display_data"
    }
   ],
   "source": [
    "# Airline Passgeners\n",
    "#df_full.plot()\n",
    "\n",
    "# Panama Electricity Load Forecasting\n",
    "df_full.loc['2019-01-03 05:00:00':'2019-01-12 05:00:00', 'nat_demand'].plot()"
   ]
  },
  {
   "cell_type": "markdown",
   "id": "f74c8752-4487-4375-87ad-e9311f3cde86",
   "metadata": {},
   "source": [
    "# Standart Scaler\n",
    "* Exercise: Try without scaler, see if learning works!"
   ]
  },
  {
   "cell_type": "code",
   "execution_count": 7,
   "id": "cca6ad4c-27af-4d30-b19d-c07308ac6acd",
   "metadata": {},
   "outputs": [
    {
     "data": {
      "text/plain": [
       "<Axes: xlabel='datetime'>"
      ]
     },
     "execution_count": 7,
     "metadata": {},
     "output_type": "execute_result"
    },
    {
     "data": {
      "image/png": "[encoded data removed]",
      "text/plain": [
       "<Figure size 600x400 with 1 Axes>"
      ]
     },
     "metadata": {},
     "output_type": "display_data"
    }
   ],
   "source": [
    "scaler = StandardScaler()\n",
    "\n",
    "# Airline Passgeners\n",
    "#df_full['Passengers'] = scaler.fit_transform(df_full['Passengers'].values.reshape(-1, 1))\n",
    "\n",
    "# Panama Electricity Load Forecasting\n",
    "df_full['nat_demand'] = scaler.fit_transform(df_full['nat_demand'].values.reshape(-1, 1))\n",
    "\n",
    "# Airline Passgeners\n",
    "#df_full.plot()\n",
    "\n",
    "# Panama Electricity Load Forecasting\n",
    "df_full.loc['2019-01-03 05:00:00':'2019-01-12 05:00:00', 'nat_demand'].plot()"
   ]
  },
  {
   "cell_type": "code",
   "execution_count": 8,
   "id": "968abec2-9cbd-47c0-b913-c87e175b9635",
   "metadata": {},
   "outputs": [
    {
     "data": {
      "text/plain": [
       "Timestamp('2019-12-31 23:00:00')"
      ]
     },
     "execution_count": 8,
     "metadata": {},
     "output_type": "execute_result"
    }
   ],
   "source": [
    "tstamp = df_full.index[-1]\n",
    "tstamp"
   ]
  },
  {
   "cell_type": "markdown",
   "id": "acf7b0b8-ee9d-4c5b-9558-872feca3f4dc",
   "metadata": {},
   "source": [
    "### Time series data shape: \n",
    "Unbatched: $(S, F)$\n",
    "\n",
    "* $S:$ Sequence Length\n",
    "* $F:$ Number of Features\n",
    "\n",
    "Batched: $(B, S, F)$\n",
    "* $B:$ Batch Size"
   ]
  },
  {
   "cell_type": "code",
   "execution_count": 9,
   "id": "d88f8373-2896-4644-bbab-5f5a912892d5",
   "metadata": {},
   "outputs": [
    {
     "data": {
      "text/plain": [
       "(43775, 16)"
      ]
     },
     "execution_count": 9,
     "metadata": {},
     "output_type": "execute_result"
    }
   ],
   "source": [
    "df_full.shape"
   ]
  },
  {
   "cell_type": "markdown",
   "id": "66106ad6-4eb2-45ea-9534-769a64bc23c1",
   "metadata": {},
   "source": [
    "# Model"
   ]
  },
  {
   "cell_type": "code",
   "execution_count": 10,
   "id": "90408c65-d0cd-43ff-bb19-3a7372afbfea",
   "metadata": {},
   "outputs": [],
   "source": [
    "from models.transformer import GPTTimeSeries"
   ]
  },
  {
   "cell_type": "markdown",
   "id": "21028a64-d051-4443-8e6c-7c61953b0ca5",
   "metadata": {},
   "source": [
    "## Transformer Model\n",
    "### Initialized Model with Hyperparameters"
   ]
  },
  {
   "cell_type": "code",
   "execution_count": 11,
   "id": "2e62a5b6-6a2a-4bf6-82ac-b7564ff34352",
   "metadata": {},
   "outputs": [],
   "source": [
    "model = GPTTimeSeries(\n",
    "    input_features_size=hyperparameters['input_features_size'],\n",
    "    date_input_features_size=hyperparameters['date_input_features_size'],\n",
    "    date_features_dim=hyperparameters['date_features_dim'],\n",
    "    features_dim=hyperparameters['hidden_features_size'],\n",
    "    output_features_size=hyperparameters['output_features_size'],\n",
    "    #forecast_size=hyperparameters['forecast'],\n",
    "    num_heads=hyperparameters['num_heads'],\n",
    "    ff_dim=hyperparameters['ff_dim'],\n",
    "    num_decoder_layers=hyperparameters['num_decoder_layers'],\n",
    "    emb_dropout_prob=hyperparameters['emb_dropout_prob'],\n",
    "    attn_dropout_prob=hyperparameters['attn_dropout_prob'],\n",
    "    ff_dropout_prob=hyperparameters['ff_dropout_prob'],\n",
    "    attn_use_bias=hyperparameters['attn_use_bias'],\n",
    "    ff_use_bias=hyperparameters['ff_use_bias'],\n",
    "    output_features_bias=hyperparameters['output_features_bias'],\n",
    ")"
   ]
  },
  {
   "cell_type": "markdown",
   "id": "9cde0d98-32af-40f7-aa7c-6fb9e1e9d15e",
   "metadata": {},
   "source": [
    "### Number of parameters"
   ]
  },
  {
   "cell_type": "code",
   "execution_count": 12,
   "id": "66aea2e7-7cc0-41a4-98d9-abbfe855f0ba",
   "metadata": {},
   "outputs": [],
   "source": [
    "def print_model_parameters(model):\n",
    "    print(f'{sum(p.numel() for p in model.parameters()):,}')"
   ]
  },
  {
   "cell_type": "code",
   "execution_count": 13,
   "id": "250ac969-c12d-4271-9836-ae00d34c78f9",
   "metadata": {},
   "outputs": [
    {
     "name": "stdout",
     "output_type": "stream",
     "text": [
      "Number of parameters:\n",
      "2,664,704\n"
     ]
    }
   ],
   "source": [
    "print('Number of parameters:')\n",
    "print_model_parameters(model)"
   ]
  },
  {
   "cell_type": "code",
   "execution_count": 14,
   "id": "8be2e080-45e8-4a64-acc1-373d17ad0ac3",
   "metadata": {},
   "outputs": [
    {
     "data": {
      "text/plain": [
       "torch.Size([128, 100, 16])"
      ]
     },
     "execution_count": 14,
     "metadata": {},
     "output_type": "execute_result"
    }
   ],
   "source": [
    "dummy_data = torch.randn(hyperparameters['batch_size'], hyperparameters['window_size'], hyperparameters['input_features_size'])\n",
    "dummy_date = torch.randn(hyperparameters['batch_size'], hyperparameters['window_size'], hyperparameters['date_input_features_size'])\n",
    "\n",
    "o = model(dummy_data, dummy_date)\n",
    "o.shape"
   ]
  },
  {
   "cell_type": "markdown",
   "id": "4b42fd9c-ba8c-4453-9f2c-28298878cc78",
   "metadata": {},
   "source": [
    "# Dataset"
   ]
  },
  {
   "cell_type": "code",
   "execution_count": 15,
   "id": "e7ad354d-f77e-49a5-b3ec-5da382d9cd8f",
   "metadata": {},
   "outputs": [],
   "source": [
    "class TimeSeriesDataset(Dataset):\n",
    "    def __init__(self, df, window_size):\n",
    "        self.df = df\n",
    "        self.window_size = window_size\n",
    "        \n",
    "    def __len__(self):\n",
    "        number_of_samples = self.df.shape[0]\n",
    "        # make sure that last window fits\n",
    "        return number_of_samples - self.window_size\n",
    "\n",
    "    def __getitem__(self, start_idx):\n",
    "\n",
    "        # get a NumPy array of size: (hyperparameters['window_size'], NUM_FEATURES)\n",
    "        df_window = self.df.iloc[start_idx:start_idx+self.window_size]\n",
    "\n",
    "        sample_window = df_window.values\n",
    "        # input (lag) timestamps\n",
    "        sample_timestamp_lags = df_window[:-1].index\n",
    "            \n",
    "        # divide window into lags and forecast (shifted by 1)\n",
    "        # first window_size-1 steps\n",
    "        lags = sample_window[:-1, :]\n",
    "        # last window_size-1 steps\n",
    "        forecast = sample_window[1:, :]\n",
    "\n",
    "        # convert to tensor\n",
    "        lags = torch.tensor(lags, dtype=torch.float32)\n",
    "        forecast = torch.tensor(forecast, dtype=torch.float32)\n",
    "        \n",
    "        # (lags, date_input_features_size)\n",
    "        date = torch.tensor([sample_timestamp_lags.month, sample_timestamp_lags.day, sample_timestamp_lags.hour], dtype=torch.float32).permute(1, 0)\n",
    "        \n",
    "        return lags, forecast, date"
   ]
  },
  {
   "cell_type": "code",
   "execution_count": 16,
   "id": "3c6dcf40-189e-4f2b-bc04-9a6a73cd1c96",
   "metadata": {},
   "outputs": [],
   "source": [
    "dataset_full = TimeSeriesDataset(\n",
    "    df_full,\n",
    "    hyperparameters['window_size'],\n",
    ")"
   ]
  },
  {
   "cell_type": "code",
   "execution_count": 17,
   "id": "570ccea2-bc70-4e55-9ab1-9f71c79a1c19",
   "metadata": {},
   "outputs": [
    {
     "data": {
      "text/plain": [
       "(torch.Size([99, 16]), torch.Size([99, 16]), torch.Size([99, 3]))"
      ]
     },
     "execution_count": 17,
     "metadata": {},
     "output_type": "execute_result"
    }
   ],
   "source": [
    "_lags, _forecast, _date = dataset_full[0]\n",
    "_lags.shape, _forecast.shape, _date.shape"
   ]
  },
  {
   "cell_type": "markdown",
   "id": "65347aee-d469-4ebf-8499-767dacb6a102",
   "metadata": {},
   "source": [
    "### Train/Test Split"
   ]
  },
  {
   "cell_type": "code",
   "execution_count": 18,
   "id": "5ccdaaa6-c1d5-42ad-a66f-6c3539a4ab73",
   "metadata": {},
   "outputs": [
    {
     "data": {
      "text/plain": [
       "(34940, 8735)"
      ]
     },
     "execution_count": 18,
     "metadata": {},
     "output_type": "execute_result"
    }
   ],
   "source": [
    "train_size = int(hyperparameters['split_ratio'] * len(dataset_full))\n",
    "test_size = len(dataset_full) - train_size\n",
    "\n",
    "train_size, test_size"
   ]
  },
  {
   "cell_type": "code",
   "execution_count": 19,
   "id": "f098f3c5-0cd2-4d64-8ff3-de5b85d28d0f",
   "metadata": {},
   "outputs": [
    {
     "data": {
      "text/plain": [
       "<matplotlib.legend.Legend at 0x7f973ca1fcd0>"
      ]
     },
     "execution_count": 19,
     "metadata": {},
     "output_type": "execute_result"
    },
    {
     "data": {
      "image/png": "[encoded data removed]",
      "text/plain": [
       "<Figure size 600x400 with 1 Axes>"
      ]
     },
     "metadata": {},
     "output_type": "display_data"
    }
   ],
   "source": [
    "df_train = df_full.iloc[:train_size, :]\n",
    "df_test = df_full.iloc[-test_size:, :]\n",
    "\n",
    "# Airline Passgeners\n",
    "#plt.plot(df_train.index, df_train['Passengers'], c='blue', label='training')\n",
    "#plt.plot(df_test.index, df_test['Passengers'], c='red', label='test')\n",
    "\n",
    "# Panama Electricity Load Forecasting\n",
    "plt.plot(df_train.index, df_train['nat_demand'], c='blue', label='training')\n",
    "plt.plot(df_test.index, df_test['nat_demand'], c='red', label='test')\n",
    "\n",
    "plt.legend()"
   ]
  },
  {
   "cell_type": "code",
   "execution_count": 20,
   "id": "b53d20db-2358-494b-927c-196a3c407bf2",
   "metadata": {},
   "outputs": [],
   "source": [
    "dataset_train = TimeSeriesDataset(\n",
    "    df_train,\n",
    "    hyperparameters['window_size'],\n",
    ")\n",
    "\n",
    "dataset_test = TimeSeriesDataset(\n",
    "    df_test,\n",
    "    hyperparameters['window_size'],\n",
    ")"
   ]
  },
  {
   "cell_type": "markdown",
   "id": "0f9516e1-f1ee-4db5-b6e3-3a9d76f0b20d",
   "metadata": {},
   "source": [
    "# Dataloader"
   ]
  },
  {
   "cell_type": "code",
   "execution_count": 21,
   "id": "5acba036-7c98-4786-9c00-5af6325f8fd4",
   "metadata": {},
   "outputs": [
    {
     "name": "stdout",
     "output_type": "stream",
     "text": [
      "Number of batches (total): 342\n",
      "Number of batches (train): 273\n",
      "Number of batches (test): 68\n"
     ]
    }
   ],
   "source": [
    "dataloader_full = DataLoader(\n",
    "    dataset_full,\n",
    "    batch_size=hyperparameters['batch_size'],\n",
    "    shuffle=False,\n",
    ")\n",
    "\n",
    "dataloader_train = DataLoader(\n",
    "    dataset_train,\n",
    "    batch_size=hyperparameters['batch_size'],\n",
    "    shuffle=False,\n",
    ")\n",
    "\n",
    "dataloader_test = DataLoader(\n",
    "    dataset_test,\n",
    "    batch_size=hyperparameters['batch_size'],\n",
    "    shuffle=False,\n",
    ")\n",
    "\n",
    "print(f'Number of batches (total): {len(dataloader_full)}')\n",
    "print(f'Number of batches (train): {len(dataloader_train)}')\n",
    "print(f'Number of batches (test): {len(dataloader_test)}')"
   ]
  },
  {
   "cell_type": "code",
   "execution_count": 22,
   "id": "0ab4ab76-bc6a-4827-9686-e5f10b66987d",
   "metadata": {},
   "outputs": [
    {
     "data": {
      "text/plain": [
       "(torch.Size([128, 99, 16]),\n",
       " torch.Size([128, 99, 16]),\n",
       " torch.Size([128, 99, 3]))"
      ]
     },
     "execution_count": 22,
     "metadata": {},
     "output_type": "execute_result"
    }
   ],
   "source": [
    "_lags_batch, _forecast_batch, _date_batch = next(iter(dataloader_full))\n",
    "# (hyperparameters['batch_size'], hyperparameters['lags'], NUM_FEATURES), # (hyperparameters['batch_size'], hyperparameters['forecast'], NUM_FEATURES)\n",
    "_lags_batch.shape, _forecast_batch.shape, _date_batch.shape"
   ]
  },
  {
   "cell_type": "code",
   "execution_count": 23,
   "id": "092102e2-5185-43f7-947b-81abf7bdf96d",
   "metadata": {},
   "outputs": [
    {
     "data": {
      "text/plain": [
       "342"
      ]
     },
     "execution_count": 23,
     "metadata": {},
     "output_type": "execute_result"
    }
   ],
   "source": [
    "len(dataloader_full)"
   ]
  },
  {
   "cell_type": "raw",
   "id": "ffc14438-3d06-4c12-8756-e2f7eaf95b28",
   "metadata": {},
   "source": [
    "for idx, (s) in enumerate(dataloader_full):\n",
    "    print(idx)\n",
    "    print(s[0].shape, s[1].shape)"
   ]
  },
  {
   "cell_type": "markdown",
   "id": "e3a30eb6-4ac5-4dfa-b7d7-873168eb2339",
   "metadata": {},
   "source": [
    "# Training"
   ]
  },
  {
   "cell_type": "markdown",
   "id": "f15bf614-596e-4c9b-abfe-91d933c05d76",
   "metadata": {},
   "source": [
    "### Training Functions\n",
    "* with AMP support"
   ]
  },
  {
   "cell_type": "code",
   "execution_count": 24,
   "id": "1003c1c4-c9ae-4f24-8e72-6f8ea31285dc",
   "metadata": {},
   "outputs": [],
   "source": [
    "def train_iter(model, dataloader, optimizer, criterion, scaler, use_amp, device):\n",
    "    model.train()\n",
    "\n",
    "    avg_loss = []\n",
    "    \n",
    "    for (lags, forecast, date) in dataloader:\n",
    "\n",
    "        lags = lags.to(device)\n",
    "        forecast = forecast.to(device)\n",
    "        date = date.to(device)\n",
    "        \n",
    "        with torch.autocast(device_type=device, dtype=torch.float16, enabled=use_amp):\n",
    "            # AMP forward pass\n",
    "            forecast_pred = model(lags, date)\n",
    "            loss = criterion(forecast_pred, forecast)\n",
    "        \n",
    "        scaler.scale(loss).backward()  #loss.backward()\n",
    "        scaler.step(optimizer)         #optimizer.step()\n",
    "        scaler.update()\n",
    "        optimizer.zero_grad()\n",
    "\n",
    "        avg_loss.append(loss.item())\n",
    "\n",
    "    return sum(avg_loss) / len(avg_loss)\n",
    "\n",
    "\n",
    "@torch.no_grad()\n",
    "def eval_iter(model, dataloader, criterion, use_amp, device):\n",
    "    model.eval()\n",
    "\n",
    "    avg_loss = []\n",
    "    predictions = []\n",
    "    \n",
    "    for (lags, forecast, date) in dataloader:\n",
    "        \n",
    "        lags = lags.to(device)\n",
    "        forecast = forecast.to(device)\n",
    "        date = date.to(device)\n",
    "                \n",
    "        with torch.autocast(device_type=device, dtype=torch.float16, enabled=use_amp):\n",
    "            # AMP forward pass\n",
    "            forecast_pred = model(lags, date)\n",
    "            loss = criterion(forecast_pred, forecast)\n",
    "        \n",
    "        avg_loss.append(loss.item())\n",
    "        predictions.append(forecast_pred)\n",
    "\n",
    "    return sum(avg_loss) / len(avg_loss), predictions"
   ]
  },
  {
   "cell_type": "markdown",
   "id": "19f3e836-bd62-4e58-840a-18a5db7dec44",
   "metadata": {},
   "source": [
    "### Start Training"
   ]
  },
  {
   "cell_type": "code",
   "execution_count": 25,
   "id": "2d953510-def3-4d02-8847-40c28e59214e",
   "metadata": {},
   "outputs": [],
   "source": [
    "optimizer = torch.optim.Adam(\n",
    "    model.parameters(),\n",
    "    lr=hyperparameters['learning_rate']\n",
    ")\n",
    "\n",
    "scheduler = torch.optim.lr_scheduler.ReduceLROnPlateau(\n",
    "    optimizer,\n",
    "    mode='min', \n",
    "    factor=0.1, \n",
    "    patience=3,\n",
    "    min_lr=1e-6,\n",
    ")\n",
    "\n",
    "scaler = torch.cuda.amp.GradScaler(enabled=hyperparameters['use_amp'])\n",
    "\n",
    "mse_loss = nn.MSELoss()"
   ]
  },
  {
   "cell_type": "code",
   "execution_count": 26,
   "id": "a86f98b9-3175-4d0c-855a-f054321d2f86",
   "metadata": {},
   "outputs": [
    {
     "name": "stdout",
     "output_type": "stream",
     "text": [
      "Epoch: 1  , Training loss: 29.8889, Testing Loss: 6.9068, LR: [0.001]\n",
      "Epoch: 2  , Training loss: 6.8774, Testing Loss: 7.1886, LR: [0.001]\n",
      "Epoch: 3  , Training loss: 6.9934, Testing Loss: 7.1629, LR: [0.001]\n",
      "Epoch: 4  , Training loss: 6.9973, Testing Loss: 7.0971, LR: [0.001]\n",
      "Epoch: 5  , Training loss: 6.9564, Testing Loss: 7.1451, LR: [0.0001]\n",
      "Epoch: 6  , Training loss: 6.4346, Testing Loss: 6.6113, LR: [0.0001]\n",
      "Epoch: 7  , Training loss: 6.2717, Testing Loss: 6.5399, LR: [0.0001]\n",
      "Epoch: 8  , Training loss: 6.2513, Testing Loss: 6.5243, LR: [0.0001]\n",
      "Epoch: 9  , Training loss: 6.2478, Testing Loss: 6.5189, LR: [0.0001]\n",
      "Epoch: 10 , Training loss: 6.2475, Testing Loss: 6.5173, LR: [0.0001]\n",
      "Epoch: 11 , Training loss: 6.2476, Testing Loss: 6.5182, LR: [0.0001]\n",
      "Epoch: 12 , Training loss: 6.2471, Testing Loss: 6.5172, LR: [0.0001]\n",
      "Epoch: 13 , Training loss: 6.2447, Testing Loss: 6.5132, LR: [0.0001]\n",
      "Epoch: 14 , Training loss: 6.2364, Testing Loss: 6.5026, LR: [0.0001]\n",
      "Epoch: 15 , Training loss: 6.2125, Testing Loss: 6.4784, LR: [0.0001]\n",
      "Epoch: 16 , Training loss: 6.0212, Testing Loss: 6.0255, LR: [0.0001]\n",
      "Epoch: 17 , Training loss: 5.4804, Testing Loss: 5.1514, LR: [0.0001]\n",
      "Epoch: 18 , Training loss: 4.6131, Testing Loss: 4.3988, LR: [0.0001]\n",
      "Epoch: 19 , Training loss: 3.9307, Testing Loss: 3.8181, LR: [0.0001]\n",
      "Epoch: 20 , Training loss: 3.4640, Testing Loss: 3.3799, LR: [0.0001]\n",
      "Epoch: 21 , Training loss: 3.1248, Testing Loss: 3.0607, LR: [0.0001]\n",
      "Epoch: 22 , Training loss: 2.8705, Testing Loss: 2.8280, LR: [0.0001]\n",
      "Epoch: 23 , Training loss: 2.6712, Testing Loss: 2.6512, LR: [0.0001]\n",
      "Epoch: 24 , Training loss: 2.5133, Testing Loss: 2.5083, LR: [0.0001]\n",
      "Epoch: 25 , Training loss: 2.3825, Testing Loss: 2.3903, LR: [0.0001]\n",
      "Epoch: 26 , Training loss: 2.2746, Testing Loss: 2.2949, LR: [0.0001]\n",
      "Epoch: 27 , Training loss: 2.1823, Testing Loss: 2.2143, LR: [0.0001]\n",
      "Epoch: 28 , Training loss: 2.0928, Testing Loss: 2.1259, LR: [0.0001]\n",
      "Epoch: 29 , Training loss: 1.9924, Testing Loss: 2.0392, LR: [0.0001]\n",
      "Epoch: 30 , Training loss: 1.8687, Testing Loss: 1.9029, LR: [0.0001]\n",
      "Epoch: 31 , Training loss: 1.7194, Testing Loss: 1.7760, LR: [0.0001]\n",
      "Epoch: 32 , Training loss: 1.5957, Testing Loss: 1.6768, LR: [0.0001]\n",
      "Epoch: 33 , Training loss: 1.5137, Testing Loss: 1.6144, LR: [0.0001]\n",
      "Epoch: 34 , Training loss: 1.4562, Testing Loss: 1.5582, LR: [0.0001]\n",
      "Epoch: 35 , Training loss: 1.4041, Testing Loss: 1.5021, LR: [0.0001]\n",
      "Epoch: 36 , Training loss: 1.3538, Testing Loss: 1.4459, LR: [0.0001]\n",
      "Epoch: 37 , Training loss: 1.3077, Testing Loss: 1.3870, LR: [0.0001]\n",
      "Epoch: 38 , Training loss: 1.2662, Testing Loss: 1.3343, LR: [0.0001]\n",
      "Epoch: 39 , Training loss: 1.2281, Testing Loss: 1.2903, LR: [0.0001]\n",
      "Epoch: 40 , Training loss: 1.1951, Testing Loss: 1.2438, LR: [0.0001]\n",
      "Epoch: 41 , Training loss: 1.1649, Testing Loss: 1.2103, LR: [0.0001]\n",
      "Epoch: 42 , Training loss: 1.1394, Testing Loss: 1.1739, LR: [0.0001]\n",
      "Epoch: 43 , Training loss: 1.1159, Testing Loss: 1.1473, LR: [0.0001]\n",
      "Epoch: 44 , Training loss: 1.0945, Testing Loss: 1.1036, LR: [0.0001]\n",
      "Epoch: 45 , Training loss: 1.0706, Testing Loss: 1.0942, LR: [0.0001]\n",
      "Epoch: 46 , Training loss: 1.0500, Testing Loss: 1.0602, LR: [0.0001]\n",
      "Epoch: 47 , Training loss: 1.0260, Testing Loss: 1.0295, LR: [0.0001]\n",
      "Epoch: 48 , Training loss: 1.0033, Testing Loss: 1.0171, LR: [0.0001]\n",
      "Epoch: 49 , Training loss: 0.9826, Testing Loss: 1.0017, LR: [0.0001]\n",
      "Epoch: 50 , Training loss: 0.9546, Testing Loss: 0.9867, LR: [0.0001]\n",
      "Epoch: 51 , Training loss: 0.9111, Testing Loss: 0.9543, LR: [0.0001]\n",
      "Epoch: 52 , Training loss: 0.8578, Testing Loss: 0.9046, LR: [0.0001]\n",
      "Epoch: 53 , Training loss: 0.8006, Testing Loss: 0.8650, LR: [0.0001]\n",
      "Epoch: 54 , Training loss: 0.7537, Testing Loss: 0.8195, LR: [0.0001]\n",
      "Epoch: 55 , Training loss: 0.7160, Testing Loss: 0.7698, LR: [0.0001]\n",
      "Epoch: 56 , Training loss: 0.6847, Testing Loss: 0.7240, LR: [0.0001]\n",
      "Epoch: 57 , Training loss: 0.6560, Testing Loss: 0.6804, LR: [0.0001]\n",
      "Epoch: 58 , Training loss: 0.6272, Testing Loss: 0.6506, LR: [0.0001]\n",
      "Epoch: 59 , Training loss: 0.6001, Testing Loss: 0.5961, LR: [0.0001]\n",
      "Epoch: 60 , Training loss: 0.5749, Testing Loss: 0.5630, LR: [0.0001]\n",
      "Epoch: 61 , Training loss: 0.5547, Testing Loss: 0.5387, LR: [0.0001]\n",
      "Epoch: 62 , Training loss: 0.5380, Testing Loss: 0.5208, LR: [0.0001]\n",
      "Epoch: 63 , Training loss: 0.5230, Testing Loss: 0.5121, LR: [0.0001]\n",
      "Epoch: 64 , Training loss: 0.5095, Testing Loss: 0.5078, LR: [0.0001]\n",
      "Epoch: 65 , Training loss: 0.5000, Testing Loss: 0.5105, LR: [0.0001]\n",
      "Epoch: 66 , Training loss: 0.4930, Testing Loss: 0.5126, LR: [0.0001]\n",
      "Epoch: 67 , Training loss: 0.4807, Testing Loss: 0.5129, LR: [0.0001]\n",
      "Epoch: 68 , Training loss: 0.4701, Testing Loss: 0.5104, LR: [1e-05]\n",
      "Epoch: 69 , Training loss: 0.4655, Testing Loss: 0.3891, LR: [1e-05]\n",
      "Epoch: 70 , Training loss: 0.4409, Testing Loss: 0.3796, LR: [1e-05]\n",
      "Epoch: 71 , Training loss: 0.4341, Testing Loss: 0.3749, LR: [1e-05]\n",
      "Epoch: 72 , Training loss: 0.4299, Testing Loss: 0.3716, LR: [1e-05]\n",
      "Epoch: 73 , Training loss: 0.4266, Testing Loss: 0.3692, LR: [1e-05]\n",
      "Epoch: 74 , Training loss: 0.4240, Testing Loss: 0.3671, LR: [1e-05]\n",
      "Epoch: 75 , Training loss: 0.4215, Testing Loss: 0.3652, LR: [1e-05]\n"
     ]
    }
   ],
   "source": [
    "model.to(device)\n",
    "\n",
    "for epoch in range(1, hyperparameters['num_epochs']+1):\n",
    "        \n",
    "    avg_train_loss = train_iter(\n",
    "        model=model, \n",
    "        dataloader=dataloader_train, \n",
    "        optimizer=optimizer, \n",
    "        criterion=mse_loss, \n",
    "        scaler=scaler, \n",
    "        use_amp=hyperparameters['use_amp'], \n",
    "        device=device\n",
    "    )\n",
    "    \n",
    "    avg_test_loss, _ = eval_iter(\n",
    "        model=model, \n",
    "        dataloader=dataloader_test, \n",
    "        criterion=mse_loss, \n",
    "        use_amp=hyperparameters['use_amp'],\n",
    "        device=device\n",
    "    )\n",
    "\n",
    "    # auto decrease LR when not improving\n",
    "    scheduler.step(avg_test_loss)\n",
    "    \n",
    "    \"\"\"\n",
    "    # MANUAL LR SCHEDULING\n",
    "    if epoch == 30:\n",
    "        for pg in optimizer.param_groups:\n",
    "            pg['lr'] *= 0.1\n",
    "\n",
    "    if epoch == 60:\n",
    "        for pg in optimizer.param_groups:\n",
    "            pg['lr'] *= 0.1\n",
    "    \"\"\"\n",
    "    \n",
    "    print(f'Epoch: {epoch:<3}, Training loss: {avg_train_loss:.4f}, Testing Loss: {avg_test_loss:.4f}, LR: {scheduler.get_last_lr()}')"
   ]
  },
  {
   "cell_type": "markdown",
   "id": "88d22bf5-4588-4c5b-914b-237833db8293",
   "metadata": {},
   "source": [
    "# Testing\n",
    "* NOTE: we prefer to use single windows step during prediction"
   ]
  },
  {
   "cell_type": "code",
   "execution_count": 27,
   "id": "03d19abb-3e77-4c33-9f37-c65c457ab413",
   "metadata": {},
   "outputs": [],
   "source": [
    "@torch.no_grad()\n",
    "def eval_iter_single_step(model, dataloader, criterion, use_amp, device):\n",
    "    model.eval()\n",
    "\n",
    "    avg_loss = []\n",
    "    predictions = []\n",
    "    \n",
    "    # single step\n",
    "    for start_idx in tqdm(range(0, len(df_test)-hyperparameters['window_size'])):\n",
    "\n",
    "        # single step window sliding\n",
    "        df_window = df_test.iloc[start_idx:start_idx+hyperparameters['window_size'], :]\n",
    "\n",
    "        sample_window = df_window.values\n",
    "        # input (lag) timestamps\n",
    "        sample_timestamp_lags = df_window[:-1].index\n",
    "\n",
    "        # covnert to tensor\n",
    "        lags = torch.tensor(sample_window[:-1], dtype=torch.float32, device=device)\n",
    "        forecast = torch.tensor(sample_window[1:], dtype=torch.float32, device=device)\n",
    "        # (lags, date_input_features_size)\n",
    "        date = torch.tensor([sample_timestamp_lags.month, sample_timestamp_lags.day, sample_timestamp_lags.hour], dtype=torch.float32, device=device).permute(1, 0)\n",
    "        \n",
    "        # artificially add batch dimension\n",
    "        # (we are not using the dataloader here!)\n",
    "        lags = lags.unsqueeze(0)\n",
    "        forecast = forecast.unsqueeze(0)\n",
    "        date = date.unsqueeze(0)\n",
    "\n",
    "        with torch.autocast(device_type=device, dtype=torch.float16, enabled=use_amp):\n",
    "            forecast_pred = model(lags, date)\n",
    "            loss = criterion(forecast_pred, forecast)\n",
    "            \n",
    "        avg_loss.append(loss.item())\n",
    "        # (batch, forecast, output_features_size)-> (1, window_size-1, output_features_size)\n",
    "        # TAKE THE LAST PREDICTION STEP AS FORECAST!\n",
    "        predictions.append(forecast_pred[0][-1].cpu().numpy())\n",
    "\n",
    "    return sum(avg_loss) / len(avg_loss), predictions"
   ]
  },
  {
   "cell_type": "code",
   "execution_count": 28,
   "id": "0fab7f2f-c398-4154-97e2-efd8b9d88cc0",
   "metadata": {},
   "outputs": [
    {
     "name": "stderr",
     "output_type": "stream",
     "text": [
      "100%|██████████████████████████████████████████████████████████████████████████| 8635/8635 [00:43<00:00, 200.62it/s]\n"
     ]
    },
    {
     "data": {
      "text/plain": [
       "8635"
      ]
     },
     "execution_count": 28,
     "metadata": {},
     "output_type": "execute_result"
    }
   ],
   "source": [
    "_, pred_sliding = eval_iter_single_step(\n",
    "    model=model, \n",
    "    dataloader=dataloader_test, \n",
    "    criterion=mse_loss, \n",
    "    use_amp=hyperparameters['use_amp'],\n",
    "    device=device\n",
    ")\n",
    "\n",
    "len(pred_sliding)"
   ]
  },
  {
   "cell_type": "code",
   "execution_count": 29,
   "id": "ffc489fe-1b8f-481d-a0f0-e2b3c801c3da",
   "metadata": {},
   "outputs": [
    {
     "data": {
      "text/plain": [
       "Index(['nat_demand', 'T2M_toc', 'QV2M_toc', 'TQL_toc', 'W2M_toc', 'T2M_san',\n",
       "       'QV2M_san', 'TQL_san', 'W2M_san', 'T2M_dav', 'QV2M_dav', 'TQL_dav',\n",
       "       'W2M_dav', 'Holiday_ID', 'holiday', 'school'],\n",
       "      dtype='object')"
      ]
     },
     "execution_count": 29,
     "metadata": {},
     "output_type": "execute_result"
    }
   ],
   "source": [
    "df_full.columns"
   ]
  },
  {
   "cell_type": "code",
   "execution_count": 30,
   "id": "bf1ca0b4-2951-452a-b0da-2dd19717944d",
   "metadata": {},
   "outputs": [
    {
     "data": {
      "text/html": [
       "<div>\n",
       "<style scoped>\n",
       "    .dataframe tbody tr th:only-of-type {\n",
       "        vertical-align: middle;\n",
       "    }\n",
       "\n",
       "    .dataframe tbody tr th {\n",
       "        vertical-align: top;\n",
       "    }\n",
       "\n",
       "    .dataframe thead th {\n",
       "        text-align: right;\n",
       "    }\n",
       "</style>\n",
       "<table border=\"1\" class=\"dataframe\">\n",
       "  <thead>\n",
       "    <tr style=\"text-align: right;\">\n",
       "      <th></th>\n",
       "      <th>nat_demand</th>\n",
       "      <th>T2M_toc</th>\n",
       "      <th>QV2M_toc</th>\n",
       "      <th>TQL_toc</th>\n",
       "      <th>W2M_toc</th>\n",
       "      <th>T2M_san</th>\n",
       "      <th>QV2M_san</th>\n",
       "      <th>TQL_san</th>\n",
       "      <th>W2M_san</th>\n",
       "      <th>T2M_dav</th>\n",
       "      <th>QV2M_dav</th>\n",
       "      <th>TQL_dav</th>\n",
       "      <th>W2M_dav</th>\n",
       "      <th>Holiday_ID</th>\n",
       "      <th>holiday</th>\n",
       "      <th>school</th>\n",
       "    </tr>\n",
       "    <tr>\n",
       "      <th>datetime</th>\n",
       "      <th></th>\n",
       "      <th></th>\n",
       "      <th></th>\n",
       "      <th></th>\n",
       "      <th></th>\n",
       "      <th></th>\n",
       "      <th></th>\n",
       "      <th></th>\n",
       "      <th></th>\n",
       "      <th></th>\n",
       "      <th></th>\n",
       "      <th></th>\n",
       "      <th></th>\n",
       "      <th></th>\n",
       "      <th></th>\n",
       "      <th></th>\n",
       "    </tr>\n",
       "  </thead>\n",
       "  <tbody>\n",
       "    <tr>\n",
       "      <th>2019-01-02 01:00:00</th>\n",
       "      <td>-0.845215</td>\n",
       "      <td>25.562500</td>\n",
       "      <td>0.018005</td>\n",
       "      <td>0.061035</td>\n",
       "      <td>21.390625</td>\n",
       "      <td>23.484375</td>\n",
       "      <td>0.017395</td>\n",
       "      <td>0.069763</td>\n",
       "      <td>9.757812</td>\n",
       "      <td>22.265625</td>\n",
       "      <td>0.016068</td>\n",
       "      <td>0.123596</td>\n",
       "      <td>5.468750</td>\n",
       "      <td>0.023254</td>\n",
       "      <td>0.031982</td>\n",
       "      <td>0.331055</td>\n",
       "    </tr>\n",
       "    <tr>\n",
       "      <th>2019-01-02 02:00:00</th>\n",
       "      <td>-0.885254</td>\n",
       "      <td>25.468750</td>\n",
       "      <td>0.017960</td>\n",
       "      <td>0.058960</td>\n",
       "      <td>20.812500</td>\n",
       "      <td>23.359375</td>\n",
       "      <td>0.017349</td>\n",
       "      <td>0.068115</td>\n",
       "      <td>9.281250</td>\n",
       "      <td>22.171875</td>\n",
       "      <td>0.016052</td>\n",
       "      <td>0.122620</td>\n",
       "      <td>5.281250</td>\n",
       "      <td>0.029572</td>\n",
       "      <td>0.027863</td>\n",
       "      <td>0.332275</td>\n",
       "    </tr>\n",
       "    <tr>\n",
       "      <th>2019-01-02 03:00:00</th>\n",
       "      <td>-0.930664</td>\n",
       "      <td>25.375000</td>\n",
       "      <td>0.017929</td>\n",
       "      <td>0.056244</td>\n",
       "      <td>19.750000</td>\n",
       "      <td>23.218750</td>\n",
       "      <td>0.017273</td>\n",
       "      <td>0.065613</td>\n",
       "      <td>8.531250</td>\n",
       "      <td>22.093750</td>\n",
       "      <td>0.016052</td>\n",
       "      <td>0.121582</td>\n",
       "      <td>4.960938</td>\n",
       "      <td>0.038788</td>\n",
       "      <td>0.024841</td>\n",
       "      <td>0.338867</td>\n",
       "    </tr>\n",
       "    <tr>\n",
       "      <th>2019-01-02 04:00:00</th>\n",
       "      <td>-0.923828</td>\n",
       "      <td>25.359375</td>\n",
       "      <td>0.017899</td>\n",
       "      <td>0.053741</td>\n",
       "      <td>19.156250</td>\n",
       "      <td>23.234375</td>\n",
       "      <td>0.017242</td>\n",
       "      <td>0.063171</td>\n",
       "      <td>8.031250</td>\n",
       "      <td>22.093750</td>\n",
       "      <td>0.016052</td>\n",
       "      <td>0.120361</td>\n",
       "      <td>4.718750</td>\n",
       "      <td>0.045349</td>\n",
       "      <td>0.025253</td>\n",
       "      <td>0.340576</td>\n",
       "    </tr>\n",
       "    <tr>\n",
       "      <th>2019-01-02 05:00:00</th>\n",
       "      <td>-0.434082</td>\n",
       "      <td>26.234375</td>\n",
       "      <td>0.018356</td>\n",
       "      <td>0.059845</td>\n",
       "      <td>22.031250</td>\n",
       "      <td>24.671875</td>\n",
       "      <td>0.017883</td>\n",
       "      <td>0.068604</td>\n",
       "      <td>10.289062</td>\n",
       "      <td>23.062500</td>\n",
       "      <td>0.016479</td>\n",
       "      <td>0.118591</td>\n",
       "      <td>5.187500</td>\n",
       "      <td>-0.120850</td>\n",
       "      <td>0.019745</td>\n",
       "      <td>0.343994</td>\n",
       "    </tr>\n",
       "    <tr>\n",
       "      <th>2019-01-02 06:00:00</th>\n",
       "      <td>0.050201</td>\n",
       "      <td>26.968750</td>\n",
       "      <td>0.018478</td>\n",
       "      <td>0.059540</td>\n",
       "      <td>25.843750</td>\n",
       "      <td>26.281250</td>\n",
       "      <td>0.018234</td>\n",
       "      <td>0.063782</td>\n",
       "      <td>12.132812</td>\n",
       "      <td>24.125000</td>\n",
       "      <td>0.016510</td>\n",
       "      <td>0.111023</td>\n",
       "      <td>5.179688</td>\n",
       "      <td>-0.080566</td>\n",
       "      <td>0.034973</td>\n",
       "      <td>0.363770</td>\n",
       "    </tr>\n",
       "    <tr>\n",
       "      <th>2019-01-02 07:00:00</th>\n",
       "      <td>0.275635</td>\n",
       "      <td>27.484375</td>\n",
       "      <td>0.018509</td>\n",
       "      <td>0.066101</td>\n",
       "      <td>26.921875</td>\n",
       "      <td>27.140625</td>\n",
       "      <td>0.018173</td>\n",
       "      <td>0.068848</td>\n",
       "      <td>13.570312</td>\n",
       "      <td>24.781250</td>\n",
       "      <td>0.016479</td>\n",
       "      <td>0.115356</td>\n",
       "      <td>5.484375</td>\n",
       "      <td>-0.082275</td>\n",
       "      <td>0.029663</td>\n",
       "      <td>0.369629</td>\n",
       "    </tr>\n",
       "    <tr>\n",
       "      <th>2019-01-02 08:00:00</th>\n",
       "      <td>0.407959</td>\n",
       "      <td>27.828125</td>\n",
       "      <td>0.018585</td>\n",
       "      <td>0.066528</td>\n",
       "      <td>26.656250</td>\n",
       "      <td>27.687500</td>\n",
       "      <td>0.018234</td>\n",
       "      <td>0.070190</td>\n",
       "      <td>13.679688</td>\n",
       "      <td>25.234375</td>\n",
       "      <td>0.016556</td>\n",
       "      <td>0.115784</td>\n",
       "      <td>5.308594</td>\n",
       "      <td>-0.101807</td>\n",
       "      <td>0.023483</td>\n",
       "      <td>0.382568</td>\n",
       "    </tr>\n",
       "    <tr>\n",
       "      <th>2019-01-02 09:00:00</th>\n",
       "      <td>0.535156</td>\n",
       "      <td>28.140625</td>\n",
       "      <td>0.018692</td>\n",
       "      <td>0.065552</td>\n",
       "      <td>26.000000</td>\n",
       "      <td>28.218750</td>\n",
       "      <td>0.018280</td>\n",
       "      <td>0.070496</td>\n",
       "      <td>13.500000</td>\n",
       "      <td>25.687500</td>\n",
       "      <td>0.016647</td>\n",
       "      <td>0.114624</td>\n",
       "      <td>4.992188</td>\n",
       "      <td>-0.125488</td>\n",
       "      <td>0.018570</td>\n",
       "      <td>0.398438</td>\n",
       "    </tr>\n",
       "    <tr>\n",
       "      <th>2019-01-02 10:00:00</th>\n",
       "      <td>0.600098</td>\n",
       "      <td>28.281250</td>\n",
       "      <td>0.018753</td>\n",
       "      <td>0.064026</td>\n",
       "      <td>25.328125</td>\n",
       "      <td>28.484375</td>\n",
       "      <td>0.018341</td>\n",
       "      <td>0.069702</td>\n",
       "      <td>13.125000</td>\n",
       "      <td>25.921875</td>\n",
       "      <td>0.016708</td>\n",
       "      <td>0.112976</td>\n",
       "      <td>4.683594</td>\n",
       "      <td>-0.139404</td>\n",
       "      <td>0.014923</td>\n",
       "      <td>0.414307</td>\n",
       "    </tr>\n",
       "  </tbody>\n",
       "</table>\n",
       "</div>"
      ],
      "text/plain": [
       "                     nat_demand    T2M_toc  QV2M_toc   TQL_toc    W2M_toc  \\\n",
       "datetime                                                                    \n",
       "2019-01-02 01:00:00   -0.845215  25.562500  0.018005  0.061035  21.390625   \n",
       "2019-01-02 02:00:00   -0.885254  25.468750  0.017960  0.058960  20.812500   \n",
       "2019-01-02 03:00:00   -0.930664  25.375000  0.017929  0.056244  19.750000   \n",
       "2019-01-02 04:00:00   -0.923828  25.359375  0.017899  0.053741  19.156250   \n",
       "2019-01-02 05:00:00   -0.434082  26.234375  0.018356  0.059845  22.031250   \n",
       "2019-01-02 06:00:00    0.050201  26.968750  0.018478  0.059540  25.843750   \n",
       "2019-01-02 07:00:00    0.275635  27.484375  0.018509  0.066101  26.921875   \n",
       "2019-01-02 08:00:00    0.407959  27.828125  0.018585  0.066528  26.656250   \n",
       "2019-01-02 09:00:00    0.535156  28.140625  0.018692  0.065552  26.000000   \n",
       "2019-01-02 10:00:00    0.600098  28.281250  0.018753  0.064026  25.328125   \n",
       "\n",
       "                       T2M_san  QV2M_san   TQL_san    W2M_san    T2M_dav  \\\n",
       "datetime                                                                   \n",
       "2019-01-02 01:00:00  23.484375  0.017395  0.069763   9.757812  22.265625   \n",
       "2019-01-02 02:00:00  23.359375  0.017349  0.068115   9.281250  22.171875   \n",
       "2019-01-02 03:00:00  23.218750  0.017273  0.065613   8.531250  22.093750   \n",
       "2019-01-02 04:00:00  23.234375  0.017242  0.063171   8.031250  22.093750   \n",
       "2019-01-02 05:00:00  24.671875  0.017883  0.068604  10.289062  23.062500   \n",
       "2019-01-02 06:00:00  26.281250  0.018234  0.063782  12.132812  24.125000   \n",
       "2019-01-02 07:00:00  27.140625  0.018173  0.068848  13.570312  24.781250   \n",
       "2019-01-02 08:00:00  27.687500  0.018234  0.070190  13.679688  25.234375   \n",
       "2019-01-02 09:00:00  28.218750  0.018280  0.070496  13.500000  25.687500   \n",
       "2019-01-02 10:00:00  28.484375  0.018341  0.069702  13.125000  25.921875   \n",
       "\n",
       "                     QV2M_dav   TQL_dav   W2M_dav  Holiday_ID   holiday  \\\n",
       "datetime                                                                  \n",
       "2019-01-02 01:00:00  0.016068  0.123596  5.468750    0.023254  0.031982   \n",
       "2019-01-02 02:00:00  0.016052  0.122620  5.281250    0.029572  0.027863   \n",
       "2019-01-02 03:00:00  0.016052  0.121582  4.960938    0.038788  0.024841   \n",
       "2019-01-02 04:00:00  0.016052  0.120361  4.718750    0.045349  0.025253   \n",
       "2019-01-02 05:00:00  0.016479  0.118591  5.187500   -0.120850  0.019745   \n",
       "2019-01-02 06:00:00  0.016510  0.111023  5.179688   -0.080566  0.034973   \n",
       "2019-01-02 07:00:00  0.016479  0.115356  5.484375   -0.082275  0.029663   \n",
       "2019-01-02 08:00:00  0.016556  0.115784  5.308594   -0.101807  0.023483   \n",
       "2019-01-02 09:00:00  0.016647  0.114624  4.992188   -0.125488  0.018570   \n",
       "2019-01-02 10:00:00  0.016708  0.112976  4.683594   -0.139404  0.014923   \n",
       "\n",
       "                       school  \n",
       "datetime                       \n",
       "2019-01-02 01:00:00  0.331055  \n",
       "2019-01-02 02:00:00  0.332275  \n",
       "2019-01-02 03:00:00  0.338867  \n",
       "2019-01-02 04:00:00  0.340576  \n",
       "2019-01-02 05:00:00  0.343994  \n",
       "2019-01-02 06:00:00  0.363770  \n",
       "2019-01-02 07:00:00  0.369629  \n",
       "2019-01-02 08:00:00  0.382568  \n",
       "2019-01-02 09:00:00  0.398438  \n",
       "2019-01-02 10:00:00  0.414307  "
      ]
     },
     "execution_count": 30,
     "metadata": {},
     "output_type": "execute_result"
    }
   ],
   "source": [
    "sliding_results_dict = {}\n",
    "\n",
    "pred_sliding_array = np.array(pred_sliding)\n",
    "\n",
    "for feature_id, feature_key in enumerate(df_full.columns):\n",
    "    sliding_results_dict[feature_key] = pred_sliding_array[:, feature_id]\n",
    "        \n",
    "df_sliding = pd.DataFrame(data=sliding_results_dict, index=df_test.index[:-hyperparameters['window_size']])\n",
    "\n",
    "df_sliding.head(10)"
   ]
  },
  {
   "cell_type": "code",
   "execution_count": 31,
   "id": "92a1934a-8d85-441f-bc84-0dade96b7344",
   "metadata": {},
   "outputs": [
    {
     "data": {
      "text/plain": [
       "<matplotlib.legend.Legend at 0x7f9714a096d0>"
      ]
     },
     "execution_count": 31,
     "metadata": {},
     "output_type": "execute_result"
    },
    {
     "data": {
      "image/png": "[encoded data removed]",
      "text/plain": [
       "<Figure size 600x400 with 1 Axes>"
      ]
     },
     "metadata": {},
     "output_type": "display_data"
    }
   ],
   "source": [
    "selected_feature = 'nat_demand'\n",
    "\n",
    "df_train_plot = df_train[:-hyperparameters['window_size']].copy()\n",
    "df_test_plot = df_test[:-hyperparameters['window_size']].copy()\n",
    "\n",
    "plt.plot(df_train_plot.index, df_train_plot[selected_feature], c='blue', label='training')\n",
    "plt.plot(df_test_plot.index, df_test_plot[selected_feature], c='red', label='test')\n",
    "plt.plot(df_sliding.index, df_sliding[selected_feature] , c='green', label='prediction')\n",
    "plt.legend()"
   ]
  },
  {
   "cell_type": "code",
   "execution_count": 32,
   "id": "2f18fd2f-2bc0-431b-8cdc-3f4b711e0897",
   "metadata": {},
   "outputs": [
    {
     "data": {
      "text/plain": [
       "<matplotlib.legend.Legend at 0x7f970c23b990>"
      ]
     },
     "execution_count": 32,
     "metadata": {},
     "output_type": "execute_result"
    },
    {
     "data": {
      "image/png": "[encoded data removed]",
      "text/plain": [
       "<Figure size 1000x600 with 1 Axes>"
      ]
     },
     "metadata": {},
     "output_type": "display_data"
    }
   ],
   "source": [
    "plt.figure(figsize=(10, 6))\n",
    "df_test.loc['2019-01-03 05:00:00':'2019-01-12 05:00:00', 'nat_demand'].plot(label='actual')\n",
    "df_sliding.loc['2019-01-03 05:00:00':'2019-01-12 05:00:00', 'nat_demand'].plot(label='prediction')\n",
    "plt.legend()"
   ]
  },
  {
   "cell_type": "markdown",
   "id": "5ca0d119-19bc-4098-99dc-18a5b8cc581f",
   "metadata": {},
   "source": [
    "# Save Model"
   ]
  },
  {
   "cell_type": "code",
   "execution_count": 33,
   "id": "45d8c44e-2861-49e1-aca8-cd2593bc8b5a",
   "metadata": {},
   "outputs": [],
   "source": [
    "os.makedirs('./saved_models', exist_ok=True)\n",
    "\n",
    "checkpoint = {\n",
    "    'model_state_dict': model.state_dict(),\n",
    "    'optimizer_state_dict': optimizer.state_dict(),\n",
    "    'hyperparameters': hyperparameters,\n",
    "}\n",
    "\n",
    "if hyperparameters['use_amp']:\n",
    "    checkpoint['scaler_state_dict'] = scaler.state_dict()\n",
    "\n",
    "torch.save(\n",
    "    checkpoint,\n",
    "    './saved_models/GPTTimeSeries_Autoregressive.pt'\n",
    ")"
   ]
  },
  {
   "cell_type": "markdown",
   "id": "a1cf35c6-0043-4533-ac32-ea186c2cefbb",
   "metadata": {},
   "source": [
    "# Generative Forecast"
   ]
  },
  {
   "cell_type": "code",
   "execution_count": 34,
   "id": "b70fe843-6e44-4e06-8f6f-3ceec8e4f47d",
   "metadata": {},
   "outputs": [],
   "source": [
    "@torch.no_grad()\n",
    "def generative_forecast(model, data, num_steps, lag_window_size, use_amp, device):\n",
    "    model.eval()\n",
    "    \n",
    "    predictions = []\n",
    "    time_indexes = []\n",
    "    \n",
    "    # covnert to tensor\n",
    "    # data.shape: (lags, features)\n",
    "    lags = torch.tensor(data[-lag_window_size:, :], dtype=torch.float32, device=device)\n",
    "    \n",
    "    # artificially add batch dimension\n",
    "    # (we are not using the dataloader here!)\n",
    "    # data.shape: (1, lags, features)\n",
    "    lags = lags.unsqueeze(0)\n",
    "\n",
    "    # Datetime indexes \n",
    "    timestamps = df_full.index\n",
    "    # Delta time: calculate the time difference between two samples \n",
    "    delta_time = timestamps[1] - timestamps[0]\n",
    "    # Get last timestamp\n",
    "    current_timestamp = timestamps[-1]\n",
    "\n",
    "    def generate_date_tensor(_timestamp, _lags, _device):\n",
    "        _timestamp = _timestamp[-lag_window_size:]\n",
    "        return torch.tensor([_timestamp.month, _timestamp.day, _timestamp.hour], dtype=torch.float32, device=_device).permute(1, 0)\n",
    "    \n",
    "    # single step\n",
    "    for idx in range(num_steps):\n",
    "\n",
    "        # get the last lag steps\n",
    "        lags = lags[:, -lag_window_size:, :]\n",
    "        #print(lags)\n",
    "\n",
    "        # date\n",
    "        date = generate_date_tensor(timestamps, lag_window_size, device).unsqueeze(0)\n",
    "\n",
    "        with torch.autocast(device_type=device, dtype=torch.float16, enabled=use_amp):\n",
    "            forecast_pred = model(lags, date)\n",
    "        \n",
    "        # (batch, forecast, output_features_size)-> (1, window_size-1, output_features_size)\n",
    "        # TAKE THE LAST PREDICTION STEP AS FORECAST!\n",
    "        predictions.append(forecast_pred[0][-1].cpu().numpy())\n",
    "\n",
    "        # update current timestamp\n",
    "        current_timestamp = current_timestamp + delta_time\n",
    "        time_indexes.append(current_timestamp)\n",
    "\n",
    "        # append last forecast to the end\n",
    "        lags = torch.cat((lags, forecast_pred.detach()), dim=1)\n",
    "\n",
    "        # next timestamp\n",
    "        timestamps = timestamps + delta_time\n",
    "\n",
    "    return predictions, time_indexes"
   ]
  },
  {
   "cell_type": "code",
   "execution_count": 35,
   "id": "4514d5aa-9123-4614-9818-d61524bb2f44",
   "metadata": {},
   "outputs": [],
   "source": [
    "pred_generative, time_indexes_generative = generative_forecast(model, df_full.values, 15, hyperparameters['window_size'], hyperparameters['use_amp'], device)\n",
    "\n",
    "pred_generative_array = np.array(pred_generative)\n",
    "\n",
    "generative_results_dict = {}\n",
    "\n",
    "# loop ove features\n",
    "for feature_id, feature_key in enumerate(df_full.columns):\n",
    "    generative_results_dict[feature_key] = pred_generative_array[:, feature_id]\n",
    "        \n",
    "df_generative = pd.DataFrame(data=generative_results_dict, index=time_indexes_generative)"
   ]
  },
  {
   "cell_type": "code",
   "execution_count": 36,
   "id": "fb024d8d-cd2f-4272-904b-66847a442879",
   "metadata": {},
   "outputs": [
    {
     "data": {
      "text/plain": [
       "<Axes: >"
      ]
     },
     "execution_count": 36,
     "metadata": {},
     "output_type": "execute_result"
    },
    {
     "data": {
      "image/png": "[encoded data removed]",
      "text/plain": [
       "<Figure size 600x400 with 1 Axes>"
      ]
     },
     "metadata": {},
     "output_type": "display_data"
    }
   ],
   "source": [
    "df_generative[selected_feature].plot()"
   ]
  },
  {
   "cell_type": "code",
   "execution_count": null,
   "id": "b362c022-278d-435e-9be1-2d22a17cc12f",
   "metadata": {},
   "outputs": [],
   "source": []
  }
 ],
 "metadata": {
  "kernelspec": {
   "display_name": "Python [conda env:pytorch] *",
   "language": "python",
   "name": "conda-env-pytorch-py"
  },
  "language_info": {
   "codemirror_mode": {
    "name": "ipython",
    "version": 3
   },
   "file_extension": ".py",
   "mimetype": "text/x-python",
   "name": "python",
   "nbconvert_exporter": "python",
   "pygments_lexer": "ipython3",
   "version": "3.11.5"
  }
 },
 "nbformat": 4,
 "nbformat_minor": 5
}
