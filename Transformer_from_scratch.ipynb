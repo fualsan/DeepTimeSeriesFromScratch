{
 "cells": [
  {
   "cell_type": "markdown",
   "id": "afb1107d-9a96-4d47-ab3e-0582fd89827d",
   "metadata": {},
   "source": [
    "# Transformer Implementation from Scratch in PyTorch"
   ]
  },
  {
   "cell_type": "code",
   "execution_count": 1,
   "id": "b1b2358b-d53a-43e3-9d26-d38b8f7649d3",
   "metadata": {},
   "outputs": [
    {
     "name": "stdout",
     "output_type": "stream",
     "text": [
      "USING DEVICE: cuda\n"
     ]
    }
   ],
   "source": [
    "import torch\n",
    "import torch.nn as nn\n",
    "import torch.nn.functional as F\n",
    "\n",
    "from torch.utils.data import Dataset, DataLoader\n",
    "\n",
    "import os\n",
    "import random\n",
    "import numpy as np\n",
    "import pandas as pd\n",
    "import math\n",
    "\n",
    "from sklearn.preprocessing import StandardScaler\n",
    "\n",
    "import matplotlib.pyplot as plt\n",
    "\n",
    "plt.rcParams['figure.figsize'] = (6, 4)\n",
    "plt.rcParams['axes.grid'] = True\n",
    "\n",
    "device = 'cuda' if torch.cuda.is_available() else 'cpu'\n",
    "print(f'USING DEVICE: {device}')"
   ]
  },
  {
   "cell_type": "markdown",
   "id": "54bb0bc4-3118-48c0-8f61-2b53d10bbc32",
   "metadata": {},
   "source": [
    "# Hyperparameters"
   ]
  },
  {
   "cell_type": "code",
   "execution_count": 2,
   "id": "288dc719-d4cc-4494-8ffd-19cb73db213f",
   "metadata": {},
   "outputs": [],
   "source": [
    "hyperparameters = {\n",
    "    'lags': 15,\n",
    "    'forecast': 1,\n",
    "    'input_features_size': 1,\n",
    "    'hidden_features_size': 256,\n",
    "    'output_features_size': 1,\n",
    "    'num_heads': 16,\n",
    "    'ff_dim': 256*4, # usually 4 times the hidden feature size\n",
    "    'num_decoder_layers': 4,\n",
    "    'emb_dropout_prob': 0.1,\n",
    "    'attn_dropout_prob': 0.1,\n",
    "    'ff_dropout_prob': 0.1,\n",
    "    'attn_use_bias': False,\n",
    "    'ff_use_bias': False,\n",
    "    'output_features_bias': False,\n",
    "    'batch_size': 32,\n",
    "    'split_ratio': 0.8, # 80% training, 20% testing\n",
    "    'learning_rate': 0.001,\n",
    "    'num_epochs': 150,\n",
    "}\n",
    "\n",
    "hyperparameters['window_size'] =  hyperparameters['lags'] + hyperparameters['forecast']"
   ]
  },
  {
   "cell_type": "markdown",
   "id": "a743a1f6-d57a-490e-9ac0-bb41ff95a352",
   "metadata": {},
   "source": [
    "# Airline Passgeners Dataset"
   ]
  },
  {
   "cell_type": "code",
   "execution_count": 3,
   "id": "db563c03-1ee8-417d-926e-ddd837b766bd",
   "metadata": {},
   "outputs": [
    {
     "data": {
      "text/html": [
       "<div>\n",
       "<style scoped>\n",
       "    .dataframe tbody tr th:only-of-type {\n",
       "        vertical-align: middle;\n",
       "    }\n",
       "\n",
       "    .dataframe tbody tr th {\n",
       "        vertical-align: top;\n",
       "    }\n",
       "\n",
       "    .dataframe thead th {\n",
       "        text-align: right;\n",
       "    }\n",
       "</style>\n",
       "<table border=\"1\" class=\"dataframe\">\n",
       "  <thead>\n",
       "    <tr style=\"text-align: right;\">\n",
       "      <th></th>\n",
       "      <th>Month</th>\n",
       "      <th>Passengers</th>\n",
       "    </tr>\n",
       "  </thead>\n",
       "  <tbody>\n",
       "    <tr>\n",
       "      <th>0</th>\n",
       "      <td>1949-01</td>\n",
       "      <td>112</td>\n",
       "    </tr>\n",
       "    <tr>\n",
       "      <th>1</th>\n",
       "      <td>1949-02</td>\n",
       "      <td>118</td>\n",
       "    </tr>\n",
       "    <tr>\n",
       "      <th>2</th>\n",
       "      <td>1949-03</td>\n",
       "      <td>132</td>\n",
       "    </tr>\n",
       "    <tr>\n",
       "      <th>3</th>\n",
       "      <td>1949-04</td>\n",
       "      <td>129</td>\n",
       "    </tr>\n",
       "    <tr>\n",
       "      <th>4</th>\n",
       "      <td>1949-05</td>\n",
       "      <td>121</td>\n",
       "    </tr>\n",
       "  </tbody>\n",
       "</table>\n",
       "</div>"
      ],
      "text/plain": [
       "     Month  Passengers\n",
       "0  1949-01         112\n",
       "1  1949-02         118\n",
       "2  1949-03         132\n",
       "3  1949-04         129\n",
       "4  1949-05         121"
      ]
     },
     "execution_count": 3,
     "metadata": {},
     "output_type": "execute_result"
    }
   ],
   "source": [
    "df_full = pd.read_csv('airline-passengers.csv')\n",
    "df_full.head()"
   ]
  },
  {
   "cell_type": "code",
   "execution_count": 4,
   "id": "9282fb84-75ad-4629-b9c9-5c0e01cae8a9",
   "metadata": {},
   "outputs": [
    {
     "data": {
      "text/html": [
       "<div>\n",
       "<style scoped>\n",
       "    .dataframe tbody tr th:only-of-type {\n",
       "        vertical-align: middle;\n",
       "    }\n",
       "\n",
       "    .dataframe tbody tr th {\n",
       "        vertical-align: top;\n",
       "    }\n",
       "\n",
       "    .dataframe thead th {\n",
       "        text-align: right;\n",
       "    }\n",
       "</style>\n",
       "<table border=\"1\" class=\"dataframe\">\n",
       "  <thead>\n",
       "    <tr style=\"text-align: right;\">\n",
       "      <th></th>\n",
       "      <th>Month</th>\n",
       "      <th>Passengers</th>\n",
       "    </tr>\n",
       "  </thead>\n",
       "  <tbody>\n",
       "    <tr>\n",
       "      <th>0</th>\n",
       "      <td>1949-01-01</td>\n",
       "      <td>112</td>\n",
       "    </tr>\n",
       "    <tr>\n",
       "      <th>1</th>\n",
       "      <td>1949-02-01</td>\n",
       "      <td>118</td>\n",
       "    </tr>\n",
       "    <tr>\n",
       "      <th>2</th>\n",
       "      <td>1949-03-01</td>\n",
       "      <td>132</td>\n",
       "    </tr>\n",
       "    <tr>\n",
       "      <th>3</th>\n",
       "      <td>1949-04-01</td>\n",
       "      <td>129</td>\n",
       "    </tr>\n",
       "    <tr>\n",
       "      <th>4</th>\n",
       "      <td>1949-05-01</td>\n",
       "      <td>121</td>\n",
       "    </tr>\n",
       "  </tbody>\n",
       "</table>\n",
       "</div>"
      ],
      "text/plain": [
       "       Month  Passengers\n",
       "0 1949-01-01         112\n",
       "1 1949-02-01         118\n",
       "2 1949-03-01         132\n",
       "3 1949-04-01         129\n",
       "4 1949-05-01         121"
      ]
     },
     "execution_count": 4,
     "metadata": {},
     "output_type": "execute_result"
    }
   ],
   "source": [
    "df_full['Month'] = pd.to_datetime(df_full['Month'])\n",
    "df_full.head()"
   ]
  },
  {
   "cell_type": "code",
   "execution_count": 5,
   "id": "c58545c8-31ee-483e-b1fc-028efcb0873a",
   "metadata": {},
   "outputs": [
    {
     "data": {
      "text/html": [
       "<div>\n",
       "<style scoped>\n",
       "    .dataframe tbody tr th:only-of-type {\n",
       "        vertical-align: middle;\n",
       "    }\n",
       "\n",
       "    .dataframe tbody tr th {\n",
       "        vertical-align: top;\n",
       "    }\n",
       "\n",
       "    .dataframe thead th {\n",
       "        text-align: right;\n",
       "    }\n",
       "</style>\n",
       "<table border=\"1\" class=\"dataframe\">\n",
       "  <thead>\n",
       "    <tr style=\"text-align: right;\">\n",
       "      <th></th>\n",
       "      <th>Passengers</th>\n",
       "    </tr>\n",
       "    <tr>\n",
       "      <th>Month</th>\n",
       "      <th></th>\n",
       "    </tr>\n",
       "  </thead>\n",
       "  <tbody>\n",
       "    <tr>\n",
       "      <th>1949-01-01</th>\n",
       "      <td>112</td>\n",
       "    </tr>\n",
       "    <tr>\n",
       "      <th>1949-02-01</th>\n",
       "      <td>118</td>\n",
       "    </tr>\n",
       "    <tr>\n",
       "      <th>1949-03-01</th>\n",
       "      <td>132</td>\n",
       "    </tr>\n",
       "    <tr>\n",
       "      <th>1949-04-01</th>\n",
       "      <td>129</td>\n",
       "    </tr>\n",
       "    <tr>\n",
       "      <th>1949-05-01</th>\n",
       "      <td>121</td>\n",
       "    </tr>\n",
       "  </tbody>\n",
       "</table>\n",
       "</div>"
      ],
      "text/plain": [
       "            Passengers\n",
       "Month                 \n",
       "1949-01-01         112\n",
       "1949-02-01         118\n",
       "1949-03-01         132\n",
       "1949-04-01         129\n",
       "1949-05-01         121"
      ]
     },
     "execution_count": 5,
     "metadata": {},
     "output_type": "execute_result"
    }
   ],
   "source": [
    "df_full.set_index('Month', inplace=True)\n",
    "df_full.head()"
   ]
  },
  {
   "cell_type": "code",
   "execution_count": 6,
   "id": "23042d10-d9ba-4255-81a8-b0e2aafba703",
   "metadata": {},
   "outputs": [
    {
     "data": {
      "text/plain": [
       "<Axes: xlabel='Month'>"
      ]
     },
     "execution_count": 6,
     "metadata": {},
     "output_type": "execute_result"
    },
    {
     "data": {
      "image/png": "[encoded data removed]",
      "text/plain": [
       "<Figure size 600x400 with 1 Axes>"
      ]
     },
     "metadata": {},
     "output_type": "display_data"
    }
   ],
   "source": [
    "df_full.plot()"
   ]
  },
  {
   "cell_type": "markdown",
   "id": "f74c8752-4487-4375-87ad-e9311f3cde86",
   "metadata": {},
   "source": [
    "# Standart Scaler\n",
    "* Exercise: Try without scaler, see if learning works!"
   ]
  },
  {
   "cell_type": "code",
   "execution_count": 7,
   "id": "cca6ad4c-27af-4d30-b19d-c07308ac6acd",
   "metadata": {},
   "outputs": [
    {
     "data": {
      "text/plain": [
       "<Axes: xlabel='Month'>"
      ]
     },
     "execution_count": 7,
     "metadata": {},
     "output_type": "execute_result"
    },
    {
     "data": {
      "image/png": "[encoded data removed]",
      "text/plain": [
       "<Figure size 600x400 with 1 Axes>"
      ]
     },
     "metadata": {},
     "output_type": "display_data"
    }
   ],
   "source": [
    "scaler = StandardScaler()\n",
    "\n",
    "df_full['Passengers'] = scaler.fit_transform(df_full['Passengers'].values.reshape(-1, 1))\n",
    "df_full.plot()"
   ]
  },
  {
   "cell_type": "markdown",
   "id": "acf7b0b8-ee9d-4c5b-9558-872feca3f4dc",
   "metadata": {},
   "source": [
    "### Time series data shape: \n",
    "Unbatched: $(S, F)$\n",
    "\n",
    "* $S:$ Sequence Length\n",
    "* $F:$ Number of Features\n",
    "\n",
    "Batched: $(B, S, F)$\n",
    "* $B:$ Batch Size"
   ]
  },
  {
   "cell_type": "code",
   "execution_count": 8,
   "id": "d88f8373-2896-4644-bbab-5f5a912892d5",
   "metadata": {},
   "outputs": [
    {
     "data": {
      "text/plain": [
       "(144, 1)"
      ]
     },
     "execution_count": 8,
     "metadata": {},
     "output_type": "execute_result"
    }
   ],
   "source": [
    "df_full.shape"
   ]
  },
  {
   "cell_type": "markdown",
   "id": "66106ad6-4eb2-45ea-9534-769a64bc23c1",
   "metadata": {},
   "source": [
    "# Model\n",
    "## Time2Vec"
   ]
  },
  {
   "cell_type": "code",
   "execution_count": 9,
   "id": "90db37af-d2ec-487e-8af6-096da74ffb7d",
   "metadata": {},
   "outputs": [],
   "source": [
    "class Time2Vec(nn.Module):\n",
    "    def __init__(self, in_features, out_features, activation='sin'):\n",
    "        super(Time2Vec, self).__init__()\n",
    "        \n",
    "        self.in_features = in_features\n",
    "        self.out_features = out_features\n",
    "        \n",
    "        self.w0 = nn.Parameter(torch.randn(in_features, 1))\n",
    "        self.b0 = nn.Parameter(torch.randn(in_features, 1))\n",
    "        \n",
    "        self.w = nn.Parameter(torch.randn(in_features, out_features-1))\n",
    "        self.b = nn.Parameter(torch.randn(in_features, out_features-1))\n",
    "\n",
    "        if activation == 'sin':\n",
    "            self.act_fn = torch.sin\n",
    "        elif activation == 'cos':\n",
    "            self.act_fn = torch.cos\n",
    "        else:\n",
    "            raise ValueError(f'Invalid activation {activation}. Please choose sin or cos.')\n",
    "\n",
    "    def forward(self, x):\n",
    "        # Periodic features\n",
    "        periodic = self.act_fn(torch.matmul(x, self.w) + self.b)\n",
    "        # Non-periodic feature (single)\n",
    "        non_periodic = torch.matmul(x, self.w0) + self.b0\n",
    "        # Concat on features\n",
    "        time2vec_features = torch.cat([periodic, non_periodic], 2)\n",
    "        return time2vec_features"
   ]
  },
  {
   "cell_type": "markdown",
   "id": "e21cc88c-9030-43c1-a71f-c01453dfdcd8",
   "metadata": {},
   "source": [
    "## Transformer Decoder (GPT)"
   ]
  },
  {
   "cell_type": "code",
   "execution_count": 10,
   "id": "856ed56d-eab7-4f8c-9935-db43784a5f07",
   "metadata": {},
   "outputs": [],
   "source": [
    "# subsequent_mask\n",
    "# lower triangular mask matrix\n",
    "# (1 -> normal token, 0 -> mask token)\n",
    "# pad_mask should be float tensor\n",
    "# if not -> subsequent_mask * torch.tensor(enc.attention_mask)\n",
    "# pad_mask enc.attention_mask (from tokenizer)\n",
    "# both masks are in form: 1 -> normal token, 0 -> mask token\n",
    "\n",
    "\n",
    "class MultiHeadAttention(nn.Module):\n",
    "    def __init__(self, features_dim, num_heads, use_bias, use_lookahead_mask=False):\n",
    "        super().__init__()\n",
    "        self.features_dim = features_dim\n",
    "        self.num_heads = num_heads\n",
    "        self.head_dim = features_dim // num_heads\n",
    "        self.use_lookahead_mask = use_lookahead_mask\n",
    "        \n",
    "        assert self.head_dim * num_heads == features_dim, 'Cannot divide into heads equally!'\n",
    "\n",
    "        self.query = nn.Linear(features_dim, features_dim, bias=use_bias)\n",
    "        self.key = nn.Linear(features_dim, features_dim, bias=use_bias)\n",
    "        self.value = nn.Linear(features_dim, features_dim, bias=use_bias)\n",
    "        self.out = nn.Linear(features_dim, features_dim, bias=use_bias)\n",
    "        \n",
    "    def forward(self, query, key, value, pad_mask=None):\n",
    "        # query: (batch_size, seq_len_q, features_dim)\n",
    "        # key:   (batch_size, seq_len_k, features_dim)\n",
    "        # value: (batch_size, seq_len_v, features_dim)\n",
    "        \n",
    "        batch_size, seq_len_q, _ = query.size()\n",
    "        _, seq_len_k, _ = key.size()\n",
    "        \n",
    "        Q = self.query(query)\n",
    "        K = self.key(key)\n",
    "        V = self.value(value)\n",
    "\n",
    "        # DIVIDE INTO ATTENTION HEADS\n",
    "        # (batch_size, seq_len, features_dim) -> (batch_size, seq_len_q/k/v, num_heads, head_dim)\n",
    "        Q = Q.view(batch_size, -1, self.num_heads, self.head_dim)\n",
    "        K = K.view(batch_size, -1, self.num_heads, self.head_dim)\n",
    "        V = V.view(batch_size, -1, self.num_heads, self.head_dim)\n",
    "\n",
    "        # Switch seq_len and num_heads dim (group sequences into heads)\n",
    "        # (batch_size, seq_len_q/k/v, num_heads, head_dim) -> (batch_size, num_heads, seq_len_q/k/v, head_dim)\n",
    "        Q = Q.transpose(1, 2)\n",
    "        K = K.transpose(1, 2)\n",
    "        V = V.transpose(1, 2)\n",
    "\n",
    "        # SCALED DOT PRODUCT ATTENTION\n",
    "        # (batch_size, num_heads, seq_len_q, head_dim) X (batch_size, num_heads, head_dim, seq_len_k)\n",
    "        scores = torch.matmul(Q, K.transpose(2, 3))\n",
    "        scores = scores / torch.sqrt(torch.tensor(self.head_dim, dtype=torch.float32))\n",
    "        \n",
    "        # Lookahead mask (used in Decoder)\n",
    "        if self.use_lookahead_mask:\n",
    "            subsequent_mask = torch.tril(torch.ones(seq_len_q, seq_len_k)).to(query.device)\n",
    "            scores.masked_fill_(subsequent_mask == 0, 1e-10)\n",
    "\n",
    "        # Padding mask\n",
    "        if pad_mask is not None:\n",
    "            __pad_mask = pad_mask.unsqueeze(1).unsqueeze(3)\n",
    "            # __pad_mask.shape: (batch_size, 1, seq_len_q, 1)\n",
    "            # pad mask is broadcasted from q dimension \n",
    "            # enc/dec case: q is the dimension of decoder output, k and v are from encoder\n",
    "            # NOTE: using float('-inf') here can cause numerical instability!\n",
    "            scores.masked_fill_(__pad_mask == 0, 1e-10)\n",
    "\n",
    "        # ATTTENTION MATRIX (batch_size, num_heads, seq_len_q, seq_len_k)\n",
    "        attention = torch.softmax(scores, dim=-1)\n",
    "        # NOTE: seq_len_k and seq_len_v assumed to be the same\n",
    "        # (batch_size, num_heads, seq_len_q, seq_len_k) X (batch_size, num_heads, seq_len_v, head_dim)\n",
    "        # out: (batch_size, num_heads, seq_len_q, head_dim)\n",
    "        out = torch.matmul(attention, V)\n",
    "\n",
    "        # (batch_size, num_heads, seq_len_q, head_dim) -> (batch_size, seq_len_q, num_heads, head_dim)\n",
    "        out = out.transpose(1, 2).contiguous()\n",
    "        # CONCAT ATTENTION HEADS\n",
    "        # (batch_size, seq_len_q, num_heads, head_dim) -> (batch_size, seq_len_q, features_dim)\n",
    "        # num_heads * head_dim = features_dim\n",
    "        out = out.view(batch_size, -1, self.features_dim)\n",
    "        out = self.out(out)\n",
    "        # final out: (batch_size, seq_len_q, features_dim)\n",
    "        return out\n",
    "\n",
    "\n",
    "class FeedForward(nn.Module):\n",
    "    def __init__(self, features_dim, ff_dim, use_bias):\n",
    "        super().__init__()\n",
    "        \n",
    "        self.ff_block = nn.Sequential(\n",
    "            nn.Linear(features_dim, ff_dim, bias=use_bias),\n",
    "            nn.GELU(),\n",
    "            nn.Linear(ff_dim, features_dim, bias=use_bias),\n",
    "        )\n",
    "        \n",
    "    def forward(self, x):\n",
    "        return self.ff_block(x)\n",
    "\n",
    "\n",
    "class AttentionResidualConnection(nn.Module):\n",
    "    \"\"\"\n",
    "    Multihead Attention\n",
    "    Residual Connection with Pre-Layernorm + Dropout\n",
    "    \"\"\"\n",
    "    def __init__(self, layer, features_dim, dropout_prob):\n",
    "        super().__init__()\n",
    "        self.layer = layer\n",
    "        self.norm = nn.LayerNorm(features_dim)\n",
    "        self.dropout = nn.Dropout(dropout_prob)\n",
    "\n",
    "    def forward(self, q, k, v, mask):\n",
    "        return q + self.dropout(self.layer(self.norm(q), self.norm(k), self.norm(v), mask))\n",
    "\n",
    "\n",
    "class FeedForwardResidualConnection(nn.Module):\n",
    "    \"\"\"\n",
    "    Feedforward Connection\n",
    "    Residual Connection with Pre-Layernorm + Dropout\n",
    "    \"\"\"\n",
    "    def __init__(self, layer, features_dim, dropout_prob):\n",
    "        super().__init__()\n",
    "        self.layer = layer\n",
    "        self.norm = nn.LayerNorm(features_dim)\n",
    "        self.dropout = nn.Dropout(dropout_prob)\n",
    "\n",
    "    def forward(self, x):\n",
    "        return x + self.dropout(self.layer(self.norm(x)))"
   ]
  },
  {
   "cell_type": "markdown",
   "id": "733e9fd9-4062-47f5-9014-425351dd21dd",
   "metadata": {},
   "source": [
    "## Transformer Model"
   ]
  },
  {
   "cell_type": "code",
   "execution_count": 11,
   "id": "90408c65-d0cd-43ff-bb19-3a7372afbfea",
   "metadata": {},
   "outputs": [],
   "source": [
    "class MaskedOnlyDecoderLayer(nn.Module):\n",
    "    \"\"\"\n",
    "    Used for GPT\n",
    "    \"\"\"\n",
    "    def __init__(\n",
    "        self, \n",
    "        features_dim, \n",
    "        num_heads, \n",
    "        ff_dim, \n",
    "        attn_dropout_prob,\n",
    "        ff_dropout_prob,\n",
    "        attn_use_bias,\n",
    "        ff_use_bias\n",
    "    ):\n",
    "        super().__init__()\n",
    "        \n",
    "        self.masked_mha = AttentionResidualConnection(\n",
    "            layer=MultiHeadAttention(features_dim, num_heads, attn_use_bias, use_lookahead_mask=True), \n",
    "            features_dim=features_dim, \n",
    "            dropout_prob=attn_dropout_prob,\n",
    "        )\n",
    "\n",
    "        self.ff = FeedForwardResidualConnection(\n",
    "            layer=FeedForward(features_dim, ff_dim, ff_use_bias), \n",
    "            features_dim=features_dim, \n",
    "            dropout_prob=ff_dropout_prob,\n",
    "        )\n",
    "        \n",
    "    def forward(self, x_input, pad_mask):\n",
    "        masked_mha_out = self.masked_mha(x_input, x_input, x_input, pad_mask)\n",
    "        ff_out = self.ff(masked_mha_out)\n",
    "        return ff_out\n",
    "\n",
    "\n",
    "class GPTTimeSeries(nn.Module):\n",
    "    def __init__(\n",
    "        self, \n",
    "        #vocab_size, \n",
    "        input_features_size,\n",
    "        features_dim, \n",
    "        output_features_size,\n",
    "        forecast_size,\n",
    "        num_heads, \n",
    "        ff_dim, \n",
    "        num_decoder_layers,\n",
    "        emb_dropout_prob,\n",
    "        attn_dropout_prob,\n",
    "        ff_dropout_prob,\n",
    "        attn_use_bias,\n",
    "        ff_use_bias,\n",
    "        #vocab_projection_bias,\n",
    "        output_features_bias,\n",
    "    ):\n",
    "        super().__init__()\n",
    "        self.features_dim = features_dim\n",
    "        self.forecast_size = forecast_size\n",
    "\n",
    "        #self.token_emb = nn.Embedding(vocab_size, features_dim)\n",
    "        #self.input_projection = nn.Linear(input_features_size, features_dim)\n",
    "        self.input_projection = Time2Vec(input_features_size, features_dim)\n",
    "        \n",
    "        # Learnable position embbedings\n",
    "        #self.position_emb = nn.Embedding(max_seq_len, features_dim)\n",
    "\n",
    "        self.emb_dropout_prob = nn.Dropout(p=emb_dropout_prob)\n",
    "        \n",
    "        # NOTE: nn.Sequential can't handle multiple inputs!\n",
    "        self.dec_layers = nn.ModuleList(\n",
    "            [MaskedOnlyDecoderLayer(\n",
    "                features_dim, \n",
    "                num_heads, \n",
    "                ff_dim, \n",
    "                attn_dropout_prob, \n",
    "                ff_dropout_prob,\n",
    "                attn_use_bias,\n",
    "                ff_use_bias\n",
    "            ) for _ in range(num_decoder_layers)]\n",
    "        )\n",
    "        \n",
    "        self.layernorm_final = nn.LayerNorm(features_dim)\n",
    "\n",
    "        #self.vocab_projection = nn.Linear(features_dim, vocab_size, bias=vocab_projection_bias)\n",
    "        self.output_projection = nn.Linear(features_dim, output_features_size, bias=output_features_bias)\n",
    "        \n",
    "        self.apply(self._init_weights)\n",
    "        \n",
    "    def _init_weights(self, module):\n",
    "        if isinstance(module, nn.Linear):\n",
    "            torch.nn.init.normal_(module.weight, mean=0.0, std=0.02)\n",
    "            if module.bias is not None:\n",
    "                torch.nn.init.zeros_(module.bias)\n",
    "        elif isinstance(module, nn.Embedding):\n",
    "            torch.nn.init.normal_(module.weight, mean=0.0, std=0.02)\n",
    "\n",
    "    def generate_positional_embbedings(self, seq_len):\n",
    "        pe = torch.zeros(seq_len, self.features_dim)\n",
    "        position = torch.arange(0, seq_len).unsqueeze(1)\n",
    "        \n",
    "        div_term = torch.exp(\n",
    "            torch.arange(0, self.features_dim, 2) * -(math.log(10000.0) / self.features_dim)\n",
    "        )\n",
    "        \n",
    "        pe[:, 0::2] = torch.sin(position * div_term)\n",
    "        pe[:, 1::2] = torch.cos(position * div_term)\n",
    "        \n",
    "        return pe.unsqueeze(0)\n",
    " \n",
    "    def forward(self, x_input, pad_mask=None):\n",
    "        _batch_size, _seq_len, _ = x_input.size()\n",
    "\n",
    "        #_token_emb = self.token_emb(x_input)\n",
    "        _token_emb = self.input_projection(x_input)\n",
    "        \n",
    "        _position_emb = self.generate_positional_embbedings(_seq_len).to(x_input.device)\n",
    "        x_input = self.emb_dropout_prob(_token_emb + _position_emb)\n",
    "        \n",
    "        # Self attenting Masked MHA\n",
    "        for _dec_layer in self.dec_layers:\n",
    "            x_input = _dec_layer(x_input, pad_mask)\n",
    "        \n",
    "        x_input = self.layernorm_final(x_input)\n",
    "\n",
    "        # Slice forecast\n",
    "        x_input = x_input[:, -self.forecast_size:, :]\n",
    "        \n",
    "        # Convert output features\n",
    "        #x_input = self.vocab_projection(x_input)\n",
    "        x_input = self.output_projection(x_input)        \n",
    "        \n",
    "        return x_input"
   ]
  },
  {
   "cell_type": "markdown",
   "id": "21028a64-d051-4443-8e6c-7c61953b0ca5",
   "metadata": {},
   "source": [
    "### Initialized Model with Hyperparameters"
   ]
  },
  {
   "cell_type": "code",
   "execution_count": 12,
   "id": "2e62a5b6-6a2a-4bf6-82ac-b7564ff34352",
   "metadata": {},
   "outputs": [],
   "source": [
    "model = GPTTimeSeries(\n",
    "    input_features_size=hyperparameters['input_features_size'],\n",
    "    features_dim=hyperparameters['hidden_features_size'],\n",
    "    output_features_size=hyperparameters['output_features_size'],\n",
    "    forecast_size=hyperparameters['forecast'],\n",
    "    num_heads=hyperparameters['num_heads'],\n",
    "    ff_dim=hyperparameters['ff_dim'],\n",
    "    num_decoder_layers=hyperparameters['num_decoder_layers'],\n",
    "    emb_dropout_prob=hyperparameters['emb_dropout_prob'],\n",
    "    attn_dropout_prob=hyperparameters['attn_dropout_prob'],\n",
    "    ff_dropout_prob=hyperparameters['ff_dropout_prob'],\n",
    "    attn_use_bias=hyperparameters['attn_use_bias'],\n",
    "    ff_use_bias=hyperparameters['ff_use_bias'],\n",
    "    output_features_bias=hyperparameters['output_features_bias'],\n",
    ")"
   ]
  },
  {
   "cell_type": "markdown",
   "id": "9cde0d98-32af-40f7-aa7c-6fb9e1e9d15e",
   "metadata": {},
   "source": [
    "### Number of parameters"
   ]
  },
  {
   "cell_type": "code",
   "execution_count": 13,
   "id": "66aea2e7-7cc0-41a4-98d9-abbfe855f0ba",
   "metadata": {},
   "outputs": [],
   "source": [
    "def print_model_parameters(model):\n",
    "    print(f'{sum(p.numel() for p in model.parameters()):,}')"
   ]
  },
  {
   "cell_type": "code",
   "execution_count": 14,
   "id": "250ac969-c12d-4271-9836-ae00d34c78f9",
   "metadata": {},
   "outputs": [
    {
     "name": "stdout",
     "output_type": "stream",
     "text": [
      "Number of parameters:\n",
      "3,151,104\n"
     ]
    }
   ],
   "source": [
    "print('Number of parameters:')\n",
    "print_model_parameters(model)"
   ]
  },
  {
   "cell_type": "code",
   "execution_count": 15,
   "id": "8be2e080-45e8-4a64-acc1-373d17ad0ac3",
   "metadata": {},
   "outputs": [
    {
     "data": {
      "text/plain": [
       "torch.Size([32, 1, 1])"
      ]
     },
     "execution_count": 15,
     "metadata": {},
     "output_type": "execute_result"
    }
   ],
   "source": [
    "dummy_data = torch.randn(hyperparameters['batch_size'], hyperparameters['window_size'], hyperparameters['input_features_size'])\n",
    "            \n",
    "o = model(dummy_data)\n",
    "o.shape"
   ]
  },
  {
   "cell_type": "markdown",
   "id": "1f8e151f-fb02-4264-b4b8-d58ff064db16",
   "metadata": {},
   "source": [
    "# Sliding Window \n",
    "*  **NOTE: \"hyperparameters['lags'] + hyperparameters['forecast'] = hyperparameters['window_size']\" MUST HOLD**"
   ]
  },
  {
   "cell_type": "markdown",
   "id": "79d4c19d-2832-448a-86ac-d6e1b60dbbdd",
   "metadata": {},
   "source": [
    "### Slide Methods"
   ]
  },
  {
   "cell_type": "code",
   "execution_count": 16,
   "id": "40e09ef3-6d3d-4de8-9321-416e400d6d92",
   "metadata": {},
   "outputs": [
    {
     "name": "stdout",
     "output_type": "stream",
     "text": [
      "Start: 0, End: 16\n",
      "Lag: [0, 1, 2, 3, 4, 5, 6, 7, 8, 9, 10, 11, 12, 13, 14], forecast: [15]\n",
      "Start: 16, End: 32\n",
      "Lag: [16, 17, 18, 19, 20, 21, 22, 23, 24, 25, 26, 27, 28, 29, 30], forecast: [31]\n",
      "Start: 32, End: 48\n",
      "Lag: [32, 33, 34, 35, 36, 37, 38, 39, 40, 41, 42, 43, 44, 45, 46], forecast: [47]\n",
      "Start: 48, End: 64\n",
      "Lag: [48, 49, 50, 51, 52, 53, 54, 55, 56, 57, 58, 59, 60, 61, 62], forecast: [63]\n",
      "Start: 64, End: 80\n",
      "Lag: [64, 65, 66, 67, 68, 69, 70, 71, 72, 73, 74, 75, 76, 77, 78], forecast: [79]\n",
      "Start: 80, End: 96\n",
      "Lag: [80, 81, 82, 83, 84, 85, 86, 87, 88, 89, 90, 91, 92, 93, 94], forecast: [95]\n"
     ]
    }
   ],
   "source": [
    "dummy_data = list(range(100))\n",
    "\n",
    "# increase by 1\n",
    "single_step = range(0, len(dummy_data)-hyperparameters['window_size']+1, 1)\n",
    "# increase by hyperparameters['window_size']\n",
    "window_step = range(0, len(dummy_data)-hyperparameters['window_size']+1, hyperparameters['window_size'])\n",
    "\n",
    "\n",
    "#for start_index in single_step:\n",
    "for start_index in window_step:\n",
    "    print(f\"Start: {start_index}, End: {start_index+hyperparameters['window_size']}\")\n",
    "\n",
    "    # Slice window from data \n",
    "    data_window = dummy_data[start_index:start_index+hyperparameters['window_size']]\n",
    "\n",
    "    # Split current window into lags and forecast\n",
    "    data_lag = data_window[:hyperparameters['lags']]\n",
    "    data_forecast = data_window[-hyperparameters['forecast']:]\n",
    "\n",
    "    print(f'Lag: {data_lag}, forecast: {data_forecast}')"
   ]
  },
  {
   "cell_type": "markdown",
   "id": "4b42fd9c-ba8c-4453-9f2c-28298878cc78",
   "metadata": {},
   "source": [
    "# Dataset"
   ]
  },
  {
   "cell_type": "code",
   "execution_count": 17,
   "id": "e7ad354d-f77e-49a5-b3ec-5da382d9cd8f",
   "metadata": {},
   "outputs": [],
   "source": [
    "class TimeSeriesDataset(Dataset):\n",
    "    def __init__(self, df, lags, forecast):\n",
    "        self.df = df\n",
    "        self.lags = lags\n",
    "        self.forecast = forecast\n",
    "        self.window_size = lags + forecast\n",
    "        \n",
    "    def __len__(self):\n",
    "        number_of_samples = self.df.shape[0]\n",
    "        # make sure that last window fits\n",
    "        return number_of_samples - self.window_size\n",
    "\n",
    "    def __getitem__(self, start_idx):\n",
    "\n",
    "        # get a NumPy array of size: (hyperparameters['window_size'], NUM_FEATURES)\n",
    "        sample_window = self.df.iloc[start_idx:start_idx+self.window_size].values\n",
    "\n",
    "        # divide window into lags and forecast:\n",
    "        # (hyperparameters['lags'], NUM_FEATURES)\n",
    "        lags = sample_window[:self.lags, :]\n",
    "        # (hyperparameters['forecast'], NUM_FEATURES)\n",
    "        forecast = sample_window[-self.forecast:, :]\n",
    "\n",
    "        # convert to tensor\n",
    "        lags = torch.tensor(lags, dtype=torch.float32)\n",
    "        forecast = torch.tensor(forecast, dtype=torch.float32)\n",
    "        return lags, forecast"
   ]
  },
  {
   "cell_type": "code",
   "execution_count": 18,
   "id": "3c6dcf40-189e-4f2b-bc04-9a6a73cd1c96",
   "metadata": {},
   "outputs": [],
   "source": [
    "dataset_full = TimeSeriesDataset(\n",
    "    df_full,\n",
    "    hyperparameters['lags'],\n",
    "    hyperparameters['forecast'],\n",
    ")"
   ]
  },
  {
   "cell_type": "code",
   "execution_count": 19,
   "id": "570ccea2-bc70-4e55-9ab1-9f71c79a1c19",
   "metadata": {},
   "outputs": [
    {
     "data": {
      "text/plain": [
       "(torch.Size([15, 1]), torch.Size([1, 1]))"
      ]
     },
     "execution_count": 19,
     "metadata": {},
     "output_type": "execute_result"
    }
   ],
   "source": [
    "_lags, _forecast = dataset_full[0]\n",
    "_lags.shape, _forecast.shape"
   ]
  },
  {
   "cell_type": "markdown",
   "id": "65347aee-d469-4ebf-8499-767dacb6a102",
   "metadata": {},
   "source": [
    "### Train/Test Split"
   ]
  },
  {
   "cell_type": "code",
   "execution_count": 20,
   "id": "5ccdaaa6-c1d5-42ad-a66f-6c3539a4ab73",
   "metadata": {},
   "outputs": [
    {
     "data": {
      "text/plain": [
       "(102, 26)"
      ]
     },
     "execution_count": 20,
     "metadata": {},
     "output_type": "execute_result"
    }
   ],
   "source": [
    "train_size = int(hyperparameters['split_ratio'] * len(dataset_full))\n",
    "test_size = len(dataset_full) - train_size\n",
    "\n",
    "train_size, test_size"
   ]
  },
  {
   "cell_type": "code",
   "execution_count": 21,
   "id": "f098f3c5-0cd2-4d64-8ff3-de5b85d28d0f",
   "metadata": {},
   "outputs": [
    {
     "data": {
      "text/plain": [
       "<matplotlib.legend.Legend at 0x7f4db8c9add0>"
      ]
     },
     "execution_count": 21,
     "metadata": {},
     "output_type": "execute_result"
    },
    {
     "data": {
      "image/png": "[encoded data removed]",
      "text/plain": [
       "<Figure size 600x400 with 1 Axes>"
      ]
     },
     "metadata": {},
     "output_type": "display_data"
    }
   ],
   "source": [
    "df_train = df_full.iloc[:train_size, :]\n",
    "df_test = df_full.iloc[-test_size:, :]\n",
    "\n",
    "plt.plot(df_train.index, df_train['Passengers'], c='blue', label='training')\n",
    "plt.plot(df_test.index, df_test['Passengers'], c='red', label='test')\n",
    "plt.legend()"
   ]
  },
  {
   "cell_type": "code",
   "execution_count": 22,
   "id": "b53d20db-2358-494b-927c-196a3c407bf2",
   "metadata": {},
   "outputs": [],
   "source": [
    "dataset_train = TimeSeriesDataset(\n",
    "    df_train,\n",
    "    hyperparameters['lags'],\n",
    "    hyperparameters['forecast'],\n",
    ")\n",
    "\n",
    "dataset_test = TimeSeriesDataset(\n",
    "    df_test,\n",
    "    hyperparameters['lags'],\n",
    "    hyperparameters['forecast'],\n",
    ")"
   ]
  },
  {
   "cell_type": "markdown",
   "id": "0f9516e1-f1ee-4db5-b6e3-3a9d76f0b20d",
   "metadata": {},
   "source": [
    "# Dataloader"
   ]
  },
  {
   "cell_type": "code",
   "execution_count": 23,
   "id": "5acba036-7c98-4786-9c00-5af6325f8fd4",
   "metadata": {},
   "outputs": [
    {
     "name": "stdout",
     "output_type": "stream",
     "text": [
      "Number of batches (total): 4\n",
      "Number of batches (train): 3\n",
      "Number of batches (test): 1\n"
     ]
    }
   ],
   "source": [
    "dataloader_full = DataLoader(\n",
    "    dataset_full,\n",
    "    batch_size=hyperparameters['batch_size'],\n",
    "    shuffle=False,\n",
    ")\n",
    "\n",
    "dataloader_train = DataLoader(\n",
    "    dataset_train,\n",
    "    batch_size=hyperparameters['batch_size'],\n",
    "    shuffle=False,\n",
    ")\n",
    "\n",
    "dataloader_test = DataLoader(\n",
    "    dataset_test,\n",
    "    batch_size=hyperparameters['batch_size'],\n",
    "    shuffle=False,\n",
    ")\n",
    "\n",
    "print(f'Number of batches (total): {len(dataloader_full)}')\n",
    "print(f'Number of batches (train): {len(dataloader_train)}')\n",
    "print(f'Number of batches (test): {len(dataloader_test)}')"
   ]
  },
  {
   "cell_type": "code",
   "execution_count": 24,
   "id": "0ab4ab76-bc6a-4827-9686-e5f10b66987d",
   "metadata": {},
   "outputs": [
    {
     "data": {
      "text/plain": [
       "(torch.Size([32, 15, 1]), torch.Size([32, 1, 1]))"
      ]
     },
     "execution_count": 24,
     "metadata": {},
     "output_type": "execute_result"
    }
   ],
   "source": [
    "_lags_batch, _forecast_batch = next(iter(dataloader_full))\n",
    "# (hyperparameters['batch_size'], hyperparameters['lags'], NUM_FEATURES), # (hyperparameters['batch_size'], hyperparameters['forecast'], NUM_FEATURES)\n",
    "_lags_batch.shape, _forecast_batch.shape"
   ]
  },
  {
   "cell_type": "code",
   "execution_count": 25,
   "id": "092102e2-5185-43f7-947b-81abf7bdf96d",
   "metadata": {},
   "outputs": [
    {
     "data": {
      "text/plain": [
       "4"
      ]
     },
     "execution_count": 25,
     "metadata": {},
     "output_type": "execute_result"
    }
   ],
   "source": [
    "len(dataloader_full)"
   ]
  },
  {
   "cell_type": "code",
   "execution_count": 26,
   "id": "c06c0735-b0e1-4070-bc28-dec09bc067d8",
   "metadata": {},
   "outputs": [
    {
     "name": "stdout",
     "output_type": "stream",
     "text": [
      "0\n",
      "torch.Size([32, 15, 1]) torch.Size([32, 1, 1])\n",
      "1\n",
      "torch.Size([32, 15, 1]) torch.Size([32, 1, 1])\n",
      "2\n",
      "torch.Size([32, 15, 1]) torch.Size([32, 1, 1])\n",
      "3\n",
      "torch.Size([32, 15, 1]) torch.Size([32, 1, 1])\n"
     ]
    }
   ],
   "source": [
    "for idx, (s) in enumerate(dataloader_full):\n",
    "    print(idx)\n",
    "    print(s[0].shape, s[1].shape)"
   ]
  },
  {
   "cell_type": "markdown",
   "id": "e3a30eb6-4ac5-4dfa-b7d7-873168eb2339",
   "metadata": {},
   "source": [
    "# Training"
   ]
  },
  {
   "cell_type": "markdown",
   "id": "fab6e06b-cc55-4635-aeb1-07a681a70a29",
   "metadata": {},
   "source": [
    "### Training Functions"
   ]
  },
  {
   "cell_type": "code",
   "execution_count": 27,
   "id": "1d423e6a-1301-47b9-b906-55104dad5521",
   "metadata": {},
   "outputs": [],
   "source": [
    "def train_iter(model, dataloader, optimizer, criterion, device):\n",
    "    model.train()\n",
    "\n",
    "    avg_loss = []\n",
    "    \n",
    "    for (lags, forecast) in dataloader:\n",
    "\n",
    "        lags = lags.to(device)\n",
    "        forecast = forecast.to(device)\n",
    "        \n",
    "        optimizer.zero_grad()\n",
    "    \n",
    "        forecast_pred = model(lags)\n",
    "        \n",
    "        loss = criterion(forecast_pred, forecast)\n",
    "        \n",
    "        loss.backward()\n",
    "        optimizer.step()\n",
    "\n",
    "        avg_loss.append(loss.item())\n",
    "\n",
    "    return sum(avg_loss) / len(avg_loss)\n",
    "\n",
    "\n",
    "@torch.no_grad()\n",
    "def eval_iter(model, dataloader, criterion, device):\n",
    "    model.eval()\n",
    "\n",
    "    avg_loss = []\n",
    "    predictions = []\n",
    "    \n",
    "    for (lags, forecast) in dataloader:\n",
    "        \n",
    "        lags = lags.to(device)\n",
    "        forecast = forecast.to(device)\n",
    "        \n",
    "        forecast_pred = model(lags)\n",
    "\n",
    "        loss = criterion(forecast_pred, forecast)\n",
    "        \n",
    "        avg_loss.append(loss.item())\n",
    "        predictions.append(forecast_pred)\n",
    "\n",
    "    return sum(avg_loss) / len(avg_loss), predictions"
   ]
  },
  {
   "cell_type": "markdown",
   "id": "19f3e836-bd62-4e58-840a-18a5db7dec44",
   "metadata": {},
   "source": [
    "### Start Training"
   ]
  },
  {
   "cell_type": "code",
   "execution_count": 28,
   "id": "2d953510-def3-4d02-8847-40c28e59214e",
   "metadata": {},
   "outputs": [],
   "source": [
    "optimizer = torch.optim.Adam(\n",
    "    model.parameters(),\n",
    "    lr=hyperparameters['learning_rate']\n",
    ")\n",
    "\n",
    "# LOSS\n",
    "mse_loss = nn.MSELoss()"
   ]
  },
  {
   "cell_type": "code",
   "execution_count": 29,
   "id": "a86f98b9-3175-4d0c-855a-f054321d2f86",
   "metadata": {},
   "outputs": [
    {
     "name": "stdout",
     "output_type": "stream",
     "text": [
      "Epoch: 10, Training loss: 0.0868, Testing Loss: 1.7020\n",
      "Epoch: 20, Training loss: 0.0286, Testing Loss: 1.7015\n",
      "Epoch: 30, Training loss: 0.0193, Testing Loss: 1.4755\n",
      "Epoch: 40, Training loss: 0.0162, Testing Loss: 1.3729\n",
      "Epoch: 50, Training loss: 0.0134, Testing Loss: 1.3452\n",
      "Epoch: 60, Training loss: 0.0147, Testing Loss: 1.2618\n",
      "Epoch: 70, Training loss: 0.0114, Testing Loss: 1.3575\n",
      "Epoch: 80, Training loss: 0.0107, Testing Loss: 1.3829\n",
      "Epoch: 90, Training loss: 0.0126, Testing Loss: 1.5160\n",
      "Epoch: 100, Training loss: 0.0103, Testing Loss: 1.4454\n",
      "Epoch: 110, Training loss: 0.0100, Testing Loss: 1.4918\n",
      "Epoch: 120, Training loss: 0.0095, Testing Loss: 1.5610\n",
      "Epoch: 130, Training loss: 0.0084, Testing Loss: 1.7142\n",
      "Epoch: 140, Training loss: 0.0079, Testing Loss: 1.6394\n",
      "Epoch: 150, Training loss: 0.0077, Testing Loss: 1.6676\n"
     ]
    }
   ],
   "source": [
    "model.to(device)\n",
    "\n",
    "for epoch in range(1, hyperparameters['num_epochs']+1):\n",
    "        \n",
    "    avg_train_loss = train_iter(\n",
    "        model=model, \n",
    "        dataloader=dataloader_train, \n",
    "        optimizer=optimizer, \n",
    "        criterion=mse_loss, \n",
    "        device=device\n",
    "    )\n",
    "    \n",
    "    avg_test_loss, _ = eval_iter(\n",
    "        model=model, \n",
    "        dataloader=dataloader_test, \n",
    "        criterion=mse_loss, \n",
    "        device=device\n",
    "    )\n",
    "\n",
    "    \n",
    "    if epoch == 200:\n",
    "        for pg in optimizer.param_groups:\n",
    "            pg['lr'] *= 0.1\n",
    "\n",
    "    \n",
    "    if epoch % 10 == 0:\n",
    "        print(f'Epoch: {epoch}, Training loss: {avg_train_loss:.4f}, Testing Loss: {avg_test_loss:.4f}')"
   ]
  },
  {
   "cell_type": "markdown",
   "id": "88d22bf5-4588-4c5b-914b-237833db8293",
   "metadata": {},
   "source": [
    "# Testing\n",
    "* NOTE: we prefer to use single windows step during prediction"
   ]
  },
  {
   "cell_type": "code",
   "execution_count": 30,
   "id": "03d19abb-3e77-4c33-9f37-c65c457ab413",
   "metadata": {},
   "outputs": [],
   "source": [
    "@torch.no_grad()\n",
    "def eval_iter_single_step(model, dataloader, criterion, device):\n",
    "    model.eval()\n",
    "\n",
    "    avg_loss = []\n",
    "    predictions = []\n",
    "    \n",
    "    # single step\n",
    "    for start_idx in range(0, len(df_test)):\n",
    "        \n",
    "        sample_window = df_test.iloc[start_idx:start_idx+hyperparameters['window_size'], :].values\n",
    "\n",
    "        # covnert to tensor\n",
    "        lags = torch.tensor(sample_window[:hyperparameters['lags']], dtype=torch.float32, device=device)\n",
    "        forecast = torch.tensor(sample_window[-hyperparameters['forecast']:], dtype=torch.float32, device=device)\n",
    "\n",
    "        # artificially add batch dimension\n",
    "        # (we are not using the dataloader here!)\n",
    "        lags = lags.unsqueeze(0)\n",
    "        forecast = forecast.unsqueeze(0)\n",
    "\n",
    "        forecast_pred = model(lags)\n",
    "\n",
    "        loss = criterion(forecast_pred, forecast)\n",
    "        \n",
    "        avg_loss.append(loss.item())\n",
    "        predictions.append(forecast_pred)\n",
    "\n",
    "    return sum(avg_loss) / len(avg_loss), predictions"
   ]
  },
  {
   "cell_type": "code",
   "execution_count": 31,
   "id": "bf1ca0b4-2951-452a-b0da-2dd19717944d",
   "metadata": {},
   "outputs": [
    {
     "data": {
      "text/html": [
       "<div>\n",
       "<style scoped>\n",
       "    .dataframe tbody tr th:only-of-type {\n",
       "        vertical-align: middle;\n",
       "    }\n",
       "\n",
       "    .dataframe tbody tr th {\n",
       "        vertical-align: top;\n",
       "    }\n",
       "\n",
       "    .dataframe thead th {\n",
       "        text-align: right;\n",
       "    }\n",
       "</style>\n",
       "<table border=\"1\" class=\"dataframe\">\n",
       "  <thead>\n",
       "    <tr style=\"text-align: right;\">\n",
       "      <th></th>\n",
       "      <th>Passengers</th>\n",
       "      <th>Prediction</th>\n",
       "    </tr>\n",
       "    <tr>\n",
       "      <th>Month</th>\n",
       "      <th></th>\n",
       "      <th></th>\n",
       "    </tr>\n",
       "  </thead>\n",
       "  <tbody>\n",
       "    <tr>\n",
       "      <th>1958-11-01</th>\n",
       "      <td>0.248445</td>\n",
       "      <td>0.825056</td>\n",
       "    </tr>\n",
       "    <tr>\n",
       "      <th>1958-12-01</th>\n",
       "      <td>0.474294</td>\n",
       "      <td>0.939132</td>\n",
       "    </tr>\n",
       "    <tr>\n",
       "      <th>1959-01-01</th>\n",
       "      <td>0.666684</td>\n",
       "      <td>1.030760</td>\n",
       "    </tr>\n",
       "    <tr>\n",
       "      <th>1959-02-01</th>\n",
       "      <td>0.516118</td>\n",
       "      <td>1.050461</td>\n",
       "    </tr>\n",
       "    <tr>\n",
       "      <th>1959-03-01</th>\n",
       "      <td>1.051463</td>\n",
       "      <td>0.796364</td>\n",
       "    </tr>\n",
       "  </tbody>\n",
       "</table>\n",
       "</div>"
      ],
      "text/plain": [
       "            Passengers  Prediction\n",
       "Month                             \n",
       "1958-11-01    0.248445    0.825056\n",
       "1958-12-01    0.474294    0.939132\n",
       "1959-01-01    0.666684    1.030760\n",
       "1959-02-01    0.516118    1.050461\n",
       "1959-03-01    1.051463    0.796364"
      ]
     },
     "execution_count": 31,
     "metadata": {},
     "output_type": "execute_result"
    }
   ],
   "source": [
    "_, pred = eval_iter_single_step(\n",
    "    model=model, \n",
    "    dataloader=dataloader_test, \n",
    "    criterion=mse_loss, \n",
    "    device=device\n",
    ")\n",
    "\n",
    "pred_flat = []\n",
    "\n",
    "for p in pred:\n",
    "    pred_flat.extend(p.flatten().tolist())\n",
    "\n",
    "df_results = df_test.copy()\n",
    "df_results['Prediction'] = pred_flat\n",
    "df_results.head()"
   ]
  },
  {
   "cell_type": "code",
   "execution_count": 32,
   "id": "ab8f5c94-4777-4d60-854b-0131b4aa5b5f",
   "metadata": {},
   "outputs": [
    {
     "data": {
      "text/plain": [
       "<matplotlib.legend.Legend at 0x7f4d8530add0>"
      ]
     },
     "execution_count": 32,
     "metadata": {},
     "output_type": "execute_result"
    },
    {
     "data": {
      "image/png": "[encoded data removed]",
      "text/plain": [
       "<Figure size 600x400 with 1 Axes>"
      ]
     },
     "metadata": {},
     "output_type": "display_data"
    }
   ],
   "source": [
    "plt.plot(df_train.index, df_train['Passengers'], c='blue', label='training')\n",
    "plt.plot(df_results.index, df_results['Passengers'], c='red', label='test')\n",
    "plt.plot(df_results.index, df_results['Prediction'] , c='green', label='prediction')\n",
    "plt.legend()"
   ]
  },
  {
   "cell_type": "markdown",
   "id": "5ca0d119-19bc-4098-99dc-18a5b8cc581f",
   "metadata": {},
   "source": [
    "# Save Model"
   ]
  },
  {
   "cell_type": "code",
   "execution_count": 33,
   "id": "45d8c44e-2861-49e1-aca8-cd2593bc8b5a",
   "metadata": {},
   "outputs": [],
   "source": [
    "os.makedirs('./saved_models', exist_ok=True)\n",
    "\n",
    "torch.save({\n",
    "        'model_state_dict': model.state_dict(),\n",
    "        'optimizer_state_dict': optimizer.state_dict(),\n",
    "        'hyperparameters': hyperparameters,\n",
    "    },\n",
    "    './saved_models/GPTTimeSeries.pt'\n",
    ")"
   ]
  },
  {
   "cell_type": "markdown",
   "id": "cf37b810-976e-4387-b112-16acbf56809e",
   "metadata": {},
   "source": [
    "### Later: Push **df_results** to a database"
   ]
  },
  {
   "cell_type": "markdown",
   "id": "a1cf35c6-0043-4533-ac32-ea186c2cefbb",
   "metadata": {},
   "source": [
    "# Generative Forecast"
   ]
  },
  {
   "cell_type": "code",
   "execution_count": 34,
   "id": "b70fe843-6e44-4e06-8f6f-3ceec8e4f47d",
   "metadata": {},
   "outputs": [],
   "source": [
    "@torch.no_grad()\n",
    "def generative_forecast(model, data, num_steps, lag_window_size):\n",
    "    model.eval()\n",
    "    \n",
    "    predictions = []\n",
    "    time_indexes = []\n",
    "\n",
    "    _device = next(model.parameters()).device\n",
    "    \n",
    "    # covnert to tensor\n",
    "    # data.shape: (lags, features)\n",
    "    lags = torch.tensor(data[-lag_window_size:, :], dtype=torch.float32, device=_device)\n",
    "    \n",
    "    # artificially add batch dimension\n",
    "    # (we are not using the dataloader here!)\n",
    "    # data.shape: (1, lags, features)\n",
    "    lags = lags.unsqueeze(0)\n",
    "\n",
    "    # Datetime indexes \n",
    "    timestamps = df_full.index\n",
    "    # Delta time: calculate the time difference between two samples \n",
    "    delta_time = timestamps[1] - timestamps[0]\n",
    "    # Get last timestamp\n",
    "    current_timestamp = timestamps[-1]\n",
    "    \n",
    "    # single step\n",
    "    for idx in range(num_steps):\n",
    "\n",
    "        # get the last lag steps\n",
    "        lags = lags[:, -lag_window_size:, :]\n",
    "        #print(lags)\n",
    "        \n",
    "        forecast_pred = model(lags)\n",
    "        \n",
    "        predictions.append(forecast_pred)\n",
    "\n",
    "        # update current timestamp\n",
    "        current_timestamp = current_timestamp + delta_time\n",
    "        time_indexes.append(current_timestamp)\n",
    "\n",
    "        # append last forecast to the end\n",
    "        lags = torch.cat((lags, forecast_pred.detach()), dim=1)\n",
    "\n",
    "    return predictions, time_indexes"
   ]
  },
  {
   "cell_type": "code",
   "execution_count": 35,
   "id": "4514d5aa-9123-4614-9818-d61524bb2f44",
   "metadata": {},
   "outputs": [
    {
     "data": {
      "text/plain": [
       "<Axes: >"
      ]
     },
     "execution_count": 35,
     "metadata": {},
     "output_type": "execute_result"
    },
    {
     "data": {
      "image/png": "[encoded data removed]",
      "text/plain": [
       "<Figure size 600x400 with 1 Axes>"
      ]
     },
     "metadata": {},
     "output_type": "display_data"
    }
   ],
   "source": [
    "pred_generative, time_indexes_generative = generative_forecast(model, df_full.values, 50, hyperparameters['lags'])\n",
    "\n",
    "pred_generative_flat = []\n",
    "\n",
    "for p in pred_generative:\n",
    "    pred_generative_flat.extend(p.flatten().tolist())\n",
    "\n",
    "\n",
    "generative_results_dict = {\n",
    "    'Prediction': pred_generative_flat\n",
    "}\n",
    "\n",
    "df_generative = pd.DataFrame(data=generative_results_dict, index=time_indexes_generative)\n",
    "df_generative.plot()"
   ]
  },
  {
   "cell_type": "code",
   "execution_count": null,
   "id": "fb024d8d-cd2f-4272-904b-66847a442879",
   "metadata": {},
   "outputs": [],
   "source": []
  }
 ],
 "metadata": {
  "kernelspec": {
   "display_name": "Python [conda env:pytorch] *",
   "language": "python",
   "name": "conda-env-pytorch-py"
  },
  "language_info": {
   "codemirror_mode": {
    "name": "ipython",
    "version": 3
   },
   "file_extension": ".py",
   "mimetype": "text/x-python",
   "name": "python",
   "nbconvert_exporter": "python",
   "pygments_lexer": "ipython3",
   "version": "3.11.5"
  }
 },
 "nbformat": 4,
 "nbformat_minor": 5
}
